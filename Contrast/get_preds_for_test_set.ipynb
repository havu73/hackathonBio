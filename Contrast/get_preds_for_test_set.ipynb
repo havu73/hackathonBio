{
 "cells": [
  {
   "cell_type": "code",
   "execution_count": 1,
   "metadata": {},
   "outputs": [],
   "source": [
    "import numpy as np\n",
    "import pandas as pd\n",
    "import torch\n",
    "import torch.nn as nn\n",
    "import torch.nn.functional as F\n",
    "import tqdm\n",
    "from torch.utils.data import Dataset, DataLoader\n",
    "import matplotlib.pyplot as plt\n",
    "import seaborn as sns\n",
    "from sklearn.metrics import roc_auc_score"
   ]
  },
  {
   "cell_type": "code",
   "execution_count": null,
   "metadata": {},
   "outputs": [],
   "source": [
    "class CNNEmbedding(nn.Module):\n",
    "    def __init__(self):\n",
    "        super(CNNEmbedding, self).__init__()\n",
    "        self.conv1 = nn.Conv2d(1, 64, (1,3), stride=1)\n",
    "        self.bn1 = nn.BatchNorm2d(64)\n",
    "        self.conv2 = nn.Conv2d(64, 128, (1,3), stride=1)\n",
    "        self.bn2 = nn.BatchNorm2d(128) \n",
    "        self.fc1 = nn.Linear(128*1022, 1024)\n",
    "        self.fc2 = nn.Linear(1024, 512)\n",
    "        \n",
    "    def forward(self, x):\n",
    "        x = self.bn1(F.max_pool2d(F.relu(self.conv1(x)), (1,2)))\n",
    "        x = self.bn2(F.max_pool2d(F.relu(self.conv2(x)), (1,2)))\n",
    "        return self.fc2(F.relu(self.fc1(torch.flatten(x, 1))))"
   ]
  },
  {
   "cell_type": "code",
   "execution_count": 3,
   "metadata": {},
   "outputs": [
    {
     "data": {
      "text/plain": [
       "CNNEmbedding(\n",
       "  (conv1): Conv2d(1, 64, kernel_size=(1, 3), stride=(1, 1))\n",
       "  (bn1): BatchNorm2d(64, eps=1e-05, momentum=0.1, affine=True, track_running_stats=True)\n",
       "  (conv2): Conv2d(64, 128, kernel_size=(1, 3), stride=(1, 1))\n",
       "  (bn2): BatchNorm2d(128, eps=1e-05, momentum=0.1, affine=True, track_running_stats=True)\n",
       "  (fc1): Linear(in_features=130816, out_features=1024, bias=True)\n",
       "  (fc2): Linear(in_features=1024, out_features=512, bias=True)\n",
       ")"
      ]
     },
     "execution_count": 3,
     "metadata": {},
     "output_type": "execute_result"
    }
   ],
   "source": [
    "model = CNNEmbedding()\n",
    "model.load_state_dict(torch.load('/home/ec2-user/hackathonBio/emily/trained_models/vibrio/sum/model_1.pt'))\n",
    "model"
   ]
  },
  {
   "cell_type": "code",
   "execution_count": 4,
   "metadata": {},
   "outputs": [],
   "source": [
    "embedding_dir = '/mnt/efs/fs1/data/embeddings/vibrio_embeddings/'\n",
    "metadata_dir = '/mnt/efs/fs1/data/metadata/vibrio/'\n",
    "test_positive_pairs = pd.read_table(metadata_dir + 'test_positive_pairs.txt')\n"
   ]
  },
  {
   "cell_type": "code",
   "execution_count": 5,
   "metadata": {},
   "outputs": [
    {
     "name": "stdout",
     "output_type": "stream",
     "text": [
      "22\n",
      "23\n"
     ]
    }
   ],
   "source": [
    "print(test_positive_pairs['Host_ID'].nunique())\n",
    "print(test_positive_pairs['Phage_ID'].nunique())\n"
   ]
  },
  {
   "cell_type": "code",
   "execution_count": 6,
   "metadata": {},
   "outputs": [],
   "source": [
    "class TestDataset(Dataset):\n",
    "    def __init__(self, id_list, method, phage=True):\n",
    "        self.id_list = id_list\n",
    "        self.method = method\n",
    "        self.phage = phage\n",
    "        \n",
    "    def normalize_0_1(self, tensor):\n",
    "        return (tensor - tensor.min()) / (tensor.max() - tensor.min())\n",
    "        \n",
    "    def __len__(self):\n",
    "        return len(self.id_list)\n",
    "    \n",
    "    def __getitem__(self, idx):\n",
    "        ID = self.id_list[idx]\n",
    "\n",
    "        if self.method == 'sum':\n",
    "            if self.phage:\n",
    "                try:\n",
    "                    embed = torch.sum(torch.load(embedding_dir + '/phage_embeddings/' + ID + '.pt'), 0)\n",
    "                    embed = self.normalize_0_1(embed)\n",
    "                except:\n",
    "                    embed = None\n",
    "            else:\n",
    "                try:\n",
    "                    embed = torch.sum(torch.load(embedding_dir + '/host_embeddings/' + ID + '.pt'), 0)\n",
    "                    embed = self.normalize_0_1(embed)\n",
    "                except:\n",
    "                    embed = None\n",
    "        \n",
    "        return ID, embed"
   ]
  },
  {
   "cell_type": "code",
   "execution_count": 7,
   "metadata": {},
   "outputs": [
    {
     "name": "stdout",
     "output_type": "stream",
     "text": [
      "23\n",
      "22\n"
     ]
    }
   ],
   "source": [
    "phage_test_dataset = TestDataset(test_positive_pairs['Phage_ID'].unique(), 'sum')\n",
    "print(len(phage_test_dataset))\n",
    "phage_loader = DataLoader(phage_test_dataset, batch_size=len(phage_test_dataset)//2)\n",
    "bacteria_test_dataset = TestDataset(test_positive_pairs['Host_ID'].unique(), 'sum', phage=False)\n",
    "print(len(bacteria_test_dataset))\n",
    "bacteria_loader = DataLoader(bacteria_test_dataset, batch_size=len(bacteria_test_dataset)//2)"
   ]
  },
  {
   "cell_type": "code",
   "execution_count": 8,
   "metadata": {},
   "outputs": [],
   "source": [
    "test_positive_pairs_list = [tuple(x) for x in test_positive_pairs[['Phage_ID', 'Host_ID']].values]"
   ]
  },
  {
   "cell_type": "code",
   "execution_count": 9,
   "metadata": {},
   "outputs": [],
   "source": [
    "def predict(dataset, encoder):\n",
    "    ids = []\n",
    "    output_embeddings  = []\n",
    "    with torch.no_grad():\n",
    "        for samp in dataset:\n",
    "            # print(samp[1].size())\n",
    "            if samp[1] is not None:\n",
    "                embed = torch.reshape(samp[1], (1, 1, 1, samp[1].size()[0]))\n",
    "                # print(embed.size())\n",
    "                ids.append(samp[0])\n",
    "                output_embeddings.append(encoder(embed))\n",
    "            else:\n",
    "                ids.append(samp[0])\n",
    "                output_embeddings.append(np.nan)\n",
    "\n",
    "    # ids = np.concatenate(ids)\n",
    "    # output_embeddings = np.concatenate(output_embeddings)\n",
    "    \n",
    "    return ids, output_embeddings"
   ]
  },
  {
   "cell_type": "code",
   "execution_count": 10,
   "metadata": {},
   "outputs": [],
   "source": [
    "phage_embeddings = predict(phage_test_dataset, model)\n",
    "bact_embeddings = predict(bacteria_test_dataset, model)"
   ]
  },
  {
   "cell_type": "code",
   "execution_count": 11,
   "metadata": {},
   "outputs": [
    {
     "name": "stdout",
     "output_type": "stream",
     "text": [
      "2\n"
     ]
    }
   ],
   "source": [
    "print(len(phage_embeddings))"
   ]
  },
  {
   "cell_type": "code",
   "execution_count": 12,
   "metadata": {},
   "outputs": [
    {
     "name": "stdout",
     "output_type": "stream",
     "text": [
      "(23, 22)\n",
      "(23, 22)\n"
     ]
    },
    {
     "name": "stderr",
     "output_type": "stream",
     "text": [
      "100%|██████████| 23/23 [00:00<00:00, 1576.01it/s]\n"
     ]
    }
   ],
   "source": [
    "distances = np.zeros((len(phage_test_dataset), len(bacteria_test_dataset)))\n",
    "print(distances.shape)\n",
    "match = np.zeros((len(phage_test_dataset), len(bacteria_test_dataset)))\n",
    "print(match.shape)\n",
    "phage_labels = []\n",
    "\n",
    "with tqdm.tqdm(total=len(phage_embeddings[1])) as pbar:\n",
    "    for i in range(len(phage_embeddings[1])):\n",
    "        phage = phage_embeddings[1][i]\n",
    "        phage_labels.append(phage_embeddings[0][i])\n",
    "        pbar.update(1)\n",
    "        bacteria_labels = []\n",
    "        for j in range(len(bact_embeddings[1])):\n",
    "            bacteria = bact_embeddings[1][j]\n",
    "            bacteria_labels.append(bact_embeddings[0][j])\n",
    "            pair_id = (phage_embeddings[0][i], bact_embeddings[0][j])\n",
    "            if bacteria is not None and phage is not None:\n",
    "                distances[i][j] = torch.sqrt(torch.sum(torch.pow(phage - bacteria, 2)))\n",
    "                # print(distances[i][j])\n",
    "            else:\n",
    "                distances[i][j] = np.nan\n",
    "                \n",
    "            if pair_id in test_positive_pairs_list:\n",
    "                match[i][j] = 1\n",
    "            \n"
   ]
  },
  {
   "cell_type": "code",
   "execution_count": 13,
   "metadata": {},
   "outputs": [
    {
     "data": {
      "image/png": "[encoded data removed]",
      "text/plain": [
       "<Figure size 640x480 with 1 Axes>"
      ]
     },
     "metadata": {},
     "output_type": "display_data"
    }
   ],
   "source": [
    "temp = pd.DataFrame([distances.flatten(), match.flatten()], index=['Distance', 'Pair']).transpose()\n",
    "\n",
    "sns.boxplot(data=temp, x='Pair', y='Distance')\n",
    "plt.show()"
   ]
  },
  {
   "cell_type": "code",
   "execution_count": 14,
   "metadata": {},
   "outputs": [],
   "source": [
    "distances_prob = []\n",
    "\n",
    "for dist in distances:\n",
    "    distances_prob.append(1 - dist/max(dist))\n",
    "    \n",
    "distances_prob = np.vstack(distances_prob)"
   ]
  },
  {
   "cell_type": "code",
   "execution_count": 15,
   "metadata": {},
   "outputs": [],
   "source": [
    "rows = []\n",
    "\n",
    "for i in range(distances.shape[0]):\n",
    "    for j in range(distances.shape[1]):\n",
    "        rows.append([phage_labels[i], bacteria_labels[j], distances[i][j], distances_prob[i][j]])\n",
    "\n",
    "# pd.DataFrame(rows, columns=['Phage_ID', 'Host_ID', 'Distance', 'DistanceProb']).to_csv('/home/ec2-user/hackathonBio/emily/trained_models/vibrio/sum/model_1_distances.csv')"
   ]
  },
  {
   "cell_type": "code",
   "execution_count": 16,
   "metadata": {},
   "outputs": [
    {
     "data": {
      "image/png": "[encoded data removed]",
      "text/plain": [
       "<Figure size 640x480 with 1 Axes>"
      ]
     },
     "metadata": {},
     "output_type": "display_data"
    }
   ],
   "source": [
    "temp = pd.DataFrame([distances_prob.flatten(), match.flatten()], index=['Prob', 'Pair']).transpose()\n",
    "\n",
    "sns.boxplot(data=temp, x='Pair', y='Prob')\n",
    "plt.show()"
   ]
  },
  {
   "cell_type": "code",
   "execution_count": 17,
   "metadata": {},
   "outputs": [
    {
     "data": {
      "text/plain": [
       "0.5789015703415897"
      ]
     },
     "execution_count": 17,
     "metadata": {},
     "output_type": "execute_result"
    }
   ],
   "source": [
    "nan_mask = np.where(~np.isnan(distances_prob.flatten()))\n",
    "roc_auc_score(match.flatten()[nan_mask[0]], distances_prob.flatten()[nan_mask[0]])"
   ]
  },
  {
   "cell_type": "code",
   "execution_count": 18,
   "metadata": {},
   "outputs": [
    {
     "name": "stdout",
     "output_type": "stream",
     "text": [
      "GCA_003931275.1\n",
      "[1.26259518 0.40020248 1.43435526 1.50527775 1.57729101 1.58867693\n",
      " 0.91913635 1.03108048 1.34124506 1.52732468 1.5553292  1.25177491\n",
      " 1.51691616 1.49957573 1.43806028 1.52781546 1.69536006 1.67381072\n",
      " 5.67555761 1.3191433  1.77569854 1.36093175]\n",
      "[ 1  6  7 11  0 19  8 21  2 14 13  3 12  9 15 10  4  5 17 16 20 18]\n",
      "[1. 0. 0. 0. 1. 0. 0. 0. 1. 0. 0. 1. 0. 0. 0. 0. 1. 0. 0. 0. 0. 0.]\n",
      "GCA_003927295.1\n",
      "[1.17094576 0.37753093 1.28824103 1.37672031 1.41338444 1.43733597\n",
      " 0.8521601  1.00741696 1.19364786 1.48244894 1.42683005 1.13825166\n",
      " 1.39076996 1.38020337 1.33456445 1.40769565 1.55875587 1.54220033\n",
      " 5.50363588 1.22351718 1.56582999 1.28923428]\n",
      "[ 1  6  7 11  0  8 19  2 21 14  3 13 12 15  4 10  5  9 17 16 20 18]\n",
      "[1. 0. 0. 0. 1. 0. 0. 1. 0. 0. 1. 0. 0. 0. 0. 0. 1. 0. 0. 0. 0. 0.]\n",
      "GCA_003928155.1\n",
      "[1.26197958 0.40297863 1.43467498 1.50520062 1.57789886 1.58908653\n",
      " 0.91860098 1.02980506 1.341524   1.52594495 1.55527103 1.25151575\n",
      " 1.51680195 1.49935758 1.43758786 1.52760863 1.69541216 1.67370784\n",
      " 5.67783689 1.31853724 1.77743292 1.36010432]\n",
      "[ 1  6  7 11  0 19  8 21  2 14 13  3 12  9 15 10  4  5 17 16 20 18]\n",
      "[1. 0. 0. 0. 1. 0. 0. 0. 1. 0. 0. 1. 0. 0. 0. 0. 1. 0. 0. 0. 0. 0.]\n",
      "GCA_003927135.1\n",
      "[1.25482845 0.40744597 1.42762029 1.49812245 1.57084477 1.5821178\n",
      " 0.91157401 1.02359259 1.33443856 1.51921594 1.54818332 1.24427271\n",
      " 1.50968719 1.49225175 1.430457   1.52048361 1.68844914 1.66664755\n",
      " 5.6760025  1.31154072 1.77149391 1.35310018]\n",
      "[ 1  6  7 11  0 19  8 21  2 14 13  3 12  9 15 10  4  5 17 16 20 18]\n",
      "[1. 0. 0. 0. 1. 0. 0. 0. 1. 0. 0. 1. 0. 0. 0. 0. 1. 0. 0. 0. 0. 0.]\n",
      "GCA_003927755.1\n",
      "[1.14657652 0.40185937 1.26831484 1.35623741 1.39531565 1.41815102\n",
      " 0.8264696  0.98272389 1.17434001 1.45648253 1.40574777 1.11519277\n",
      " 1.36932099 1.35828006 1.31129253 1.38574243 1.5382483  1.52198672\n",
      " 5.50884962 1.19877648 1.55564332 1.26322949]\n",
      "[ 1  6  7 11  0  8 19 21  2 14  3 13 12 15  4 10  5  9 17 16 20 18]\n",
      "[1. 0. 0. 0. 1. 0. 0. 0. 1. 0. 1. 0. 0. 0. 1. 0. 0. 0. 0. 0. 0. 0.]\n",
      "GCA_003930515.1\n",
      "[1.48012066 0.3541609  1.62738776 1.71368003 1.76629388 1.7766515\n",
      " 1.14082563 1.24528277 1.54422855 1.74270511 1.75857687 1.46558571\n",
      " 1.72263682 1.70727932 1.65158486 1.73500752 1.89650381 1.88134801\n",
      " 5.70602703 1.53476882 1.92520809 1.57646716]\n",
      "[ 1  6  7 11  0 19  8 21  2 14 13  3 12 15  9 10  4  5 17 16 20 18]\n",
      "[0. 1. 0. 0. 0. 0. 0. 0. 0. 0. 0. 0. 0. 0. 0. 0. 0. 0. 0. 0. 0. 0.]\n",
      "GCA_003929595.1\n",
      "[1.02941012 1.47909617 0.7763654  0.93885475 0.75776684 0.80398381\n",
      " 1.07129586 1.18028378 0.77507436 1.36705124 0.9386341  0.93070871\n",
      " 0.94717926 0.9705531  1.03620994 0.98616493 1.03253841 1.01840508\n",
      " 4.53840113 1.11502695 0.65235627 1.18516767]\n",
      "[20  4  8  2  5 11 10  3 12 13 15 17  0 16 14  6 19  7 21  9  1 18]\n",
      "[0. 0. 0. 0. 0. 0. 0. 0. 0. 0. 0. 0. 0. 0. 0. 0. 0. 1. 0. 0. 0. 0.]\n",
      "GCA_003930195.1\n",
      "[1.21847057 1.24688923 1.03096092 1.16306436 1.03805304 1.08006728\n",
      " 1.17857611 1.26700771 0.99621081 1.5553627  1.18595707 1.13021326\n",
      " 1.18747258 1.20477974 1.2546128  1.22396696 1.27419746 1.26391613\n",
      " 4.51095581 1.29159856 0.87943298 1.37087929]\n",
      "[20  8  2  4  5 11  3  6 10 12 13  0 15  1 14 17  7 16 19 21  9 18]\n",
      "[0. 0. 0. 0. 0. 0. 0. 0. 0. 0. 0. 0. 0. 0. 0. 0. 1. 0. 0. 0. 0. 0.]\n",
      "GCA_003926135.1\n",
      "[1.13279569 0.76066029 1.08498943 1.18080342 1.13760138 1.19146991\n",
      " 0.9505977  1.0918963  0.98972255 1.49492943 1.23673606 1.05594397\n",
      " 1.21711588 1.22297716 1.22979593 1.247347   1.33430541 1.32269657\n",
      " 4.95678377 1.18338871 1.10424721 1.27537024]\n",
      "[ 1  6  8 11  2  7 20  0  4  3 19  5 12 13 14 10 15 21 17 16  9 18]\n",
      "[0. 0. 1. 0. 0. 0. 0. 0. 0. 0. 0. 0. 0. 0. 0. 0. 0. 0. 0. 0. 0. 0.]\n",
      "GCA_003930995.1\n",
      "[1.00683272 0.92068988 0.92742056 1.02291512 0.96139747 1.02842569\n",
      " 0.86569989 1.02613795 0.82674861 1.38404238 1.08021784 0.91761678\n",
      " 1.0622921  1.07201445 1.08821011 1.09519148 1.17169321 1.15854084\n",
      " 4.91397715 1.05665839 0.92673242 1.15473032]\n",
      "[ 8  6 11  1 20  2  4  0  3  7  5 19 12 13 10 14 15 21 17 16  9 18]\n",
      "[0. 0. 0. 0. 0. 0. 0. 0. 0. 0. 0. 0. 0. 0. 0. 0. 0. 0. 0. 0. 1. 0.]\n",
      "GCA_003928875.1\n",
      "[1.041453   1.10475695 0.87415791 1.04604888 0.91117173 0.95469034\n",
      " 0.98052937 1.14640951 0.84533006 1.41061306 1.06236517 0.94550121\n",
      " 1.0512836  1.07065272 1.10616899 1.08781826 1.15892184 1.16429996\n",
      " 4.82470322 1.09658444 0.84241349 1.20148337]\n",
      "[20  8  2  4 11  5  6  0  3 12 10 13 15 19  1 14  7 16 17 21  9 18]\n",
      "[0. 0. 0. 0. 1. 0. 0. 0. 0. 1. 1. 1. 1. 0. 0. 1. 0. 0. 0. 0. 0. 0.]\n",
      "GCA_003926535.1\n",
      "[1.15929413 0.53442222 1.31773615 1.41287196 1.46406353 1.47426009\n",
      " 0.81321067 0.96537524 1.23667276 1.44319212 1.4523294  1.14263833\n",
      " 1.41405809 1.39818239 1.3381623  1.42606854 1.60034525 1.58120942\n",
      " 5.64131212 1.22446227 1.67881155 1.26562238]\n",
      "[ 1  6  7 11  0 19  8 21  2 14 13  3 12 15  9 10  4  5 17 16 20 18]\n",
      "[0. 0. 0. 1. 0. 0. 0. 0. 0. 1. 1. 0. 1. 0. 0. 1. 0. 0. 0. 0. 0. 0.]\n",
      "GCA_003930715.1\n",
      "[1.15861666 0.53517377 1.3171066  1.4122746  1.46346498 1.47366118\n",
      " 0.81253916 0.96485037 1.23606217 1.44253027 1.45170653 1.14196038\n",
      " 1.41342676 1.39754951 1.33751142 1.42543423 1.59977591 1.58060765\n",
      " 5.64143372 1.2238462  1.67845547 1.26498854]\n",
      "[ 1  6  7 11  0 19  8 21  2 14 13  3 12 15  9 10  4  5 17 16 20 18]\n",
      "[0. 0. 0. 1. 0. 0. 0. 0. 0. 1. 1. 0. 1. 0. 0. 1. 0. 0. 0. 0. 0. 0.]\n",
      "GCA_003930895.1\n",
      "[1.18523848 0.50678349 1.3437016  1.43651247 1.48922777 1.49964952\n",
      " 0.83942574 0.98500597 1.26150048 1.46653891 1.477247   1.16902626\n",
      " 1.43912423 1.4232049  1.36341858 1.45111239 1.62411308 1.60494399\n",
      " 5.64639282 1.24926174 1.69875288 1.29045999]\n",
      "[ 1  6  7 11  0 19  8 21  2 14 13  3 12 15  9 10  4  5 17 16 20 18]\n",
      "[0. 0. 0. 1. 0. 0. 0. 0. 0. 0. 1. 0. 1. 0. 0. 1. 0. 0. 0. 0. 0. 0.]\n",
      "GCA_003928615.1\n",
      "[1.11630118 1.00243676 1.39881301 1.44536376 1.578004   1.5559423\n",
      " 0.80115348 0.84500086 1.33140576 1.26080096 1.47412181 1.15727985\n",
      " 1.43159771 1.40012133 1.30423725 1.42719972 1.63151157 1.60345018\n",
      " 5.95739937 1.17827129 1.93697226 1.16127944]\n",
      "[ 6  7  1  0 11 21 19  9 14  8  2 13 15 12  3 10  5  4 17 16 20 18]\n",
      "[0. 0. 0. 0. 0. 0. 0. 0. 0. 0. 0. 0. 0. 0. 0. 0. 0. 0. 0. 1. 0. 0.]\n",
      "GCA_003929835.1\n",
      "[1.11630118 1.00243676 1.39881301 1.44536376 1.578004   1.5559423\n",
      " 0.80115348 0.84500086 1.33140576 1.26080096 1.47412181 1.15727985\n",
      " 1.43159771 1.40012133 1.30423725 1.42719972 1.63151157 1.60345018\n",
      " 5.95739937 1.17827129 1.93697226 1.16127944]\n",
      "[ 6  7  1  0 11 21 19  9 14  8  2 13 15 12  3 10  5  4 17 16 20 18]\n",
      "[0. 0. 0. 0. 0. 0. 0. 0. 0. 0. 0. 0. 0. 0. 0. 0. 0. 0. 0. 1. 0. 0.]\n",
      "GCA_003926555.1\n",
      "[1.11630118 1.00243676 1.39881301 1.44536376 1.578004   1.5559423\n",
      " 0.80115348 0.84500086 1.33140576 1.26080096 1.47412181 1.15727985\n",
      " 1.43159771 1.40012133 1.30423725 1.42719972 1.63151157 1.60345018\n",
      " 5.95739937 1.17827129 1.93697226 1.16127944]\n",
      "[ 6  7  1  0 11 21 19  9 14  8  2 13 15 12  3 10  5  4 17 16 20 18]\n",
      "[0. 0. 0. 0. 0. 0. 0. 0. 0. 0. 0. 0. 0. 0. 0. 0. 0. 0. 0. 1. 0. 0.]\n",
      "GCA_003928175.1\n",
      "[1.26043665 0.90060401 1.14595354 1.27692747 1.18368852 1.23264766\n",
      " 1.13224947 1.27870309 1.08539796 1.61920571 1.31426358 1.17489707\n",
      " 1.30012321 1.31445193 1.33928823 1.3342675  1.40078819 1.40303767\n",
      " 4.83572102 1.30509257 1.0688132  1.41051102]\n",
      "[ 1 20  8  6  2 11  4  5  0  3  7 12 19 10 13 15 14 16 17 21  9 18]\n",
      "[0. 0. 0. 0. 0. 0. 0. 0. 0. 0. 0. 0. 0. 0. 0. 0. 1. 0. 0. 0. 0. 0.]\n",
      "GCA_003926815.1\n",
      "[nan nan nan nan nan nan nan nan nan nan nan nan nan nan nan nan nan nan\n",
      " nan nan nan nan]\n",
      "[ 0 19 18 17 16 15 14 13 12 11 10  9  8  7  6  5  4  3  2  1 20 21]\n",
      "[0. 0. 0. 1. 0. 0. 0. 0. 0. 0. 0. 0. 0. 0. 0. 0. 0. 0. 0. 0. 0. 0.]\n",
      "GCA_003930235.1\n",
      "[1.39142263 1.83647084 1.07218671 1.18425524 0.94945025 1.03426433\n",
      " 1.49624944 1.62099683 1.06945705 1.71112657 1.19258893 1.28056288\n",
      " 1.21076035 1.24905109 1.34421253 1.25285256 1.19348764 1.20212185\n",
      " 4.26174593 1.42270851 0.50140131 1.52552521]\n",
      "[20  4  5  8  2  3 10 16 17 12 13 15 11 14  0 19  6 21  7  9  1 18]\n",
      "[0. 0. 0. 0. 0. 0. 0. 0. 0. 0. 0. 0. 0. 0. 0. 0. 0. 0. 0. 0. 0. 1.]\n",
      "GCA_003928555.1\n",
      "[1.17290175 1.02863467 1.02157855 1.18397427 1.06020105 1.10151529\n",
      " 1.08542681 1.2408483  0.98663795 1.53581166 1.20454264 1.08230388\n",
      " 1.19311845 1.21089411 1.24350524 1.22898102 1.29673707 1.30371344\n",
      " 4.80494404 1.22307301 0.95686656 1.32995749]\n",
      "[20  8  2  1  4 11  6  5  0  3 12 10 13 19 15  7 14 16 17 21  9 18]\n",
      "[0. 0. 0. 0. 0. 0. 0. 0. 0. 0. 0. 0. 0. 1. 0. 0. 0. 0. 0. 0. 0. 0.]\n",
      "GCA_003927335.1\n",
      "[1.27054298 1.28347611 1.07054746 1.20508444 1.06581533 1.1146909\n",
      " 1.23161232 1.33208418 1.03591502 1.61394334 1.22800732 1.17794859\n",
      " 1.23029566 1.24969852 1.30296707 1.26795709 1.30943108 1.30135512\n",
      " 4.48242807 1.33985615 0.87127107 1.42369437]\n",
      "[20  8  4  2  5 11  3 10 12  6 13 15  0  1 17 14 16  7 19 21  9 18]\n",
      "[1. 0. 0. 0. 0. 0. 0. 0. 0. 0. 0. 0. 0. 0. 0. 0. 0. 0. 0. 0. 0. 0.]\n",
      "GCA_003928755.1\n",
      "[1.79268396 1.89014924 1.49105382 1.62062347 1.40847337 1.46279669\n",
      " 1.86045086 1.97010005 1.50304806 2.09944248 1.62399983 1.69027591\n",
      " 1.63936472 1.67631972 1.76548171 1.67951047 1.62552464 1.65230262\n",
      " 4.07653284 1.81502593 0.96061307 1.92706192]\n",
      "[20  4  5  2  8  3 10 16 12 17 13 15 11 14  0 19  6  1 21  7  9 18]\n",
      "[0. 0. 0. 0. 0. 0. 0. 0. 0. 0. 0. 0. 0. 0. 0. 0. 0. 0. 1. 0. 0. 0.]\n"
     ]
    }
   ],
   "source": [
    "for i in range(len(phage_labels)):\n",
    "    print(phage_labels[i])\n",
    "    print(distances[i])\n",
    "    print(distances[i].argsort())\n",
    "    print(match[i][distances[i].argsort()])"
   ]
  }
 ],
 "metadata": {
  "kernelspec": {
   "display_name": "pytorch",
   "language": "python",
   "name": "python3"
  },
  "language_info": {
   "codemirror_mode": {
    "name": "ipython",
    "version": 3
   },
   "file_extension": ".py",
   "mimetype": "text/x-python",
   "name": "python",
   "nbconvert_exporter": "python",
   "pygments_lexer": "ipython3",
   "version": "3.11.10"
  }
 },
 "nbformat": 4,
 "nbformat_minor": 2
}
