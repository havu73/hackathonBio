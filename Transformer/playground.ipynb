{
 "cells": [
  {
   "metadata": {},
   "cell_type": "markdown",
   "source": "Get attention matrix from an input sequence",
   "id": "4e77ebb037ce95af"
  },
  {
   "metadata": {
    "ExecuteTime": {
     "end_time": "2024-11-17T22:11:06.050589Z",
     "start_time": "2024-11-17T22:11:04.813542Z"
    }
   },
   "cell_type": "code",
   "source": [
    "import os\n",
    "import argparse\n",
    "import importlib\n",
    "import pandas as pd\n",
    "import numpy as np\n",
    "import torch\n",
    "from tqdm import tqdm\n",
    "from dataset import PairDataset\n",
    "import model\n",
    "importlib.reload(model)\n",
    "from modelW import TransformerClassifier\n",
    "import helper"
   ],
   "id": "682e599dbc79993f",
   "outputs": [
    {
     "name": "stderr",
     "output_type": "stream",
     "text": [
      "\n",
      "A module that was compiled using NumPy 1.x cannot be run in\n",
      "NumPy 2.1.2 as it may crash. To support both 1.x and 2.x\n",
      "versions of NumPy, modules must be compiled with NumPy 2.0.\n",
      "Some module may need to rebuild instead e.g. with 'pybind11>=2.12'.\n",
      "\n",
      "If you are a user of the module, the easiest solution will be to\n",
      "downgrade to 'numpy<2' or try to upgrade the affected module.\n",
      "We expect that some modules will need time to support NumPy 2.\n",
      "\n",
      "Traceback (most recent call last):  File \"<frozen runpy>\", line 198, in _run_module_as_main\n",
      "  File \"<frozen runpy>\", line 88, in _run_code\n",
      "  File \"/gladstone/engelhardt/home/hvu/anaconda3/envs/new_rna/lib/python3.11/site-packages/ipykernel_launcher.py\", line 17, in <module>\n",
      "    app.launch_new_instance()\n",
      "  File \"/gladstone/engelhardt/home/hvu/anaconda3/envs/new_rna/lib/python3.11/site-packages/traitlets/config/application.py\", line 1075, in launch_instance\n",
      "    app.start()\n",
      "  File \"/gladstone/engelhardt/home/hvu/anaconda3/envs/new_rna/lib/python3.11/site-packages/ipykernel/kernelapp.py\", line 701, in start\n",
      "    self.io_loop.start()\n",
      "  File \"/gladstone/engelhardt/home/hvu/anaconda3/envs/new_rna/lib/python3.11/site-packages/tornado/platform/asyncio.py\", line 205, in start\n",
      "    self.asyncio_loop.run_forever()\n",
      "  File \"/gladstone/engelhardt/home/hvu/anaconda3/envs/new_rna/lib/python3.11/asyncio/base_events.py\", line 608, in run_forever\n",
      "    self._run_once()\n",
      "  File \"/gladstone/engelhardt/home/hvu/anaconda3/envs/new_rna/lib/python3.11/asyncio/base_events.py\", line 1936, in _run_once\n",
      "    handle._run()\n",
      "  File \"/gladstone/engelhardt/home/hvu/anaconda3/envs/new_rna/lib/python3.11/asyncio/events.py\", line 84, in _run\n",
      "    self._context.run(self._callback, *self._args)\n",
      "  File \"/gladstone/engelhardt/home/hvu/anaconda3/envs/new_rna/lib/python3.11/site-packages/ipykernel/kernelbase.py\", line 534, in dispatch_queue\n",
      "    await self.process_one()\n",
      "  File \"/gladstone/engelhardt/home/hvu/anaconda3/envs/new_rna/lib/python3.11/site-packages/ipykernel/kernelbase.py\", line 523, in process_one\n",
      "    await dispatch(*args)\n",
      "  File \"/gladstone/engelhardt/home/hvu/anaconda3/envs/new_rna/lib/python3.11/site-packages/ipykernel/kernelbase.py\", line 429, in dispatch_shell\n",
      "    await result\n",
      "  File \"/gladstone/engelhardt/home/hvu/anaconda3/envs/new_rna/lib/python3.11/site-packages/ipykernel/kernelbase.py\", line 767, in execute_request\n",
      "    reply_content = await reply_content\n",
      "  File \"/gladstone/engelhardt/home/hvu/anaconda3/envs/new_rna/lib/python3.11/site-packages/ipykernel/ipkernel.py\", line 429, in do_execute\n",
      "    res = shell.run_cell(\n",
      "  File \"/gladstone/engelhardt/home/hvu/anaconda3/envs/new_rna/lib/python3.11/site-packages/ipykernel/zmqshell.py\", line 549, in run_cell\n",
      "    return super().run_cell(*args, **kwargs)\n",
      "  File \"/gladstone/engelhardt/home/hvu/anaconda3/envs/new_rna/lib/python3.11/site-packages/IPython/core/interactiveshell.py\", line 3075, in run_cell\n",
      "    result = self._run_cell(\n",
      "  File \"/gladstone/engelhardt/home/hvu/anaconda3/envs/new_rna/lib/python3.11/site-packages/IPython/core/interactiveshell.py\", line 3130, in _run_cell\n",
      "    result = runner(coro)\n",
      "  File \"/gladstone/engelhardt/home/hvu/anaconda3/envs/new_rna/lib/python3.11/site-packages/IPython/core/async_helpers.py\", line 128, in _pseudo_sync_runner\n",
      "    coro.send(None)\n",
      "  File \"/gladstone/engelhardt/home/hvu/anaconda3/envs/new_rna/lib/python3.11/site-packages/IPython/core/interactiveshell.py\", line 3334, in run_cell_async\n",
      "    has_raised = await self.run_ast_nodes(code_ast.body, cell_name,\n",
      "  File \"/gladstone/engelhardt/home/hvu/anaconda3/envs/new_rna/lib/python3.11/site-packages/IPython/core/interactiveshell.py\", line 3517, in run_ast_nodes\n",
      "    if await self.run_code(code, result, async_=asy):\n",
      "  File \"/gladstone/engelhardt/home/hvu/anaconda3/envs/new_rna/lib/python3.11/site-packages/IPython/core/interactiveshell.py\", line 3577, in run_code\n",
      "    exec(code_obj, self.user_global_ns, self.user_ns)\n",
      "  File \"/tmp/ipykernel_1337862/927610649.py\", line 4, in <module>\n",
      "    import pandas as pd\n",
      "  File \"/gladstone/engelhardt/home/hvu/anaconda3/envs/new_rna/lib/python3.11/site-packages/pandas/__init__.py\", line 49, in <module>\n",
      "    from pandas.core.api import (\n",
      "  File \"/gladstone/engelhardt/home/hvu/anaconda3/envs/new_rna/lib/python3.11/site-packages/pandas/core/api.py\", line 28, in <module>\n",
      "    from pandas.core.arrays import Categorical\n",
      "  File \"/gladstone/engelhardt/home/hvu/anaconda3/envs/new_rna/lib/python3.11/site-packages/pandas/core/arrays/__init__.py\", line 1, in <module>\n",
      "    from pandas.core.arrays.arrow import ArrowExtensionArray\n",
      "  File \"/gladstone/engelhardt/home/hvu/anaconda3/envs/new_rna/lib/python3.11/site-packages/pandas/core/arrays/arrow/__init__.py\", line 5, in <module>\n",
      "    from pandas.core.arrays.arrow.array import ArrowExtensionArray\n",
      "  File \"/gladstone/engelhardt/home/hvu/anaconda3/envs/new_rna/lib/python3.11/site-packages/pandas/core/arrays/arrow/array.py\", line 50, in <module>\n",
      "    from pandas.core import (\n",
      "  File \"/gladstone/engelhardt/home/hvu/anaconda3/envs/new_rna/lib/python3.11/site-packages/pandas/core/ops/__init__.py\", line 8, in <module>\n",
      "    from pandas.core.ops.array_ops import (\n",
      "  File \"/gladstone/engelhardt/home/hvu/anaconda3/envs/new_rna/lib/python3.11/site-packages/pandas/core/ops/array_ops.py\", line 56, in <module>\n",
      "    from pandas.core.computation import expressions\n",
      "  File \"/gladstone/engelhardt/home/hvu/anaconda3/envs/new_rna/lib/python3.11/site-packages/pandas/core/computation/expressions.py\", line 21, in <module>\n",
      "    from pandas.core.computation.check import NUMEXPR_INSTALLED\n",
      "  File \"/gladstone/engelhardt/home/hvu/anaconda3/envs/new_rna/lib/python3.11/site-packages/pandas/core/computation/check.py\", line 5, in <module>\n",
      "    ne = import_optional_dependency(\"numexpr\", errors=\"warn\")\n",
      "  File \"/gladstone/engelhardt/home/hvu/anaconda3/envs/new_rna/lib/python3.11/site-packages/pandas/compat/_optional.py\", line 135, in import_optional_dependency\n",
      "    module = importlib.import_module(name)\n",
      "  File \"/gladstone/engelhardt/home/hvu/anaconda3/envs/new_rna/lib/python3.11/importlib/__init__.py\", line 126, in import_module\n",
      "    return _bootstrap._gcd_import(name[level:], package, level)\n",
      "  File \"/gladstone/engelhardt/home/hvu/anaconda3/envs/new_rna/lib/python3.11/site-packages/numexpr/__init__.py\", line 24, in <module>\n",
      "    from numexpr.interpreter import MAX_THREADS, use_vml, __BLOCK_SIZE1__\n"
     ]
    },
    {
     "ename": "AttributeError",
     "evalue": "_ARRAY_API not found",
     "output_type": "error",
     "traceback": [
      "\u001B[0;31m---------------------------------------------------------------------------\u001B[0m",
      "\u001B[0;31mAttributeError\u001B[0m                            Traceback (most recent call last)",
      "\u001B[0;31mAttributeError\u001B[0m: _ARRAY_API not found"
     ]
    }
   ],
   "execution_count": 3
  },
  {
   "metadata": {
    "ExecuteTime": {
     "end_time": "2024-11-17T22:11:06.989527Z",
     "start_time": "2024-11-17T22:11:06.986935Z"
    }
   },
   "cell_type": "code",
   "source": [
    "negative_fold = 10\n",
    "phage_embed = '/gladstone/engelhardt/lab/hvu/hackathonBio/Ecoli/phages/embed'\n",
    "host_embed = '/gladstone/engelhardt/lab/hvu/hackathonBio/Ecoli/host/embed/chunk_40K'\n",
    "test_prompt_fn = '/gladstone/engelhardt/lab/hvu/hackathonBio/metadata/ecoli/train_positive_pairs.txt'\n",
    "save_fn = None\n",
    "model_fn = '/gladstone/engelhardt/lab/hvu/hackathonBio/Ecoli/models/Transformer/chunk_40K/exp2/exp2/checkpoints/best_checkpoint.pth'\n",
    "norm_constants_fn = '/gladstone/engelhardt/lab/hvu/hackathonBio/hackathon_results/tung/tung_results/ecoli/norm_constants.pth'\n",
    "max_len = 200\n",
    "input_dim = 4096\n",
    "model_dim = 1024\n",
    "num_heads = 8\n",
    "num_layers = 4\n",
    "dim_feedforward = 4096\n",
    "dropout = 0.0\n",
    "device = 'cuda'"
   ],
   "id": "bee05a986957a77c",
   "outputs": [],
   "execution_count": 4
  },
  {
   "metadata": {
    "ExecuteTime": {
     "end_time": "2024-11-17T22:11:09.279207Z",
     "start_time": "2024-11-17T22:11:08.032622Z"
    }
   },
   "cell_type": "code",
   "source": [
    "pairs_df = pd.read_csv(test_prompt_fn, sep='\\t')\n",
    "pairs = [(row['Host_ID'], row['Phage_ID']) for _, row in pairs_df.iterrows()]\n",
    "dummy_labels = [-1] * len(pairs)\n",
    "\n",
    "test_dataset = PairDataset(\n",
    "    host_root=host_embed,\n",
    "    phage_root=phage_embed,\n",
    "    pairs=pairs,\n",
    "    labels=dummy_labels,\n",
    "    max_len=max_len,\n",
    "    remove_non_exist=False,\n",
    ")\n",
    "norm_constants = torch.load(norm_constants_fn)\n",
    "test_dataset.set_norm_constants(*norm_constants)\n",
    "\n",
    "# load model from checkpoints/best_checkpoint.pth\n",
    "model = TransformerClassifier(\n",
    "    input_dim=input_dim,\n",
    "    model_dim=model_dim,\n",
    "    num_heads=num_heads,\n",
    "    num_layers=num_layers,\n",
    "    dim_feedforward=dim_feedforward,\n",
    "    dropout=dropout,\n",
    "    max_len=max_len,\n",
    ").cuda()\n",
    "\n",
    "checkpoint = torch.load(model_fn)\n",
    "\n",
    "msg = model.load_state_dict(checkpoint['model_state_dict'], strict=True)\n",
    "model.eval()"
   ],
   "id": "8863177c8bb7958e",
   "outputs": [
    {
     "name": "stderr",
     "output_type": "stream",
     "text": [
      "/gladstone/engelhardt/home/hvu/hackathonBio/Transformer/dataset.py:19: FutureWarning: You are using `torch.load` with `weights_only=False` (the current default value), which uses the default pickle module implicitly. It is possible to construct malicious pickle data which will execute arbitrary code during unpickling (See https://github.com/pytorch/pytorch/blob/main/SECURITY.md#untrusted-models for more details). In a future release, the default value for `weights_only` will be flipped to `True`. This limits the functions that could be executed during unpickling. Arbitrary objects will no longer be allowed to be loaded via this mode unless they are explicitly allowlisted by the user via `torch.serialization.add_safe_globals`. We recommend you start setting `weights_only=True` for any use case where you don't have full control of the loaded file. Please open an issue on GitHub for any issues related to this experimental feature.\n",
      "  embed_dict[embed_id] = torch.load(f'{embed_fn}').sum(dim=0,keepdim=True)\n",
      "/tmp/ipykernel_1337862/831448161.py:13: FutureWarning: You are using `torch.load` with `weights_only=False` (the current default value), which uses the default pickle module implicitly. It is possible to construct malicious pickle data which will execute arbitrary code during unpickling (See https://github.com/pytorch/pytorch/blob/main/SECURITY.md#untrusted-models for more details). In a future release, the default value for `weights_only` will be flipped to `True`. This limits the functions that could be executed during unpickling. Arbitrary objects will no longer be allowed to be loaded via this mode unless they are explicitly allowlisted by the user via `torch.serialization.add_safe_globals`. We recommend you start setting `weights_only=True` for any use case where you don't have full control of the loaded file. Please open an issue on GitHub for any issues related to this experimental feature.\n",
      "  norm_constants = torch.load(norm_constants_fn)\n",
      "/tmp/ipykernel_1337862/831448161.py:27: FutureWarning: You are using `torch.load` with `weights_only=False` (the current default value), which uses the default pickle module implicitly. It is possible to construct malicious pickle data which will execute arbitrary code during unpickling (See https://github.com/pytorch/pytorch/blob/main/SECURITY.md#untrusted-models for more details). In a future release, the default value for `weights_only` will be flipped to `True`. This limits the functions that could be executed during unpickling. Arbitrary objects will no longer be allowed to be loaded via this mode unless they are explicitly allowlisted by the user via `torch.serialization.add_safe_globals`. We recommend you start setting `weights_only=True` for any use case where you don't have full control of the loaded file. Please open an issue on GitHub for any issues related to this experimental feature.\n",
      "  checkpoint = torch.load(model_fn)\n"
     ]
    },
    {
     "data": {
      "text/plain": [
       "TransformerClassifier(\n",
       "  (embedding): Sequential(\n",
       "    (0): Linear(in_features=4096, out_features=1024, bias=True)\n",
       "    (1): ReLU()\n",
       "    (2): Linear(in_features=1024, out_features=1024, bias=True)\n",
       "  )\n",
       "  (host_pos_encoder): PositionalEncoding()\n",
       "  (phage_pos_encoder): PositionalEncoding()\n",
       "  (transformer_encoder): ModuleList(\n",
       "    (0-3): 4 x TransformerEncoderLayerWithWeights(\n",
       "      (self_attn): MultiheadAttentionWithWeights(\n",
       "        (out_proj): NonDynamicallyQuantizableLinear(in_features=1024, out_features=1024, bias=True)\n",
       "      )\n",
       "      (linear1): Linear(in_features=1024, out_features=4096, bias=True)\n",
       "      (dropout): Dropout(p=0.0, inplace=False)\n",
       "      (linear2): Linear(in_features=4096, out_features=1024, bias=True)\n",
       "      (norm1): LayerNorm((1024,), eps=1e-05, elementwise_affine=True)\n",
       "      (norm2): LayerNorm((1024,), eps=1e-05, elementwise_affine=True)\n",
       "      (dropout1): Dropout(p=0.0, inplace=False)\n",
       "      (dropout2): Dropout(p=0.0, inplace=False)\n",
       "    )\n",
       "  )\n",
       "  (norm): LayerNorm((1024,), eps=1e-05, elementwise_affine=True)\n",
       "  (classifier): Sequential(\n",
       "    (0): Linear(in_features=1024, out_features=1024, bias=True)\n",
       "    (1): ReLU()\n",
       "    (2): Linear(in_features=1024, out_features=1, bias=True)\n",
       "  )\n",
       ")"
      ]
     },
     "execution_count": 5,
     "metadata": {},
     "output_type": "execute_result"
    }
   ],
   "execution_count": 5
  },
  {
   "metadata": {
    "ExecuteTime": {
     "end_time": "2024-11-17T22:11:09.618863Z",
     "start_time": "2024-11-17T22:11:09.513760Z"
    }
   },
   "cell_type": "code",
   "source": [
    "\n",
    "\n",
    "# Forward pass\n",
    "with torch.no_grad():\n",
    "    embeddings, label, host_lens, phage_lens = test_dataset[1000]\n",
    "    print(embeddings.shape, label,  host_lens, phage_lens)\n",
    "    embeddings = embeddings.unsqueeze(0).cuda()\n",
    "    host_lens = torch.tensor([host_lens], dtype=torch.long).cuda()\n",
    "    phage_lens = torch.tensor([phage_lens], dtype=torch.long).cuda()\n",
    "    outputs = model(embeddings, host_lens, phage_lens, need_weights=True)\n"
   ],
   "id": "e202b787a59d0d73",
   "outputs": [
    {
     "name": "stdout",
     "output_type": "stream",
     "text": [
      "torch.Size([200, 4096]) tensor([-1.]) 1 1\n"
     ]
    }
   ],
   "execution_count": 6
  },
  {
   "metadata": {
    "ExecuteTime": {
     "end_time": "2024-11-17T23:06:30.847267Z",
     "start_time": "2024-11-17T23:06:30.842902Z"
    }
   },
   "cell_type": "code",
   "source": [
    "def get_attention_matrix(dataset, model, idx):\n",
    "    with torch.no_grad():\n",
    "        embeddings, label, host_lens, phage_lens = dataset[idx]\n",
    "        embeddings = embeddings.unsqueeze(0).cuda()\n",
    "        host_lens = torch.tensor([host_lens], dtype=torch.long).cuda()\n",
    "        phage_lens = torch.tensor([phage_lens], dtype=torch.long).cuda()\n",
    "        outputs = model(embeddings, host_lens, phage_lens, need_weights=True)\n",
    "    return model.attention_weights\n",
    "\n",
    "def draw_attention_matrix(attention_matrix):\n",
    "    import matplotlib.pyplot as plt\n",
    "    import matplotlib.gridspec as gridspec\n",
    "    fig = plt.figure(figsize=(8, 8))\n",
    "    gs = gridspec.GridSpec(2, 3, width_ratios=[1, 1, 0.05])\n",
    "    axes = []\n",
    "    vmin = 0 \n",
    "    vmax = 0.8\n",
    "    for i in range(4):\n",
    "        ax = fig.add_subplot(gs[i//2, i%2])\n",
    "        im = ax.imshow(attention_matrix[i][0].cpu().numpy(), cmap='hot', interpolation='nearest', vmin=vmin, vmax=vmax)\n",
    "        ax.set_title(f'Layer {i}')\n",
    "        axes.append(ax)\n",
    "    # Add colorbar to the last column\n",
    "    cbar_ax = fig.add_subplot(gs[:, -1])\n",
    "    fig.colorbar(im, cax=cbar_ax)\n",
    "    fig.tight_layout()\n",
    "    plt.show()"
   ],
   "id": "b985d543c0c9f341",
   "outputs": [],
   "execution_count": 39
  },
  {
   "metadata": {
    "ExecuteTime": {
     "end_time": "2024-11-17T23:06:31.817338Z",
     "start_time": "2024-11-17T23:06:31.498772Z"
    }
   },
   "cell_type": "code",
   "source": [
    "attn_mat = get_attention_matrix(test_dataset, model, 1000)\n",
    "draw_attention_matrix(attn_mat)"
   ],
   "id": "3fdf53aadb229acc",
   "outputs": [
    {
     "data": {
      "text/plain": [
       "<Figure size 800x800 with 5 Axes>"
      ],
      "image/png": "[encoded data removed]"
     },
     "metadata": {},
     "output_type": "display_data"
    }
   ],
   "execution_count": 40
  },
  {
   "metadata": {},
   "cell_type": "code",
   "outputs": [],
   "execution_count": null,
   "source": "",
   "id": "dc27b2636db4c532"
  },
  {
   "metadata": {},
   "cell_type": "code",
   "outputs": [],
   "execution_count": null,
   "source": "",
   "id": "d3f89119cabaeb63"
  }
 ],
 "metadata": {
  "kernelspec": {
   "display_name": "Python (new_rna)",
   "language": "python",
   "name": "new_rna"
  },
  "language_info": {
   "codemirror_mode": {
    "name": "ipython",
    "version": 2
   },
   "file_extension": ".py",
   "mimetype": "text/x-python",
   "name": "python",
   "nbconvert_exporter": "python",
   "pygments_lexer": "ipython2",
   "version": "2.7.6"
  }
 },
 "nbformat": 4,
 "nbformat_minor": 5
}
