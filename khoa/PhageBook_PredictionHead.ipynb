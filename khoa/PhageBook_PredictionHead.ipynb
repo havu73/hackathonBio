{
  "cells": [
    {
      "cell_type": "code",
      "execution_count": 1,
      "metadata": {
        "colab": {
          "base_uri": "https://localhost:8080/"
        },
        "id": "y6ZgtvN84bJM",
        "outputId": "7a12f5e7-18dd-48ef-9769-55794fff483c"
      },
      "outputs": [],
      "source": [
        "import os\n",
        "from os.path import basename, join\n",
        "import numpy as np\n",
        "import pandas as pd\n",
        "import torch\n",
        "import random\n",
        "import torch.optim as optim\n",
        "import torch.nn as nn\n",
        "import torch.nn.functional as F\n",
        "from torch.nn.utils.rnn import pad_sequence\n",
        "\n",
        "from tqdm import tqdm\n",
        "import itertools\n",
        "\n",
        "import matplotlib.pyplot as plt\n",
        "from sklearn.decomposition import PCA\n",
        "\n",
        "device = torch.device(\"cuda\" if torch.cuda.is_available() else \"cpu\")\n",
        "device = \"cuda:2\" if torch.cuda.is_available() else \"cpu\"\n"
      ]
    },
    {
      "cell_type": "code",
      "execution_count": 2,
      "metadata": {},
      "outputs": [],
      "source": [
        "def pad_sequence_to_max_length(sequence, max_length):\n",
        "    # sequence shape: (Length, Dim)\n",
        "    length, dim = sequence.shape\n",
        "    if length < max_length:\n",
        "        padding_amount = max_length - length\n",
        "        padded_sequence = F.pad(sequence, (0, 0, 0, padding_amount))\n",
        "    else:\n",
        "        padded_sequence = sequence\n",
        "    return padded_sequence"
      ]
    },
    {
      "cell_type": "code",
      "execution_count": 3,
      "metadata": {},
      "outputs": [],
      "source": [
        "data_foler = \"/home/ec2-user/klebsiella_embeddings\"\n",
        "host_embeddings_folder = \"/home/ec2-user/klebsiella_embeddings/host_embeddings\"\n",
        "phage_embeddings_folder = \"/home/ec2-user/klebsiella_embeddings/phage_embeddings\"\n",
        "positive_pairs_1 = \"/home/ec2-user/klebsiella_embeddings/study1_pairs_positive.txt\"\n",
        "positive_pairs_2 = \"/home/ec2-user/klebsiella_embeddings/study2_pairs_positive.txt\""
      ]
    },
    {
      "cell_type": "code",
      "execution_count": 4,
      "metadata": {},
      "outputs": [],
      "source": [
        "df_pos1 = pd.read_csv(positive_pairs_1, sep = \"\\t\")\n",
        "df_pos2 = pd.read_csv(positive_pairs_2, sep = \"\\t\")\n",
        "df_pos = pd.concat([df_pos1, df_pos2])"
      ]
    },
    {
      "cell_type": "code",
      "execution_count": 5,
      "metadata": {},
      "outputs": [],
      "source": [
        "bacteria = df_pos.bacterial_host.unique()\n",
        "phage = df_pos.phage.unique()\n",
        "all_possible_pairs = set(itertools.product(bacteria, phage))\n",
        "existing_pairs = set(df_pos.itertuples(index=False, name=None))\n",
        "negative_pairs = all_possible_pairs - existing_pairs\n",
        "df_neg = pd.DataFrame(list(negative_pairs), columns=df_pos.columns)\n",
        "df_neg = df_neg.sample(n=len(df_pos), random_state=42)"
      ]
    },
    {
      "cell_type": "code",
      "execution_count": 6,
      "metadata": {},
      "outputs": [],
      "source": [
        "df_pos[\"label\"] = 1.\n",
        "df_neg[\"label\"] = 0.\n",
        "df_all = pd.concat([df_pos, df_neg]).drop_duplicates().sample(frac = 1., random_state=42)\n"
      ]
    },
    {
      "cell_type": "code",
      "execution_count": 7,
      "metadata": {},
      "outputs": [],
      "source": [
        "host_embeddings_dict = {}\n",
        "phage_embeddings_dict = {}\n",
        "for he in os.listdir(host_embeddings_folder):\n",
        "    full_path = join(host_embeddings_folder, he)\n",
        "    host_embeddings_dict[he.split(\".\")[0]] = torch.load(full_path)\n",
        "for pe in os.listdir(phage_embeddings_folder):\n",
        "    full_path = join(phage_embeddings_folder, pe)\n",
        "    phage_embeddings_dict[pe.split(\".\")[0]] = torch.load(full_path)"
      ]
    },
    {
      "cell_type": "code",
      "execution_count": 8,
      "metadata": {},
      "outputs": [],
      "source": [
        "MAX_BACTERIA_LENGTH = 0\n",
        "MAX_VIRAL_LENGTH = 0\n",
        "for key, val in host_embeddings_dict.items():\n",
        "    if val.shape[0] > MAX_BACTERIA_LENGTH:\n",
        "        MAX_BACTERIA_LENGTH = val.shape[0]\n",
        "for key, val in phage_embeddings_dict.items():\n",
        "    if val.shape[0] > MAX_VIRAL_LENGTH:\n",
        "        MAX_VIRAL_LENGTH = val.shape[0]"
      ]
    },
    {
      "cell_type": "code",
      "execution_count": 9,
      "metadata": {},
      "outputs": [],
      "source": [
        "for key, val in host_embeddings_dict.items():\n",
        "    host_embeddings_dict[key] = pad_sequence_to_max_length(val, MAX_BACTERIA_LENGTH)\n",
        "for key, val in phage_embeddings_dict.items():\n",
        "    phage_embeddings_dict[key] = pad_sequence_to_max_length(val, MAX_VIRAL_LENGTH)"
      ]
    },
    {
      "cell_type": "code",
      "execution_count": 10,
      "metadata": {},
      "outputs": [],
      "source": [
        "df_all[\"bacterial_embedding\"] = df_all[\"bacterial_host\"].map(host_embeddings_dict)\n",
        "df_all[\"viral_embedding\"] = df_all[\"phage\"].map(phage_embeddings_dict)\n",
        "df_all = df_all.dropna()"
      ]
    },
    {
      "cell_type": "code",
      "execution_count": 11,
      "metadata": {},
      "outputs": [],
      "source": [
        "bacteria_data = torch.stack(df_all.bacterial_embedding.tolist())\n",
        "viral_data = torch.stack(df_all.viral_embedding.tolist())\n",
        "label = torch.tensor(df_all.label.tolist())"
      ]
    },
    {
      "cell_type": "code",
      "execution_count": 12,
      "metadata": {
        "id": "HgRL_sAIyqT2"
      },
      "outputs": [],
      "source": [
        "\n",
        "class CNNResidualBlock(nn.Module):\n",
        "  def __init__(self, in_channels, out_channels, kernel_size, stride=1, padding=0):\n",
        "    super(CNNResidualBlock, self).__init__()\n",
        "    self.conv1 = nn.Conv1d(in_channels, out_channels, kernel_size, stride, padding)\n",
        "    self.bn1 = nn.BatchNorm1d(out_channels)\n",
        "    self.relu = nn.ReLU()\n",
        "    self.conv2 = nn.Conv1d(out_channels, out_channels, kernel_size, stride, padding)\n",
        "    self.bn2 = nn.BatchNorm1d(out_channels)\n",
        "    self.shortcut = nn.Sequential()\n",
        "    if stride != 1 or in_channels != out_channels:\n",
        "      self.shortcut = nn.Sequential(\n",
        "        nn.Conv1d(in_channels, out_channels, kernel_size=1, stride=stride*2, bias=False),\n",
        "        nn.BatchNorm1d(out_channels)\n",
        "      )\n",
        "\n",
        "  def forward(self, x):\n",
        "    residual = self.shortcut(x)\n",
        "    # print(f\"Residual shape: {residual.shape}\")\n",
        "    out = self.conv1(x)\n",
        "    # print(f\"Conv1 shape: {out.shape}\")\n",
        "    out = self.bn1(out)\n",
        "    # print(f\"BN1 shape: {out.shape}\")\n",
        "    out = F.relu(out)\n",
        "    # print(f\"ReLU shape: {out.shape}\")\n",
        "    out = self.conv2(out)\n",
        "    # print(f\"Conv2 shape: {out.shape}\")\n",
        "    out = self.bn2(out)\n",
        "    # print(f\"BN2 shape: {out.shape}\")\n",
        "    out += residual\n",
        "    # print(f\"Residual added shape: {out.shape}\")\n",
        "    out = F.relu(out)\n",
        "    # print(f\"Final ReLU shape: {out.shape}\")\n",
        "    return out\n",
        "\n",
        "class BacteriaNN(nn.Module):\n",
        "    def __init__(self, embedding_dim, output_dim, kernel_size, padding, avg_poolsize, embedding_reduction_factor, resblock_num, stride, dropout_rate = 0.2):\n",
        "        super(BacteriaNN, self).__init__()\n",
        "        self.conv1 = nn.Conv1d(embedding_dim, embedding_dim//embedding_reduction_factor, kernel_size=kernel_size, stride=stride, padding=padding)\n",
        "        self.bn1 = nn.BatchNorm1d(embedding_dim//embedding_reduction_factor)\n",
        "        self.relu = nn.ReLU()\n",
        "        self.maxpool = nn.MaxPool1d(kernel_size=kernel_size, stride=stride, padding=padding)\n",
        "        for i in range(resblock_num):\n",
        "            setattr(self, f'resblock{i+1}', CNNResidualBlock(embedding_dim//embedding_reduction_factor, embedding_dim//embedding_reduction_factor, kernel_size=kernel_size, padding=padding, stride=stride))\n",
        "        self.avgpool = nn.AdaptiveAvgPool1d(avg_poolsize)\n",
        "        self.dropout = nn.Dropout(dropout_rate)\n",
        "        self.fc = nn.Linear(avg_poolsize*embedding_dim//embedding_reduction_factor, output_dim)\n",
        "        self.resblock_num = resblock_num\n",
        "\n",
        "    def forward(self, x):\n",
        "        x = x.permute(0, 2, 1)\n",
        "        # print(f\"Input shape: {x.shape}\")\n",
        "        x = self.conv1(x)\n",
        "        x = self.bn1(x)\n",
        "        x = F.relu(x)\n",
        "        x = self.maxpool(x)\n",
        "        # print(f\"After maxpool: {x.shape}\")\n",
        "        for i in range(self.resblock_num):\n",
        "            x = getattr(self, f'resblock{i+1}')(x)\n",
        "            # print(f\"After resblock{i+1}: {x.shape}\")\n",
        "        # print(f\"After resblock4: {x.shape}\")\n",
        "        x = self.avgpool(x)\n",
        "        # print(f\"After avgpool: {x.shape}\")\n",
        "        x = x.view(x.size(0), -1)\n",
        "        # print(f\"After view: {x.shape}\")\n",
        "        x = self.dropout(x)\n",
        "        # print(f\"After dropout: {x.shape}\")\n",
        "        x = self.fc(x)\n",
        "        return x\n"
      ]
    },
    {
      "cell_type": "code",
      "execution_count": 13,
      "metadata": {
        "id": "ans6EEIVEZad"
      },
      "outputs": [],
      "source": [
        "class ViralNN(nn.Module):\n",
        "    def __init__(self, embedding_dim, length, output_dim, hidden_dims=[128, 64], dropout_rate = 0.2):\n",
        "        super(ViralNN, self).__init__()\n",
        "\n",
        "        fc_input_dim = embedding_dim * length\n",
        "        layers = []\n",
        "        current_dim = fc_input_dim\n",
        "\n",
        "        for hidden_dim in hidden_dims:\n",
        "            layers.append(nn.Linear(current_dim, hidden_dim))\n",
        "            layers.append(nn.ReLU())\n",
        "            layers.append(nn.Dropout(dropout_rate))\n",
        "            current_dim = hidden_dim\n",
        "\n",
        "        layers.append(nn.Linear(current_dim, output_dim))\n",
        "        self.fc_layers = nn.Sequential(*layers)\n",
        "\n",
        "    def forward(self, x):\n",
        "        x = x.view(x.size(0), -1)\n",
        "        x = self.fc_layers(x)\n",
        "        return x"
      ]
    },
    {
      "cell_type": "code",
      "execution_count": 14,
      "metadata": {
        "id": "_WbK2S3mHjCJ"
      },
      "outputs": [],
      "source": [
        "# data_size = 1234\n",
        "bacteria_max_seq_len = MAX_BACTERIA_LENGTH\n",
        "viral_max_seq_len = MAX_VIRAL_LENGTH\n",
        "embedding_dim = 4096 # use small to test, need to change to 4096\n",
        "embedding_reduction_factor = 1\n",
        "kernel_size = 5 # set to odd number smaller than embedding size\n",
        "padding = (kernel_size - 1) // 2\n",
        "stride = 1\n",
        "avg_poolsize = 1\n",
        "resblock_num = 2\n",
        "output_dim = 4096\n",
        "dropout_rate = 0.2\n",
        "hidden_dims = [embedding_dim, embedding_dim]\n",
        "\n",
        "class PhINN(nn.Module):\n",
        "    def __init__(self, bacteria_nn, viral_nn, output_dim, skip_connection=False):\n",
        "        super(PhINN, self).__init__()\n",
        "        self.bacteria_nn = bacteria_nn\n",
        "        self.viral_nn = viral_nn\n",
        "        self.fc = nn.Linear(output_dim*2, output_dim)\n",
        "        self.fc_skip = nn.Linear(output_dim*4, output_dim)\n",
        "        self.fc2 = nn.Linear(output_dim, 1)\n",
        "        self.skip_connection = skip_connection\n",
        "        self.bn = nn.BatchNorm1d(output_dim)\n",
        "\n",
        "    def forward(self, bacteria_input, viral_input):\n",
        "        bacteria_output = self.bacteria_nn(bacteria_input)\n",
        "        viral_output = self.viral_nn(viral_input)\n",
        "\n",
        "        combined_output = torch.cat((bacteria_output, viral_output), dim=1)\n",
        "        if self.skip_connection:\n",
        "            bacteria_output_skip = bacteria_input.sum(dim=1).squeeze()  # Shape: (batch_size, output_dim)\n",
        "            viral_output_skip = bacteria_input.sum(dim=1).squeeze()\n",
        "            combined_output_skip = torch.cat((bacteria_output_skip, viral_output_skip), dim=1)\n",
        "            combined_output = torch.cat((combined_output_skip, combined_output), dim = 1)\n",
        "            output = self.fc_skip(combined_output)\n",
        "        else:\n",
        "            output = self.fc(combined_output)\n",
        "        \n",
        "        output = self.bn(output)\n",
        "        output = nn.ReLU()(output)\n",
        "        logits = self.fc2(output)\n",
        "        probs = torch.sigmoid(logits)\n",
        "        return probs\n",
        "\n",
        "\n",
        "\n",
        "\n",
        "# Example input tensors\n",
        "# bacteria_input = torch.randn(data_size, bacteria_max_seq_len, embedding_dim)\n",
        "# viral_input = torch.randn(data_size, viral_max_seq_len, embedding_dim)\n",
        "# example_labels = torch.randint(0, 2, (data_size,))\n",
        "\n",
        "bacteria_input = bacteria_data\n",
        "viral_input = viral_data\n",
        "example_labels = label.reshape(-1,1)"
      ]
    },
    {
      "cell_type": "code",
      "execution_count": 15,
      "metadata": {},
      "outputs": [],
      "source": [
        "from sklearn.model_selection import train_test_split\n",
        "\n",
        "bacteria_train, bacteria_temp, viral_train, viral_temp, labels_train, labels_temp = train_test_split(\n",
        "    bacteria_input, viral_input, example_labels, test_size=0.4, random_state=42\n",
        ")\n",
        "\n",
        "bacteria_val, bacteria_test, viral_val, viral_test, labels_val, labels_test = train_test_split(\n",
        "    bacteria_temp, viral_temp, labels_temp, test_size=0.5, random_state=42\n",
        ")\n",
        "\n",
        "# Move data to the device (e.g., GPU if available)\n",
        "bacteria_train, viral_train, labels_train = bacteria_train.to(device), viral_train.to(device), labels_train.to(device)\n",
        "bacteria_val, viral_val, labels_val = bacteria_val.to(device), viral_val.to(device), labels_val.to(device)\n",
        "bacteria_test, viral_test, labels_test = bacteria_test.to(device), viral_test.to(device), labels_test.to(device)\n"
      ]
    },
    {
      "cell_type": "code",
      "execution_count": 16,
      "metadata": {},
      "outputs": [
        {
          "data": {
            "image/png": "[encoded data removed]",
            "text/plain": [
              "<Figure size 1000x800 with 1 Axes>"
            ]
          },
          "metadata": {},
          "output_type": "display_data"
        }
      ],
      "source": [
        "sum_embeddings = bacteria_input.sum(dim =1) + viral_input.sum(dim =1)\n",
        "pca = PCA(n_components=2)  # Reduce to 2 dimensions\n",
        "data_pca = pca.fit_transform(sum_embeddings)\n",
        "\n",
        "# Step 3: Visualize the results\n",
        "plt.figure(figsize=(10, 8))\n",
        "plt.scatter(data_pca[:, 0], data_pca[:, 1], alpha=0.5, c = label)\n",
        "plt.title('PCA of the Data')\n",
        "plt.xlabel('Principal Component 1')\n",
        "plt.ylabel('Principal Component 2')\n",
        "plt.grid(True)\n",
        "plt.show()"
      ]
    },
    {
      "cell_type": "code",
      "execution_count": 17,
      "metadata": {},
      "outputs": [
        {
          "ename": "NameError",
          "evalue": "name 'train_losses' is not defined",
          "output_type": "error",
          "traceback": [
            "\u001b[0;31m---------------------------------------------------------------------------\u001b[0m",
            "\u001b[0;31mNameError\u001b[0m                                 Traceback (most recent call last)",
            "Cell \u001b[0;32mIn[17], line 2\u001b[0m\n\u001b[1;32m      1\u001b[0m plt\u001b[38;5;241m.\u001b[39mfigure(figsize\u001b[38;5;241m=\u001b[39m(\u001b[38;5;241m7\u001b[39m, \u001b[38;5;241m3\u001b[39m))\n\u001b[0;32m----> 2\u001b[0m plt\u001b[38;5;241m.\u001b[39mplot(\u001b[43mtrain_losses\u001b[49m, label \u001b[38;5;241m=\u001b[39m \u001b[38;5;124m\"\u001b[39m\u001b[38;5;124mTrain Loss\u001b[39m\u001b[38;5;124m\"\u001b[39m)\n\u001b[1;32m      3\u001b[0m plt\u001b[38;5;241m.\u001b[39mplot(val_losses, label \u001b[38;5;241m=\u001b[39m \u001b[38;5;124m\"\u001b[39m\u001b[38;5;124mVal Loss\u001b[39m\u001b[38;5;124m\"\u001b[39m)\n\u001b[1;32m      4\u001b[0m plt\u001b[38;5;241m.\u001b[39mtitle(\u001b[38;5;124m'\u001b[39m\u001b[38;5;124mLoss\u001b[39m\u001b[38;5;124m'\u001b[39m)\n",
            "\u001b[0;31mNameError\u001b[0m: name 'train_losses' is not defined"
          ]
        },
        {
          "data": {
            "text/plain": [
              "<Figure size 700x300 with 0 Axes>"
            ]
          },
          "metadata": {},
          "output_type": "display_data"
        }
      ],
      "source": [
        "plt.figure(figsize=(7, 3))\n",
        "plt.plot(train_losses, label = \"Train Loss\")\n",
        "plt.plot(val_losses, label = \"Val Loss\")\n",
        "plt.title('Loss')\n",
        "plt.legend()\n",
        "plt.grid(True)\n",
        "plt.show()\n",
        "\n",
        "plt.figure(figsize=(7, 3))\n",
        "plt.plot(train_accs, label = \"Train Loss\")\n",
        "plt.plot(val_accs, label = \"Val Loss\")\n",
        "plt.title('Loss')\n",
        "plt.legend()\n",
        "plt.grid(True)\n",
        "plt.show()"
      ]
    },
    {
      "cell_type": "code",
      "execution_count": 18,
      "metadata": {
        "colab": {
          "base_uri": "https://localhost:8080/"
        },
        "id": "kigPLKbKQS6F",
        "outputId": "3555aa5d-cb67-44e3-c8b5-16de1bf3310e"
      },
      "outputs": [
        {
          "name": "stderr",
          "output_type": "stream",
          "text": [
            "  0%|          | 0/15 [00:00<?, ?it/s]"
          ]
        },
        {
          "name": "stdout",
          "output_type": "stream",
          "text": [
            "torch.Size([32, 16384])\n"
          ]
        },
        {
          "name": "stderr",
          "output_type": "stream",
          "text": [
            "  7%|▋         | 1/15 [00:01<00:14,  1.05s/it]"
          ]
        },
        {
          "name": "stdout",
          "output_type": "stream",
          "text": [
            "torch.Size([32, 16384])\n"
          ]
        },
        {
          "name": "stderr",
          "output_type": "stream",
          "text": [
            " 13%|█▎        | 2/15 [00:01<00:12,  1.08it/s]"
          ]
        },
        {
          "name": "stdout",
          "output_type": "stream",
          "text": [
            "torch.Size([32, 16384])\n"
          ]
        },
        {
          "name": "stderr",
          "output_type": "stream",
          "text": [
            " 20%|██        | 3/15 [00:02<00:10,  1.15it/s]"
          ]
        },
        {
          "name": "stdout",
          "output_type": "stream",
          "text": [
            "torch.Size([32, 16384])\n"
          ]
        },
        {
          "name": "stderr",
          "output_type": "stream",
          "text": [
            " 27%|██▋       | 4/15 [00:03<00:09,  1.18it/s]"
          ]
        },
        {
          "name": "stdout",
          "output_type": "stream",
          "text": [
            "torch.Size([32, 16384])\n"
          ]
        },
        {
          "name": "stderr",
          "output_type": "stream",
          "text": [
            " 33%|███▎      | 5/15 [00:04<00:08,  1.20it/s]"
          ]
        },
        {
          "name": "stdout",
          "output_type": "stream",
          "text": [
            "torch.Size([32, 16384])\n"
          ]
        },
        {
          "name": "stderr",
          "output_type": "stream",
          "text": [
            " 40%|████      | 6/15 [00:05<00:07,  1.22it/s]"
          ]
        },
        {
          "name": "stdout",
          "output_type": "stream",
          "text": [
            "torch.Size([32, 16384])\n"
          ]
        },
        {
          "name": "stderr",
          "output_type": "stream",
          "text": [
            " 47%|████▋     | 7/15 [00:05<00:06,  1.23it/s]"
          ]
        },
        {
          "name": "stdout",
          "output_type": "stream",
          "text": [
            "torch.Size([32, 16384])\n"
          ]
        },
        {
          "name": "stderr",
          "output_type": "stream",
          "text": [
            " 53%|█████▎    | 8/15 [00:06<00:05,  1.24it/s]"
          ]
        },
        {
          "name": "stdout",
          "output_type": "stream",
          "text": [
            "torch.Size([32, 16384])\n"
          ]
        },
        {
          "name": "stderr",
          "output_type": "stream",
          "text": [
            " 60%|██████    | 9/15 [00:07<00:04,  1.24it/s]"
          ]
        },
        {
          "name": "stdout",
          "output_type": "stream",
          "text": [
            "torch.Size([32, 16384])\n"
          ]
        },
        {
          "name": "stderr",
          "output_type": "stream",
          "text": [
            " 67%|██████▋   | 10/15 [00:08<00:04,  1.24it/s]"
          ]
        },
        {
          "name": "stdout",
          "output_type": "stream",
          "text": [
            "torch.Size([32, 16384])\n"
          ]
        },
        {
          "name": "stderr",
          "output_type": "stream",
          "text": [
            " 73%|███████▎  | 11/15 [00:09<00:03,  1.24it/s]"
          ]
        },
        {
          "name": "stdout",
          "output_type": "stream",
          "text": [
            "torch.Size([32, 16384])\n"
          ]
        },
        {
          "name": "stderr",
          "output_type": "stream",
          "text": [
            " 80%|████████  | 12/15 [00:09<00:02,  1.24it/s]"
          ]
        },
        {
          "name": "stdout",
          "output_type": "stream",
          "text": [
            "torch.Size([32, 16384])\n"
          ]
        },
        {
          "name": "stderr",
          "output_type": "stream",
          "text": [
            " 87%|████████▋ | 13/15 [00:10<00:01,  1.24it/s]"
          ]
        },
        {
          "name": "stdout",
          "output_type": "stream",
          "text": [
            "torch.Size([32, 16384])\n"
          ]
        },
        {
          "name": "stderr",
          "output_type": "stream",
          "text": [
            "100%|██████████| 15/15 [00:11<00:00,  1.28it/s]"
          ]
        },
        {
          "name": "stdout",
          "output_type": "stream",
          "text": [
            "torch.Size([5, 16384])\n",
            "torch.Size([32, 16384])\n"
          ]
        },
        {
          "name": "stderr",
          "output_type": "stream",
          "text": [
            "\n"
          ]
        },
        {
          "name": "stdout",
          "output_type": "stream",
          "text": [
            "torch.Size([32, 16384])\n",
            "torch.Size([32, 16384])\n",
            "torch.Size([32, 16384])\n",
            "torch.Size([23, 16384])\n",
            "Epoch 1/30, Train Loss: 47.4412, Train Accuracy: 0.5099, Val Loss: 52.3098, Val Accuracy: 0.4768\n"
          ]
        },
        {
          "name": "stderr",
          "output_type": "stream",
          "text": [
            "  0%|          | 0/15 [00:00<?, ?it/s]"
          ]
        },
        {
          "name": "stdout",
          "output_type": "stream",
          "text": [
            "torch.Size([32, 16384])\n"
          ]
        },
        {
          "name": "stderr",
          "output_type": "stream",
          "text": [
            "  7%|▋         | 1/15 [00:00<00:11,  1.24it/s]"
          ]
        },
        {
          "name": "stdout",
          "output_type": "stream",
          "text": [
            "torch.Size([32, 16384])\n"
          ]
        },
        {
          "name": "stderr",
          "output_type": "stream",
          "text": [
            " 13%|█▎        | 2/15 [00:01<00:10,  1.24it/s]"
          ]
        },
        {
          "name": "stdout",
          "output_type": "stream",
          "text": [
            "torch.Size([32, 16384])\n"
          ]
        },
        {
          "name": "stderr",
          "output_type": "stream",
          "text": [
            " 20%|██        | 3/15 [00:02<00:09,  1.24it/s]"
          ]
        },
        {
          "name": "stdout",
          "output_type": "stream",
          "text": [
            "torch.Size([32, 16384])\n"
          ]
        },
        {
          "name": "stderr",
          "output_type": "stream",
          "text": [
            " 27%|██▋       | 4/15 [00:03<00:08,  1.24it/s]"
          ]
        },
        {
          "name": "stdout",
          "output_type": "stream",
          "text": [
            "torch.Size([32, 16384])\n"
          ]
        },
        {
          "name": "stderr",
          "output_type": "stream",
          "text": [
            " 33%|███▎      | 5/15 [00:04<00:08,  1.24it/s]"
          ]
        },
        {
          "name": "stdout",
          "output_type": "stream",
          "text": [
            "torch.Size([32, 16384])\n"
          ]
        },
        {
          "name": "stderr",
          "output_type": "stream",
          "text": [
            " 40%|████      | 6/15 [00:04<00:07,  1.24it/s]"
          ]
        },
        {
          "name": "stdout",
          "output_type": "stream",
          "text": [
            "torch.Size([32, 16384])\n"
          ]
        },
        {
          "name": "stderr",
          "output_type": "stream",
          "text": [
            " 47%|████▋     | 7/15 [00:05<00:06,  1.24it/s]"
          ]
        },
        {
          "name": "stdout",
          "output_type": "stream",
          "text": [
            "torch.Size([32, 16384])\n"
          ]
        },
        {
          "name": "stderr",
          "output_type": "stream",
          "text": [
            " 53%|█████▎    | 8/15 [00:06<00:05,  1.24it/s]"
          ]
        },
        {
          "name": "stdout",
          "output_type": "stream",
          "text": [
            "torch.Size([32, 16384])\n"
          ]
        },
        {
          "name": "stderr",
          "output_type": "stream",
          "text": [
            " 60%|██████    | 9/15 [00:07<00:04,  1.24it/s]"
          ]
        },
        {
          "name": "stdout",
          "output_type": "stream",
          "text": [
            "torch.Size([32, 16384])\n"
          ]
        },
        {
          "name": "stderr",
          "output_type": "stream",
          "text": [
            " 67%|██████▋   | 10/15 [00:08<00:04,  1.24it/s]"
          ]
        },
        {
          "name": "stdout",
          "output_type": "stream",
          "text": [
            "torch.Size([32, 16384])\n"
          ]
        },
        {
          "name": "stderr",
          "output_type": "stream",
          "text": [
            " 73%|███████▎  | 11/15 [00:08<00:03,  1.24it/s]"
          ]
        },
        {
          "name": "stdout",
          "output_type": "stream",
          "text": [
            "torch.Size([32, 16384])\n"
          ]
        },
        {
          "name": "stderr",
          "output_type": "stream",
          "text": [
            " 80%|████████  | 12/15 [00:09<00:02,  1.24it/s]"
          ]
        },
        {
          "name": "stdout",
          "output_type": "stream",
          "text": [
            "torch.Size([32, 16384])\n"
          ]
        },
        {
          "name": "stderr",
          "output_type": "stream",
          "text": [
            " 87%|████████▋ | 13/15 [00:10<00:01,  1.24it/s]"
          ]
        },
        {
          "name": "stdout",
          "output_type": "stream",
          "text": [
            "torch.Size([32, 16384])\n"
          ]
        },
        {
          "name": "stderr",
          "output_type": "stream",
          "text": [
            " 93%|█████████▎| 14/15 [00:11<00:00,  1.24it/s]"
          ]
        },
        {
          "name": "stdout",
          "output_type": "stream",
          "text": [
            "torch.Size([5, 16384])\n"
          ]
        },
        {
          "name": "stderr",
          "output_type": "stream",
          "text": [
            "100%|██████████| 15/15 [00:11<00:00,  1.30it/s]\n"
          ]
        },
        {
          "name": "stdout",
          "output_type": "stream",
          "text": [
            "torch.Size([32, 16384])\n",
            "torch.Size([32, 16384])\n",
            "torch.Size([32, 16384])\n",
            "torch.Size([32, 16384])\n",
            "torch.Size([23, 16384])\n",
            "Epoch 2/30, Train Loss: 51.2917, Train Accuracy: 0.4923, Val Loss: 52.3098, Val Accuracy: 0.4768\n"
          ]
        },
        {
          "name": "stderr",
          "output_type": "stream",
          "text": [
            "  0%|          | 0/15 [00:00<?, ?it/s]"
          ]
        },
        {
          "name": "stdout",
          "output_type": "stream",
          "text": [
            "torch.Size([32, 16384])\n"
          ]
        },
        {
          "name": "stderr",
          "output_type": "stream",
          "text": [
            "  7%|▋         | 1/15 [00:00<00:11,  1.24it/s]"
          ]
        },
        {
          "name": "stdout",
          "output_type": "stream",
          "text": [
            "torch.Size([32, 16384])\n"
          ]
        },
        {
          "name": "stderr",
          "output_type": "stream",
          "text": [
            " 13%|█▎        | 2/15 [00:01<00:10,  1.24it/s]"
          ]
        },
        {
          "name": "stdout",
          "output_type": "stream",
          "text": [
            "torch.Size([32, 16384])\n"
          ]
        },
        {
          "name": "stderr",
          "output_type": "stream",
          "text": [
            " 20%|██        | 3/15 [00:02<00:09,  1.24it/s]"
          ]
        },
        {
          "name": "stdout",
          "output_type": "stream",
          "text": [
            "torch.Size([32, 16384])\n"
          ]
        },
        {
          "name": "stderr",
          "output_type": "stream",
          "text": [
            " 27%|██▋       | 4/15 [00:03<00:08,  1.24it/s]"
          ]
        },
        {
          "name": "stdout",
          "output_type": "stream",
          "text": [
            "torch.Size([32, 16384])\n"
          ]
        },
        {
          "name": "stderr",
          "output_type": "stream",
          "text": [
            " 33%|███▎      | 5/15 [00:04<00:08,  1.24it/s]"
          ]
        },
        {
          "name": "stdout",
          "output_type": "stream",
          "text": [
            "torch.Size([32, 16384])\n"
          ]
        },
        {
          "name": "stderr",
          "output_type": "stream",
          "text": [
            " 40%|████      | 6/15 [00:04<00:07,  1.24it/s]"
          ]
        },
        {
          "name": "stdout",
          "output_type": "stream",
          "text": [
            "torch.Size([32, 16384])\n"
          ]
        },
        {
          "name": "stderr",
          "output_type": "stream",
          "text": [
            " 47%|████▋     | 7/15 [00:05<00:06,  1.24it/s]"
          ]
        },
        {
          "name": "stdout",
          "output_type": "stream",
          "text": [
            "torch.Size([32, 16384])\n"
          ]
        },
        {
          "name": "stderr",
          "output_type": "stream",
          "text": [
            " 47%|████▋     | 7/15 [00:06<00:07,  1.08it/s]\n"
          ]
        },
        {
          "ename": "KeyboardInterrupt",
          "evalue": "",
          "output_type": "error",
          "traceback": [
            "\u001b[0;31m---------------------------------------------------------------------------\u001b[0m",
            "\u001b[0;31mKeyboardInterrupt\u001b[0m                         Traceback (most recent call last)",
            "Cell \u001b[0;32mIn[18], line 48\u001b[0m\n\u001b[1;32m     45\u001b[0m optimizer\u001b[38;5;241m.\u001b[39mstep()\n\u001b[1;32m     47\u001b[0m \u001b[38;5;66;03m# Accumulate loss\u001b[39;00m\n\u001b[0;32m---> 48\u001b[0m train_loss \u001b[38;5;241m+\u001b[39m\u001b[38;5;241m=\u001b[39m \u001b[43mloss\u001b[49m\u001b[38;5;241;43m.\u001b[39;49m\u001b[43mitem\u001b[49m\u001b[43m(\u001b[49m\u001b[43m)\u001b[49m\n\u001b[1;32m     50\u001b[0m \u001b[38;5;66;03m# Calculate accuracy\u001b[39;00m\n\u001b[1;32m     51\u001b[0m predicted_train \u001b[38;5;241m=\u001b[39m (outputs\u001b[38;5;241m.\u001b[39msqueeze() \u001b[38;5;241m>\u001b[39m \u001b[38;5;241m0.5\u001b[39m)\u001b[38;5;241m.\u001b[39mfloat() \n",
            "\u001b[0;31mKeyboardInterrupt\u001b[0m: "
          ]
        }
      ],
      "source": [
        "bacteria_nn = BacteriaNN(embedding_dim = embedding_dim, kernel_size = kernel_size, padding = padding, stride = stride, avg_poolsize = avg_poolsize, resblock_num = resblock_num, embedding_reduction_factor = embedding_reduction_factor, output_dim = output_dim)\n",
        "viral_nn = ViralNN(embedding_dim = embedding_dim, length=viral_max_seq_len, output_dim=output_dim, hidden_dims=hidden_dims, dropout_rate = dropout_rate)\n",
        "\n",
        "# Create an instance of PhINN\n",
        "phinn_model = PhINN(bacteria_nn, viral_nn, output_dim=output_dim, skip_connection = True).to(device)\n",
        "\n",
        "criterion = nn.BCELoss()\n",
        "optimizer = optim.Adam(phinn_model.parameters(), lr=0.0001)\n",
        "\n",
        "num_epochs = 30\n",
        "batch_size = 32\n",
        "train_size = len(bacteria_train)\n",
        "val_size = len(bacteria_val)\n",
        "test_size = len(bacteria_test)\n",
        "data_size = len(bacteria_input)\n",
        "train_accs = []\n",
        "val_accs = []\n",
        "train_losses = []\n",
        "val_losses = []\n",
        "for epoch in range(num_epochs):\n",
        "    # Training phase\n",
        "    phinn_model.train()\n",
        "    train_loss = 0.0\n",
        "    correct_train = 0\n",
        "    total_train = 0\n",
        "    num_train_batches = (train_size + batch_size - 1) // batch_size\n",
        "\n",
        "    for i in tqdm(range(0, train_size, batch_size)):\n",
        "        # Get training batch\n",
        "        bacteria_batch = bacteria_train[i:i+batch_size]\n",
        "        viral_batch = viral_train[i:i+batch_size]\n",
        "        labels_batch = labels_train[i:i+batch_size]\n",
        "\n",
        "        # Zero the gradients\n",
        "        optimizer.zero_grad()\n",
        "\n",
        "        # Forward pass\n",
        "        outputs = phinn_model(bacteria_batch, viral_batch)\n",
        "\n",
        "        # Compute the loss\n",
        "        loss = criterion(outputs, labels_batch)\n",
        "\n",
        "        # Backward pass and optimization\n",
        "        loss.backward()\n",
        "        optimizer.step()\n",
        "\n",
        "        # Accumulate loss\n",
        "        train_loss += loss.item()\n",
        "\n",
        "        # Calculate accuracy\n",
        "        predicted_train = (outputs.squeeze() > 0.5).float() \n",
        "        # print(predicted_train.shape,labels_batch.shape)\n",
        "        # print((predicted_train == labels_batch.squeeze()).sum().item())\n",
        "\n",
        "        correct_train += (predicted_train == labels_batch.squeeze()).sum().item()\n",
        "        total_train += labels_batch.size(0)\n",
        "\n",
        "    # Calculate average training loss and accuracy for the epoch\n",
        "    avg_train_loss = train_loss / num_train_batches\n",
        "    train_accuracy = correct_train / total_train\n",
        "    train_accs.append(train_accuracy)\n",
        "    train_losses.append(avg_train_loss)\n",
        "\n",
        "    # Validation phase (evaluation on validation set)\n",
        "    phinn_model.eval()\n",
        "    val_loss = 0.0\n",
        "    correct_val = 0\n",
        "    total_val = 0\n",
        "    num_val_batches = (val_size + batch_size - 1) // batch_size\n",
        "\n",
        "    with torch.no_grad():\n",
        "        for i in range(0, val_size, batch_size):\n",
        "            # Get validation batch\n",
        "            bacteria_batch = bacteria_val[i:i+batch_size]\n",
        "            viral_batch = viral_val[i:i+batch_size]\n",
        "            labels_batch = labels_val[i:i+batch_size]\n",
        "\n",
        "            # Forward pass\n",
        "            outputs = phinn_model(bacteria_batch, viral_batch)\n",
        "\n",
        "            # Compute the loss\n",
        "            loss = criterion(outputs, labels_batch)\n",
        "\n",
        "            # Accumulate loss\n",
        "            val_loss += loss.item()\n",
        "\n",
        "            # Calculate accuracy\n",
        "            predicted_val = (outputs.squeeze() > 0.5).float()  # Threshold at 0.5\n",
        "            correct_val += (predicted_val == labels_batch.squeeze()).sum().item()\n",
        "            total_val += labels_batch.size(0)\n",
        "\n",
        "    # Calculate average validation loss and accuracy for the epoch\n",
        "    avg_val_loss = val_loss / num_val_batches\n",
        "    val_accuracy = correct_val / total_val\n",
        "    val_accs.append(val_accuracy)\n",
        "    val_losses.append(avg_val_loss)\n",
        "\n",
        "    # Print the average loss and accuracy for training and validation set\n",
        "    print(f\"Epoch {epoch+1}/{num_epochs}, \"\n",
        "          f\"Train Loss: {avg_train_loss:.4f}, Train Accuracy: {train_accuracy:.4f}, \"\n",
        "          f\"Val Loss: {avg_val_loss:.4f}, Val Accuracy: {val_accuracy:.4f}\")\n",
        "\n",
        "# After training, you can later evaluate the model on the test set:\n",
        "phinn_model.eval()\n",
        "test_loss = 0.0\n",
        "correct_test = 0\n",
        "total_test = 0\n",
        "\n",
        "with torch.no_grad():\n",
        "    for i in range(0, test_size, batch_size):\n",
        "        # Get test batch\n",
        "        bacteria_batch = bacteria_test[i:i+batch_size]\n",
        "        viral_batch = viral_test[i:i+batch_size]\n",
        "        labels_batch = labels_test[i:i+batch_size]\n",
        "\n",
        "        # Forward pass\n",
        "        outputs = phinn_model(bacteria_batch, viral_batch)\n",
        "        # Compute the loss\n",
        "        loss = criterion(outputs, labels_batch)\n",
        "\n",
        "        # Accumulate loss\n",
        "        test_loss += loss.item()\n",
        "\n",
        "        # Calculate accuracy\n",
        "        predicted_test = (outputs.squeeze() > 0.5).float()\n",
        "        correct_test += (predicted_test == labels_batch.squeeze()).sum().item()\n",
        "        total_test += labels_batch.size(0)\n",
        "\n",
        "# Calculate final test loss and accuracy\n",
        "avg_test_loss = test_loss / (test_size // batch_size)\n",
        "test_accuracy = correct_test / total_test\n",
        "\n",
        "# Print the test loss and accuracy\n",
        "print(f\"Final Test Loss: {avg_test_loss:.4f}, Test Accuracy: {test_accuracy:.4f}\")"
      ]
    },
    {
      "cell_type": "code",
      "execution_count": null,
      "metadata": {},
      "outputs": [],
      "source": []
    },
    {
      "cell_type": "code",
      "execution_count": null,
      "metadata": {},
      "outputs": [],
      "source": []
    }
  ],
  "metadata": {
    "accelerator": "TPU",
    "colab": {
      "gpuType": "V28",
      "provenance": [],
      "toc_visible": true
    },
    "kernelspec": {
      "display_name": "pytorch",
      "language": "python",
      "name": "python3"
    },
    "language_info": {
      "codemirror_mode": {
        "name": "ipython",
        "version": 3
      },
      "file_extension": ".py",
      "mimetype": "text/x-python",
      "name": "python",
      "nbconvert_exporter": "python",
      "pygments_lexer": "ipython3",
      "version": "3.11.10"
    }
  },
  "nbformat": 4,
  "nbformat_minor": 0
}
