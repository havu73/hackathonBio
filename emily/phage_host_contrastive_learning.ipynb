{
 "cells": [
  {
   "cell_type": "code",
   "execution_count": 1,
   "metadata": {},
   "outputs": [],
   "source": [
    "import numpy as np\n",
    "import pandas as pd\n",
    "import torch\n",
    "import torch.nn as nn\n",
    "import torch.nn.functional as F\n",
    "import tqdm\n",
    "from sklearn.model_selection import train_test_split\n",
    "from torch.utils.data import Dataset, DataLoader\n",
    "import matplotlib.pyplot as plt"
   ]
  },
  {
   "cell_type": "markdown",
   "metadata": {},
   "source": [
    "# Get random phage/host embeddings and interactions\n",
    "Considering L_phage and L_host as 1"
   ]
  },
  {
   "cell_type": "code",
   "execution_count": 2,
   "metadata": {},
   "outputs": [],
   "source": [
    "# need to get a lower number of samples to train locally\n",
    "\n",
    "def get_random_embeddings_and_metadata(n_host=2800, n_phage=30000, host_dim=10, embedding_dim=4096):\n",
    "    phage_ids = ['P' + str(i) for i in range(n_phage)]\n",
    "    phage_embeddings = np.random.randn(n_phage, 1, embedding_dim).astype(np.float32)\n",
    "    \n",
    "    host_ids = ['H' + str(i) for i in range(n_host)]\n",
    "    host_embeddings = np.random.randn(n_host, host_dim, embedding_dim).astype(np.float32)\n",
    "    \n",
    "    positive_pairs = []\n",
    "    negative_pairs = []\n",
    "    \n",
    "    with tqdm.tqdm(total=len(phage_ids), desc=\"Pos/Neg Pairs\") as pbar:\n",
    "        for i in range(len(phage_ids)):\n",
    "            pos_rand = np.random.randint(1, 6)\n",
    "            neg_rand = np.random.randint(5, 11)\n",
    "\n",
    "            random_hosts = np.random.choice(host_ids, pos_rand+neg_rand, replace=False)\n",
    "\n",
    "            for j in range(pos_rand):\n",
    "                positive_pairs.append((phage_ids[i], random_hosts[j]))\n",
    "            for j in range(neg_rand):\n",
    "                negative_pairs.append((phage_ids[i], random_hosts[j+pos_rand]))\n",
    "            \n",
    "            pbar.update(1)\n",
    "            \n",
    "    return [phage_ids, phage_embeddings, host_ids, host_embeddings, positive_pairs, negative_pairs]\n"
   ]
  },
  {
   "cell_type": "code",
   "execution_count": 3,
   "metadata": {},
   "outputs": [
    {
     "name": "stderr",
     "output_type": "stream",
     "text": [
      "Pos/Neg Pairs: 100% 3000/3000 [00:00<00:00, 13432.60it/s]\n"
     ]
    }
   ],
   "source": [
    "phage_ids, phage_embeddings, host_ids, host_embeddings, positive_pairs, negative_pairs = get_random_embeddings_and_metadata(n_host=280, n_phage=3000)"
   ]
  },
  {
   "cell_type": "code",
   "execution_count": 4,
   "metadata": {},
   "outputs": [
    {
     "name": "stdout",
     "output_type": "stream",
     "text": [
      "3000\n",
      "(3000, 1, 4096)\n",
      "280\n",
      "(280, 10, 4096)\n",
      "8994\n",
      "22577\n"
     ]
    }
   ],
   "source": [
    "print(len(phage_ids))\n",
    "print(phage_embeddings.shape)\n",
    "print(len(host_ids))\n",
    "print(host_embeddings.shape)\n",
    "print(len(positive_pairs))\n",
    "print(len(negative_pairs))"
   ]
  },
  {
   "cell_type": "code",
   "execution_count": 5,
   "metadata": {},
   "outputs": [
    {
     "name": "stdout",
     "output_type": "stream",
     "text": [
      "3000\n",
      "280\n"
     ]
    }
   ],
   "source": [
    "phage_embed_dict = {}\n",
    "for i in range(len(phage_ids)):\n",
    "    phage_embed_dict[phage_ids[i]] = phage_embeddings[i]\n",
    "print(len(phage_embed_dict)) \n",
    "\n",
    "bact_embed_dict = {}\n",
    "for i in range(len(host_ids)):\n",
    "    bact_embed_dict[host_ids[i]] = host_embeddings[i]\n",
    "print(len(bact_embed_dict))"
   ]
  },
  {
   "cell_type": "code",
   "execution_count": 6,
   "metadata": {},
   "outputs": [
    {
     "name": "stdout",
     "output_type": "stream",
     "text": [
      "set()\n"
     ]
    }
   ],
   "source": [
    "print(set(positive_pairs).intersection(set(negative_pairs)))"
   ]
  },
  {
   "cell_type": "code",
   "execution_count": 7,
   "metadata": {},
   "outputs": [
    {
     "name": "stdout",
     "output_type": "stream",
     "text": [
      "3000\n",
      "280\n",
      "3000\n",
      "280\n"
     ]
    }
   ],
   "source": [
    "print(len(set([x[0] for x in positive_pairs])))\n",
    "print(len(set([x[1] for x in positive_pairs])))\n",
    "print(len(set([x[0] for x in negative_pairs])))\n",
    "print(len(set([x[1] for x in negative_pairs])))"
   ]
  },
  {
   "cell_type": "code",
   "execution_count": 8,
   "metadata": {},
   "outputs": [
    {
     "data": {
      "text/html": [
       "<div>\n",
       "<style scoped>\n",
       "    .dataframe tbody tr th:only-of-type {\n",
       "        vertical-align: middle;\n",
       "    }\n",
       "\n",
       "    .dataframe tbody tr th {\n",
       "        vertical-align: top;\n",
       "    }\n",
       "\n",
       "    .dataframe thead th {\n",
       "        text-align: right;\n",
       "    }\n",
       "</style>\n",
       "<table border=\"1\" class=\"dataframe\">\n",
       "  <thead>\n",
       "    <tr style=\"text-align: right;\">\n",
       "      <th></th>\n",
       "      <th>PhageID</th>\n",
       "      <th>HostID</th>\n",
       "    </tr>\n",
       "  </thead>\n",
       "  <tbody>\n",
       "    <tr>\n",
       "      <th>0</th>\n",
       "      <td>P0</td>\n",
       "      <td>H147</td>\n",
       "    </tr>\n",
       "    <tr>\n",
       "      <th>1</th>\n",
       "      <td>P1</td>\n",
       "      <td>H85</td>\n",
       "    </tr>\n",
       "    <tr>\n",
       "      <th>2</th>\n",
       "      <td>P2</td>\n",
       "      <td>H248</td>\n",
       "    </tr>\n",
       "    <tr>\n",
       "      <th>3</th>\n",
       "      <td>P2</td>\n",
       "      <td>H136</td>\n",
       "    </tr>\n",
       "    <tr>\n",
       "      <th>4</th>\n",
       "      <td>P3</td>\n",
       "      <td>H154</td>\n",
       "    </tr>\n",
       "    <tr>\n",
       "      <th>...</th>\n",
       "      <td>...</td>\n",
       "      <td>...</td>\n",
       "    </tr>\n",
       "    <tr>\n",
       "      <th>8989</th>\n",
       "      <td>P2998</td>\n",
       "      <td>H222</td>\n",
       "    </tr>\n",
       "    <tr>\n",
       "      <th>8990</th>\n",
       "      <td>P2999</td>\n",
       "      <td>H113</td>\n",
       "    </tr>\n",
       "    <tr>\n",
       "      <th>8991</th>\n",
       "      <td>P2999</td>\n",
       "      <td>H157</td>\n",
       "    </tr>\n",
       "    <tr>\n",
       "      <th>8992</th>\n",
       "      <td>P2999</td>\n",
       "      <td>H222</td>\n",
       "    </tr>\n",
       "    <tr>\n",
       "      <th>8993</th>\n",
       "      <td>P2999</td>\n",
       "      <td>H55</td>\n",
       "    </tr>\n",
       "  </tbody>\n",
       "</table>\n",
       "<p>8994 rows × 2 columns</p>\n",
       "</div>"
      ],
      "text/plain": [
       "     PhageID HostID\n",
       "0         P0   H147\n",
       "1         P1    H85\n",
       "2         P2   H248\n",
       "3         P2   H136\n",
       "4         P3   H154\n",
       "...      ...    ...\n",
       "8989   P2998   H222\n",
       "8990   P2999   H113\n",
       "8991   P2999   H157\n",
       "8992   P2999   H222\n",
       "8993   P2999    H55\n",
       "\n",
       "[8994 rows x 2 columns]"
      ]
     },
     "execution_count": 8,
     "metadata": {},
     "output_type": "execute_result"
    }
   ],
   "source": [
    "positive_pairs_df = pd.DataFrame(positive_pairs, columns=['PhageID', 'HostID'])\n",
    "positive_pairs_df"
   ]
  },
  {
   "cell_type": "code",
   "execution_count": 9,
   "metadata": {},
   "outputs": [
    {
     "name": "stdout",
     "output_type": "stream",
     "text": [
      "(6295, 3)\n",
      "(1349, 3)\n",
      "(1350, 3)\n"
     ]
    }
   ],
   "source": [
    "pos_train, pos_temp = train_test_split(positive_pairs_df, test_size=0.3, random_state=42)\n",
    "pos_val, pos_test = train_test_split(pos_temp, test_size=0.5, random_state=42)\n",
    "pos_train['Label'] = 1\n",
    "pos_val['Label'] = 1\n",
    "pos_test['Label'] = 1\n",
    "print(pos_train.shape)\n",
    "print(pos_val.shape)\n",
    "print(pos_test.shape)"
   ]
  },
  {
   "cell_type": "code",
   "execution_count": 10,
   "metadata": {},
   "outputs": [
    {
     "data": {
      "text/html": [
       "<div>\n",
       "<style scoped>\n",
       "    .dataframe tbody tr th:only-of-type {\n",
       "        vertical-align: middle;\n",
       "    }\n",
       "\n",
       "    .dataframe tbody tr th {\n",
       "        vertical-align: top;\n",
       "    }\n",
       "\n",
       "    .dataframe thead th {\n",
       "        text-align: right;\n",
       "    }\n",
       "</style>\n",
       "<table border=\"1\" class=\"dataframe\">\n",
       "  <thead>\n",
       "    <tr style=\"text-align: right;\">\n",
       "      <th></th>\n",
       "      <th>PhageID</th>\n",
       "      <th>HostID</th>\n",
       "    </tr>\n",
       "  </thead>\n",
       "  <tbody>\n",
       "    <tr>\n",
       "      <th>0</th>\n",
       "      <td>P0</td>\n",
       "      <td>H129</td>\n",
       "    </tr>\n",
       "    <tr>\n",
       "      <th>1</th>\n",
       "      <td>P0</td>\n",
       "      <td>H135</td>\n",
       "    </tr>\n",
       "    <tr>\n",
       "      <th>2</th>\n",
       "      <td>P0</td>\n",
       "      <td>H244</td>\n",
       "    </tr>\n",
       "    <tr>\n",
       "      <th>3</th>\n",
       "      <td>P0</td>\n",
       "      <td>H120</td>\n",
       "    </tr>\n",
       "    <tr>\n",
       "      <th>4</th>\n",
       "      <td>P0</td>\n",
       "      <td>H189</td>\n",
       "    </tr>\n",
       "    <tr>\n",
       "      <th>...</th>\n",
       "      <td>...</td>\n",
       "      <td>...</td>\n",
       "    </tr>\n",
       "    <tr>\n",
       "      <th>22572</th>\n",
       "      <td>P2999</td>\n",
       "      <td>H193</td>\n",
       "    </tr>\n",
       "    <tr>\n",
       "      <th>22573</th>\n",
       "      <td>P2999</td>\n",
       "      <td>H103</td>\n",
       "    </tr>\n",
       "    <tr>\n",
       "      <th>22574</th>\n",
       "      <td>P2999</td>\n",
       "      <td>H32</td>\n",
       "    </tr>\n",
       "    <tr>\n",
       "      <th>22575</th>\n",
       "      <td>P2999</td>\n",
       "      <td>H102</td>\n",
       "    </tr>\n",
       "    <tr>\n",
       "      <th>22576</th>\n",
       "      <td>P2999</td>\n",
       "      <td>H70</td>\n",
       "    </tr>\n",
       "  </tbody>\n",
       "</table>\n",
       "<p>22577 rows × 2 columns</p>\n",
       "</div>"
      ],
      "text/plain": [
       "      PhageID HostID\n",
       "0          P0   H129\n",
       "1          P0   H135\n",
       "2          P0   H244\n",
       "3          P0   H120\n",
       "4          P0   H189\n",
       "...       ...    ...\n",
       "22572   P2999   H193\n",
       "22573   P2999   H103\n",
       "22574   P2999    H32\n",
       "22575   P2999   H102\n",
       "22576   P2999    H70\n",
       "\n",
       "[22577 rows x 2 columns]"
      ]
     },
     "execution_count": 10,
     "metadata": {},
     "output_type": "execute_result"
    }
   ],
   "source": [
    "negative_pairs_df = pd.DataFrame(negative_pairs, columns=['PhageID', 'HostID'])\n",
    "negative_pairs_df"
   ]
  },
  {
   "cell_type": "code",
   "execution_count": 11,
   "metadata": {},
   "outputs": [
    {
     "name": "stdout",
     "output_type": "stream",
     "text": [
      "(15803, 3)\n",
      "(3387, 3)\n",
      "(3387, 3)\n"
     ]
    }
   ],
   "source": [
    "neg_train, neg_temp = train_test_split(negative_pairs_df, test_size=0.3, random_state=42)\n",
    "neg_val, neg_test = train_test_split(neg_temp, test_size=0.5, random_state=42)\n",
    "neg_train['Label'] = 0\n",
    "neg_val['Label'] = 0\n",
    "neg_test['Label'] = 0\n",
    "print(neg_train.shape)\n",
    "print(neg_val.shape)\n",
    "print(neg_test.shape)"
   ]
  },
  {
   "cell_type": "code",
   "execution_count": 12,
   "metadata": {},
   "outputs": [
    {
     "name": "stdout",
     "output_type": "stream",
     "text": [
      "(22098, 3)\n",
      "(4736, 3)\n",
      "(4737, 3)\n"
     ]
    }
   ],
   "source": [
    "train_ids = pd.concat([pos_train, neg_train])\n",
    "val_ids = pd.concat([pos_val, neg_val])\n",
    "test_ids = pd.concat([pos_test, neg_test])\n",
    "print(train_ids.shape)\n",
    "print(val_ids.shape)\n",
    "print(test_ids.shape)"
   ]
  },
  {
   "cell_type": "code",
   "execution_count": 13,
   "metadata": {},
   "outputs": [
    {
     "data": {
      "text/html": [
       "<div>\n",
       "<style scoped>\n",
       "    .dataframe tbody tr th:only-of-type {\n",
       "        vertical-align: middle;\n",
       "    }\n",
       "\n",
       "    .dataframe tbody tr th {\n",
       "        vertical-align: top;\n",
       "    }\n",
       "\n",
       "    .dataframe thead th {\n",
       "        text-align: right;\n",
       "    }\n",
       "</style>\n",
       "<table border=\"1\" class=\"dataframe\">\n",
       "  <thead>\n",
       "    <tr style=\"text-align: right;\">\n",
       "      <th></th>\n",
       "      <th>PhageID</th>\n",
       "      <th>HostID</th>\n",
       "      <th>Label</th>\n",
       "    </tr>\n",
       "  </thead>\n",
       "  <tbody>\n",
       "    <tr>\n",
       "      <th>4695</th>\n",
       "      <td>P1560</td>\n",
       "      <td>H189</td>\n",
       "      <td>1</td>\n",
       "    </tr>\n",
       "    <tr>\n",
       "      <th>3413</th>\n",
       "      <td>P1146</td>\n",
       "      <td>H241</td>\n",
       "      <td>1</td>\n",
       "    </tr>\n",
       "    <tr>\n",
       "      <th>8362</th>\n",
       "      <td>P2790</td>\n",
       "      <td>H17</td>\n",
       "      <td>1</td>\n",
       "    </tr>\n",
       "    <tr>\n",
       "      <th>3590</th>\n",
       "      <td>P1202</td>\n",
       "      <td>H152</td>\n",
       "      <td>1</td>\n",
       "    </tr>\n",
       "    <tr>\n",
       "      <th>1514</th>\n",
       "      <td>P515</td>\n",
       "      <td>H9</td>\n",
       "      <td>1</td>\n",
       "    </tr>\n",
       "    <tr>\n",
       "      <th>...</th>\n",
       "      <td>...</td>\n",
       "      <td>...</td>\n",
       "      <td>...</td>\n",
       "    </tr>\n",
       "    <tr>\n",
       "      <th>11964</th>\n",
       "      <td>P1589</td>\n",
       "      <td>H275</td>\n",
       "      <td>0</td>\n",
       "    </tr>\n",
       "    <tr>\n",
       "      <th>21575</th>\n",
       "      <td>P2868</td>\n",
       "      <td>H172</td>\n",
       "      <td>0</td>\n",
       "    </tr>\n",
       "    <tr>\n",
       "      <th>5390</th>\n",
       "      <td>P718</td>\n",
       "      <td>H279</td>\n",
       "      <td>0</td>\n",
       "    </tr>\n",
       "    <tr>\n",
       "      <th>860</th>\n",
       "      <td>P112</td>\n",
       "      <td>H260</td>\n",
       "      <td>0</td>\n",
       "    </tr>\n",
       "    <tr>\n",
       "      <th>15795</th>\n",
       "      <td>P2097</td>\n",
       "      <td>H82</td>\n",
       "      <td>0</td>\n",
       "    </tr>\n",
       "  </tbody>\n",
       "</table>\n",
       "<p>22098 rows × 3 columns</p>\n",
       "</div>"
      ],
      "text/plain": [
       "      PhageID HostID  Label\n",
       "4695    P1560   H189      1\n",
       "3413    P1146   H241      1\n",
       "8362    P2790    H17      1\n",
       "3590    P1202   H152      1\n",
       "1514     P515     H9      1\n",
       "...       ...    ...    ...\n",
       "11964   P1589   H275      0\n",
       "21575   P2868   H172      0\n",
       "5390     P718   H279      0\n",
       "860      P112   H260      0\n",
       "15795   P2097    H82      0\n",
       "\n",
       "[22098 rows x 3 columns]"
      ]
     },
     "execution_count": 13,
     "metadata": {},
     "output_type": "execute_result"
    }
   ],
   "source": [
    "train_ids"
   ]
  },
  {
   "cell_type": "markdown",
   "metadata": {},
   "source": [
    "# Contrastive Learning Model"
   ]
  },
  {
   "cell_type": "code",
   "execution_count": 14,
   "metadata": {},
   "outputs": [],
   "source": [
    "# Simple one-layer linear network, symmetrical for phage and host encodings, will have to flatten input\n",
    "\n",
    "class SimpleEmbedding(nn.Module):\n",
    "    def __init__(self, input_dim=4096, hidden_dim=1024, output_dim=512):\n",
    "        super(SimpleEmbedding, self).__init__()\n",
    "        self.fc1 = nn.Linear(input_dim, hidden_dim)\n",
    "        self.fc2 = nn.Linear(hidden_dim, output_dim)\n",
    "        \n",
    "    def forward(self, x):\n",
    "        # print(torch.flatten(x, 1))\n",
    "        return self.fc2(F.relu(self.fc1(torch.flatten(x, 1))))"
   ]
  },
  {
   "cell_type": "code",
   "execution_count": 15,
   "metadata": {},
   "outputs": [],
   "source": [
    "# Euclidean distance, can also try to implement CLIP-like cosigne similarity matrix with cross-entropy loss\n",
    "\n",
    "class ContrastiveLoss(nn.Module):\n",
    "    def __init__(self, margin=1):\n",
    "        super(ContrastiveLoss, self).__init__()\n",
    "        self.margin = margin\n",
    "    \n",
    "    def forward(self, phage, bact, label):\n",
    "        p_h_distance = torch.cdist(phage, bact)\n",
    "        return 0.5*(torch.mean(label * torch.pow(p_h_distance, 2) \n",
    "                          + (1-label) * torch.pow(torch.clamp(self.margin - p_h_distance, min=0), 2)))"
   ]
  },
  {
   "cell_type": "code",
   "execution_count": 16,
   "metadata": {},
   "outputs": [],
   "source": [
    "class PhageBactPairDataset(Dataset):\n",
    "    def __init__(self, pair_df, phage_dict, bact_dict):\n",
    "        self.pairs = pair_df[['PhageID', 'HostID']]\n",
    "        self.labels = pair_df['Label'].values\n",
    "        self.phages = phage_dict\n",
    "        self.bacteria = bact_dict\n",
    "        \n",
    "    def __len__(self):\n",
    "        return len(self.labels)\n",
    "    \n",
    "    def __getitem__(self, idx):\n",
    "        pair = self.pairs.iloc[idx]\n",
    "        label = self.labels[idx]\n",
    "        # pair_phage = self.phages[np.where(self.phage_ids == pair['PhageID'].values)[0]]\n",
    "        # pair_bact = self.bacteria[np.where(self.bact_ids == pair['HostID'].values)[0]]\n",
    "        pair_phage = self.phages[pair['PhageID']]\n",
    "        pair_bact = self.bacteria[pair['HostID']]\n",
    "        \n",
    "        return [torch.tensor(pair_phage, dtype=torch.float32), torch.tensor(pair_bact, dtype=torch.float32), torch.tensor(label)]"
   ]
  },
  {
   "cell_type": "code",
   "execution_count": 17,
   "metadata": {},
   "outputs": [],
   "source": [
    "class TestDataset(Dataset):\n",
    "    def __init__(self, id_list, embed_dict):\n",
    "        self.id_list = id_list\n",
    "        self.embeddings = embed_dict\n",
    "        \n",
    "    def __len__(self):\n",
    "        return len(self.id_list)\n",
    "    \n",
    "    def __getitem__(self, idx):\n",
    "        ID = self.id_list[idx]\n",
    "        embed = self.embeddings[ID]\n",
    "        return [ID, torch.tensor(embed, dtype=torch.float32)]  "
   ]
  },
  {
   "cell_type": "code",
   "execution_count": 18,
   "metadata": {},
   "outputs": [],
   "source": [
    "def predict(loader, encoder):\n",
    "    ids = []\n",
    "    output_embeddings  = []\n",
    "    with torch.no_grad():\n",
    "        for batch in loader:\n",
    "            ids.append(batch[0])\n",
    "            output_embeddings.append(encoder(batch[1]))\n",
    "    ids = np.concatenate(ids)\n",
    "    output_embeddings = np.concatenate(output_embeddings)\n",
    "    \n",
    "    return ids, output_embeddings"
   ]
  },
  {
   "cell_type": "code",
   "execution_count": 40,
   "metadata": {},
   "outputs": [],
   "source": [
    "def get_neighbor_list(phage_ids, phage_embeddings, bact_ids, bact_embeddings):\n",
    "    sorted_neighbor_list = {}\n",
    "    \n",
    "    with torch.no_grad():\n",
    "        all_distances = []\n",
    "        for i in range(len(phage_ids)):\n",
    "            distances = []\n",
    "            for bact in bact_embeddings:\n",
    "                # distances.append(torch.sqrt(torch.sum(torch.pow(phage_embeddings[i] - bact, 2), 1)))\n",
    "                distances.append(np.linalg.norm(phage_embeddings[i] - bact))\n",
    "            all_distances.append(distances)\n",
    "    \n",
    "    all_distances = np.array(all_distances)\n",
    "    print(all_distances.shape)\n",
    "    print(np.argsort(all_distances))"
   ]
  },
  {
   "cell_type": "code",
   "execution_count": 20,
   "metadata": {},
   "outputs": [
    {
     "name": "stderr",
     "output_type": "stream",
     "text": [
      "Epoch 1: 100% 87/87 [01:34<00:00,  1.09s/it]\n",
      "Epoch 2: 100% 87/87 [01:14<00:00,  1.16it/s]\n",
      "Epoch 3: 100% 87/87 [01:09<00:00,  1.24it/s]\n",
      "Epoch 4: 100% 87/87 [00:59<00:00,  1.46it/s]\n",
      "Epoch 5: 100% 87/87 [01:02<00:00,  1.40it/s]\n",
      "Epoch 6: 100% 87/87 [01:02<00:00,  1.39it/s]\n",
      "Epoch 7: 100% 87/87 [01:03<00:00,  1.36it/s]\n",
      "Epoch 8: 100% 87/87 [01:03<00:00,  1.38it/s]\n",
      "Epoch 9: 100% 87/87 [01:35<00:00,  1.10s/it]\n",
      "Epoch 10: 100% 87/87 [01:55<00:00,  1.33s/it]\n"
     ]
    }
   ],
   "source": [
    "train_dataset = PhageBactPairDataset(pair_df=train_ids, phage_dict=phage_embed_dict, bact_dict=bact_embed_dict)\n",
    "train_loader = DataLoader(train_dataset, batch_size=256, shuffle=True)\n",
    "\n",
    "phage_size = train_dataset[0][0].size()\n",
    "bact_size = train_dataset[0][1].size()\n",
    "\n",
    "val_dataset = PhageBactPairDataset(pair_df=val_ids, phage_dict=phage_embed_dict, bact_dict=bact_embed_dict)\n",
    "val_loader = DataLoader(val_dataset, batch_size=256, shuffle=True)\n",
    "\n",
    "phage_encoder = SimpleEmbedding(input_dim=phage_size[0]*phage_size[1])\n",
    "bacteria_encoder = SimpleEmbedding(input_dim=bact_size[0]*bact_size[1])\n",
    "phage_optimizer = torch.optim.Adam(phage_encoder.parameters(), lr=0.001)\n",
    "bacteria_optimizer = torch.optim.Adam(bacteria_encoder.parameters(), lr=0.001)\n",
    "criterion = ContrastiveLoss()\n",
    "\n",
    "training_loss = []\n",
    "validation_loss = []\n",
    "for epoch in range(10):\n",
    "    with tqdm.tqdm(total=len(train_loader), desc='Epoch ' + str(epoch+1)) as pbar:\n",
    "        batch_train_loss = 0\n",
    "        count = 0\n",
    "        for batch in train_loader:\n",
    "            pbar.update(1)\n",
    "            phage_batch_embed = phage_encoder(batch[0])\n",
    "            bact_batch_embed = bacteria_encoder(batch[1])\n",
    "\n",
    "            train_loss = criterion(phage_batch_embed, bact_batch_embed, batch[2])\n",
    "            batch_train_loss += train_loss.item()\n",
    "            count += 1\n",
    "\n",
    "            phage_optimizer.zero_grad()\n",
    "            bacteria_optimizer.zero_grad()\n",
    "            train_loss.backward()\n",
    "            phage_optimizer.step()\n",
    "            bacteria_optimizer.step()\n",
    "            \n",
    "        training_loss.append(batch_train_loss/count)\n",
    "\n",
    "        with torch.no_grad():\n",
    "            batch_val_loss = 0\n",
    "            count = 0\n",
    "            for batch in val_loader:\n",
    "                phage_batch_embed_val = phage_encoder(batch[0])\n",
    "                bact_batch_embed_val = bacteria_encoder(batch[1])\n",
    "\n",
    "                val_loss = criterion(phage_batch_embed_val, bact_batch_embed_val, batch[2])\n",
    "                batch_val_loss += val_loss.item()\n",
    "                count += 1\n",
    "        \n",
    "        validation_loss.append(batch_val_loss/count)"
   ]
  },
  {
   "cell_type": "code",
   "execution_count": 27,
   "metadata": {},
   "outputs": [
    {
     "data": {
      "text/plain": [
       "[0.15315436062059903,\n",
       " 0.14482643102344714,\n",
       " 0.14795499177355514,\n",
       " 0.13905547010271171,\n",
       " 0.12482207386117232,\n",
       " 0.1159251575407229,\n",
       " 0.11110620357488331,\n",
       " 0.10605878892697786,\n",
       " 0.10393708709039186,\n",
       " 0.10280215465708782]"
      ]
     },
     "execution_count": 27,
     "metadata": {},
     "output_type": "execute_result"
    }
   ],
   "source": [
    "validation_loss"
   ]
  },
  {
   "cell_type": "code",
   "execution_count": 21,
   "metadata": {},
   "outputs": [
    {
     "data": {
      "image/png": "[encoded data removed]",
      "text/plain": [
       "<Figure size 640x480 with 1 Axes>"
      ]
     },
     "metadata": {},
     "output_type": "display_data"
    }
   ],
   "source": [
    "plt.plot(np.arange(10), training_loss, label='Train', marker='.')\n",
    "plt.plot(np.arange(10), validation_loss, label='Validation', marker='.')\n",
    "plt.show()"
   ]
  },
  {
   "cell_type": "code",
   "execution_count": 22,
   "metadata": {},
   "outputs": [
    {
     "name": "stdout",
     "output_type": "stream",
     "text": [
      "(2427,)\n",
      "(2427, 512)\n",
      "(280,)\n",
      "(280, 512)\n"
     ]
    }
   ],
   "source": [
    "unique_test_phages = test_ids['PhageID'].unique()\n",
    "unique_test_bacteria = test_ids['HostID'].unique()\n",
    "\n",
    "test_phage_dataset = TestDataset(unique_test_phages, phage_embed_dict)\n",
    "test_bact_dataset = TestDataset(unique_test_bacteria, bact_embed_dict)\n",
    "phage_loader = DataLoader(test_phage_dataset, batch_size=int(len(test_phage_dataset)/2))\n",
    "bact_loader = DataLoader(test_bact_dataset, batch_size=int(len(test_bact_dataset)/2))\n",
    "\n",
    "phage_ids, output_phage_embeddings = predict(phage_loader, phage_encoder)\n",
    "print(phage_ids.shape)\n",
    "print(output_phage_embeddings.shape)\n",
    "\n",
    "bact_ids, output_bact_embeddings = predict(bact_loader, bacteria_encoder)\n",
    "print(bact_ids.shape)\n",
    "print(output_bact_embeddings.shape)"
   ]
  },
  {
   "cell_type": "code",
   "execution_count": 31,
   "metadata": {},
   "outputs": [
    {
     "data": {
      "text/plain": [
       "array([[ 0.05159364,  0.01838498, -0.00373273, ..., -0.02024688,\n",
       "         0.03140847, -0.01486102],\n",
       "       [ 0.00921706, -0.00703142, -0.0433768 , ..., -0.01726251,\n",
       "         0.00052048, -0.01965614],\n",
       "       [ 0.02849849,  0.02578037, -0.00652847, ...,  0.00735323,\n",
       "         0.01421917, -0.02216879],\n",
       "       ...,\n",
       "       [-0.02107823, -0.00793231,  0.03314677, ...,  0.01797125,\n",
       "         0.01264664, -0.02616333],\n",
       "       [ 0.01236111,  0.04548113,  0.01345567, ...,  0.05053048,\n",
       "         0.02970124,  0.00577218],\n",
       "       [ 0.03981574, -0.00798862,  0.00076907, ...,  0.02811551,\n",
       "         0.01686788, -0.02740285]], dtype=float32)"
      ]
     },
     "execution_count": 31,
     "metadata": {},
     "output_type": "execute_result"
    }
   ],
   "source": [
    "output_phage_embeddings"
   ]
  },
  {
   "cell_type": "code",
   "execution_count": 33,
   "metadata": {},
   "outputs": [
    {
     "data": {
      "text/plain": [
       "array([[ 0.00313226, -0.02733641,  0.02353398, ..., -0.02207059,\n",
       "        -0.03339071,  0.0185273 ],\n",
       "       [ 0.00313226, -0.02733641,  0.02353398, ..., -0.02207059,\n",
       "        -0.03339071,  0.0185273 ],\n",
       "       [ 0.00313226, -0.02733641,  0.02353398, ..., -0.02207059,\n",
       "        -0.03339071,  0.0185273 ],\n",
       "       ...,\n",
       "       [ 0.00313226, -0.02733641,  0.02353398, ..., -0.02207059,\n",
       "        -0.03339071,  0.0185273 ],\n",
       "       [ 0.00313226, -0.02733641,  0.02353398, ..., -0.02207059,\n",
       "        -0.03339071,  0.0185273 ],\n",
       "       [ 0.00313226, -0.02733641,  0.02353398, ..., -0.02207059,\n",
       "        -0.03339071,  0.0185273 ]], dtype=float32)"
      ]
     },
     "execution_count": 33,
     "metadata": {},
     "output_type": "execute_result"
    }
   ],
   "source": [
    "output_bact_embeddings"
   ]
  },
  {
   "cell_type": "code",
   "execution_count": 41,
   "metadata": {},
   "outputs": [
    {
     "name": "stdout",
     "output_type": "stream",
     "text": [
      "(2427, 280)\n",
      "[[  0 177 178 ...  89  95 279]\n",
      " [  0 177 178 ...  89  95 279]\n",
      " [  0 177 178 ...  89  95 279]\n",
      " ...\n",
      " [  0 177 178 ...  89  95 279]\n",
      " [  0 177 178 ...  89  95 279]\n",
      " [  0 177 178 ...  89  95 279]]\n"
     ]
    }
   ],
   "source": [
    "get_neighbor_list(phage_ids, output_phage_embeddings, bact_ids, output_bact_embeddings)"
   ]
  }
 ],
 "metadata": {
  "kernelspec": {
   "display_name": "EM_PYTORCH",
   "language": "python",
   "name": "pytorch"
  },
  "language_info": {
   "codemirror_mode": {
    "name": "ipython",
    "version": 3
   },
   "file_extension": ".py",
   "mimetype": "text/x-python",
   "name": "python",
   "nbconvert_exporter": "python",
   "pygments_lexer": "ipython3",
   "version": "3.9.18"
  }
 },
 "nbformat": 4,
 "nbformat_minor": 4
}
