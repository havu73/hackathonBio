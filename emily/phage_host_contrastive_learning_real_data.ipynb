{
 "cells": [
  {
   "cell_type": "code",
   "execution_count": 1,
   "metadata": {},
   "outputs": [],
   "source": [
    "import numpy as np\n",
    "import pandas as pd\n",
    "import torch\n",
    "import torch.nn as nn\n",
    "import torch.nn.functional as F\n",
    "import tqdm\n",
    "from sklearn.model_selection import train_test_split\n",
    "from torch.utils.data import Dataset, DataLoader\n",
    "import matplotlib.pyplot as plt\n",
    "import time\n",
    "import os\n",
    "import seaborn as sns\n",
    "from sklearn.decomposition import PCA\n",
    "from sklearn.preprocessing import StandardScaler\n",
    "import umap"
   ]
  },
  {
   "cell_type": "code",
   "execution_count": 2,
   "metadata": {},
   "outputs": [
    {
     "name": "stdout",
     "output_type": "stream",
     "text": [
      "cuda:3\n"
     ]
    }
   ],
   "source": [
    "device = torch.device('cuda:3')\n",
    "print(device)"
   ]
  },
  {
   "cell_type": "code",
   "execution_count": 205,
   "metadata": {},
   "outputs": [],
   "source": [
    "x = torch.randn(5, 3)\n",
    "x = x.to(device)\n",
    "\n",
    "for i in range(10):\n",
    "    y = x**2\n",
    "    time.sleep(1)"
   ]
  },
  {
   "cell_type": "code",
   "execution_count": 3,
   "metadata": {},
   "outputs": [
    {
     "data": {
      "text/html": [
       "<div>\n",
       "<style scoped>\n",
       "    .dataframe tbody tr th:only-of-type {\n",
       "        vertical-align: middle;\n",
       "    }\n",
       "\n",
       "    .dataframe tbody tr th {\n",
       "        vertical-align: top;\n",
       "    }\n",
       "\n",
       "    .dataframe thead th {\n",
       "        text-align: right;\n",
       "    }\n",
       "</style>\n",
       "<table border=\"1\" class=\"dataframe\">\n",
       "  <thead>\n",
       "    <tr style=\"text-align: right;\">\n",
       "      <th></th>\n",
       "      <th>bacterial_host</th>\n",
       "      <th>phage</th>\n",
       "      <th>bacterial_id</th>\n",
       "      <th>phage_id</th>\n",
       "    </tr>\n",
       "  </thead>\n",
       "  <tbody>\n",
       "    <tr>\n",
       "      <th>0</th>\n",
       "      <td>10N.261.51.C9</td>\n",
       "      <td>1.011.O.</td>\n",
       "      <td>GCA_002876255.1</td>\n",
       "      <td>GCA_003926235.1</td>\n",
       "    </tr>\n",
       "    <tr>\n",
       "      <th>1</th>\n",
       "      <td>10N.222.52.A7</td>\n",
       "      <td>1.011.O.</td>\n",
       "      <td>GCA_002876565.1</td>\n",
       "      <td>GCA_003926235.1</td>\n",
       "    </tr>\n",
       "    <tr>\n",
       "      <th>2</th>\n",
       "      <td>10N.261.51.B8</td>\n",
       "      <td>1.011.O.</td>\n",
       "      <td>GCA_002876225.1</td>\n",
       "      <td>GCA_003926235.1</td>\n",
       "    </tr>\n",
       "    <tr>\n",
       "      <th>3</th>\n",
       "      <td>10N.261.52.C7</td>\n",
       "      <td>1.011.O.</td>\n",
       "      <td>GCA_002876415.1</td>\n",
       "      <td>GCA_003926235.1</td>\n",
       "    </tr>\n",
       "    <tr>\n",
       "      <th>4</th>\n",
       "      <td>10N.261.55.E8</td>\n",
       "      <td>1.011.O.</td>\n",
       "      <td>GCA_002877535.1</td>\n",
       "      <td>GCA_003926235.1</td>\n",
       "    </tr>\n",
       "    <tr>\n",
       "      <th>...</th>\n",
       "      <td>...</td>\n",
       "      <td>...</td>\n",
       "      <td>...</td>\n",
       "      <td>...</td>\n",
       "    </tr>\n",
       "    <tr>\n",
       "      <th>1371</th>\n",
       "      <td>10N.286.52.F9</td>\n",
       "      <td>1.266.O.</td>\n",
       "      <td>GCA_002873715.1</td>\n",
       "      <td>GCA_003930675.1</td>\n",
       "    </tr>\n",
       "    <tr>\n",
       "      <th>1372</th>\n",
       "      <td>10N.286.54.F2</td>\n",
       "      <td>1.197.A.</td>\n",
       "      <td>GCA_002874845.1</td>\n",
       "      <td>GCA_003929395.1</td>\n",
       "    </tr>\n",
       "    <tr>\n",
       "      <th>1373</th>\n",
       "      <td>10N.286.55.C10</td>\n",
       "      <td>1.199.A.</td>\n",
       "      <td>GCA_002874035.1</td>\n",
       "      <td>GCA_003929455.1</td>\n",
       "    </tr>\n",
       "    <tr>\n",
       "      <th>1374</th>\n",
       "      <td>10N.286.55.C4</td>\n",
       "      <td>1.286.O.</td>\n",
       "      <td>GCA_002872705.1</td>\n",
       "      <td>GCA_003931175.1</td>\n",
       "    </tr>\n",
       "    <tr>\n",
       "      <th>1375</th>\n",
       "      <td>10N.286.55.F1</td>\n",
       "      <td>1.201.B.</td>\n",
       "      <td>GCA_002872635.1</td>\n",
       "      <td>GCA_003929515.1</td>\n",
       "    </tr>\n",
       "  </tbody>\n",
       "</table>\n",
       "<p>1376 rows × 4 columns</p>\n",
       "</div>"
      ],
      "text/plain": [
       "      bacterial_host     phage     bacterial_id         phage_id\n",
       "0      10N.261.51.C9  1.011.O.  GCA_002876255.1  GCA_003926235.1\n",
       "1      10N.222.52.A7  1.011.O.  GCA_002876565.1  GCA_003926235.1\n",
       "2      10N.261.51.B8  1.011.O.  GCA_002876225.1  GCA_003926235.1\n",
       "3      10N.261.52.C7  1.011.O.  GCA_002876415.1  GCA_003926235.1\n",
       "4      10N.261.55.E8  1.011.O.  GCA_002877535.1  GCA_003926235.1\n",
       "...              ...       ...              ...              ...\n",
       "1371   10N.286.52.F9  1.266.O.  GCA_002873715.1  GCA_003930675.1\n",
       "1372   10N.286.54.F2  1.197.A.  GCA_002874845.1  GCA_003929395.1\n",
       "1373  10N.286.55.C10  1.199.A.  GCA_002874035.1  GCA_003929455.1\n",
       "1374   10N.286.55.C4  1.286.O.  GCA_002872705.1  GCA_003931175.1\n",
       "1375   10N.286.55.F1  1.201.B.  GCA_002872635.1  GCA_003929515.1\n",
       "\n",
       "[1376 rows x 4 columns]"
      ]
     },
     "execution_count": 3,
     "metadata": {},
     "output_type": "execute_result"
    }
   ],
   "source": [
    "embedding_dir = '~/vibrio_embeddings/'\n",
    "positive_pairs = pd.read_table(embedding_dir + 'pairs_positive.txt')\n",
    "positive_pairs"
   ]
  },
  {
   "cell_type": "code",
   "execution_count": 4,
   "metadata": {},
   "outputs": [
    {
     "name": "stdout",
     "output_type": "stream",
     "text": [
      "torch.Size([1, 4096])\n",
      "torch.Size([1, 4096])\n",
      "torch.Size([12, 4096])\n",
      "torch.Size([8, 4096])\n",
      "torch.Size([7, 4096])\n",
      "torch.Size([26, 4096])\n",
      "torch.Size([1, 4096])\n",
      "torch.Size([13, 4096])\n",
      "torch.Size([1, 4096])\n",
      "torch.Size([1, 4096])\n",
      "torch.Size([67, 4096])\n",
      "torch.Size([1, 4096])\n",
      "torch.Size([9, 4096])\n",
      "torch.Size([8, 4096])\n",
      "torch.Size([5, 4096])\n",
      "torch.Size([2, 4096])\n",
      "torch.Size([1, 4096])\n",
      "torch.Size([4, 4096])\n",
      "torch.Size([2, 4096])\n",
      "torch.Size([4, 4096])\n",
      "torch.Size([26, 4096])\n",
      "torch.Size([4, 4096])\n",
      "torch.Size([12, 4096])\n",
      "torch.Size([11, 4096])\n",
      "Not found: GCA_020806385.1\n",
      "torch.Size([6, 4096])\n",
      "torch.Size([3, 4096])\n",
      "torch.Size([1, 4096])\n",
      "torch.Size([2, 4096])\n",
      "torch.Size([5, 4096])\n",
      "torch.Size([1, 4096])\n",
      "torch.Size([1, 4096])\n",
      "torch.Size([2, 4096])\n",
      "torch.Size([1, 4096])\n",
      "torch.Size([1, 4096])\n",
      "torch.Size([1, 4096])\n",
      "torch.Size([1, 4096])\n",
      "torch.Size([4, 4096])\n",
      "torch.Size([1, 4096])\n",
      "torch.Size([4, 4096])\n",
      "torch.Size([1, 4096])\n",
      "torch.Size([2, 4096])\n",
      "torch.Size([12, 4096])\n",
      "torch.Size([6, 4096])\n",
      "torch.Size([8, 4096])\n",
      "torch.Size([5, 4096])\n",
      "torch.Size([1, 4096])\n",
      "torch.Size([2, 4096])\n",
      "torch.Size([2, 4096])\n",
      "torch.Size([25, 4096])\n",
      "torch.Size([1, 4096])\n",
      "torch.Size([10, 4096])\n",
      "torch.Size([17, 4096])\n",
      "torch.Size([27, 4096])\n",
      "torch.Size([6, 4096])\n",
      "torch.Size([14, 4096])\n",
      "torch.Size([9, 4096])\n",
      "torch.Size([2, 4096])\n",
      "torch.Size([1, 4096])\n",
      "torch.Size([2, 4096])\n",
      "torch.Size([1, 4096])\n",
      "torch.Size([1, 4096])\n",
      "torch.Size([1, 4096])\n",
      "torch.Size([2, 4096])\n",
      "torch.Size([5, 4096])\n",
      "torch.Size([1, 4096])\n",
      "torch.Size([3, 4096])\n",
      "torch.Size([1, 4096])\n",
      "torch.Size([2, 4096])\n",
      "torch.Size([2, 4096])\n",
      "torch.Size([3, 4096])\n",
      "torch.Size([2, 4096])\n",
      "torch.Size([1, 4096])\n",
      "torch.Size([1, 4096])\n",
      "torch.Size([1, 4096])\n",
      "torch.Size([71, 4096])\n",
      "torch.Size([3, 4096])\n",
      "torch.Size([6, 4096])\n",
      "torch.Size([1, 4096])\n",
      "torch.Size([3, 4096])\n",
      "torch.Size([1, 4096])\n",
      "torch.Size([1, 4096])\n",
      "torch.Size([1, 4096])\n",
      "torch.Size([1, 4096])\n",
      "torch.Size([2, 4096])\n",
      "torch.Size([1, 4096])\n",
      "torch.Size([3, 4096])\n",
      "torch.Size([1, 4096])\n",
      "torch.Size([4, 4096])\n",
      "torch.Size([3, 4096])\n",
      "torch.Size([8, 4096])\n",
      "torch.Size([22, 4096])\n",
      "torch.Size([4, 4096])\n",
      "torch.Size([10, 4096])\n",
      "torch.Size([2, 4096])\n",
      "torch.Size([5, 4096])\n",
      "Not found: GCA_020806305.1\n",
      "torch.Size([3, 4096])\n",
      "torch.Size([8, 4096])\n",
      "torch.Size([5, 4096])\n",
      "torch.Size([5, 4096])\n",
      "torch.Size([6, 4096])\n",
      "torch.Size([4, 4096])\n",
      "torch.Size([2, 4096])\n",
      "torch.Size([3, 4096])\n",
      "torch.Size([5, 4096])\n",
      "torch.Size([1, 4096])\n",
      "torch.Size([3, 4096])\n",
      "torch.Size([5, 4096])\n",
      "torch.Size([1, 4096])\n",
      "torch.Size([1, 4096])\n",
      "torch.Size([1, 4096])\n",
      "torch.Size([2, 4096])\n",
      "torch.Size([6, 4096])\n",
      "torch.Size([6, 4096])\n",
      "torch.Size([16, 4096])\n",
      "torch.Size([1, 4096])\n",
      "torch.Size([1, 4096])\n",
      "torch.Size([49, 4096])\n",
      "torch.Size([42, 4096])\n",
      "torch.Size([94, 4096])\n",
      "torch.Size([49, 4096])\n",
      "torch.Size([49, 4096])\n",
      "torch.Size([80, 4096])\n",
      "torch.Size([49, 4096])\n",
      "torch.Size([1, 4096])\n",
      "torch.Size([49, 4096])\n",
      "torch.Size([49, 4096])\n",
      "torch.Size([59, 4096])\n",
      "torch.Size([93, 4096])\n",
      "torch.Size([1, 4096])\n",
      "torch.Size([49, 4096])\n",
      "torch.Size([49, 4096])\n",
      "torch.Size([71, 4096])\n",
      "torch.Size([92, 4096])\n",
      "torch.Size([3, 4096])\n",
      "torch.Size([93, 4096])\n",
      "torch.Size([3, 4096])\n",
      "torch.Size([2, 4096])\n",
      "torch.Size([4, 4096])\n",
      "torch.Size([1, 4096])\n",
      "torch.Size([4, 4096])\n",
      "torch.Size([1, 4096])\n",
      "torch.Size([2, 4096])\n",
      "torch.Size([1, 4096])\n",
      "torch.Size([9, 4096])\n",
      "torch.Size([2, 4096])\n",
      "torch.Size([2, 4096])\n",
      "torch.Size([1, 4096])\n",
      "torch.Size([2, 4096])\n",
      "torch.Size([2, 4096])\n",
      "torch.Size([2, 4096])\n",
      "torch.Size([6, 4096])\n",
      "torch.Size([7, 4096])\n",
      "torch.Size([82, 4096])\n",
      "torch.Size([94, 4096])\n",
      "torch.Size([50, 4096])\n",
      "torch.Size([82, 4096])\n",
      "torch.Size([6, 4096])\n",
      "torch.Size([1, 4096])\n",
      "torch.Size([4, 4096])\n",
      "torch.Size([4, 4096])\n",
      "torch.Size([1, 4096])\n",
      "torch.Size([3, 4096])\n",
      "torch.Size([13, 4096])\n",
      "torch.Size([19, 4096])\n",
      "torch.Size([1, 4096])\n",
      "torch.Size([4, 4096])\n",
      "torch.Size([1, 4096])\n",
      "torch.Size([1, 4096])\n",
      "torch.Size([8, 4096])\n",
      "Not found: GCA_020806365.1\n",
      "torch.Size([6, 4096])\n",
      "torch.Size([2, 4096])\n",
      "torch.Size([24, 4096])\n",
      "torch.Size([5, 4096])\n",
      "torch.Size([6, 4096])\n",
      "torch.Size([1, 4096])\n",
      "torch.Size([1, 4096])\n",
      "torch.Size([1, 4096])\n",
      "torch.Size([3, 4096])\n",
      "torch.Size([8, 4096])\n",
      "torch.Size([2, 4096])\n",
      "torch.Size([4, 4096])\n",
      "torch.Size([1, 4096])\n",
      "torch.Size([2, 4096])\n",
      "torch.Size([13, 4096])\n",
      "torch.Size([23, 4096])\n",
      "torch.Size([5, 4096])\n",
      "torch.Size([5, 4096])\n",
      "torch.Size([2, 4096])\n",
      "torch.Size([3, 4096])\n",
      "torch.Size([7, 4096])\n",
      "torch.Size([6, 4096])\n",
      "torch.Size([5, 4096])\n",
      "torch.Size([2, 4096])\n",
      "torch.Size([4, 4096])\n",
      "torch.Size([5, 4096])\n",
      "torch.Size([4, 4096])\n",
      "torch.Size([5, 4096])\n",
      "torch.Size([6, 4096])\n",
      "torch.Size([11, 4096])\n",
      "torch.Size([3, 4096])\n",
      "torch.Size([2, 4096])\n",
      "torch.Size([1, 4096])\n",
      "torch.Size([9, 4096])\n",
      "torch.Size([2, 4096])\n",
      "torch.Size([1, 4096])\n",
      "torch.Size([2, 4096])\n",
      "torch.Size([2, 4096])\n",
      "torch.Size([4, 4096])\n",
      "torch.Size([6, 4096])\n",
      "torch.Size([3, 4096])\n",
      "torch.Size([13, 4096])\n",
      "torch.Size([2, 4096])\n",
      "torch.Size([2, 4096])\n",
      "torch.Size([2, 4096])\n",
      "torch.Size([1, 4096])\n",
      "torch.Size([2, 4096])\n",
      "torch.Size([4, 4096])\n",
      "torch.Size([1, 4096])\n",
      "torch.Size([2, 4096])\n",
      "torch.Size([1, 4096])\n",
      "torch.Size([28, 4096])\n",
      "torch.Size([6, 4096])\n",
      "torch.Size([1, 4096])\n",
      "torch.Size([2, 4096])\n",
      "torch.Size([1, 4096])\n",
      "torch.Size([4, 4096])\n",
      "torch.Size([4, 4096])\n",
      "torch.Size([5, 4096])\n",
      "torch.Size([1, 4096])\n",
      "torch.Size([2, 4096])\n",
      "torch.Size([2, 4096])\n",
      "torch.Size([5, 4096])\n",
      "torch.Size([5, 4096])\n",
      "torch.Size([3, 4096])\n",
      "torch.Size([4, 4096])\n",
      "torch.Size([2, 4096])\n",
      "torch.Size([1, 4096])\n",
      "torch.Size([5, 4096])\n",
      "torch.Size([3, 4096])\n",
      "torch.Size([11, 4096])\n",
      "torch.Size([1, 4096])\n",
      "torch.Size([1, 4096])\n",
      "torch.Size([13, 4096])\n",
      "torch.Size([11, 4096])\n",
      "torch.Size([11, 4096])\n",
      "torch.Size([2, 4096])\n",
      "torch.Size([3, 4096])\n",
      "torch.Size([3, 4096])\n",
      "torch.Size([8, 4096])\n",
      "torch.Size([1, 4096])\n",
      "torch.Size([1, 4096])\n",
      "torch.Size([1, 4096])\n",
      "torch.Size([8, 4096])\n",
      "torch.Size([5, 4096])\n",
      "torch.Size([14, 4096])\n",
      "torch.Size([3, 4096])\n"
     ]
    }
   ],
   "source": [
    "for bact in positive_pairs['bacterial_id'].unique():\n",
    "    try:\n",
    "        print(torch.load('/home/ec2-user/vibrio_embeddings/host_embeddings/' + bact + '.pt').size())\n",
    "    except:\n",
    "        print('Not found: ' + bact)"
   ]
  },
  {
   "cell_type": "code",
   "execution_count": 5,
   "metadata": {},
   "outputs": [
    {
     "name": "stdout",
     "output_type": "stream",
     "text": [
      "torch.Size([1, 4096])\n",
      "Not found: GCA_003927055.1\n",
      "Not found: GCA_003926795.1\n",
      "Not found: GCA_003926855.1\n",
      "Not found: GCA_003926835.1\n",
      "torch.Size([1, 4096])\n",
      "torch.Size([1, 4096])\n",
      "torch.Size([1, 4096])\n",
      "torch.Size([1, 4096])\n",
      "torch.Size([1, 4096])\n",
      "torch.Size([1, 4096])\n",
      "torch.Size([1, 4096])\n",
      "torch.Size([1, 4096])\n",
      "Not found: GCA_003926915.1\n",
      "Not found: GCA_003926995.1\n",
      "torch.Size([1, 4096])\n",
      "Not found: GCA_003931455.1\n",
      "torch.Size([2, 4096])\n",
      "torch.Size([2, 4096])\n",
      "torch.Size([2, 4096])\n",
      "Not found: GCA_003926655.1\n",
      "torch.Size([2, 4096])\n",
      "torch.Size([1, 4096])\n",
      "torch.Size([2, 4096])\n",
      "torch.Size([2, 4096])\n",
      "torch.Size([1, 4096])\n",
      "torch.Size([4, 4096])\n",
      "torch.Size([2, 4096])\n",
      "torch.Size([2, 4096])\n",
      "torch.Size([2, 4096])\n",
      "torch.Size([2, 4096])\n",
      "Not found: GCA_003927075.1\n",
      "torch.Size([2, 4096])\n",
      "torch.Size([2, 4096])\n",
      "Not found: GCA_003926675.1\n",
      "torch.Size([2, 4096])\n",
      "torch.Size([2, 4096])\n",
      "torch.Size([2, 4096])\n",
      "torch.Size([2, 4096])\n",
      "torch.Size([2, 4096])\n",
      "torch.Size([2, 4096])\n",
      "torch.Size([2, 4096])\n",
      "torch.Size([2, 4096])\n",
      "torch.Size([2, 4096])\n",
      "torch.Size([2, 4096])\n",
      "torch.Size([1, 4096])\n",
      "torch.Size([1, 4096])\n",
      "torch.Size([1, 4096])\n",
      "torch.Size([1, 4096])\n",
      "torch.Size([1, 4096])\n",
      "torch.Size([1, 4096])\n",
      "torch.Size([1, 4096])\n",
      "torch.Size([1, 4096])\n",
      "torch.Size([1, 4096])\n",
      "torch.Size([2, 4096])\n",
      "torch.Size([1, 4096])\n",
      "torch.Size([1, 4096])\n",
      "torch.Size([1, 4096])\n",
      "torch.Size([1, 4096])\n",
      "torch.Size([1, 4096])\n",
      "torch.Size([2, 4096])\n",
      "torch.Size([1, 4096])\n",
      "torch.Size([1, 4096])\n",
      "torch.Size([2, 4096])\n",
      "torch.Size([3, 4096])\n",
      "torch.Size([2, 4096])\n",
      "Not found: GCA_003926975.1\n",
      "torch.Size([2, 4096])\n",
      "torch.Size([2, 4096])\n",
      "torch.Size([2, 4096])\n",
      "Not found: GCA_003926735.1\n",
      "torch.Size([2, 4096])\n",
      "torch.Size([1, 4096])\n",
      "torch.Size([2, 4096])\n",
      "torch.Size([2, 4096])\n",
      "torch.Size([1, 4096])\n",
      "torch.Size([2, 4096])\n",
      "torch.Size([2, 4096])\n",
      "torch.Size([2, 4096])\n",
      "torch.Size([2, 4096])\n",
      "torch.Size([2, 4096])\n",
      "torch.Size([2, 4096])\n",
      "torch.Size([2, 4096])\n",
      "torch.Size([1, 4096])\n",
      "torch.Size([2, 4096])\n",
      "torch.Size([2, 4096])\n",
      "torch.Size([2, 4096])\n",
      "torch.Size([2, 4096])\n",
      "torch.Size([2, 4096])\n",
      "torch.Size([2, 4096])\n",
      "torch.Size([2, 4096])\n",
      "torch.Size([2, 4096])\n",
      "torch.Size([2, 4096])\n",
      "torch.Size([2, 4096])\n",
      "torch.Size([2, 4096])\n",
      "torch.Size([2, 4096])\n",
      "torch.Size([2, 4096])\n",
      "torch.Size([2, 4096])\n",
      "torch.Size([2, 4096])\n",
      "torch.Size([2, 4096])\n",
      "torch.Size([2, 4096])\n",
      "torch.Size([2, 4096])\n",
      "torch.Size([2, 4096])\n",
      "torch.Size([2, 4096])\n",
      "torch.Size([2, 4096])\n",
      "torch.Size([1, 4096])\n",
      "torch.Size([1, 4096])\n",
      "torch.Size([1, 4096])\n",
      "torch.Size([1, 4096])\n",
      "torch.Size([1, 4096])\n",
      "torch.Size([1, 4096])\n",
      "torch.Size([1, 4096])\n",
      "torch.Size([1, 4096])\n",
      "torch.Size([2, 4096])\n",
      "torch.Size([1, 4096])\n",
      "Not found: GCA_003931375.1\n",
      "torch.Size([2, 4096])\n",
      "torch.Size([2, 4096])\n",
      "torch.Size([2, 4096])\n",
      "torch.Size([2, 4096])\n",
      "torch.Size([2, 4096])\n",
      "torch.Size([2, 4096])\n",
      "torch.Size([2, 4096])\n",
      "torch.Size([2, 4096])\n",
      "torch.Size([2, 4096])\n",
      "torch.Size([2, 4096])\n",
      "torch.Size([2, 4096])\n",
      "torch.Size([2, 4096])\n",
      "torch.Size([2, 4096])\n",
      "torch.Size([2, 4096])\n",
      "torch.Size([1, 4096])\n",
      "torch.Size([2, 4096])\n",
      "torch.Size([2, 4096])\n",
      "torch.Size([2, 4096])\n",
      "Not found: GCA_003926935.1\n",
      "torch.Size([4, 4096])\n",
      "torch.Size([2, 4096])\n",
      "torch.Size([1, 4096])\n",
      "Not found: GCA_003926715.1\n",
      "torch.Size([2, 4096])\n",
      "torch.Size([2, 4096])\n",
      "torch.Size([2, 4096])\n",
      "torch.Size([2, 4096])\n",
      "torch.Size([2, 4096])\n",
      "torch.Size([2, 4096])\n",
      "torch.Size([2, 4096])\n",
      "torch.Size([2, 4096])\n",
      "torch.Size([2, 4096])\n",
      "Not found: GCA_003931435.1\n",
      "torch.Size([2, 4096])\n",
      "torch.Size([1, 4096])\n",
      "Not found: GCA_003926815.1\n",
      "torch.Size([2, 4096])\n",
      "torch.Size([4, 4096])\n",
      "torch.Size([4, 4096])\n",
      "Not found: GCA_003926635.1\n",
      "torch.Size([1, 4096])\n",
      "torch.Size([1, 4096])\n",
      "torch.Size([1, 4096])\n",
      "torch.Size([2, 4096])\n",
      "torch.Size([2, 4096])\n",
      "torch.Size([2, 4096])\n",
      "Not found: GCA_003927035.1\n",
      "Not found: GCA_003926775.1\n",
      "torch.Size([1, 4096])\n",
      "torch.Size([2, 4096])\n",
      "torch.Size([1, 4096])\n",
      "torch.Size([1, 4096])\n",
      "torch.Size([2, 4096])\n",
      "torch.Size([2, 4096])\n",
      "torch.Size([2, 4096])\n",
      "torch.Size([2, 4096])\n",
      "torch.Size([2, 4096])\n",
      "torch.Size([2, 4096])\n",
      "torch.Size([2, 4096])\n",
      "torch.Size([2, 4096])\n",
      "torch.Size([2, 4096])\n",
      "torch.Size([2, 4096])\n",
      "torch.Size([6, 4096])\n",
      "torch.Size([2, 4096])\n",
      "torch.Size([2, 4096])\n",
      "torch.Size([2, 4096])\n",
      "torch.Size([2, 4096])\n",
      "torch.Size([2, 4096])\n",
      "torch.Size([2, 4096])\n",
      "torch.Size([1, 4096])\n",
      "torch.Size([4, 4096])\n",
      "torch.Size([2, 4096])\n",
      "Not found: GCA_003927015.1\n",
      "torch.Size([2, 4096])\n",
      "torch.Size([2, 4096])\n",
      "torch.Size([2, 4096])\n",
      "torch.Size([1, 4096])\n",
      "torch.Size([2, 4096])\n",
      "torch.Size([2, 4096])\n",
      "torch.Size([1, 4096])\n",
      "torch.Size([1, 4096])\n",
      "torch.Size([2, 4096])\n",
      "torch.Size([2, 4096])\n",
      "torch.Size([2, 4096])\n",
      "torch.Size([2, 4096])\n",
      "torch.Size([2, 4096])\n",
      "Not found: GCA_003926615.1\n",
      "torch.Size([2, 4096])\n",
      "torch.Size([2, 4096])\n",
      "torch.Size([1, 4096])\n",
      "torch.Size([1, 4096])\n",
      "torch.Size([4, 4096])\n",
      "torch.Size([2, 4096])\n",
      "torch.Size([1, 4096])\n",
      "torch.Size([2, 4096])\n",
      "Not found: GCA_003926955.1\n",
      "torch.Size([1, 4096])\n",
      "torch.Size([1, 4096])\n",
      "torch.Size([1, 4096])\n",
      "torch.Size([2, 4096])\n",
      "torch.Size([2, 4096])\n",
      "torch.Size([1, 4096])\n",
      "torch.Size([2, 4096])\n",
      "torch.Size([2, 4096])\n",
      "torch.Size([2, 4096])\n",
      "torch.Size([1, 4096])\n",
      "torch.Size([2, 4096])\n",
      "torch.Size([1, 4096])\n",
      "torch.Size([1, 4096])\n",
      "torch.Size([2, 4096])\n",
      "torch.Size([4, 4096])\n",
      "torch.Size([2, 4096])\n",
      "torch.Size([2, 4096])\n",
      "Not found: GCA_003926755.1\n",
      "torch.Size([2, 4096])\n",
      "torch.Size([2, 4096])\n",
      "torch.Size([4, 4096])\n",
      "Not found: GCA_003926875.1\n",
      "torch.Size([1, 4096])\n",
      "torch.Size([2, 4096])\n",
      "torch.Size([2, 4096])\n",
      "torch.Size([2, 4096])\n",
      "torch.Size([2, 4096])\n"
     ]
    }
   ],
   "source": [
    "for phage in positive_pairs['phage_id'].unique():\n",
    "    try:\n",
    "        print(torch.load('/home/ec2-user/vibrio_embeddings/phage_embeddings/' + phage + '.pt').size())\n",
    "    except:\n",
    "        print('Not found: ' + phage)"
   ]
  },
  {
   "cell_type": "code",
   "execution_count": 6,
   "metadata": {},
   "outputs": [
    {
     "name": "stdout",
     "output_type": "stream",
     "text": [
      "(1376, 4)\n",
      "(1088, 4)\n"
     ]
    }
   ],
   "source": [
    "print(positive_pairs.shape)\n",
    "for i in positive_pairs.index:\n",
    "    pair = positive_pairs.loc[i]\n",
    "    # print(os.path.isfile('/home/ec2-user/vibrio_embeddings/phage_embeddings/' + pair['phage_id'] + '.pt'))\n",
    "    # continue\n",
    "    if (not os.path.isfile('/home/ec2-user/vibrio_embeddings/phage_embeddings/' + pair['phage_id'] + '.pt')) or (not os.path.isfile('/home/ec2-user/vibrio_embeddings/host_embeddings/' + pair['bacterial_id'] + '.pt')):\n",
    "        positive_pairs = positive_pairs.drop(i)\n",
    "print(positive_pairs.shape)\n"
   ]
  },
  {
   "cell_type": "code",
   "execution_count": 7,
   "metadata": {},
   "outputs": [
    {
     "name": "stdout",
     "output_type": "stream",
     "text": [
      "247\n",
      "213\n",
      "1088\n",
      "51523\n",
      "0\n"
     ]
    },
    {
     "data": {
      "text/plain": [
       "\"negative_hosts = np.random.choice(positive_pairs['bacterial_id'], len(positive_pairs), replace=True)\\n# negative_phages = np.random.choice(positive_pairs['phage_id'], len(positive_pairs), replace=True)\\n\\n# negative_pairs = list(zip(negative_hosts, negative_phages))\\npositive_pair_list = list(zip(positive_pairs['bacterial_id'].values, positive_pairs['phage_id'].values))\\n\\nnegative_pairs = []\\nfor host in negative_hosts:\\n    match = False\\n    while not match:\\n        potential_phage = np.random.choice(positive_pairs['phage_id'], 1)[0]\\n        if (host, potential_phage) not in positive_pair_list:\\n            match = True\\n    negative_pairs.append((host, potential_phage))\\n\\nprint(len(negative_pairs))\\nprint(len(positive_pair_list))\\nprint(len(set(positive_pair_list).intersection(set(negative_pairs))))\""
      ]
     },
     "execution_count": 7,
     "metadata": {},
     "output_type": "execute_result"
    }
   ],
   "source": [
    "unique_bacteria = positive_pairs['bacterial_id'].unique()\n",
    "unique_phage = positive_pairs['phage_id'].unique()\n",
    "print(len(unique_bacteria))\n",
    "print(len(unique_phage))\n",
    "\n",
    "positive_pair_list = list(zip(positive_pairs['bacterial_id'].values, positive_pairs['phage_id'].values))\n",
    "print(len(positive_pair_list))\n",
    "\n",
    "negative_pairs = []\n",
    "for bact in unique_bacteria:\n",
    "    for phage in unique_phage:\n",
    "        if (bact, phage) not in positive_pair_list:\n",
    "            negative_pairs.append((bact, phage))\n",
    "print(len(negative_pairs))\n",
    "print(len(set(positive_pair_list).intersection(set(negative_pairs))))\n",
    "\n",
    "\n",
    "\"\"\"negative_hosts = np.random.choice(positive_pairs['bacterial_id'], len(positive_pairs), replace=True)\n",
    "# negative_phages = np.random.choice(positive_pairs['phage_id'], len(positive_pairs), replace=True)\n",
    "\n",
    "# negative_pairs = list(zip(negative_hosts, negative_phages))\n",
    "positive_pair_list = list(zip(positive_pairs['bacterial_id'].values, positive_pairs['phage_id'].values))\n",
    "\n",
    "negative_pairs = []\n",
    "for host in negative_hosts:\n",
    "    match = False\n",
    "    while not match:\n",
    "        potential_phage = np.random.choice(positive_pairs['phage_id'], 1)[0]\n",
    "        if (host, potential_phage) not in positive_pair_list:\n",
    "            match = True\n",
    "    negative_pairs.append((host, potential_phage))\n",
    "\n",
    "print(len(negative_pairs))\n",
    "print(len(positive_pair_list))\n",
    "print(len(set(positive_pair_list).intersection(set(negative_pairs))))\"\"\""
   ]
  },
  {
   "cell_type": "code",
   "execution_count": 8,
   "metadata": {},
   "outputs": [
    {
     "name": "stderr",
     "output_type": "stream",
     "text": [
      "/tmp/ipykernel_35699/230755662.py:4: SettingWithCopyWarning: \n",
      "A value is trying to be set on a copy of a slice from a DataFrame.\n",
      "Try using .loc[row_indexer,col_indexer] = value instead\n",
      "\n",
      "See the caveats in the documentation: https://pandas.pydata.org/pandas-docs/stable/user_guide/indexing.html#returning-a-view-versus-a-copy\n",
      "  positive_pairs_split['Label'] = 1\n"
     ]
    },
    {
     "data": {
      "text/html": [
       "<div>\n",
       "<style scoped>\n",
       "    .dataframe tbody tr th:only-of-type {\n",
       "        vertical-align: middle;\n",
       "    }\n",
       "\n",
       "    .dataframe tbody tr th {\n",
       "        vertical-align: top;\n",
       "    }\n",
       "\n",
       "    .dataframe thead th {\n",
       "        text-align: right;\n",
       "    }\n",
       "</style>\n",
       "<table border=\"1\" class=\"dataframe\">\n",
       "  <thead>\n",
       "    <tr style=\"text-align: right;\">\n",
       "      <th></th>\n",
       "      <th>bacterial_id</th>\n",
       "      <th>phage_id</th>\n",
       "      <th>Label</th>\n",
       "    </tr>\n",
       "  </thead>\n",
       "  <tbody>\n",
       "    <tr>\n",
       "      <th>0</th>\n",
       "      <td>GCA_002876255.1</td>\n",
       "      <td>GCA_003926235.1</td>\n",
       "      <td>1</td>\n",
       "    </tr>\n",
       "    <tr>\n",
       "      <th>1</th>\n",
       "      <td>GCA_002876565.1</td>\n",
       "      <td>GCA_003926235.1</td>\n",
       "      <td>1</td>\n",
       "    </tr>\n",
       "    <tr>\n",
       "      <th>2</th>\n",
       "      <td>GCA_002876225.1</td>\n",
       "      <td>GCA_003926235.1</td>\n",
       "      <td>1</td>\n",
       "    </tr>\n",
       "    <tr>\n",
       "      <th>3</th>\n",
       "      <td>GCA_002876415.1</td>\n",
       "      <td>GCA_003926235.1</td>\n",
       "      <td>1</td>\n",
       "    </tr>\n",
       "    <tr>\n",
       "      <th>4</th>\n",
       "      <td>GCA_002877535.1</td>\n",
       "      <td>GCA_003926235.1</td>\n",
       "      <td>1</td>\n",
       "    </tr>\n",
       "    <tr>\n",
       "      <th>...</th>\n",
       "      <td>...</td>\n",
       "      <td>...</td>\n",
       "      <td>...</td>\n",
       "    </tr>\n",
       "    <tr>\n",
       "      <th>51518</th>\n",
       "      <td>GCA_002872635.1</td>\n",
       "      <td>GCA_003344145.1</td>\n",
       "      <td>0</td>\n",
       "    </tr>\n",
       "    <tr>\n",
       "      <th>51519</th>\n",
       "      <td>GCA_002872635.1</td>\n",
       "      <td>GCA_003930675.1</td>\n",
       "      <td>0</td>\n",
       "    </tr>\n",
       "    <tr>\n",
       "      <th>51520</th>\n",
       "      <td>GCA_002872635.1</td>\n",
       "      <td>GCA_003929395.1</td>\n",
       "      <td>0</td>\n",
       "    </tr>\n",
       "    <tr>\n",
       "      <th>51521</th>\n",
       "      <td>GCA_002872635.1</td>\n",
       "      <td>GCA_003929455.1</td>\n",
       "      <td>0</td>\n",
       "    </tr>\n",
       "    <tr>\n",
       "      <th>51522</th>\n",
       "      <td>GCA_002872635.1</td>\n",
       "      <td>GCA_003931175.1</td>\n",
       "      <td>0</td>\n",
       "    </tr>\n",
       "  </tbody>\n",
       "</table>\n",
       "<p>52611 rows × 3 columns</p>\n",
       "</div>"
      ],
      "text/plain": [
       "          bacterial_id         phage_id  Label\n",
       "0      GCA_002876255.1  GCA_003926235.1      1\n",
       "1      GCA_002876565.1  GCA_003926235.1      1\n",
       "2      GCA_002876225.1  GCA_003926235.1      1\n",
       "3      GCA_002876415.1  GCA_003926235.1      1\n",
       "4      GCA_002877535.1  GCA_003926235.1      1\n",
       "...                ...              ...    ...\n",
       "51518  GCA_002872635.1  GCA_003344145.1      0\n",
       "51519  GCA_002872635.1  GCA_003930675.1      0\n",
       "51520  GCA_002872635.1  GCA_003929395.1      0\n",
       "51521  GCA_002872635.1  GCA_003929455.1      0\n",
       "51522  GCA_002872635.1  GCA_003931175.1      0\n",
       "\n",
       "[52611 rows x 3 columns]"
      ]
     },
     "execution_count": 8,
     "metadata": {},
     "output_type": "execute_result"
    }
   ],
   "source": [
    "negative_pairs = pd.DataFrame(negative_pairs, columns=['bacterial_id', 'phage_id'])\n",
    "positive_pairs_split = positive_pairs[['bacterial_id', 'phage_id']]\n",
    "negative_pairs['Label'] = 0\n",
    "positive_pairs_split['Label'] = 1\n",
    "full_pairs = pd.concat([positive_pairs_split, negative_pairs])\n",
    "full_pairs"
   ]
  },
  {
   "cell_type": "code",
   "execution_count": 9,
   "metadata": {},
   "outputs": [
    {
     "name": "stdout",
     "output_type": "stream",
     "text": [
      "(36827, 3)\n",
      "(7892, 3)\n",
      "(7892, 3)\n"
     ]
    }
   ],
   "source": [
    "train, temp = train_test_split(full_pairs, test_size=0.3, random_state=42)\n",
    "val, test = train_test_split(temp, test_size=0.5, random_state=42)\n",
    "print(train.shape)\n",
    "print(val.shape)\n",
    "print(test.shape)"
   ]
  },
  {
   "cell_type": "code",
   "execution_count": 10,
   "metadata": {},
   "outputs": [
    {
     "name": "stdout",
     "output_type": "stream",
     "text": [
      "Label\n",
      "0    36080\n",
      "1      747\n",
      "Name: count, dtype: int64\n",
      "Label\n",
      "0    7725\n",
      "1     167\n",
      "Name: count, dtype: int64\n",
      "Label\n",
      "0    7718\n",
      "1     174\n",
      "Name: count, dtype: int64\n"
     ]
    }
   ],
   "source": [
    "print(train['Label'].value_counts())\n",
    "print(val['Label'].value_counts())\n",
    "print(test['Label'].value_counts())"
   ]
  },
  {
   "cell_type": "code",
   "execution_count": 52,
   "metadata": {},
   "outputs": [],
   "source": [
    "class PhageBactPairDataset(Dataset):\n",
    "    def __init__(self, pair_df, method):\n",
    "        self.pairs = pair_df[['bacterial_id', 'phage_id']]\n",
    "        self.labels = pair_df['Label'].values\n",
    "        self.method = method\n",
    "        \n",
    "    def __len__(self):\n",
    "        return len(self.labels)\n",
    "    \n",
    "    def __getitem__(self, idx):\n",
    "        pair = self.pairs.iloc[idx]\n",
    "        label = self.labels[idx]\n",
    "        if self.method == 'mean':\n",
    "            pair_phage = torch.mean(torch.load('/home/ec2-user/vibrio_embeddings/phage_embeddings/' + pair['phage_id'] + '.pt'), 0)\n",
    "            pair_phage = pair_phage/torch.max(pair_phage)\n",
    "            pair_bact = torch.mean(torch.load('/home/ec2-user/vibrio_embeddings/host_embeddings/' + pair['bacterial_id'] + '.pt'), 0)\n",
    "            pair_bact = pair_bact/torch.max(pair_bact)\n",
    "        elif self.method == 'sum':\n",
    "            pair_phage = torch.sum(torch.load('/home/ec2-user/vibrio_embeddings/phage_embeddings/' + pair['phage_id'] + '.pt'), 0)\n",
    "            pair_phage = pair_phage/torch.max(pair_phage)\n",
    "            pair_bact = torch.sum(torch.load('/home/ec2-user/vibrio_embeddings/host_embeddings/' + pair['bacterial_id'] + '.pt'), 0)\n",
    "            pair_bact = pair_bact/torch.max(pair_bact)\n",
    "\n",
    "        return pair_phage, pair_bact, torch.tensor(label)"
   ]
  },
  {
   "cell_type": "code",
   "execution_count": 59,
   "metadata": {},
   "outputs": [],
   "source": [
    "class TestDataset(Dataset):\n",
    "    def __init__(self, id_list, method, phage=True):\n",
    "        self.id_list = id_list\n",
    "        self.method = method\n",
    "        self.phage = phage\n",
    "        \n",
    "    def __len__(self):\n",
    "        return len(self.id_list)\n",
    "    \n",
    "    def __getitem__(self, idx):\n",
    "        ID = self.id_list[idx]\n",
    "        if self.method == 'mean':\n",
    "            if self.phage:\n",
    "                embed = torch.mean(torch.load('/home/ec2-user/vibrio_embeddings/phage_embeddings/' + ID + '.pt'), 0)\n",
    "                embed = embed/torch.max(embed)\n",
    "            else:\n",
    "                embed = torch.mean(torch.load('/home/ec2-user/vibrio_embeddings/host_embeddings/' + ID + '.pt'), 0)\n",
    "                embed = embed/torch.max(embed)\n",
    "        elif self.method == 'sum':\n",
    "            if self.phage:\n",
    "                embed = torch.sum(torch.load('/home/ec2-user/vibrio_embeddings/phage_embeddings/' + ID + '.pt'), 0)\n",
    "                embed = embed/torch.max(embed)\n",
    "            else:\n",
    "                embed = torch.sum(torch.load('/home/ec2-user/vibrio_embeddings/host_embeddings/' + ID + '.pt'), 0)\n",
    "                embed = embed/torch.max(embed)\n",
    "        \n",
    "        return ID, embed"
   ]
  },
  {
   "cell_type": "code",
   "execution_count": 53,
   "metadata": {},
   "outputs": [],
   "source": [
    "# Simple one-layer linear network, symmetrical for phage and host encodings, will have to flatten input\n",
    "\n",
    "class SimpleEmbedding(nn.Module):\n",
    "    def __init__(self, input_dim=4096, hidden_dim=1024, output_dim=512):\n",
    "        super(SimpleEmbedding, self).__init__()\n",
    "        self.fc1 = nn.Linear(input_dim, hidden_dim)\n",
    "        self.fc2 = nn.Linear(hidden_dim, output_dim)\n",
    "        \n",
    "    def forward(self, x):\n",
    "        # print(torch.flatten(x, 1))\n",
    "        return self.fc2(F.relu(self.fc1(torch.flatten(x, 1))))"
   ]
  },
  {
   "cell_type": "code",
   "execution_count": 14,
   "metadata": {},
   "outputs": [],
   "source": [
    "# CNN network, each channel is a bin of the genome (phage will probably only have one channel)\n",
    "\n",
    "class CNNEmbedding(nn.Module):\n",
    "    def __init__(self):\n",
    "        super(CNNEmbedding, self).__init__()\n",
    "        self.conv1 = nn.Conv2d(1, 64, (1,3), stride=1)\n",
    "        self.bn1 = nn.BatchNorm2d(64)\n",
    "        self.conv2 = nn.Conv2d(64, 128, (1,3), stride=1)\n",
    "        self.bn2 = nn.BatchNorm2d(128) \n",
    "        self.fc1 = nn.Linear(128*1022, 1024)\n",
    "        self.fc2 = nn.Linear(1024, 512)\n",
    "        \n",
    "    def forward(self, x):\n",
    "        x = self.bn1(F.max_pool2d(F.relu(self.conv1(x)), (1,2)))\n",
    "        x = self.bn2(F.max_pool2d(F.relu(self.conv2(x)), (1,2)))\n",
    "        return self.fc2(F.relu(self.fc1(torch.flatten(x, 1))))"
   ]
  },
  {
   "cell_type": "code",
   "execution_count": 54,
   "metadata": {},
   "outputs": [],
   "source": [
    "# Euclidean distance, can also try to implement CLIP-like cosigne similarity matrix with cross-entropy loss\n",
    "\n",
    "class ContrastiveLoss(nn.Module):\n",
    "    def __init__(self, margin=1):\n",
    "        super(ContrastiveLoss, self).__init__()\n",
    "        self.margin = margin\n",
    "    \n",
    "    def forward(self, phage, bact, label):\n",
    "        p_h_distance = phage - bact\n",
    "        dist_norm_squared = torch.sum(torch.pow(p_h_distance, 2), 1)\n",
    "        dist_norm = torch.sqrt(dist_norm_squared)\n",
    "        neg = torch.pow(torch.clamp(self.margin - dist_norm, min=0), 2)\n",
    "        loss_per_batch = label*dist_norm_squared + (1 - label)*neg\n",
    "        return 0.5*torch.mean(loss_per_batch)"
   ]
  },
  {
   "cell_type": "code",
   "execution_count": 45,
   "metadata": {},
   "outputs": [],
   "source": [
    "def predict(loader, encoder):\n",
    "    ids = []\n",
    "    output_embeddings  = []\n",
    "    with torch.no_grad():\n",
    "        for batch in loader:\n",
    "            embed = batch[1].to(device)\n",
    "            ids.append(batch[0])\n",
    "            output_embeddings.append(encoder(embed).cpu())\n",
    "    ids = np.concatenate(ids)\n",
    "    output_embeddings = np.concatenate(output_embeddings)\n",
    "    \n",
    "    return ids, output_embeddings"
   ]
  },
  {
   "cell_type": "code",
   "execution_count": 17,
   "metadata": {},
   "outputs": [],
   "source": [
    "def get_neighbor_list(phage_ids, phage_embeddings, bact_ids, bact_embeddings):\n",
    "    sorted_neighbor_list = {}\n",
    "    \n",
    "    with torch.no_grad():\n",
    "        all_distances = []\n",
    "        for i in range(len(phage_ids)):\n",
    "            distances = []\n",
    "            for bact in bact_embeddings:\n",
    "                # distances.append(torch.sqrt(torch.sum(torch.pow(phage_embeddings[i] - bact, 2), 1)))\n",
    "                distances.append(np.linalg.norm(phage_embeddings[i] - bact))\n",
    "            all_distances.append(distances)\n",
    "    \n",
    "    all_distances = np.array(all_distances)\n",
    "    print(all_distances.shape)\n",
    "    print(np.argsort(all_distances))"
   ]
  },
  {
   "cell_type": "code",
   "execution_count": 18,
   "metadata": {},
   "outputs": [],
   "source": [
    "def get_top_k_accuracy(neighbor_list, bact_ids, pairs, k):\n",
    "    pass"
   ]
  },
  {
   "cell_type": "code",
   "execution_count": 19,
   "metadata": {},
   "outputs": [
    {
     "data": {
      "text/plain": [
       "device(type='cuda', index=3)"
      ]
     },
     "execution_count": 19,
     "metadata": {},
     "output_type": "execute_result"
    }
   ],
   "source": [
    "device"
   ]
  },
  {
   "cell_type": "code",
   "execution_count": 55,
   "metadata": {},
   "outputs": [],
   "source": [
    "# train_dataset = PhageBactPairDataset(pair_df=train, method='mean')\n",
    "train_dataset = PhageBactPairDataset(pair_df=train, method='sum')\n",
    "train_loader = DataLoader(train_dataset, batch_size=256, shuffle=True)\n",
    "\n",
    "# val_dataset = PhageBactPairDataset(pair_df=val, method='mean')\n",
    "val_dataset = PhageBactPairDataset(pair_df=val, method='sum')\n",
    "val_loader = DataLoader(val_dataset, batch_size=256, shuffle=True)"
   ]
  },
  {
   "cell_type": "code",
   "execution_count": 56,
   "metadata": {},
   "outputs": [
    {
     "name": "stderr",
     "output_type": "stream",
     "text": [
      "100%|██████████| 144/144 [00:33<00:00,  4.33it/s]\n"
     ]
    },
    {
     "name": "stdout",
     "output_type": "stream",
     "text": [
      "        Euclidean Distance\n",
      "Labels                    \n",
      "0.0               0.262368\n",
      "1.0               0.261298\n",
      "        Euclidean Distance\n",
      "Labels                    \n",
      "0.0               0.031791\n",
      "1.0               0.053993\n",
      "        Euclidean Distance\n",
      "Labels                    \n",
      "0.0               1.942749\n",
      "1.0               1.913314\n"
     ]
    },
    {
     "data": {
      "image/png": "[encoded data removed]",
      "text/plain": [
       "<Figure size 640x480 with 1 Axes>"
      ]
     },
     "metadata": {},
     "output_type": "display_data"
    }
   ],
   "source": [
    "distances = []\n",
    "labels = []\n",
    "with tqdm.tqdm(total=len(train_loader)) as pbar:\n",
    "    for batch in train_loader:\n",
    "        pbar.update(1)\n",
    "        \n",
    "        distances.append(torch.sqrt(torch.sum(torch.pow(batch[0] - batch[1], 2), 1)))\n",
    "        labels.append(batch[2])\n",
    "\n",
    "distances = np.concatenate(distances)\n",
    "labels = np.concatenate(labels)\n",
    "\n",
    "temp = pd.DataFrame([distances, labels], index=['Euclidean Distance', 'Labels']).transpose()\n",
    "gb = temp.groupby('Labels')\n",
    "print(gb.mean())\n",
    "print(gb.min())\n",
    "print(gb.max())\n",
    "plt.title('Euclidean distances between positive and negative pairs before training')\n",
    "sns.boxplot(data=temp, x='Labels', y='Euclidean Distance')\n",
    "plt.show()"
   ]
  },
  {
   "cell_type": "code",
   "execution_count": 57,
   "metadata": {},
   "outputs": [
    {
     "name": "stderr",
     "output_type": "stream",
     "text": [
      "Epoch 1:   0%|          | 0/144 [00:00<?, ?it/s]"
     ]
    },
    {
     "name": "stderr",
     "output_type": "stream",
     "text": [
      "Epoch 1: 100%|██████████| 144/144 [00:41<00:00,  3.51it/s]\n"
     ]
    },
    {
     "name": "stdout",
     "output_type": "stream",
     "text": [
      "0.03505534311989322\n",
      "0.020346414928715074\n"
     ]
    },
    {
     "name": "stderr",
     "output_type": "stream",
     "text": [
      "Epoch 2: 100%|██████████| 144/144 [00:40<00:00,  3.56it/s]\n"
     ]
    },
    {
     "name": "stdout",
     "output_type": "stream",
     "text": [
      "0.018701311307571206\n",
      "0.020357683391099977\n"
     ]
    },
    {
     "name": "stderr",
     "output_type": "stream",
     "text": [
      "Epoch 3: 100%|██████████| 144/144 [00:40<00:00,  3.55it/s]\n"
     ]
    },
    {
     "name": "stdout",
     "output_type": "stream",
     "text": [
      "0.01879673235493505\n",
      "0.020151657803404714\n"
     ]
    },
    {
     "name": "stderr",
     "output_type": "stream",
     "text": [
      "Epoch 4: 100%|██████████| 144/144 [00:40<00:00,  3.53it/s]\n"
     ]
    },
    {
     "name": "stdout",
     "output_type": "stream",
     "text": [
      "0.018203582737543102\n",
      "0.01962983644297046\n"
     ]
    },
    {
     "name": "stderr",
     "output_type": "stream",
     "text": [
      "Epoch 5: 100%|██████████| 144/144 [00:39<00:00,  3.63it/s]\n"
     ]
    },
    {
     "name": "stdout",
     "output_type": "stream",
     "text": [
      "0.018255095382402133\n",
      "0.019925882378893513\n"
     ]
    },
    {
     "name": "stderr",
     "output_type": "stream",
     "text": [
      "Epoch 6: 100%|██████████| 144/144 [00:40<00:00,  3.55it/s]\n"
     ]
    },
    {
     "name": "stdout",
     "output_type": "stream",
     "text": [
      "0.017947354881067037\n",
      "0.019904735287831675\n"
     ]
    },
    {
     "name": "stderr",
     "output_type": "stream",
     "text": [
      "Epoch 7: 100%|██████████| 144/144 [00:42<00:00,  3.35it/s]\n"
     ]
    },
    {
     "name": "stdout",
     "output_type": "stream",
     "text": [
      "0.018521967259908304\n",
      "0.018718947626409993\n"
     ]
    },
    {
     "name": "stderr",
     "output_type": "stream",
     "text": [
      "Epoch 8: 100%|██████████| 144/144 [00:40<00:00,  3.60it/s]\n"
     ]
    },
    {
     "name": "stdout",
     "output_type": "stream",
     "text": [
      "0.017860705138041846\n",
      "0.020396785525184487\n"
     ]
    },
    {
     "name": "stderr",
     "output_type": "stream",
     "text": [
      "Epoch 9: 100%|██████████| 144/144 [00:41<00:00,  3.51it/s]\n"
     ]
    },
    {
     "name": "stdout",
     "output_type": "stream",
     "text": [
      "0.01794512970890436\n",
      "0.01933171509975387\n"
     ]
    },
    {
     "name": "stderr",
     "output_type": "stream",
     "text": [
      "Epoch 10: 100%|██████████| 144/144 [00:40<00:00,  3.55it/s]\n"
     ]
    },
    {
     "name": "stdout",
     "output_type": "stream",
     "text": [
      "0.017500096046003617\n",
      "0.01865874453177375\n"
     ]
    },
    {
     "name": "stderr",
     "output_type": "stream",
     "text": [
      "Epoch 11: 100%|██████████| 144/144 [00:43<00:00,  3.30it/s]\n"
     ]
    },
    {
     "name": "stdout",
     "output_type": "stream",
     "text": [
      "0.017981714468785666\n",
      "0.018884282874604388\n"
     ]
    },
    {
     "name": "stderr",
     "output_type": "stream",
     "text": [
      "Epoch 12: 100%|██████████| 144/144 [00:47<00:00,  3.05it/s]\n"
     ]
    },
    {
     "name": "stdout",
     "output_type": "stream",
     "text": [
      "0.018433208262043383\n",
      "0.02091165028151966\n"
     ]
    },
    {
     "name": "stderr",
     "output_type": "stream",
     "text": [
      "Epoch 13:  10%|█         | 15/144 [00:03<00:31,  4.10it/s]\n"
     ]
    },
    {
     "ename": "KeyboardInterrupt",
     "evalue": "",
     "output_type": "error",
     "traceback": [
      "\u001b[0;31m---------------------------------------------------------------------------\u001b[0m",
      "\u001b[0;31mKeyboardInterrupt\u001b[0m                         Traceback (most recent call last)",
      "Cell \u001b[0;32mIn[57], line 17\u001b[0m\n\u001b[1;32m     15\u001b[0m batch_train_loss \u001b[38;5;241m=\u001b[39m \u001b[38;5;241m0\u001b[39m\n\u001b[1;32m     16\u001b[0m count \u001b[38;5;241m=\u001b[39m \u001b[38;5;241m0\u001b[39m\n\u001b[0;32m---> 17\u001b[0m \u001b[43m\u001b[49m\u001b[38;5;28;43;01mfor\u001b[39;49;00m\u001b[43m \u001b[49m\u001b[43mbatch\u001b[49m\u001b[43m \u001b[49m\u001b[38;5;129;43;01min\u001b[39;49;00m\u001b[43m \u001b[49m\u001b[43mtrain_loader\u001b[49m\u001b[43m:\u001b[49m\n\u001b[1;32m     18\u001b[0m \u001b[43m    \u001b[49m\u001b[43mpbar\u001b[49m\u001b[38;5;241;43m.\u001b[39;49m\u001b[43mupdate\u001b[49m\u001b[43m(\u001b[49m\u001b[38;5;241;43m1\u001b[39;49m\u001b[43m)\u001b[49m\n\u001b[1;32m     20\u001b[0m \u001b[43m    \u001b[49m\u001b[43mbatch_phage\u001b[49m\u001b[43m \u001b[49m\u001b[38;5;241;43m=\u001b[39;49m\u001b[43m \u001b[49m\u001b[43mbatch\u001b[49m\u001b[43m[\u001b[49m\u001b[38;5;241;43m0\u001b[39;49m\u001b[43m]\u001b[49m\u001b[38;5;241;43m.\u001b[39;49m\u001b[43mto\u001b[49m\u001b[43m(\u001b[49m\u001b[43mdevice\u001b[49m\u001b[43m)\u001b[49m\n",
      "File \u001b[0;32m/opt/conda/envs/pytorch/lib/python3.11/site-packages/torch/utils/data/dataloader.py:631\u001b[0m, in \u001b[0;36m_BaseDataLoaderIter.__next__\u001b[0;34m(self)\u001b[0m\n\u001b[1;32m    628\u001b[0m \u001b[38;5;28;01mif\u001b[39;00m \u001b[38;5;28mself\u001b[39m\u001b[38;5;241m.\u001b[39m_sampler_iter \u001b[38;5;129;01mis\u001b[39;00m \u001b[38;5;28;01mNone\u001b[39;00m:\n\u001b[1;32m    629\u001b[0m     \u001b[38;5;66;03m# TODO(https://github.com/pytorch/pytorch/issues/76750)\u001b[39;00m\n\u001b[1;32m    630\u001b[0m     \u001b[38;5;28mself\u001b[39m\u001b[38;5;241m.\u001b[39m_reset()  \u001b[38;5;66;03m# type: ignore[call-arg]\u001b[39;00m\n\u001b[0;32m--> 631\u001b[0m data \u001b[38;5;241m=\u001b[39m \u001b[38;5;28;43mself\u001b[39;49m\u001b[38;5;241;43m.\u001b[39;49m\u001b[43m_next_data\u001b[49m\u001b[43m(\u001b[49m\u001b[43m)\u001b[49m\n\u001b[1;32m    632\u001b[0m \u001b[38;5;28mself\u001b[39m\u001b[38;5;241m.\u001b[39m_num_yielded \u001b[38;5;241m+\u001b[39m\u001b[38;5;241m=\u001b[39m \u001b[38;5;241m1\u001b[39m\n\u001b[1;32m    633\u001b[0m \u001b[38;5;28;01mif\u001b[39;00m \u001b[38;5;28mself\u001b[39m\u001b[38;5;241m.\u001b[39m_dataset_kind \u001b[38;5;241m==\u001b[39m _DatasetKind\u001b[38;5;241m.\u001b[39mIterable \u001b[38;5;129;01mand\u001b[39;00m \\\n\u001b[1;32m    634\u001b[0m         \u001b[38;5;28mself\u001b[39m\u001b[38;5;241m.\u001b[39m_IterableDataset_len_called \u001b[38;5;129;01mis\u001b[39;00m \u001b[38;5;129;01mnot\u001b[39;00m \u001b[38;5;28;01mNone\u001b[39;00m \u001b[38;5;129;01mand\u001b[39;00m \\\n\u001b[1;32m    635\u001b[0m         \u001b[38;5;28mself\u001b[39m\u001b[38;5;241m.\u001b[39m_num_yielded \u001b[38;5;241m>\u001b[39m \u001b[38;5;28mself\u001b[39m\u001b[38;5;241m.\u001b[39m_IterableDataset_len_called:\n",
      "File \u001b[0;32m/opt/conda/envs/pytorch/lib/python3.11/site-packages/torch/utils/data/dataloader.py:675\u001b[0m, in \u001b[0;36m_SingleProcessDataLoaderIter._next_data\u001b[0;34m(self)\u001b[0m\n\u001b[1;32m    673\u001b[0m \u001b[38;5;28;01mdef\u001b[39;00m \u001b[38;5;21m_next_data\u001b[39m(\u001b[38;5;28mself\u001b[39m):\n\u001b[1;32m    674\u001b[0m     index \u001b[38;5;241m=\u001b[39m \u001b[38;5;28mself\u001b[39m\u001b[38;5;241m.\u001b[39m_next_index()  \u001b[38;5;66;03m# may raise StopIteration\u001b[39;00m\n\u001b[0;32m--> 675\u001b[0m     data \u001b[38;5;241m=\u001b[39m \u001b[38;5;28;43mself\u001b[39;49m\u001b[38;5;241;43m.\u001b[39;49m\u001b[43m_dataset_fetcher\u001b[49m\u001b[38;5;241;43m.\u001b[39;49m\u001b[43mfetch\u001b[49m\u001b[43m(\u001b[49m\u001b[43mindex\u001b[49m\u001b[43m)\u001b[49m  \u001b[38;5;66;03m# may raise StopIteration\u001b[39;00m\n\u001b[1;32m    676\u001b[0m     \u001b[38;5;28;01mif\u001b[39;00m \u001b[38;5;28mself\u001b[39m\u001b[38;5;241m.\u001b[39m_pin_memory:\n\u001b[1;32m    677\u001b[0m         data \u001b[38;5;241m=\u001b[39m _utils\u001b[38;5;241m.\u001b[39mpin_memory\u001b[38;5;241m.\u001b[39mpin_memory(data, \u001b[38;5;28mself\u001b[39m\u001b[38;5;241m.\u001b[39m_pin_memory_device)\n",
      "File \u001b[0;32m/opt/conda/envs/pytorch/lib/python3.11/site-packages/torch/utils/data/_utils/fetch.py:51\u001b[0m, in \u001b[0;36m_MapDatasetFetcher.fetch\u001b[0;34m(self, possibly_batched_index)\u001b[0m\n\u001b[1;32m     49\u001b[0m         data \u001b[38;5;241m=\u001b[39m \u001b[38;5;28mself\u001b[39m\u001b[38;5;241m.\u001b[39mdataset\u001b[38;5;241m.\u001b[39m__getitems__(possibly_batched_index)\n\u001b[1;32m     50\u001b[0m     \u001b[38;5;28;01melse\u001b[39;00m:\n\u001b[0;32m---> 51\u001b[0m         data \u001b[38;5;241m=\u001b[39m \u001b[43m[\u001b[49m\u001b[38;5;28;43mself\u001b[39;49m\u001b[38;5;241;43m.\u001b[39;49m\u001b[43mdataset\u001b[49m\u001b[43m[\u001b[49m\u001b[43midx\u001b[49m\u001b[43m]\u001b[49m\u001b[43m \u001b[49m\u001b[38;5;28;43;01mfor\u001b[39;49;00m\u001b[43m \u001b[49m\u001b[43midx\u001b[49m\u001b[43m \u001b[49m\u001b[38;5;129;43;01min\u001b[39;49;00m\u001b[43m \u001b[49m\u001b[43mpossibly_batched_index\u001b[49m\u001b[43m]\u001b[49m\n\u001b[1;32m     52\u001b[0m \u001b[38;5;28;01melse\u001b[39;00m:\n\u001b[1;32m     53\u001b[0m     data \u001b[38;5;241m=\u001b[39m \u001b[38;5;28mself\u001b[39m\u001b[38;5;241m.\u001b[39mdataset[possibly_batched_index]\n",
      "File \u001b[0;32m/opt/conda/envs/pytorch/lib/python3.11/site-packages/torch/utils/data/_utils/fetch.py:51\u001b[0m, in \u001b[0;36m<listcomp>\u001b[0;34m(.0)\u001b[0m\n\u001b[1;32m     49\u001b[0m         data \u001b[38;5;241m=\u001b[39m \u001b[38;5;28mself\u001b[39m\u001b[38;5;241m.\u001b[39mdataset\u001b[38;5;241m.\u001b[39m__getitems__(possibly_batched_index)\n\u001b[1;32m     50\u001b[0m     \u001b[38;5;28;01melse\u001b[39;00m:\n\u001b[0;32m---> 51\u001b[0m         data \u001b[38;5;241m=\u001b[39m [\u001b[38;5;28;43mself\u001b[39;49m\u001b[38;5;241;43m.\u001b[39;49m\u001b[43mdataset\u001b[49m\u001b[43m[\u001b[49m\u001b[43midx\u001b[49m\u001b[43m]\u001b[49m \u001b[38;5;28;01mfor\u001b[39;00m idx \u001b[38;5;129;01min\u001b[39;00m possibly_batched_index]\n\u001b[1;32m     52\u001b[0m \u001b[38;5;28;01melse\u001b[39;00m:\n\u001b[1;32m     53\u001b[0m     data \u001b[38;5;241m=\u001b[39m \u001b[38;5;28mself\u001b[39m\u001b[38;5;241m.\u001b[39mdataset[possibly_batched_index]\n",
      "Cell \u001b[0;32mIn[52], line 21\u001b[0m, in \u001b[0;36mPhageBactPairDataset.__getitem__\u001b[0;34m(self, idx)\u001b[0m\n\u001b[1;32m     19\u001b[0m     pair_phage \u001b[38;5;241m=\u001b[39m torch\u001b[38;5;241m.\u001b[39msum(torch\u001b[38;5;241m.\u001b[39mload(\u001b[38;5;124m'\u001b[39m\u001b[38;5;124m/home/ec2-user/vibrio_embeddings/phage_embeddings/\u001b[39m\u001b[38;5;124m'\u001b[39m \u001b[38;5;241m+\u001b[39m pair[\u001b[38;5;124m'\u001b[39m\u001b[38;5;124mphage_id\u001b[39m\u001b[38;5;124m'\u001b[39m] \u001b[38;5;241m+\u001b[39m \u001b[38;5;124m'\u001b[39m\u001b[38;5;124m.pt\u001b[39m\u001b[38;5;124m'\u001b[39m), \u001b[38;5;241m0\u001b[39m)\n\u001b[1;32m     20\u001b[0m     pair_phage \u001b[38;5;241m=\u001b[39m pair_phage\u001b[38;5;241m/\u001b[39mtorch\u001b[38;5;241m.\u001b[39mmax(pair_phage)\n\u001b[0;32m---> 21\u001b[0m     pair_bact \u001b[38;5;241m=\u001b[39m torch\u001b[38;5;241m.\u001b[39msum(\u001b[43mtorch\u001b[49m\u001b[38;5;241;43m.\u001b[39;49m\u001b[43mload\u001b[49m\u001b[43m(\u001b[49m\u001b[38;5;124;43m'\u001b[39;49m\u001b[38;5;124;43m/home/ec2-user/vibrio_embeddings/host_embeddings/\u001b[39;49m\u001b[38;5;124;43m'\u001b[39;49m\u001b[43m \u001b[49m\u001b[38;5;241;43m+\u001b[39;49m\u001b[43m \u001b[49m\u001b[43mpair\u001b[49m\u001b[43m[\u001b[49m\u001b[38;5;124;43m'\u001b[39;49m\u001b[38;5;124;43mbacterial_id\u001b[39;49m\u001b[38;5;124;43m'\u001b[39;49m\u001b[43m]\u001b[49m\u001b[43m \u001b[49m\u001b[38;5;241;43m+\u001b[39;49m\u001b[43m \u001b[49m\u001b[38;5;124;43m'\u001b[39;49m\u001b[38;5;124;43m.pt\u001b[39;49m\u001b[38;5;124;43m'\u001b[39;49m\u001b[43m)\u001b[49m, \u001b[38;5;241m0\u001b[39m)\n\u001b[1;32m     22\u001b[0m     pair_bact \u001b[38;5;241m=\u001b[39m pair_bact\u001b[38;5;241m/\u001b[39mtorch\u001b[38;5;241m.\u001b[39mmax(pair_bact)\n\u001b[1;32m     24\u001b[0m \u001b[38;5;28;01mreturn\u001b[39;00m pair_phage, pair_bact, torch\u001b[38;5;241m.\u001b[39mtensor(label)\n",
      "File \u001b[0;32m/opt/conda/envs/pytorch/lib/python3.11/site-packages/torch/serialization.py:1025\u001b[0m, in \u001b[0;36mload\u001b[0;34m(f, map_location, pickle_module, weights_only, mmap, **pickle_load_args)\u001b[0m\n\u001b[1;32m   1023\u001b[0m             \u001b[38;5;28;01mexcept\u001b[39;00m \u001b[38;5;167;01mRuntimeError\u001b[39;00m \u001b[38;5;28;01mas\u001b[39;00m e:\n\u001b[1;32m   1024\u001b[0m                 \u001b[38;5;28;01mraise\u001b[39;00m pickle\u001b[38;5;241m.\u001b[39mUnpicklingError(UNSAFE_MESSAGE \u001b[38;5;241m+\u001b[39m \u001b[38;5;28mstr\u001b[39m(e)) \u001b[38;5;28;01mfrom\u001b[39;00m \u001b[38;5;28;01mNone\u001b[39;00m\n\u001b[0;32m-> 1025\u001b[0m         \u001b[38;5;28;01mreturn\u001b[39;00m \u001b[43m_load\u001b[49m\u001b[43m(\u001b[49m\u001b[43mopened_zipfile\u001b[49m\u001b[43m,\u001b[49m\n\u001b[1;32m   1026\u001b[0m \u001b[43m                     \u001b[49m\u001b[43mmap_location\u001b[49m\u001b[43m,\u001b[49m\n\u001b[1;32m   1027\u001b[0m \u001b[43m                     \u001b[49m\u001b[43mpickle_module\u001b[49m\u001b[43m,\u001b[49m\n\u001b[1;32m   1028\u001b[0m \u001b[43m                     \u001b[49m\u001b[43moverall_storage\u001b[49m\u001b[38;5;241;43m=\u001b[39;49m\u001b[43moverall_storage\u001b[49m\u001b[43m,\u001b[49m\n\u001b[1;32m   1029\u001b[0m \u001b[43m                     \u001b[49m\u001b[38;5;241;43m*\u001b[39;49m\u001b[38;5;241;43m*\u001b[39;49m\u001b[43mpickle_load_args\u001b[49m\u001b[43m)\u001b[49m\n\u001b[1;32m   1030\u001b[0m \u001b[38;5;28;01mif\u001b[39;00m mmap:\n\u001b[1;32m   1031\u001b[0m     f_name \u001b[38;5;241m=\u001b[39m \u001b[38;5;124m\"\u001b[39m\u001b[38;5;124m\"\u001b[39m \u001b[38;5;28;01mif\u001b[39;00m \u001b[38;5;129;01mnot\u001b[39;00m \u001b[38;5;28misinstance\u001b[39m(f, \u001b[38;5;28mstr\u001b[39m) \u001b[38;5;28;01melse\u001b[39;00m \u001b[38;5;124mf\u001b[39m\u001b[38;5;124m\"\u001b[39m\u001b[38;5;132;01m{\u001b[39;00mf\u001b[38;5;132;01m}\u001b[39;00m\u001b[38;5;124m, \u001b[39m\u001b[38;5;124m\"\u001b[39m\n",
      "File \u001b[0;32m/opt/conda/envs/pytorch/lib/python3.11/site-packages/torch/serialization.py:1446\u001b[0m, in \u001b[0;36m_load\u001b[0;34m(zip_file, map_location, pickle_module, pickle_file, overall_storage, **pickle_load_args)\u001b[0m\n\u001b[1;32m   1444\u001b[0m unpickler \u001b[38;5;241m=\u001b[39m UnpicklerWrapper(data_file, \u001b[38;5;241m*\u001b[39m\u001b[38;5;241m*\u001b[39mpickle_load_args)\n\u001b[1;32m   1445\u001b[0m unpickler\u001b[38;5;241m.\u001b[39mpersistent_load \u001b[38;5;241m=\u001b[39m persistent_load\n\u001b[0;32m-> 1446\u001b[0m result \u001b[38;5;241m=\u001b[39m \u001b[43munpickler\u001b[49m\u001b[38;5;241;43m.\u001b[39;49m\u001b[43mload\u001b[49m\u001b[43m(\u001b[49m\u001b[43m)\u001b[49m\n\u001b[1;32m   1448\u001b[0m torch\u001b[38;5;241m.\u001b[39m_utils\u001b[38;5;241m.\u001b[39m_validate_loaded_sparse_tensors()\n\u001b[1;32m   1449\u001b[0m torch\u001b[38;5;241m.\u001b[39m_C\u001b[38;5;241m.\u001b[39m_log_api_usage_metadata(\n\u001b[1;32m   1450\u001b[0m     \u001b[38;5;124m\"\u001b[39m\u001b[38;5;124mtorch.load.metadata\u001b[39m\u001b[38;5;124m\"\u001b[39m, {\u001b[38;5;124m\"\u001b[39m\u001b[38;5;124mserialization_id\u001b[39m\u001b[38;5;124m\"\u001b[39m: zip_file\u001b[38;5;241m.\u001b[39mserialization_id()}\n\u001b[1;32m   1451\u001b[0m )\n",
      "File \u001b[0;32m/opt/conda/envs/pytorch/lib/python3.11/site-packages/torch/serialization.py:1416\u001b[0m, in \u001b[0;36m_load.<locals>.persistent_load\u001b[0;34m(saved_id)\u001b[0m\n\u001b[1;32m   1414\u001b[0m \u001b[38;5;28;01melse\u001b[39;00m:\n\u001b[1;32m   1415\u001b[0m     nbytes \u001b[38;5;241m=\u001b[39m numel \u001b[38;5;241m*\u001b[39m torch\u001b[38;5;241m.\u001b[39m_utils\u001b[38;5;241m.\u001b[39m_element_size(dtype)\n\u001b[0;32m-> 1416\u001b[0m     typed_storage \u001b[38;5;241m=\u001b[39m \u001b[43mload_tensor\u001b[49m\u001b[43m(\u001b[49m\u001b[43mdtype\u001b[49m\u001b[43m,\u001b[49m\u001b[43m \u001b[49m\u001b[43mnbytes\u001b[49m\u001b[43m,\u001b[49m\u001b[43m \u001b[49m\u001b[43mkey\u001b[49m\u001b[43m,\u001b[49m\u001b[43m \u001b[49m\u001b[43m_maybe_decode_ascii\u001b[49m\u001b[43m(\u001b[49m\u001b[43mlocation\u001b[49m\u001b[43m)\u001b[49m\u001b[43m)\u001b[49m\n\u001b[1;32m   1418\u001b[0m \u001b[38;5;28;01mreturn\u001b[39;00m typed_storage\n",
      "File \u001b[0;32m/opt/conda/envs/pytorch/lib/python3.11/site-packages/torch/serialization.py:1381\u001b[0m, in \u001b[0;36m_load.<locals>.load_tensor\u001b[0;34m(dtype, numel, key, location)\u001b[0m\n\u001b[1;32m   1379\u001b[0m     storage \u001b[38;5;241m=\u001b[39m overall_storage[storage_offset:storage_offset \u001b[38;5;241m+\u001b[39m numel]\n\u001b[1;32m   1380\u001b[0m \u001b[38;5;28;01melse\u001b[39;00m:\n\u001b[0;32m-> 1381\u001b[0m     storage \u001b[38;5;241m=\u001b[39m \u001b[43mzip_file\u001b[49m\u001b[38;5;241;43m.\u001b[39;49m\u001b[43mget_storage_from_record\u001b[49m\u001b[43m(\u001b[49m\u001b[43mname\u001b[49m\u001b[43m,\u001b[49m\u001b[43m \u001b[49m\u001b[43mnumel\u001b[49m\u001b[43m,\u001b[49m\u001b[43m \u001b[49m\u001b[43mtorch\u001b[49m\u001b[38;5;241;43m.\u001b[39;49m\u001b[43mUntypedStorage\u001b[49m\u001b[43m)\u001b[49m\u001b[38;5;241m.\u001b[39m_typed_storage()\u001b[38;5;241m.\u001b[39m_untyped_storage\n\u001b[1;32m   1382\u001b[0m \u001b[38;5;66;03m# swap here if byteswapping is needed\u001b[39;00m\n\u001b[1;32m   1383\u001b[0m \u001b[38;5;28;01mif\u001b[39;00m byteorderdata \u001b[38;5;129;01mis\u001b[39;00m \u001b[38;5;129;01mnot\u001b[39;00m \u001b[38;5;28;01mNone\u001b[39;00m:\n",
      "\u001b[0;31mKeyboardInterrupt\u001b[0m: "
     ]
    }
   ],
   "source": [
    "torch.manual_seed(42)\n",
    "\n",
    "# phage_encoder = SimpleEmbedding().to(device)\n",
    "# bacteria_encoder = SimpleEmbedding().to(device)\n",
    "encoder = SimpleEmbedding().to(device)\n",
    "# phage_optimizer = torch.optim.Adam(phage_encoder.parameters(), lr=0.001)\n",
    "# bacteria_optimizer = torch.optim.Adam(bacteria_encoder.parameters(), lr=0.001)\n",
    "optimizer = torch.optim.Adam(encoder.parameters(), lr=0.001)\n",
    "criterion = ContrastiveLoss(margin=1)\n",
    "\n",
    "training_loss = []\n",
    "validation_loss = []\n",
    "for epoch in range(25):\n",
    "    with tqdm.tqdm(total=len(train_loader), desc='Epoch ' + str(epoch+1)) as pbar:\n",
    "        batch_train_loss = 0\n",
    "        count = 0\n",
    "        for batch in train_loader:\n",
    "            pbar.update(1)\n",
    "\n",
    "            batch_phage = batch[0].to(device)\n",
    "            batch_bacteria = batch[1].to(device)\n",
    "            batch_labels = batch[2].to(device)\n",
    "\n",
    "            # print(batch_phage.device)\n",
    "            # print(phage_encoder.device)\n",
    "\n",
    "            # phage_batch_embed = phage_encoder(batch_phage)\n",
    "            # bact_batch_embed = bacteria_encoder(batch_bacteria)\n",
    "            phage_batch_embed = encoder(batch_phage)\n",
    "            bact_batch_embed = encoder(batch_bacteria)\n",
    "\n",
    "            train_loss = criterion(phage_batch_embed, bact_batch_embed, batch_labels)\n",
    "            batch_train_loss += train_loss.item()\n",
    "            count += 1\n",
    "\n",
    "            # phage_optimizer.zero_grad()\n",
    "            # bacteria_optimizer.zero_grad()\n",
    "            optimizer.zero_grad()\n",
    "            train_loss.backward()\n",
    "            # phage_optimizer.step()\n",
    "            # bacteria_optimizer.step()\n",
    "            optimizer.step()\n",
    "            \n",
    "        training_loss.append(batch_train_loss/count)\n",
    "\n",
    "        with torch.no_grad():\n",
    "            batch_val_loss = 0\n",
    "            count = 0\n",
    "            for batch in val_loader:\n",
    "                val_batch_phage = batch[0].to(device)\n",
    "                val_batch_bacteria = batch[1].to(device)\n",
    "                val_batch_labels = batch[2].to(device)\n",
    "\n",
    "                # phage_batch_embed_val = phage_encoder(val_batch_phage)\n",
    "                # bact_batch_embed_val = bacteria_encoder(val_batch_bacteria)\n",
    "                phage_batch_embed_val = encoder(val_batch_phage)\n",
    "                bact_batch_embed_val = encoder(val_batch_bacteria)\n",
    "\n",
    "                val_loss = criterion(phage_batch_embed_val, bact_batch_embed_val, val_batch_labels)\n",
    "                batch_val_loss += val_loss.item()\n",
    "                count += 1\n",
    "\n",
    "        validation_loss.append(batch_val_loss/count)\n",
    "\n",
    "        print(training_loss[-1])\n",
    "        print(validation_loss[-1])"
   ]
  },
  {
   "cell_type": "code",
   "execution_count": 70,
   "metadata": {},
   "outputs": [
    {
     "name": "stderr",
     "output_type": "stream",
     "text": [
      "100%|██████████| 144/144 [00:33<00:00,  4.34it/s]\n"
     ]
    },
    {
     "name": "stdout",
     "output_type": "stream",
     "text": [
      "        Euclidean Distance\n",
      "Labels                    \n",
      "0.0               1.261619\n",
      "1.0               1.079639\n",
      "        Euclidean Distance\n",
      "Labels                    \n",
      "0.0               0.144880\n",
      "1.0               0.278252\n",
      "        Euclidean Distance\n",
      "Labels                    \n",
      "0.0               4.933101\n",
      "1.0               3.544385\n"
     ]
    },
    {
     "data": {
      "image/png": "[encoded data removed]",
      "text/plain": [
       "<Figure size 640x480 with 1 Axes>"
      ]
     },
     "metadata": {},
     "output_type": "display_data"
    }
   ],
   "source": [
    "distances = []\n",
    "labels = []\n",
    "with torch.no_grad():\n",
    "    with tqdm.tqdm(total=len(train_loader)) as pbar:\n",
    "        for batch in train_loader:\n",
    "            pbar.update(1)\n",
    "\n",
    "            batch_phage = encoder(batch[0].to(device))\n",
    "            batch_bacteria = encoder(batch[1].to(device))\n",
    "            batch_labels = batch[2].to(device)\n",
    "            \n",
    "            distances.append(torch.sqrt(torch.sum(torch.pow(batch_phage - batch_bacteria, 2), 1)).cpu())\n",
    "            labels.append(batch_labels.cpu())\n",
    "\n",
    "    distances = np.concatenate(distances)\n",
    "    labels = np.concatenate(labels)\n",
    "\n",
    "    temp = pd.DataFrame([distances, labels], index=['Euclidean Distance', 'Labels']).transpose()\n",
    "    gb = temp.groupby('Labels')\n",
    "    print(gb.mean())\n",
    "    print(gb.min())\n",
    "    print(gb.max())\n",
    "    plt.title('Euclidean distances between positive and negative pairs before training')\n",
    "    sns.boxplot(data=temp, x='Labels', y='Euclidean Distance')\n",
    "    plt.show()"
   ]
  },
  {
   "cell_type": "code",
   "execution_count": 60,
   "metadata": {},
   "outputs": [
    {
     "name": "stdout",
     "output_type": "stream",
     "text": [
      "(213,)\n",
      "(213, 512)\n",
      "(247,)\n",
      "(247, 512)\n"
     ]
    }
   ],
   "source": [
    "unique_test_phages = test['phage_id'].unique()\n",
    "unique_test_bacteria = test['bacterial_id'].unique()\n",
    "\n",
    "# test_phage_dataset = TestDataset(unique_test_phages, 'mean')\n",
    "# test_bact_dataset = TestDataset(unique_test_bacteria, 'mean', phage=False)\n",
    "test_phage_dataset = TestDataset(unique_test_phages, 'sum')\n",
    "test_bact_dataset = TestDataset(unique_test_bacteria, 'sum', phage=False)\n",
    "phage_loader = DataLoader(test_phage_dataset, batch_size=int(len(test_phage_dataset)/2))\n",
    "bacteria_loader = DataLoader(test_bact_dataset, batch_size=int(len(test_bact_dataset)/2))\n",
    "\n",
    "phage_ids, output_phage_embeddings = predict(phage_loader, encoder)\n",
    "print(phage_ids.shape)\n",
    "print(output_phage_embeddings.shape)\n",
    "\n",
    "bact_ids, output_bact_embeddings = predict(bacteria_loader, encoder)\n",
    "print(bact_ids.shape)\n",
    "print(output_bact_embeddings.shape)"
   ]
  },
  {
   "cell_type": "code",
   "execution_count": 61,
   "metadata": {},
   "outputs": [
    {
     "name": "stdout",
     "output_type": "stream",
     "text": [
      "[1.1548969, 1.0631624, 0.80996066, 0.8733764, 0.5753119, 1.3797718, 1.3627619, 1.5963103, 1.0170525, 0.944071, 2.5232635, 1.0962404, 0.45197496, 1.0584451, 1.2543873, 1.3686757, 1.0492194, 1.5101935, 1.0858202, 1.0329655, 1.2524621, 1.6164806, 0.52737623, 1.1615635, 1.3534484, 1.330331, 0.9714699, 1.053198, 0.93385947, 0.91266495, 1.5428557, 1.2407244, 0.6222665, 1.4687259, 1.221862, 0.8280573, 1.2554663, 1.2635586, 1.3741885, 1.1183292, 1.7879838, 1.0044816, 1.100931, 0.9285183, 1.2954714, 1.2852508, 1.4551169, 1.3435844, 0.72631, 1.2416084, 1.0671549, 1.2076018, 1.8706498, 1.5168494, 0.6189422, 1.0415678, 1.1954005, 0.81070167, 1.2473937, 0.97625035, 1.2825834, 1.7323086, 0.9114221, 1.2731317, 1.596116, 1.4659834, 1.252409, 1.3140755, 1.3530216, 1.1676011, 1.3600354, 1.5169197, 1.6441232, 0.9509607, 1.4158727, 1.2076335, 1.1969011, 1.1300967, 1.0285425, 1.4910028, 1.0406779, 1.4015944, 1.6050721, 0.98153406, 1.1398071, 1.4721705, 0.9628155, 1.5436686, 1.1731526, 1.3067678, 1.1702446, 0.8224323, 1.1530168, 0.82940966, 1.1110198, 1.1870141, 1.1907341, 1.7703954, 1.5495298, 1.298737, 0.94010717, 1.0933121, 1.2934622, 1.3275484, 0.77158535, 0.97895366, 1.5023239, 1.3326507, 1.5586326, 1.5982704, 1.23098, 1.3803235, 3.745538, 1.7529956, 1.0005494, 1.1493726, 1.3066864, 1.0673892, 1.5007627, 1.3577505, 1.1444834, 1.4740295, 1.4244008, 0.7701914, 1.1596644, 1.4238753, 1.2266762, 0.9994286, 1.117273, 1.2732725, 0.5945777, 0.5712235, 1.4379392, 1.7426553, 0.97526354, 1.1287693, 1.6161176, 1.1474513, 1.3059254, 1.5134794, 1.264502, 1.5219513, 1.1103772, 0.8960592, 1.3652533, 1.8254181, 0.8454067, 1.0933702, 1.2886142, 1.2951763, 1.1217325, 1.2167243, 3.264907, 1.3968464, 1.6487774, 1.5242287, 1.2103267, 1.4345282, 1.1269535, 1.673341, 0.8566595, 2.20868, 0.9199738, 2.265493, 0.98137814, 0.8957096, 1.198905, 1.0295764, 1.1506648, 0.86442494, 0.88259065, 1.4682024, 1.3787155, 1.4511398, 1.4986987, 0.8550978, 1.1422067, 1.0274676, 0.9885883, 1.1964724, 1.1108704, 1.1731349, 1.359874, 3.0238342, 0.9619685, 1.3161794, 0.98046374, 1.7067637, 1.2981713, 1.3109446, 1.8146839, 1.4110755, 0.89513296, 1.3641114, 1.4167421, 1.336404, 2.0186377, 1.0470997, 1.1110554, 1.3341132, 1.2315534, 1.4228867, 1.3213013, 1.2360456, 1.3049116, 1.4702253, 0.53956413, 1.2063116, 0.7562166, 1.3798609, 1.3833234, 0.9990575, 1.3401103, 1.178906, 0.8453095, 0.83667696, 2.2663648, 1.5154256, 1.3600259, 0.7185803, 1.4004731, 1.4689693, 0.56110823, 1.3019867, 1.1943585, 1.0266829, 1.8621757, 1.836789, 1.3533032, 0.62236834, 1.8466123, 1.3171684, 1.0208279, 1.2109737, 1.6187729, 1.0279107, 0.8112229, 1.0149984, 1.3529247, 0.9423801, 1.107756, 0.95632863, 1.3787576, 1.2139486, 1.461285, 1.5163828, 1.7716877, 0.719765, 1.467053, 1.2253497, 1.6749207, 1.1782804, 0.91346794, 1.3572458, 1.059222, 0.8996271, 1.1435037, 1.1749614, 1.267764, 1.790234, 1.1381252, 1.1658242, 1.1585493, 1.4095627, 1.1911552, 1.0366676, 1.4717329, 1.5395093, 1.2634145, 1.5253772, 0.95648134, 1.0469327, 1.3197821, 0.8543104, 1.2661504, 1.4907274, 1.480666, 1.0582236, 1.367318, 1.1737431, 1.0204339, 0.7962741, 1.1947861, 1.5798913, 1.9267817, 1.435271, 1.2473475, 1.1809506, 0.8950114, 1.0794984, 1.7920333, 1.2509236, 1.273876, 1.5470893, 1.5330311, 1.252977, 1.2569646, 1.4288567, 1.3332652, 1.6078099, 1.2569629, 1.0111297, 1.1130538, 1.3039554, 1.2865564, 1.1080239, 1.3426579, 1.2771612, 0.43448308, 1.0560124, 1.2519339, 0.920014, 0.867478, 1.4013901, 1.3699665, 1.7955545, 1.1803483, 1.183172, 1.810034, 2.4690053, 0.85896766, 1.0818181, 1.1785005, 1.543703, 1.0365797, 1.7210437, 0.8938448, 1.1316639, 0.9491815, 1.1044194, 1.0755537, 1.1878885, 1.2911259, 2.5483232, 1.2636139, 1.566836, 1.1320487, 2.9663837, 1.1019487, 1.1981187, 0.61500895, 1.0124837, 1.6327606, 1.1396235, 1.155098, 1.319909, 1.7448121, 1.2181486, 1.5340046, 0.9599722, 1.1972566, 1.2602377, 1.3719199, 1.4325982, 1.5775974, 1.1105152, 0.9090371, 1.1456791, 1.4051695, 1.9623431, 0.8116412, 0.93202627, 1.7020574, 0.9802425, 0.6466231, 1.9730341, 1.2519287, 1.6091682, 0.8244826, 1.305315, 1.4274607, 1.3410598, 1.1019487, 1.3480362, 1.4266839, 0.7678847, 1.2349554, 1.2848998, 0.4018953, 0.7441662, 1.02722, 0.56171995, 1.2750039, 1.3706084, 0.949697, 1.8524519, 1.4837856, 1.0674864, 0.82375413, 1.1661894, 1.2444601, 1.105223, 0.94193774, 0.7857235, 1.1498111, 1.1904336, 1.0834785, 1.4095081, 1.1424352, 1.6262308, 1.120926, 1.5207624, 1.3631922, 1.6755393, 1.521063, 1.0239391, 1.1015602, 1.3991476, 1.2213336, 1.3318026, 1.5520838, 1.028269, 1.3594503, 1.0445796, 1.2154033, 1.3658499, 1.2487861, 0.81116736, 1.2374336, 0.83424294, 1.1867775, 1.1354705, 1.6298388, 1.3020834, 0.94387, 1.5836688, 1.3084095, 1.2667055, 0.81140983, 1.4102036, 1.8200365, 1.5622209, 0.8948294, 1.0346649, 1.1940693, 1.0822612, 1.5622587, 1.5199946, 1.5796145, 1.1829156, 0.6513253, 1.6025163, 1.2240714, 1.3486534, 1.2229457, 1.6836883, 1.201003, 0.55891883, 0.91221446, 1.2381566, 1.3802912, 1.7663964, 1.7536128, 3.4275944, 1.3015811, 1.6224288, 0.85892576, 0.99764866, 1.1550254, 1.2788111, 1.5240675, 1.1417358, 1.4457062, 0.941571, 0.69601446, 1.3912429, 0.8066423, 1.0948963, 2.143862, 1.4781362, 1.4259856, 1.2530624, 1.3564872, 1.5478652, 1.1436502, 1.6385665, 1.5271347, 0.90459526, 1.2777356, 0.87143743, 1.2573727, 1.5035536, 1.5309714, 1.0362939, 1.3560376, 1.9681083, 0.97506243, 0.94627666, 1.5996695, 1.3373522, 0.79717284, 0.94301975, 1.6199425, 1.1926309, 3.0146716, 1.1188129, 1.0409237, 1.4692246, 1.2169856, 4.337071, 1.5682275, 1.1202196, 1.0478553, 1.2924625, 1.1213626, 0.7477001, 1.2731926, 1.0441477, 1.0594988, 1.8489454, 1.4966776, 1.3102993, 0.754351, 1.3491745, 2.3931804, 1.4842081, 1.1771445, 0.6824867, 1.1931703, 1.3562695, 1.355102, 0.95521563, 1.3348801, 1.6570011, 1.3660946, 1.2721665, 2.309094, 1.1796739, 1.573724, 0.87842137, 1.4398382, 1.3278133, 1.1080554, 1.0172062, 1.5401943, 0.86423, 1.2887455, 0.96981966, 1.5426642, 0.8782639, 1.6464493, 1.369398, 1.3261355, 1.9370922, 0.9892444, 1.5620123, 0.982303, 1.0278077, 1.032735, 1.2577901, 1.4405491, 1.3112142, 1.1541464, 0.95581174, 1.0140753, 0.90974027, 0.54570675, 1.2565316, 1.779496, 1.0764583, 1.2962897, 0.81982756, 1.415866, 3.015232, 2.505975, 0.89068043, 0.96789175, 1.1828673, 0.59896547, 4.5508213, 1.2819276, 1.058084, 0.714388, 1.0668517, 1.8682058, 0.9312026, 1.18608, 1.3550898, 1.5929145, 1.1811334, 0.65738845, 1.2411648, 1.4457222, 3.6453016, 1.0210041, 1.2961953, 0.9359185, 1.6780937, 1.5231462, 1.5730513, 1.0504518, 1.2826203, 0.7074652, 1.6276137, 1.1823131, 1.528237, 0.96089596, 1.0214022, 0.90473205, 1.7609189, 2.487762, 1.5199386, 1.7828513, 1.1764795, 1.5787551, 0.8468821, 1.046822, 1.2978926, 1.522828, 1.2615967, 0.82831866, 0.8569643, 1.6543987, 1.6689682, 0.8104529, 1.2379724, 1.2826905, 1.0158526, 1.1404308, 1.5916384, 1.3995603, 1.2946821, 1.1924403, 1.958708, 1.1037904, 0.9150487, 1.276159, 1.4807673, 1.395283, 0.8230365, 1.050674, 1.0668842, 2.454256, 1.1809552, 1.3454119, 1.0789005, 1.4813895, 1.1611775, 1.7763904, 1.0215083, 0.8284248, 0.34230042, 0.97796386, 1.25661, 1.5611483, 1.3977766, 1.3308232, 1.5007552, 0.8101135, 1.904851, 1.4438343, 1.3260444, 1.3518898, 1.6214123, 0.82402706, 1.4257262, 1.6215353, 1.2453823, 1.5576543, 1.1062325, 0.8953588, 1.3853649, 1.2749878, 1.5643867, 0.8627939, 0.9863539, 1.7123741, 0.7458693, 1.1179062, 0.78067166, 1.0078479, 1.0589981, 1.7360319, 1.916434, 0.9018075, 1.3696421, 1.3678668, 1.2498436, 1.5470636, 1.0233496, 1.4591379, 1.2661604, 0.9875576, 2.6526363, 1.4092317, 1.1075854, 1.1810544, 1.2235961, 1.1074784, 0.8878367, 1.4050227, 1.4133754, 0.97571754, 1.2681495, 1.0300022, 1.3525529, 1.4113624, 1.697029, 1.0550681, 1.2518374, 0.9216955, 1.2248379, 0.99329376, 0.77289367, 0.9741815, 1.2717979, 1.2258689, 1.1833423, 1.1054757, 1.0073332, 0.92922896, 1.4467465, 1.6949661, 1.0870227, 1.339849, 0.9789387, 0.9666035, 1.2519549, 0.5864042, 1.2563255, 1.0640733, 1.9899572, 1.0054984, 0.58840394, 1.2869865, 1.5416516, 0.9640131, 0.98939574, 1.4822279, 0.9878955, 1.2685269, 2.3727417, 1.3171091, 0.949182, 0.95514554, 1.0389217, 1.2883697, 0.9167513, 1.398633, 1.4287142, 1.5499494, 2.586418, 1.4272873, 1.5866084, 1.11851, 1.286426, 2.0743375, 0.8376735, 0.86605656, 1.3006793, 1.0381438, 0.61955106, 0.82055146, 1.9988855, 1.370582, 1.7122966, 1.1103194, 0.8867285, 1.0990467, 0.9879574, 1.2539033, 1.2748129, 1.2888318, 0.6120167, 0.57099456, 2.848942, 0.91548777, 1.0074663, 0.78033435, 1.4177603, 1.6430404, 1.7019081, 1.0804466, 0.905789, 1.3920102, 1.2630237, 1.3603277, 1.4079319, 1.0110638, 1.8518733, 1.3085136, 2.6472225, 1.0227379, 1.3229121, 1.1183231, 2.2813344, 0.9463853, 1.4426373, 0.96512383, 1.1522467, 1.1074822, 1.3514487, 1.3331304, 0.9771949, 1.2296482, 0.99508774, 1.1292882, 1.5119503, 1.3124775, 1.3936844, 0.9555039, 1.0925144, 0.7494611, 1.4395463, 1.8663583, 1.2841543, 1.0754738, 1.4775637, 1.4371176, 1.5080242, 1.0728825, 0.7950965, 0.9461833, 0.94842863, 1.0176249, 1.857242, 1.0332538, 1.5018455, 1.0056082, 1.3968364, 1.3604752, 0.8941826, 1.0522759, 2.9536479, 1.2993244, 1.352566, 1.5139872, 1.1632437, 1.2021927, 1.6414084, 1.3551809, 0.8641943, 0.9255598, 0.8238766, 0.8525078, 1.2026837, 0.8708609, 1.0416573, 1.2555195, 1.0266105, 1.1033729, 1.3246487, 1.1129699, 1.3270631, 1.1725469, 1.66345, 1.1419979, 0.9565171, 1.3636771, 1.0515537, 1.1098919, 0.80134445, 0.8355804, 0.9947754, 1.1723613, 2.0466893, 1.7115707, 1.1576755, 1.2456852, 1.3800334, 1.0632644, 1.3968136, 1.1898723, 1.3705562, 1.2863137, 0.7399087, 1.2817847, 2.3813667, 1.1375145, 1.1846579, 0.9761693, 1.686424, 1.3244877, 0.7227837, 1.4644434, 1.8629794, 0.9657365, 1.2312043, 1.5963484, 1.3903825, 1.1160169, 0.9889781, 0.8964607, 0.92788464, 1.1184361, 0.9675884, 1.2532072, 1.2278887, 1.3453724, 1.3782384, 1.1383061, 1.2273774, 0.90837705, 1.5207942, 1.0411954, 1.6678518, 1.5638627, 4.381997, 1.3494174, 0.9857793, 1.3590635, 0.931779, 0.9342324, 1.4792672, 1.0946718, 1.210257, 1.166762, 1.076188, 1.1532632, 4.4840956, 1.4622921, 1.0796735, 4.319715, 0.9991681, 1.7087382, 1.0057819, 0.99167085, 1.3739387, 1.3404912, 1.3921492, 1.6359371, 0.8474988, 1.0989705, 2.575088, 1.1298218, 1.0791497, 2.7468228, 1.5914859, 1.226853, 1.4753041, 1.7262894, 1.0762779, 1.0625869, 0.9899556, 1.1831828, 1.1539376, 1.325807, 2.8726068, 1.1291791, 0.96802133, 0.88316137, 1.5569644, 0.8795905, 1.4662685, 1.2130901, 0.85677636, 1.2441695, 1.6205148, 1.6717961, 1.102084, 2.0418444, 0.91989875, 1.5670644, 1.0028487, 1.1526543, 1.018314, 1.2317086, 1.2011373, 1.5763713, 1.004268, 1.3149794, 1.4769647, 1.1744105, 1.35625, 1.1018792, 1.2053542, 1.4292916, 1.096732, 1.7294533, 1.1621443, 1.2039727, 1.3201404, 1.31056, 1.3433603, 1.481704, 1.7922275, 1.000076, 0.89138436, 1.0241667, 1.2100977, 1.2327061, 1.3635205, 1.0371969, 2.1259158, 1.1842324, 1.5995879, 1.3633511, 1.0613723, 0.9203691, 1.0734569, 1.3335507, 0.8954842, 1.0513412, 0.6169252, 1.3178852, 1.6852885, 1.1363863, 1.2528576, 1.3598629, 1.3609818, 0.83875865, 1.4424207, 1.3263967, 1.7035444, 1.1050136, 0.79742354, 1.0332438, 1.5560163, 1.328967, 1.1137017, 1.0366306, 1.1845337, 1.1438416, 1.180231, 1.0421041, 0.9707402, 0.37545022, 1.2411853, 0.9491712, 1.7038236, 1.0068972, 1.369662, 1.2689289, 1.0893946, 0.8839801, 1.1647676, 1.1390367, 1.1947945, 1.3618554, 1.3121152, 1.4400792, 1.7416364, 1.6599116, 0.9281683, 1.3397075, 1.1918615, 1.3422704, 0.79585147, 0.928872, 0.8229277, 1.03832, 0.9516109, 0.83021694, 1.2066497, 1.3175039, 1.0815235, 1.0274211, 0.9105078, 1.3218621, 1.3029428, 1.3180039, 1.46898, 1.1673259, 1.4985781, 0.24373668, 1.2607002, 1.447699, 2.0953617, 0.8412434, 1.4604708, 1.4261229, 1.9236195, 1.0312989, 1.8800577, 1.2700266, 1.3431251, 1.0729623, 0.909397, 0.7612302, 1.3835957, 1.1728765, 0.3447638, 0.93904364, 0.973892, 1.3158041, 1.0864311, 1.4359086, 1.1671784, 1.2121677, 2.261657, 1.6533862, 1.1311857, 1.3481793, 1.0208035, 1.5651258, 0.59054047, 0.9490328, 1.2730184, 1.0738431, 1.1566929, 0.9689609, 1.4127576, 1.3669797, 0.81267726, 1.061421, 1.3162956, 2.7948825, 1.247395, 1.256597, 1.3939875, 0.7755154, 1.4845517, 0.8452099, 1.1889311, 1.530481, 1.9320457, 1.1709019, 1.5493416, 2.0648594, 1.0428051, 1.3062692, 1.0001411, 1.9016477, 1.1799579, 1.7828375, 1.2291993, 1.3738337, 1.3904135, 1.019051, 0.99238545, 1.4209458, 1.6594989, 1.0228903, 1.0082896, 1.6216961, 1.2769164, 1.3496945, 1.2682472, 1.1588774, 0.9307753, 1.4633759, 1.4355189, 1.2893183, 1.1937231, 0.34430957, 1.2264894, 0.9492397, 1.4047301, 1.3010312, 1.2757745, 1.7893964, 1.9058545, 1.2469854, 1.2265161, 1.0656766, 1.085141, 1.2846533, 0.8758104, 1.6149418, 1.4744905, 1.1475697, 1.220847, 4.495865, 1.3340671, 0.58250743, 1.1130798, 1.6348174, 1.0067394, 1.1337543, 1.056577, 1.2132059, 1.2707325, 1.2959288, 0.38731927, 1.2679344, 1.3437077, 1.2820777, 0.58879536, 1.2118812, 0.7725132, 1.4193735, 1.2957137, 1.1296082, 1.5281469, 1.0795418, 1.326115, 0.4820107, 1.4135104, 0.86183125, 1.3212644, 1.758116, 1.5970503, 1.1387999, 1.885082, 2.8395016, 1.0022695, 0.85412586, 1.5500861, 1.1812059, 1.2676175, 1.432334, 1.1524209, 1.5462253, 1.351995, 1.2603958, 0.63609743, 1.3212682, 1.3759594, 1.5486909, 1.0493546, 0.907842, 1.3433615, 0.91041374, 1.6981934, 1.3793226, 1.2068722, 1.0811615, 1.0073589, 1.0385838, 0.7812517, 0.8883381, 0.90819377, 1.4864757, 1.4520627, 1.1808431, 1.1502366, 1.2002614, 1.5702164, 1.2827969, 0.9928944, 1.4289435, 1.0616975, 1.345804, 1.2778132, 1.2281841, 1.32855, 1.9055771, 1.1695176, 1.220046, 1.4743663, 1.1729445, 0.824907, 1.3028163, 1.2604878, 0.8771809, 0.9818309, 0.98633397, 1.19683, 1.7163665, 0.94143057, 1.2262208, 1.0861517, 1.1742288, 0.99420476, 1.1272144, 0.56320316, 1.4836653, 2.4243424, 1.2193072, 1.7360787, 1.2981685, 1.6351504, 0.9682222, 1.8297632, 0.85905176, 1.6465676, 0.5281424, 0.9033337, 1.9763808, 1.0047776, 1.7802799, 1.1995581, 1.1170138, 1.2592521, 1.0835088, 1.2171261, 1.128989, 0.9884647, 1.1264323, 1.3776993, 0.29812583, 0.7556986, 1.0238636, 1.8830996, 0.7923929, 0.9942873, 1.7330452, 0.8905587, 1.2486705, 0.8993032, 0.7678611, 1.2937692, 1.504986, 0.7731025, 1.4221538, 0.4492838, 4.6456184, 1.1942855, 1.1002263, 1.6024634, 1.7544163, 1.5189017, 1.1359576, 0.95598, 1.3526977, 1.5327665, 0.92947096, 1.320081, 1.0899537, 0.8791608, 1.2500403, 0.939927, 0.984389, 1.1054381, 1.0858829, 1.4565419, 1.0272247, 1.0278074, 1.0246295, 1.3287618, 0.8193387, 1.163991, 1.1600926, 1.262343, 1.0964272, 1.6285856, 1.1212252, 1.0439088, 1.5987895, 1.0722889, 1.3253328, 2.3937757, 1.945982, 0.99301803, 1.2902197, 1.2928802, 1.6056776, 3.0685618, 1.1162791, 1.1740298, 0.62838185, 0.75684, 1.539374, 1.3270342, 1.9074514, 1.323724, 1.7970747, 1.4385892, 1.2498238, 1.1579772, 0.9708279, 1.6747535, 1.9387089, 1.1501851, 0.97401774, 1.5729114, 1.5303868, 1.270673, 1.6469558, 1.4265747, 1.5818863, 2.758841, 1.0823284, 0.92940205, 1.1196135, 1.2134792, 1.7454376, 1.1115763, 1.2268108, 1.236697, 1.4430335, 0.8574303, 0.83100617, 0.7585731, 0.7372026, 1.3626689, 1.1893611, 1.8865454, 1.0850943, 0.946872, 1.5373747, 1.1099634, 0.89268434, 1.4533947, 1.0210083, 1.3187554, 1.2263004, 1.0411034, 1.5602834, 1.2338424, 1.1846988, 1.5570958, 1.174315, 1.562951, 1.2361982, 1.2650338, 0.85936207, 1.607611, 0.6351705, 1.746078, 1.0889336, 1.1304027, 1.173666, 1.5875291, 1.1561625, 1.4345323, 1.3626888, 1.3966402, 1.2838922, 1.2962061, 1.5863767, 0.653701, 1.0947869, 1.297178, 1.806355, 1.2678103, 1.3181326, 0.8721183, 1.2761756, 1.0399506, 1.2096397, 1.400481, 1.2181451, 1.5531358, 0.63439554, 0.8329644, 1.456602, 4.4004717, 1.3517011, 1.4312102, 1.4869485, 1.409281, 1.156719, 1.4191982, 1.0073794, 1.6222783, 1.2512674, 1.1237376, 1.0785915, 1.0777496, 1.5580167, 1.8243229, 1.2752224, 1.1626085, 1.2872611, 1.1657121, 1.3747696, 1.3942881, 2.573597, 0.9534831, 1.0693073, 1.5572588, 1.0781037, 1.0233654, 1.4279811, 1.4889336, 1.1789279, 1.0436486, 1.6478474, 1.1852381, 1.0495746, 0.78317356, 1.3961006, 1.0318812, 1.2273186, 0.6835974, 1.6847364, 0.7638213, 1.226276, 0.94754606, 1.1912134, 0.9006522, 2.8705077, 1.3482609, 1.1624652, 1.4380383, 0.95126206, 1.0030494, 1.531841, 0.9653585, 0.9403539, 1.955239, 0.45188287, 1.796284, 1.0040262, 0.68984544, 1.5721009, 1.8107187, 1.2761558, 1.3169297, 1.8216598, 1.0106331, 1.5664093, 1.3906754, 0.94658023, 1.3681179, 1.057553, 1.2324032, 1.172981, 1.5348109, 1.1480106, 1.732254, 1.112244, 0.9335744, 0.9198147, 1.3686095, 1.0181532, 1.1300474, 1.9258066, 0.5920891, 1.2611098, 0.9155178, 1.5260576, 1.9681263, 1.022239, 2.032199, 1.0112557, 1.0091137, 0.72384936, 0.8982093, 1.2455579, 1.2970858, 1.0951782, 1.8111548, 1.5915103, 1.1682838, 1.2676293, 1.0967593, 1.347632, 1.1850989, 0.8219733, 1.2448362, 0.9528029, 1.9941157, 1.146687, 1.0504605, 1.2692839, 1.2588321, 0.31225866, 1.5521777, 1.3771383, 1.2261647, 0.9487138, 1.657298, 1.6556717, 1.370541, 1.6928393, 1.3914918, 1.2320507, 1.4901351, 1.3848753, 1.3038197, 1.6847394, 1.5408926, 1.4527062, 0.5891954, 1.2433674, 1.8039527, 1.1418358, 1.0419341, 1.1618816, 1.4129778, 1.0368158, 1.251407, 1.3198779, 1.1769598, 1.1003718, 1.0213944, 1.5257688, 1.6608038, 1.2380579, 1.5134541, 0.8575254, 1.3361772, 0.9210654, 1.6327372, 1.2428874, 1.002678, 1.7342689, 0.6934739, 0.8526091, 0.96594006, 1.1712022, 1.8026458, 0.8755093, 1.340852, 1.1746446, 1.0891365, 2.3546321, 1.1646395, 1.5209746, 0.9326427, 0.56604576, 0.92451954, 0.89392656, 1.1831969, 1.059806, 1.2879388, 1.1340597, 1.1711152, 1.3770105, 1.5440474, 1.6486987, 0.9582331, 1.2347772, 1.220744, 0.34646425, 1.3543931, 2.1970248, 0.99210083, 1.3039857, 0.99725974, 1.2014067, 1.3207614, 2.6303902, 1.3008423, 1.475897, 1.0343367, 1.1506833, 0.4021718, 1.2470146, 1.2374121, 1.1699777, 1.186276, 0.64817435, 1.3490124, 1.2444568, 1.0036149, 0.9958569, 1.3065095, 0.88358873, 0.8089498, 1.4008223, 1.0059612, 0.5750533, 1.5772115, 0.5651088, 1.3719853, 1.1137788, 1.435031, 1.5496417, 0.9813536, 0.92149466, 1.1839347, 1.2576452, 0.8613639, 0.962892, 1.4167126, 1.0507412, 1.1758776, 1.5174369, 0.3037677, 1.1001328, 1.1087679, 1.2859082, 0.93978935, 1.9262891, 1.1350628, 1.1329812, 1.1880418, 1.0502061, 1.5613968, 0.82838446, 0.45002684, 2.192046, 1.6917173, 0.8276325, 1.1373689, 1.1076301, 1.3991761, 1.1891059, 1.3677019, 1.2668424, 1.2882096, 0.99008954, 1.1830169, 1.1595838, 1.554071, 1.0231844, 1.047369, 1.2956295, 1.2372761, 0.77212375, 1.2500733, 1.2711239, 0.96469855, 1.8702326, 1.2911055, 1.2991568, 1.1504283, 1.5326556, 1.1382526, 0.95035267, 1.3171595, 1.3595581, 1.0330453, 1.4269006, 1.1258928, 1.2403264, 1.435592, 0.9065702, 1.257536, 1.4204878, 0.7673016, 0.9605229, 1.1731875, 1.0787282, 1.2149608, 1.1221497, 0.90912914, 1.3327171, 1.2797703, 0.6645824, 1.0519657, 1.1391383, 1.3895657, 0.9999407, 1.1533232, 1.1938457, 1.3332057, 1.1039935, 1.4600646, 0.77609915, 1.6003569, 1.2633193, 1.158476, 0.9485703, 1.4282433, 1.3376461, 1.2329274, 1.308687, 0.9254569, 1.0619589, 1.371716, 1.4543893, 1.0111156, 3.3311667, 0.70443654, 1.3080256, 3.4522307, 1.3684795, 1.3771122, 1.2255645, 0.3408132, 1.7598964, 1.0324296, 0.81553435, 1.5716, 1.388451, 1.2303956, 1.0503813, 1.3212063, 1.7722006, 1.4576929, 1.5958679, 1.1690689, 1.7706896, 1.4855902, 0.73336107, 1.2793466, 0.969938, 1.3294367, 1.3685997, 1.3412141, 1.2896395, 0.9294629, 1.2308577, 1.8507513, 1.2490357, 1.2557395, 1.2841444, 1.301282, 0.8193209, 1.804285, 1.7922797, 0.936649, 1.0746562, 0.9614951, 1.677631, 1.3537146, 0.919011, 2.5068347, 1.1429116, 1.1341239, 0.7668283, 1.2168897, 1.3011992, 1.1930091, 0.90956664, 1.0376865, 1.0226678, 1.2341261, 0.6348383, 1.5099865, 1.2455413, 1.2615595, 0.9915667, 1.4367201, 1.3516619, 0.8968944, 0.866264, 1.6501144, 1.5138987, 3.4639657, 0.6929583, 1.3380675, 1.1697094, 1.2386587, 1.6850666, 1.4885038, 0.8555108, 1.2663671, 0.960371, 1.4840533, 1.2484221, 0.97224414, 1.1025681, 1.7961708, 1.2084599, 1.3876233, 1.1509916, 1.0949918, 0.49788252, 1.3526179, 1.0556867, 1.6832377, 0.9767106, 0.94212407, 0.9034244, 1.9695927, 1.3078713, 1.0588136, 1.4066995, 1.2460198, 1.1054629, 0.87123716, 1.0930417, 0.9330396, 1.544966, 1.2843761, 0.93619454, 1.165896, 0.8166143, 0.93705344, 1.5413021, 1.0956557, 1.18741, 0.99968904, 1.4929398, 1.6120822, 1.2646672, 1.1571945, 1.1197915, 1.1095784, 1.5126756, 0.5863718, 1.8850515, 1.2043303, 1.0052081, 1.4995987, 1.1546512, 1.0128582, 1.1997046, 1.0649575, 1.1711502, 1.0172843, 0.98146355, 1.3178709, 0.86016095, 1.5292037, 1.4382248, 1.0519077, 1.3703542, 1.1820601, 1.1601101, 1.0306387, 1.2617096, 0.6873186, 1.2548058, 1.05131, 0.9746794, 1.2234927, 0.8095846, 1.0306392, 1.3341004, 1.239285, 1.1157422, 1.0453402, 1.1760384, 1.1555469, 0.9405218, 0.8976195, 1.2869657, 1.6803248, 1.2645204, 1.5212768, 1.3269886, 0.9186195, 0.99654645, 1.5098085, 1.1741179, 1.0239012, 0.934594, 1.7264928, 0.8203815, 1.0824494, 0.9196658, 1.1956928, 2.1124203, 1.3430465, 1.0390542, 1.1125019, 0.86237186, 1.1770036, 1.9570415, 1.310397, 1.2014861, 1.1279095, 1.2426823, 1.3623619, 0.9763471, 1.0889229, 1.6501532, 0.81786317, 1.1025712, 0.84497905, 1.4793441, 0.7429964, 1.1431397, 1.1820672, 1.1108902, 1.1697416, 1.4127337, 1.2075832, 1.2048289, 1.3584267, 0.33611733, 1.6086272, 1.3572705, 1.204547, 1.6927152, 1.3900127, 1.0022098, 0.8924092, 1.4255631, 1.085604, 0.97197104, 1.3706595, 1.6698545, 0.41931826, 1.3039725, 1.3327359, 1.5510726, 1.7394675, 1.0397607, 1.4127723, 0.85876554, 1.7440804, 1.1808907, 0.9654619, 0.8301068, 1.0007585, 1.3322109, 0.76485395, 1.6398822, 1.0211248, 1.0659577, 1.6772356, 0.9532746, 1.2646296, 0.80778354, 2.7213714, 1.5636587, 1.0123788, 0.8895878, 0.98726624, 0.90338314, 1.1657648, 1.7410291, 1.2472534, 0.28552714, 0.7779197, 1.504921, 1.6054657, 1.1863292, 1.1950029, 1.1705873, 1.5235713, 1.1305828, 0.70651674, 1.2385845, 0.88539475, 1.2349564, 1.2351222, 1.1188717, 1.080009, 1.4303458, 2.1086133, 1.5596107, 1.3105657, 1.0751252, 1.2743132, 1.5239505, 1.2546079, 1.9435928, 1.2794162, 1.6832694, 1.1542392, 1.3996434, 0.8730732, 1.3985672, 1.3491688, 1.3077564, 1.696999, 1.3979356, 1.229844, 1.0925492, 1.4819208, 1.0075184, 0.8231714, 1.1101217, 2.8643093, 1.2204787, 1.6860507, 1.3402673, 1.3966175, 1.5322769, 1.3168782, 1.5067396, 1.3646822, 1.2993193, 1.2091534, 0.8926166, 0.9186238, 1.301164, 1.2854382, 1.5925984, 1.2863768, 1.0640782, 1.3583354, 1.0418497, 1.1333425, 1.3753008, 0.965882, 1.1385503, 1.0692285, 0.94689435, 1.3620377, 1.3481672, 0.86229146, 1.0262585, 1.5135071, 1.2205133, 0.7775484, 1.0107996, 1.2507341, 1.1469553, 1.2544118, 1.6109564, 1.325905, 1.312562, 1.5704054, 0.91443175, 1.3951991, 0.9397197, 1.7096963, 0.8553545, 0.90974027, 0.9938973, 1.8796246, 1.0152137, 1.1504594, 1.3251132, 1.1688561, 0.81833684, 1.25624, 1.6270688, 1.494287, 1.2414669, 1.1152319, 0.8578626, 1.0338378, 0.9781447, 1.156594, 1.2883855, 1.4665967, 1.0922712, 1.9887941, 1.15412, 1.0784607, 2.575675, 1.3007854, 0.899438, 1.3491745, 1.5908463, 1.4248041, 1.7419561, 0.7412146, 1.8352646, 1.1837252, 2.484524, 1.3489915, 1.3366073, 1.3191439, 1.5741959, 1.4538997, 1.8613733, 1.3262771, 1.2352005, 1.5102391, 1.4293878, 1.3314952, 1.5712425, 0.85620713, 1.3245977, 1.045379, 1.448657, 2.575071, 1.1171564, 1.0253373, 1.6733122, 1.3146588, 0.9498203, 1.1878718, 1.1092438, 0.8037056, 1.049892, 1.4104613, 1.3341042, 1.2446759, 1.3026097, 0.7710594, 1.8630075, 1.6006906, 0.89640516, 1.2291839, 1.0844679, 1.2156823, 1.3303292, 0.5514401, 1.4873132, 0.9853367, 0.9780854, 1.3858995, 1.473574, 0.9358026, 1.7130618, 1.028054, 1.1738849, 0.9537428, 1.2864437, 1.3509978, 1.2436618, 1.6619266, 1.6894192, 1.0493337, 1.1074679, 1.0988276, 1.6959814, 1.8105196, 0.6695569, 1.3063773, 2.114056, 1.5304073, 1.5727507, 1.34993, 1.3062191, 0.9457287, 0.91181934, 0.92036086, 1.0320636, 1.3555094, 1.634163, 1.2515159, 1.6678154, 1.0756639, 1.0400803, 1.3870728, 0.86990315, 1.0473948, 1.5751245, 1.0305268, 1.0560372, 0.679093, 0.83458096, 1.3925698, 2.1515472, 1.4241742, 1.4880102, 1.4307638, 1.0003641, 1.0955913, 1.4012662, 0.69581825, 0.9779207, 1.1797894, 1.7316668, 0.75692666, 1.1811917, 2.036666, 1.2848048, 0.8877024, 1.2589955, 1.1540285, 0.8831887, 1.5006377, 1.387665, 1.4036036, 1.4386516, 1.1739161, 1.5180978, 1.0144223, 1.2484816, 1.0828693, 0.7898849, 1.7284026, 1.1915985, 0.8888555, 1.634658, 1.0863729, 1.5440135, 0.94443315, 1.1167613, 1.0435026, 0.91314036, 1.5137998, 1.3886588, 1.0433018, 1.4223524, 1.3787011, 1.1089166, 1.0379955, 1.3863729, 1.3027669, 1.0097871, 1.7261531, 1.1462343, 0.8194894, 1.0327643, 0.89398295, 1.0027643, 1.1368378, 1.3318919, 1.154169, 1.1046678, 0.8218932, 0.80313385, 0.9373765, 0.59712034, 1.032955, 1.4522065, 1.4014788, 0.8420921, 2.0498118, 1.4403893, 1.2792255, 1.3864108, 1.2074808, 1.329266, 0.82212275, 1.0499314, 1.1520492, 1.5884898, 0.59804213, 0.99717265, 1.2757046, 1.7023858, 1.3757383, 1.080503, 0.9979807, 1.1873052, 1.0302294, 1.064574, 1.3290293, 1.4359044, 1.6643912, 1.0104991, 1.5696186, 1.0624899, 1.0405403, 1.1454322, 1.5481933, 1.357784, 1.3403033, 1.0788379, 0.7205357, 2.0539756, 1.0188384, 0.9725474, 1.5800008, 1.1498413, 0.9701172, 0.8381008, 1.2532091, 0.7582533, 0.9708765, 1.4432613, 2.052751, 1.2170299, 1.0110879, 0.8704803, 1.0384678, 0.8824364, 1.154408, 1.2311399, 1.6198392, 1.606009, 1.5877817, 0.857236, 1.098687, 1.2786723, 0.88470525, 1.4663038, 0.7053046, 1.2243637, 0.9069131, 1.4710077, 1.079916, 0.9234179, 0.8864792, 0.9322496, 1.0317335, 1.0583388, 1.4752268, 0.87931204, 1.4337955, 1.4332927, 1.0307672, 4.0851464, 1.151653, 1.3037504, 0.83769983, 1.3836858, 1.3262405, 1.7013268, 1.2266272, 1.0524527, 1.0833302, 0.7793544, 1.2331629, 1.1928504, 1.0926218, 1.1859541, 1.3461497, 1.6173908, 1.5171199, 1.6016531, 1.3044033, 1.2686651, 1.1288191, 1.4725102, 1.0762978, 1.2281078, 1.0432284, 1.1850865, 1.1146977, 1.0712502, 1.5086218, 1.013676, 0.83487725, 1.1338211, 1.5380038, 1.0928807, 0.54996413, 1.4012066, 1.2819428, 0.98925525, 1.0105398, 1.1001412, 1.2995368, 1.579796, 0.9285938, 0.5190629, 1.1805242, 1.504987, 0.5841385, 1.024493, 1.1108241, 1.3759189, 1.5048286, 0.87888587, 1.1870575, 1.1936245, 1.0536662, 1.4177027, 1.0336423, 1.49146, 0.6458555, 1.2380579, 1.0867699, 0.93550116, 1.0693073, 1.2526225, 0.8498706, 1.2130424, 1.1669782, 1.2765576, 1.0893856, 1.6984402, 1.05532, 1.0854479, 0.9387306, 1.0178754, 1.0643327, 0.81627995, 1.3521729, 1.126855, 2.1039348, 1.209519, 1.4234698, 0.85368997, 1.1308626, 1.7995367, 0.6883884, 1.5782634, 1.2055179, 1.1572685, 1.2808845, 1.1770893, 1.5024276, 1.2176054, 0.76274234, 0.9154295, 1.6433846, 1.4028958, 1.3704944, 2.148277, 1.0214249, 1.3418556, 1.1570143, 0.5235851, 1.3439894, 1.4360701, 0.7997265, 1.2550448, 1.1892099, 0.8144465, 1.1256195, 0.9092698, 1.2749234, 1.3802763, 0.9938214, 2.0148587, 0.9654158, 1.6825953, 1.584476, 1.4813831, 0.92633253, 1.2045745, 1.0906873, 1.4672344, 0.88827497, 1.5920287, 1.2722425, 1.6379087, 1.5483646, 1.6164813, 1.1965146, 1.4148344, 0.45188287, 1.2772408, 1.4170307, 1.4139907, 1.4669651, 0.78189284, 0.9443083, 1.4278915, 1.252368, 4.045235, 1.2155739, 1.2202077, 1.0672054, 1.1235241, 1.3366989, 1.1942991, 2.9463747, 1.3629911, 1.9207927, 1.244379, 1.6202974, 2.0291421, 1.2585108, 1.2351978, 1.1965047, 1.8998884, 1.5273448, 1.7363265, 1.0102987, 1.2788188, 1.5302745, 1.52629, 1.0278013, 1.2027574, 0.9339845, 1.341347, 1.2241766, 1.4081709, 1.1888052, 1.4046487, 0.9776639, 0.8953031, 1.3718702, 0.9949805, 1.3948597, 0.9203248, 1.6787968, 0.8533311, 1.5523865, 1.2327819, 1.6139566, 1.2325479, 1.0169779, 1.3551579, 0.88411736, 1.3543444, 2.8720107, 1.7353946, 1.1304048, 1.1900579, 1.2765307, 0.99817216, 1.3285456, 1.4144255, 0.73354775, 1.3563051, 2.066578, 1.5663667, 1.8644044, 1.1923702, 1.1813549, 1.3413075, 1.5960559, 1.3671796, 1.2951715, 1.291571, 1.6308848, 0.8232389, 1.4237735, 1.2969655, 1.085503, 0.8248927, 1.8886836, 1.3363633, 1.3440971, 0.77016073, 1.4135783, 1.1140798, 1.2461463, 1.2726302, 1.0868824, 1.2605978, 1.386571, 1.5428538, 1.3769039, 1.2820777, 1.34389, 1.127452, 0.95647883, 1.2810935, 1.2202483, 0.6953141, 1.2536728, 0.9121102, 1.6052527, 2.1080384, 1.3697631, 0.9000561, 2.6026986, 1.3807331, 1.3261147, 1.32336, 1.6883781, 0.8266695, 1.0208279, 0.92291975, 1.2029158, 1.4182733, 1.2978797, 1.4376173, 1.1326768, 1.0711218, 1.0699395, 1.459579, 0.90174305, 1.2350947, 1.2430289, 0.9952174, 1.7660688, 0.8812846, 1.0249166, 1.5001234, 1.763989, 1.0550199, 1.0593839, 1.4947413, 0.8245143, 1.1902554, 1.3460418, 1.3322023, 4.1218843, 1.5656773, 0.83592397, 1.2623763, 1.0190789, 1.2821858, 1.9077774, 1.1000851, 1.3446774, 0.8984911, 1.4849666, 0.77374923, 0.8303556, 1.1986051, 1.2048368, 1.183626, 0.8920169, 1.4213864, 0.9461933, 1.5845613, 1.1125506, 1.4568566, 1.0110638, 1.0492373, 0.33156952, 1.3276674, 1.1038779, 1.098694, 1.0447419, 1.5251693, 0.92502385, 0.8041814, 1.1749766, 1.3654025, 1.3205042, 1.3288716, 1.138611, 1.3300189, 1.0244967, 0.9549638, 1.0068094, 1.1252186, 1.5177346, 1.593773, 1.0022427, 1.2846267, 1.3113188, 1.1107687, 1.6490322, 1.1652429, 0.88468504, 1.2850927, 0.20531622, 1.0554955, 1.1948789, 1.1370515, 1.5569113, 0.8633702, 1.4066609, 0.85884416, 1.4317963, 0.92020416, 1.4833767, 1.0304527, 1.244932, 1.1087924, 1.4828107, 1.148007, 1.4739106, 1.3589844, 1.1899859, 1.2605362, 1.082566, 1.0690342, 1.4230154, 0.54515123, 1.1806558, 0.99456334, 1.4530343, 1.0590087, 1.1785557, 0.96034014, 1.2697208, 1.2553571, 0.33869243, 0.85003054, 1.0323786, 0.9788314, 1.6663032, 1.289404, 1.2224971, 2.5925264, 1.6929955, 1.0913253, 1.1072073, 1.0293441, 1.5880756, 1.1049972, 2.0033598, 1.4208884, 1.2500191, 1.3053211, 0.88872284, 0.57187253, 1.4621217, 1.3335193, 1.5470555, 1.4927163, 1.4767334, 1.2060678, 0.3241131, 0.9098848, 1.5452955, 1.2483968, 0.75843525, 0.91651887, 1.2725345, 1.314775, 1.2794315, 1.3850033, 1.1487528, 1.0082777, 1.5934862, 1.2128085, 1.1859275, 0.9040033, 1.267529, 1.179853, 2.3325605, 1.3371, 0.8833269, 1.42631, 0.97413224, 1.1721308, 0.7777319, 1.0678383, 1.4292958, 1.3300254, 1.122196, 0.87514114, 1.4612825, 1.4143775, 1.9296966, 1.2062736, 1.7539423, 1.5877103, 1.182614, 1.057789, 1.0110817, 2.3754869, 0.9304277, 0.6646434, 1.0871055, 1.002678, 0.9813525, 0.8403029, 1.1337699, 1.0800608, 1.26618, 1.3034828, 0.8442203, 1.0964744, 1.0581906, 1.6426493, 1.4767244, 0.90719277, 1.1329654, 0.7287344, 2.2628033, 1.1854292, 1.1439055, 1.0933955, 0.86100805, 1.0424888, 0.85955006, 1.7860413, 1.1168114, 1.6542888, 1.2910328, 1.309002, 0.9103047, 1.4149506, 1.3131958, 1.0810258, 0.2969721, 1.0653143, 1.218874, 0.9410807, 0.70775944, 1.3427505, 0.9079697, 1.3197731, 1.4258661, 0.8645597, 0.96050006, 1.6240221, 0.751198, 1.4576244, 1.0141437, 1.8950008, 1.5435945, 1.8496972, 1.6167729, 1.4727472, 1.1583984, 1.4488047, 1.3102964, 1.9390904, 1.0079396, 1.1142409, 1.2366484, 0.68077, 1.1981496, 4.2417774, 1.5145113, 1.0139353, 1.8103667, 1.7187513, 1.2885559, 1.4049112, 1.2869116, 1.3178394, 3.421778, 1.2954046, 1.5536251, 1.6347783, 1.1318656, 1.174147, 0.9773948, 1.5432221, 1.4966443, 1.1639451, 0.45865998, 0.98161197, 1.2433403, 1.2314852, 1.58556, 1.4254596, 4.145788, 1.4700687, 1.357223, 1.3486218, 1.0254297, 1.5880322, 1.1171836, 1.4208968, 0.80378175, 1.5388392, 1.2923485, 1.0395316, 0.90123004, 1.1670158, 1.2112832, 0.7850249, 0.90983945, 1.0125235, 1.0362204, 1.3391271, 1.4823693, 1.2260635, 1.2514436, 0.89918494, 1.1039488, 0.8659421, 1.5296773, 0.97794074, 1.6706216, 1.3777496, 1.501489, 2.3265538, 1.2793202, 1.1468844, 0.9001703, 1.5309451, 1.5839477, 1.146687, 1.2752768, 0.7118934, 0.9220516, 1.0485408, 1.0005981, 1.4126992, 1.4367689, 1.038061, 0.9833158, 1.3759935, 0.93168217, 1.1065907, 1.1417832, 1.1568573, 1.1439525, 1.0787814, 0.5223355, 1.4139764, 1.2913848, 1.2529191, 1.0380739, 1.6441544, 0.92150104, 1.1536968, 1.2464982, 0.9876145, 1.1410356, 1.0424265, 1.2582784, 1.5795228, 1.2352691, 1.4067259, 1.0322729, 0.89392656, 1.3915749, 2.28436, 1.0163184, 1.4872972, 2.3931627, 1.1921678, 1.0276326, 1.21181, 1.2084329, 1.4272901, 1.1340418, 1.1956333, 3.107325, 1.4924989, 1.1488001, 1.3666756, 1.9396862, 0.7274741, 1.2423998, 1.4195529, 0.6507564, 0.7551826, 1.2401898, 1.4379661, 0.77737725, 1.5355409, 1.6871381, 0.9363334, 1.2809962, 1.0161127, 1.803805, 1.4289931, 1.317992, 1.4146699, 1.1963072, 1.6116091, 0.9877931, 0.81342405, 1.4278915, 1.2832543, 1.2558931, 0.7277979, 1.3936025, 0.9206531, 0.953163, 1.4214449, 1.2039652, 1.6547307, 1.0703163, 1.2153229, 1.0651208, 1.1122307, 1.0601035, 0.6689987, 1.3008181, 2.1010792, 0.53095526, 1.4826303, 1.4821606, 1.380707, 0.86130565, 1.499781, 1.7152475, 0.7420547, 0.86099446, 1.2166052, 0.9479519, 0.8496731, 1.0439575, 0.5134599, 1.0193018, 0.7285227, 1.3301356, 0.97157437, 1.613209, 1.1782662, 0.74779195, 0.95866305, 1.5203727, 1.0611556, 1.9418031, 0.5715409, 0.8032654, 0.93943065, 1.5769552, 1.0523273, 1.2479777, 0.878203, 1.0901365, 0.33748272, 1.1936245, 1.0519547, 0.92893827, 1.5359826, 1.4319739, 0.96570295, 0.9540021, 1.1077346, 1.3393725, 1.3047525, 1.4636436, 1.7082137, 0.94387, 1.1592898, 1.3832332, 0.94888514, 1.2915318, 1.0178577, 0.8625752, 0.8434956, 1.1880345, 1.137915, 1.2970828, 0.7377913, 1.6977588, 1.1866075, 1.5699294, 1.4938273, 1.314903, 1.4610078, 0.9949097, 1.2336285, 1.167303, 0.64551556, 1.2511958, 1.0349404, 0.8317543, 1.0284028, 1.062362, 1.2024428, 1.2134889, 1.3400506, 0.8193113, 0.891379, 1.4466393, 0.7908193, 0.6312611, 0.643887, 1.7496511, 1.0877516, 1.4160073, 1.048157, 1.435898, 2.0869572, 0.77313536, 1.2536964, 0.8200249, 1.551538, 0.8792593, 1.4881065, 1.0565164, 0.86599815, 1.1230967, 0.7080745, 1.5507419, 0.8539538, 1.2984627, 1.03038, 1.1112568, 1.5527523, 1.3753241, 1.7194223, 1.0029387, 0.8953551, 1.0269856, 1.1479123, 1.6228839, 2.0621617, 1.3733016, 1.5614772, 1.6802957, 1.3117828, 1.0245283, 1.6405824, 0.9344467, 1.3529048, 1.0916255, 1.4406419, 0.6472962, 0.9325392, 0.8481256, 0.9421463, 0.9848918, 1.4404334, 0.6160828, 1.1531891, 1.3227197, 1.2482612, 1.2727096, 0.6592775, 1.0675541, 1.3842281, 1.4203072, 1.3270761, 1.5521202, 1.1045369, 0.96835977, 0.6568249, 1.2223561, 1.002343, 0.9938582, 1.4776621, 1.2167469, 1.365, 1.215901, 1.7585123, 1.3009746, 1.435176, 2.1113033, 0.9712229, 1.1702446, 1.2515686, 1.3320589, 0.7767575, 1.4595381, 0.96917486, 0.8553671, 1.2225567, 0.8765445, 1.1205791, 0.98530823, 0.6116976, 0.9745582, 1.5364481, 1.6797186, 1.5736967, 1.0633092, 1.4566604, 0.99816376, 1.0220343, 0.99273056, 4.5420113, 1.1073246, 1.2496161, 1.1534618, 1.0291076, 1.3074627, 0.64476556, 1.2773093, 0.91169417, 1.2301284, 1.1313077, 1.1745939, 1.3632149, 1.0681335, 1.2649173, 0.98596454, 0.9448475, 1.0727949, 1.0896013, 0.8007774, 0.947198, 0.8318102, 1.2058456, 1.2047796, 1.1622076, 1.0686038, 1.0309727, 1.1518456, 0.70828766, 0.58294594, 1.1824555, 0.9415541, 1.274792, 0.8633184, 1.3560615, 3.2374525, 1.3558297, 1.0904254, 1.6136109, 1.757047, 1.515712, 1.3721073, 1.0087358, 0.36172894, 1.2375941, 1.5934557, 1.6515852, 0.7524951, 0.9702965, 1.5527781, 1.3091583, 1.3326262, 0.5039902, 1.6822853, 1.2119057, 1.0289087, 1.5969574, 1.7303385, 1.6381613, 3.198274, 1.8131713, 1.6761934, 3.6140118, 1.4725348, 1.3817908, 1.6368883, 1.4326341, 1.581233, 1.0248755, 1.335701, 1.0552295, 1.0523533, 1.3398826, 1.1664535, 1.7635721, 1.6710603, 1.2090211, 0.9725185, 1.1757963, 0.8663028, 0.96282685, 0.9764667, 1.2094107, 1.0804647, 1.5799165, 1.4807396, 1.3838297, 1.4095814, 1.3769081, 0.7913953, 0.95645034, 1.2913413, 1.3721467, 1.3449551, 0.74707836, 1.2438673, 1.5797306, 1.5853937, 1.2110176, 1.6620591, 0.91654307, 1.2687058, 1.330928, 1.4394833, 1.232446, 1.1307279, 1.7184545, 1.1386853, 0.96144235, 1.2820195, 0.8612484, 0.8132687, 1.3276933, 1.4687512, 1.3272066, 1.2164761, 1.2620317, 1.1764196, 0.72747654, 1.2016761, 0.99823666, 1.4581456, 1.1775323, 1.1298627, 1.206266, 1.4788998, 1.1885693, 1.3155254, 0.7607219, 1.0906163, 1.2011387, 1.0862123, 1.1732131, 1.820609, 1.2252846, 1.3171114, 1.1200433, 1.7701684, 1.2464755, 1.3601443, 1.1390475, 1.847721, 0.9800825, 1.3463467, 1.1625185, 2.0718734, 1.2319949, 0.9427444, 1.3642707, 0.9837704, 1.3025209, 1.3513384, 1.0239912, 1.4627396, 1.099467, 1.0398574, 0.4961204, 0.78296494, 1.3451327, 1.3180795, 1.0500131, 1.3628227, 1.436476, 1.0460994, 1.4405711, 0.93163127, 0.84871995, 1.6148949, 0.8882479, 1.1189003, 1.2824996, 1.3602221, 1.085029, 0.7526527, 1.3206202, 1.2632613, 0.7093425, 1.191877, 1.387124, 0.6737562, 1.2877144, 1.4802223, 1.2130247, 1.3709407, 0.7869997, 1.2694815, 1.4017303, 0.707868, 1.1545402, 0.98869014, 1.4064052, 1.2781653, 1.4921798, 2.3938446, 1.2378942, 1.5495521, 1.0911479, 0.57050496, 1.2543732, 1.1298417, 1.1743021, 1.2789638, 0.70019203, 1.3416842, 1.2306976, 1.4852709, 1.106759, 0.9307793, 1.7649935, 1.2548852, 1.3639921, 0.6032191, 1.2869138, 1.0458883, 1.0339731, 1.3669338, 1.0829502, 1.1379571, 0.8351338, 0.8945118, 1.6314937, 0.88663876, 1.385058, 1.2306353, 1.2649302, 1.1992501, 1.11151, 1.0122775, 1.5780822, 1.7251183, 1.2731475, 0.74536914, 2.3135762, 0.9223926, 1.3311521, 3.2196379, 1.4451505, 1.1567934, 2.738336, 1.0019166, 1.1175828, 1.1628561, 0.9535535, 1.5326006, 0.933203, 1.8346121, 1.1493433, 0.9940404, 1.015574, 0.25230733, 1.7033275, 0.71437925, 1.7768054, 0.6698125, 2.0829144, 0.99003017, 1.8794017, 1.0564206, 1.0748789, 1.0863432, 1.110483, 1.2838718, 1.4410232, 1.1955543, 1.0279174, 1.2444956, 1.3552406, 1.5532582, 0.96422833, 1.2470025, 1.2234783, 1.5512427, 1.2938228, 1.5870538, 1.1820066, 1.5848927, 1.1970797, 1.032615, 1.1412082, 0.86946124, 1.2356141, 1.7467809, 1.7990878, 1.7167218, 1.4468544, 1.2169547, 1.5174626, 1.3877127, 0.8731249, 1.3781488, 1.6610087, 2.2683976, 1.229528, 1.5501218, 1.0854628, 1.1305047, 0.9772548, 1.3344756, 0.9615755, 1.2132658, 0.91191727, 2.5483696, 1.4753407, 1.460262, 1.2501327, 1.3469508, 1.715705, 0.82473344, 0.9675265, 0.21997271, 0.97233593, 1.1573638, 1.4552444, 1.5592166, 1.8309747, 1.1509844, 0.83458096, 1.149353, 1.0565921, 1.564552, 1.5221643, 1.2045072, 1.8352637, 1.036618, 1.1077173, 1.1700118, 1.2186314, 1.1795322, 2.3309305, 1.6911126, 1.0312095, 1.2359295, 1.3914157, 1.5349195, 1.3397446, 1.4569905, 3.4474022, 1.4317274, 1.5818781, 1.5147619, 1.371349, 1.3758527, 1.9699934, 1.2457055, 1.2918462, 1.5108122, 1.2224208, 1.4437997, 1.3113339, 0.8710255, 1.0124156, 1.1828078, 1.3480896, 1.3740444, 1.2354362, 1.1210401, 1.2559676, 1.2611966, 1.2106501, 1.324738, 0.95081586, 1.3795418, 1.6299936, 1.5174279, 1.1370224, 1.4986283, 1.1808188, 1.0850595, 2.5499716, 1.3610262, 1.684217, 1.4006702, 0.7784121, 1.645579, 1.2994814, 0.9797702, 1.1811345, 1.0318824, 0.7204011, 2.4784355, 1.2564158, 0.7167479, 0.91940683, 1.272841, 1.0101299, 1.2023581, 1.113298, 0.9030458, 1.0673642, 0.8650037, 1.1685272, 1.0366232, 0.9840716, 1.3749458, 1.1182816, 1.0508126, 1.4479907, 0.7756387, 1.2781874, 1.2719473, 1.6014212, 0.72298175, 1.2331419, 0.31856433, 0.98127514, 1.7619286, 1.1558993, 1.8382907, 0.9584129, 2.3052728, 1.4652445, 1.1717125, 1.3004423, 1.0658978, 1.0761805, 1.3840436, 1.1508569, 1.0180571, 1.0233654, 1.4222065, 1.5299904, 1.3856485, 1.8913411, 0.8748271, 1.0372347, 0.5586485, 1.7342676, 1.4603584, 1.0772548, 0.9747862, 1.0494285, 1.1659479, 1.1957638, 1.145285, 1.0306927, 1.0661623, 0.9838937, 1.2637806, 1.0886952, 0.8410593, 0.9217433, 1.4546642, 1.3295162, 1.1509732, 1.1176976, 0.79500145, 1.0560852, 1.2090892, 1.2983608, 1.1709814, 2.0388608, 4.0753503, 1.1649194, 1.4176785, 1.5240879, 1.3466235, 1.0524597, 1.5242298, 1.053247, 1.3634739, 0.98826325, 1.002678, 1.2359763, 1.2172005, 1.8413805, 0.8493308, 1.8184894, 1.0393946, 1.3378897, 1.2327045, 2.28552, 0.78262323, 1.0011665, 1.0003749, 1.205922, 1.15555, 1.3572744, 1.812039, 1.4246209, 1.3673874, 0.9823902, 1.4143978, 1.0343878, 0.96254104, 0.9753205, 1.0303097, 1.3859631, 1.0704912, 0.59810746, 1.1410217, 1.4560941, 0.99626136, 1.3646907, 1.4759536, 0.9230495, 1.8959415, 0.5439376, 1.0611527, 1.0020113, 0.84933466, 0.70763475, 1.2513576, 0.99339896, 0.90732706, 1.2015079, 1.4544737, 0.63675606, 1.2837439, 1.0764384, 1.6475416, 3.35968, 1.9626185, 0.9423803, 1.0080562, 1.3266963, 1.172226, 1.0279388, 1.2436023, 1.4038391, 0.99464035, 1.3238451, 1.0330153, 1.2283309, 1.9203687, 1.1171285, 1.1067678, 1.0342013, 1.0348315, 1.8303124, 0.9149957, 1.8861594, 1.1661477, 0.9430486, 1.5638973, 0.9300171, 1.0740943, 1.1593269, 1.2988095, 1.441746, 1.6308783, 1.5296211, 0.95705944, 0.5975727, 0.7099789, 1.6915189, 1.7579253, 1.192294, 1.1604875, 0.93127924, 1.1972821, 1.112739, 1.3588457, 0.83667564, 1.2618871, 1.4296916, 1.3452101, 1.1496831, 0.95988756, 1.202756, 1.4841051, 1.2140747, 1.071116, 0.5105888, 0.9874769, 1.620534, 1.193634, 0.71366626, 1.1998413, 1.5897756, 0.89847296, 1.3749967, 1.1693826, 1.0213538, 1.3387955, 0.86375076, 1.1798398, 0.8294955, 1.1672329, 1.0901384, 1.1812915, 2.0956488, 1.271113, 1.8373268, 1.0486705, 0.45215103, 0.7631985, 0.91672784, 1.1325902, 1.3365133, 1.1759117, 0.97087115, 1.4182129, 1.467815, 1.3671765, 1.0837795, 1.2914965, 1.84028, 1.0480068, 1.047553, 1.5436779, 3.265961, 1.3949974, 1.3471701, 0.8625752, 1.7960536, 1.1121293, 1.3912308, 1.235329, 0.8875808, 1.0188098, 1.2611799, 0.9866437, 1.3951223, 1.5735607, 1.070259, 0.9669177, 1.6860332, 1.1653073, 1.2727185, 1.3755926, 1.5874912, 0.96357566, 1.4811217, 1.016396, 0.9956271, 1.3963472, 1.3750226, 1.4705358, 1.363968, 1.3743986, 1.1276375, 0.76848954, 1.9055601, 0.86637235, 0.83192015, 1.512847, 1.5186937, 1.4264926, 1.7605447, 1.3909026, 1.7472926, 1.7159371, 0.5016134, 1.5312628, 1.1447297, 1.5696844, 1.207741, 0.84241223, 1.007466, 1.5474714, 0.9571937, 1.613114, 0.9524662, 1.0194417, 1.5893348, 1.1912495, 0.72176105, 1.1527231, 0.8895878, 1.9335852, 0.87983316, 1.2677587, 1.4639121, 0.6210984, 1.2398311, 1.3262397, 1.0318071, 1.4070271, 1.3954124, 1.2943301, 1.9323676, 1.5534734, 1.6401577, 1.4299303, 1.1827003, 1.1093067, 1.1070058, 1.377461, 0.9114761, 1.1812694, 1.5834426, 0.87820727, 1.3013262, 1.3322005, 1.356395, 1.3460915, 1.4471813, 1.45792, 1.4049731, 1.5232711, 1.1112275, 0.919111, 1.4327204, 0.9223249, 1.1982461, 1.2049903, 1.0928801, 1.2341261, 1.2752833, 0.34768307, 1.079693, 1.3801703, 1.0391195, 1.3844217, 0.88446844, 1.2418954, 0.4263613, 1.1366067, 1.1168221, 2.5027616, 0.92137986, 0.733129, 1.4214847, 0.8372235, 0.61296785, 0.972487, 1.2319, 1.5489175, 1.4855852, 0.8831496, 1.2996206, 1.0637858, 1.4595249, 0.988122, 0.6527724, 1.1090981, 1.0473534, 1.1374129, 1.1505351, 1.0042673, 1.4172437, 1.5561237, 1.2579523, 1.2719437, 1.144962, 1.4047437, 0.9966198, 1.0189496, 1.3447913, 1.1592872, 1.0806788, 1.4708793, 1.0579627, 4.232587, 1.4491078, 1.3204023, 0.82181984, 0.81421405, 1.1120039, 1.3417486, 1.4961058, 1.4732195, 1.1916444, 1.1376071, 0.85375226, 1.6575189, 1.4338651, 0.23786134, 1.2181013, 1.120926, 1.0324184, 1.5307578, 1.1049132, 1.3727088, 1.2770287, 1.1403558, 1.1861049, 0.9670848, 0.8536373, 0.9519743, 1.039904, 1.0932877, 1.6049067, 2.4059324, 1.2918426, 1.1465691, 1.6910523, 1.2719367, 1.086187, 1.2951983, 0.8160278, 1.2844287, 1.4002568, 1.612455, 1.3766799, 1.6372405, 1.324472, 1.2213558, 1.6554171, 1.3783269, 1.0995113, 1.7776066, 0.8772286, 1.2168882, 1.3063402, 1.3658847, 1.3559641, 0.85440725, 2.658892, 1.3099493, 1.2936968, 0.91713256, 1.5257264, 3.0789187, 1.029931, 1.2129911, 0.99800426, 3.734121, 1.294555, 1.1824379, 1.2289513, 1.0367002, 0.7448519, 0.89117354, 1.4178344, 1.3398042, 1.5419037, 0.90534645, 1.1229376, 0.97985816, 1.225164, 1.0443844, 1.618003, 0.9974329, 1.9489613, 1.4028698, 1.2446573, 1.9148998, 1.4019549, 3.83328, 1.1864394, 1.0721848, 0.7603355, 1.1391734, 1.0069072, 1.1753185, 1.1341219, 1.237116, 1.36387, 1.2970587, 1.5973483, 0.2874599, 1.499376, 0.95693237, 1.2151777, 1.3395909, 0.8865986, 1.5585566, 0.98264056, 1.0782446, 1.3782761, 1.0203931, 0.75630146, 1.04255, 0.70189476, 1.2568471, 0.9176717, 1.1271355, 1.0352844, 1.4116101, 1.620808, 1.5895106, 1.3930929, 1.1259017, 1.572366, 1.0223775, 1.334675, 1.0462072, 1.2911313, 1.8362741, 1.6006846, 1.2763643, 2.0387392, 2.926022, 1.114226, 1.047053, 1.0954033, 0.6986991, 3.8996646, 1.1437873, 1.4776713, 0.8935698, 1.1573269, 1.9448023, 1.5688103, 1.2685884, 0.810845, 1.4361707, 1.5341425, 0.6553984, 1.4379146, 3.1211114, 1.1621068, 1.2530557, 1.020632, 1.2583463, 0.83375305, 1.215318, 0.83606726, 1.2975795, 0.7995084, 1.5260477, 1.4124659, 1.4308981, 1.6992435, 1.4162992, 1.013259, 1.0084385, 1.1406584, 0.9530249, 1.6199195, 1.0317295, 1.18608, 0.84045255, 1.0838559, 0.84396017, 1.0371879, 1.1562765, 1.6220229, 1.2762225, 1.4525254, 1.0128858, 1.0275869, 1.0628177, 1.7955357, 0.9969763, 4.523536, 1.2049309, 1.4991434, 1.3585327, 0.8450172, 1.1833575, 1.2909797, 1.1715331, 1.2722629, 1.1712811, 1.3825959, 1.3334433, 1.778038, 0.9369577, 1.1646976, 0.9738762, 0.9494056, 0.8658865, 4.89127, 1.7021216, 1.5034672, 1.5530902, 1.0362536, 1.0343595, 0.86613667, 1.4495839, 1.4301122, 0.884381, 1.2278898, 1.2535222, 0.9997991, 1.2300407, 0.9880151, 1.3459878, 1.4313958, 1.3547398, 1.1949893, 1.6100202, 1.1820672, 1.5299861, 1.0522015, 1.3005693, 1.0333294, 1.3568774, 1.6547524, 0.4668515, 1.1158135, 1.2313865, 1.0606352, 0.95373416, 1.623441, 1.6589314, 1.357971, 1.3296663, 1.2726125, 1.3291783, 1.2543547, 0.75165427, 1.5046599, 1.233116, 0.78990364, 0.93723565, 1.1695315, 0.77586937, 1.3495907, 0.5846418, 1.1608188, 1.1540844, 1.5950661, 1.0891892, 1.3857307, 1.3453717, 1.3910038, 1.2283673, 1.3008449, 1.2211416, 1.0243778, 1.055836, 1.3922448, 1.1821437, 0.72519845, 1.2646983, 1.3079534, 1.1756235, 1.0185269, 1.495722, 1.3106823, 1.006342, 1.0054079, 1.6195369, 1.1490917, 1.1766356, 1.1794933, 1.0052687, 0.85766846, 1.1743097, 0.49992234, 1.2500093, 1.356728, 1.129164, 1.3583533, 0.9485107, 1.1880488, 0.9384841, 1.0950518, 1.0337852, 0.66994596, 1.2881678, 0.95693725, 0.99612457, 2.243597, 1.4360572, 1.2162507, 1.26096, 1.2766635, 1.3598176, 1.9011624, 0.7773711, 1.1740986, 1.0401045, 0.838729, 0.7306649, 1.5727569, 1.3243692, 1.2141925, 1.6879463, 1.3372215, 1.0828129, 1.0348202, 0.6985032, 1.4438423, 1.3791709, 1.4414164, 1.1578115, 1.7546141, 1.1396992, 1.1920073, 1.6326361, 1.2024963, 1.3131833, 1.3413838, 1.1800796, 0.8794503, 1.6914582, 1.4834656, 0.8941421, 1.002678, 1.3125643, 0.88740885, 1.1050189, 1.4872131, 1.1582, 0.56174403, 1.4441651, 0.8879349, 1.0822806, 0.47332215, 1.2558327, 1.075986, 0.948024, 0.94542116, 0.79549485, 1.2867296, 1.4018724, 0.96359473, 0.8987235, 1.1748426, 1.3705626, 1.1594594, 1.2307277, 1.5159982, 1.3277907, 1.534947, 1.3369445, 1.2281018, 1.4048402, 1.2407486, 1.7407202, 1.3062612, 1.1554322, 0.7647648, 1.3016281, 1.5233911, 0.69474685, 1.3488839, 1.8628176, 1.1816912, 1.2688438, 1.5331218, 1.5130316, 1.0901822, 1.721436, 0.96998006, 0.71118844, 1.3485004, 1.1917632, 1.582727, 0.9697246, 0.9807632, 1.1762519, 1.2557377, 1.0364144, 1.2642114, 1.1467918, 0.91004014, 1.185536, 1.7023052, 0.9693204, 1.6956823, 0.59533054, 1.6641017, 0.83685744, 1.3928093, 1.064765, 2.2909591, 1.276579, 1.3564897, 1.2146823, 1.4649575, 2.3063703, 1.3080139, 1.1483201, 1.067427, 1.0537022, 1.313716, 1.0226073, 1.2717746, 1.381835, 1.0873846, 1.3189207, 1.7067106, 1.0068126, 1.2674366, 1.1463594, 1.0350629, 1.212407, 1.2554879, 0.84740573, 0.99284273, 0.6324818, 1.3190943, 1.8289876, 1.2494624, 0.917103, 0.83973515, 1.6253964, 1.30907, 1.2243584, 1.363003, 1.3399826, 1.4695184, 1.3741502, 1.1603843, 1.560492, 1.4201534, 1.4880469, 3.5092323, 0.7609106, 1.3922411, 2.094795, 1.8320316, 1.2453182, 1.7692835, 1.7044593, 1.347171, 1.5324413, 0.97072196, 1.0286933, 1.2046642, 1.2649719, 1.4456447, 0.9782378, 1.0723149, 0.7536565, 2.5655665, 0.9839225, 0.9335449, 1.3807933, 1.3400543, 1.8462511, 1.1993759, 0.80534196, 1.3216829, 1.3083583, 1.3218621, 0.9103245, 1.0156703, 1.8102212, 1.3458439, 1.6640292, 1.6413407, 1.6523725, 1.2717057, 1.2461445, 1.5917424, 1.1910183, 0.94366443, 1.2865461, 1.1766256, 1.6640574, 0.86317056, 1.4148417, 1.5737259, 1.2855837, 3.4331605, 1.2202928, 0.98793924, 1.538154, 1.5102769, 0.98904103, 0.82257396, 1.4589276, 1.1642618, 1.0306793, 1.3604612, 1.252969, 1.0192317, 1.1338739, 0.86438596, 0.7530655, 4.706999, 0.38234288, 1.0114127, 1.5090555, 0.9821816, 0.97105837, 1.0704428, 1.5932076, 1.1569575, 1.4652629, 1.0140605, 1.766035, 0.98621875, 1.51263, 1.2926632, 0.9618762, 1.2173831, 1.1997333, 0.5670835, 1.0515358, 1.4100175, 1.1487874, 1.2399695, 0.47195327, 1.1426145, 0.94387, 1.654335, 1.2772307, 0.6440305, 1.1786908, 1.978471, 1.5119902, 2.48241, 1.1653181, 1.5978137, 1.4750961, 1.2837671, 1.3101188, 1.7055779, 1.28245, 0.99392074, 1.2925887, 1.2135578, 0.82043827, 1.3127751, 1.1100689, 1.3376129, 1.1160003, 3.032598, 1.2318695, 0.9303726, 1.1184379, 1.1473665, 0.6564615, 1.6542736, 1.4167805, 1.4984753, 1.2752953, 1.1128602, 1.4207267, 1.2973169, 1.1435691, 1.0113039, 1.4781673, 1.3945649, 0.8926166, 2.0472653, 1.2196449, 1.182339, 1.2784134, 1.3529087, 1.1508119, 1.9497153, 0.9939505, 2.308394, 1.1248422, 0.68149906, 1.4813707, 1.1574019, 1.0414995, 1.1660249, 0.99888253, 1.3825761, 0.7420529, 1.9565392, 1.2915785, 0.8980409, 1.2971327, 1.8883463, 2.1592605, 1.1089977, 1.1405516, 1.570516, 1.1830555, 1.0022695, 1.4243649, 1.4614336, 1.2854046, 0.9892637, 1.0714426, 1.2167565, 1.2381592, 1.5593402, 0.79764396, 1.5059719, 1.4822432, 1.18682, 1.1157225, 1.3576311, 1.2713736, 1.2450986, 2.2827513, 1.2069503, 1.1838089, 1.3389173, 1.0405754, 2.0072083, 0.9742434, 1.4686687, 1.2723571, 1.4488928, 1.0371327, 1.280981, 1.3015394, 1.0226479, 1.3529048, 1.0835353, 0.4819893, 1.3213326, 1.1539124, 1.4056789, 1.1468946, 1.2417283, 0.91088176, 1.1300131, 1.3657122, 1.260299, 1.1097742, 1.3040913, 1.4142748, 1.0049205, 1.7049739, 1.1387618, 0.89402896, 0.7883934, 0.66927516, 1.2381586, 1.2559702, 1.0228102, 1.122295, 1.3341309, 1.0337344, 1.7296246, 1.4586912, 0.7285753, 1.4505861, 1.4274881, 2.007565, 0.96169066, 1.1582811, 0.6620941, 0.51368177, 1.1973271, 1.5429561, 0.86964303, 0.7906228, 1.4741722, 1.0838897, 1.2868601, 1.2545437, 0.88684016, 1.1804299, 0.9487488, 0.7865868, 1.1361732, 0.60587287, 1.1968468, 1.0800866, 1.3509948, 1.4691111, 1.1810606, 1.1471685, 2.9241168, 0.9551276, 1.6301627, 0.5954746, 1.0420324, 1.3053124, 1.2394536, 1.0176494, 2.2819042, 1.7525806, 0.92886776, 1.7460772, 1.3556242, 1.2563035, 1.6274121, 1.1182128, 1.0347978, 1.1701565, 3.8304338, 1.5048043, 0.89733404, 1.493868, 1.2325795, 1.321511, 1.0386531, 1.2989321, 0.9655546, 1.0372158, 1.4637412, 2.1249902, 1.2859862, 1.4596353, 0.46616098, 1.1453062, 1.3127927, 1.5252631, 0.79179287, 1.113197, 1.0076852, 1.3766026, 1.0934072, 1.2860651, 1.1083246, 1.3866521, 1.1850396, 1.1440215, 1.6928294, 1.2093811, 1.280619, 1.4546583, 1.6802007, 1.3582907, 0.61914986, 1.293834, 1.1575992, 1.2715465, 1.047883, 1.2594115, 0.97151583, 1.1726205, 1.2345532, 0.99773955, 1.1888632, 1.4232372, 1.003305, 1.1163385, 1.4032402, 1.0594889, 0.8200028, 1.4205651, 0.84116304, 1.2745732, 1.5950578, 1.3391205, 1.1560223, 1.3318952, 1.267633, 2.547082, 1.3696289, 1.3723596, 1.446734, 0.89016026, 1.4027437, 1.0931555, 1.5389103, 1.3491403, 1.1626891, 1.255271, 0.8123291, 1.9513658, 0.87111616, 1.2258514, 0.7798022, 1.1143959, 0.8318597, 1.2033473, 1.5026681, 1.3377305, 1.1847428, 1.2594205, 0.95866334, 1.1220101, 0.97999024, 1.2175732, 4.108471, 1.4972081, 1.192264, 1.0280297, 1.5241348, 1.4067166, 2.0245948, 1.4173083, 0.9686673, 1.0161176, 1.3032386, 0.6755738, 0.9640998, 0.955623, 1.6976848, 1.3461767, 1.5637716, 1.3463163, 0.37661538, 1.3981428, 0.90534645, 0.87608254, 1.078654, 1.750811, 1.1070037, 1.4428306, 1.1530812, 1.1274232, 1.3785225, 1.056358, 1.944923, 0.9273351, 1.3875198, 1.20957, 1.209264, 1.2241442, 1.6939285, 3.0878465, 0.61858916, 1.10872, 1.3857642, 1.220023, 1.4185232, 1.839227, 1.5181583, 1.5430921, 1.2631346, 0.5805358, 1.4058657, 1.177864, 0.96832764, 2.28436, 1.5571436, 1.1126783, 2.4076068, 1.7164352, 1.2355474, 2.1374292, 1.4896339, 1.2044755, 1.375495, 1.039729, 0.9931737, 1.5311382, 1.5801888, 1.3346027, 1.0700723, 0.78088194, 1.2163966, 1.4408518, 1.1132902, 1.199196, 0.784215, 0.49190342, 0.9275314, 1.0783546, 2.1187458, 1.1014504, 0.93507236, 0.775512, 1.367731, 1.6696011, 1.3814423, 0.8012815, 1.3764589, 1.181994, 1.2092211, 0.88003665, 0.97812533, 1.5906776, 1.6358893, 1.0535793, 1.5307211, 1.0179564, 1.0551018, 1.1018904, 0.8361144, 1.1166106, 1.1820356, 1.5992322, 1.2379384, 1.0929216, 1.382567, 1.5861621, 2.1576643, 1.2293144, 1.0914124, 1.1145267, 1.0127659, 1.2325933, 1.180631, 1.6543615, 0.7022139, 1.724085, 1.3135037, 0.8744271, 1.1783059, 1.4847846, 1.4366177, 1.4581861, 1.5565907, 1.4408392, 1.0970774, 1.812393, 1.0065818, 1.057143, 0.94772714, 1.5825388, 1.0970434, 1.7083536, 0.94592035, 1.8180952, 1.3886256, 1.3983533, 1.9259019, 1.1072854, 0.9934595, 1.2756555, 2.5384634, 2.4787953, 1.0314368, 0.8128775, 0.88542587, 1.1616087, 0.9545781, 1.1019267, 1.1523563, 1.18788, 1.3134135, 0.82212275, 1.1431282, 1.1313077, 1.2710644, 0.79829776, 0.21773666, 1.0301073, 1.079293, 1.1328963, 1.0414555, 1.3092334, 1.1924024, 1.0189817, 1.2910405, 1.5387679, 1.424095, 1.0940753, 1.4124142, 2.0738728, 0.76158303, 1.3223376, 1.3766786, 1.0425091, 1.7041522, 1.0699453, 0.9642125, 1.4399555, 1.0015291, 0.8808868, 0.92468464, 1.1461592, 1.502881, 1.0799831, 0.8415769, 1.0896037, 1.1430472, 2.0519795, 1.1778668, 1.0900545, 0.9708487, 1.0655557, 1.060568, 0.92589134, 0.9654526, 1.307428, 1.5299603, 1.033251, 1.311723, 0.98887515, 0.7445623, 1.1518375, 1.241711, 1.164624, 0.9705391, 0.98376524, 1.4783349, 1.1086675, 1.6014651, 1.9336306, 1.6901746, 0.978848, 1.6459181, 0.8240165, 1.2599102, 1.1302462, 1.0776917, 1.02023, 1.3131319, 1.3470277, 1.3842291, 1.0631154, 1.015139, 4.333404, 1.5301112, 1.2470623, 0.7954568, 1.301112, 1.3329695, 1.0360031, 1.7260625, 1.106841, 1.2285217, 1.0545536, 1.420456, 1.023462, 1.1087303, 0.9701146, 0.8777186, 1.2021147, 1.0735654, 1.5650747, 1.3501782, 0.8387513, 1.436308, 1.0254335, 1.3252461, 1.659303, 1.013114, 1.0106299, 1.8699684, 0.66681993, 1.7042493, 1.2415208, 1.1770622, 1.3369284, 0.7709803, 1.1678658, 1.1544995, 1.4737446, 1.2754086, 1.3194615, 1.33686, 1.5585485, 1.1251948, 1.0348355, 1.120488, 1.130796, 2.5718427, 1.6970079, 1.656583, 1.137403, 1.0810268, 1.3008897, 1.0313245, 1.6623188, 1.178994, 1.700014, 1.1929052, 1.5684998, 1.3235058, 1.6597003, 1.5175877, 1.2818456, 1.6653156, 1.5260453, 1.3666012, 1.1447797, 1.0343828, 1.4821206, 0.70597976, 1.7349961, 1.3734975, 1.7624892, 1.648657, 1.2445654, 1.1747642, 1.0494176, 0.9630889, 2.1461363, 0.9117572, 1.0520806, 1.1339962, 0.78919584, 1.1750401, 1.1985743, 1.0190789, 0.6955578, 1.111243, 1.1669722, 0.7001184, 1.1137962, 0.8203605, 0.98443085, 1.3136785, 0.8939564, 1.1890844, 1.3442823, 1.0880467, 1.3246492, 1.2351012, 1.2880464, 1.050371, 0.9510257, 1.574392, 0.9950738, 0.9983502, 1.2341591, 1.1448444, 0.9042796, 2.1827457, 1.063622, 0.7548803, 1.9763808, 1.8361356, 1.2682185, 0.95077956, 0.78787655, 1.3580571, 1.223948, 1.6980494, 1.2164419, 0.993188, 0.5495327, 1.3298311, 0.97518444, 1.3522276, 1.2921332, 1.4126858, 1.4728423, 1.0225471, 1.1648158, 0.9473121, 0.827781, 1.1771591, 1.0158613, 1.9557706, 0.8409122, 0.98776346, 1.0345397, 1.5871018, 1.0208699, 1.2424581, 1.8039954, 1.1548587, 1.1550003, 0.6725623, 1.043643, 0.61007696, 0.99139607, 1.3855512, 1.2137365, 1.5810474, 1.0763981, 1.1032562, 1.5938444, 1.3755002, 0.86891395, 1.1550746, 0.71442294, 0.89392656, 1.8594217, 0.51624686, 1.086284, 1.291846, 1.6572515, 0.9762796, 1.2463394, 0.7997021, 1.155298, 1.2441838, 1.204165, 1.3903306, 0.8901266, 1.3879769, 0.78386015, 1.0256712, 1.9449806, 1.4602456, 1.2513981, 1.3287933, 1.5263898, 1.3345606, 0.9030558, 1.1594359, 1.1095748, 2.1422315, 2.43926, 1.7535044, 1.1986277, 0.83359176, 0.7936355, 0.94587886, 1.1538917, 0.9824669, 1.3386563, 1.0785483, 2.2073007, 1.1685553, 1.0532899, 1.0153664, 1.06467, 0.76254445, 1.1120435, 1.5928086, 1.4552985, 1.741673, 1.3849863, 0.9146071, 1.0463327, 1.4288018, 1.2571145, 1.2327927, 1.3573809, 0.67421013, 1.3769406, 1.2781068, 1.4276743, 1.5064185, 0.80209595, 0.97756445, 1.510968, 1.3547612, 1.1574956, 1.2472818, 1.0037022, 0.85596734, 1.3405752, 1.9705217, 2.0131218, 1.3515581, 1.0347998, 1.0918617, 1.3218375, 1.3372082, 1.5430808, 1.5331887, 1.5529046, 0.9524647, 1.0291393, 0.76861733, 1.2912028, 1.310591, 1.2477894, 1.1813364, 1.3434132, 1.3309664, 1.2611625, 1.3047231, 1.7170916, 1.2060434, 1.1212347, 1.9354126, 1.0149735, 0.8138809, 0.5759806, 1.4816784, 1.3121063, 1.3945363, 1.019697, 1.1381768, 0.79603314, 1.2201198, 1.291271, 0.8446675, 1.4824729, 1.2509234, 1.1863295, 3.405519, 1.2369145, 0.94512993, 2.4827507, 1.417319, 0.98753047, 0.9471788, 1.3996967, 1.1044121, 1.4326303, 1.2154703, 1.3585219, 1.184733, 1.5295361, 0.85940087, 1.2881831, 1.5265735, 1.2623215, 1.530366, 1.0539535, 1.3249571, 0.8719035, 1.2093031, 0.8971463, 1.6153101, 1.0697284, 0.95712715, 1.2605622, 0.9169102, 0.9858534, 1.9336779, 1.1036228, 1.0973433, 1.2492653, 1.1728947, 1.247476, 1.1691915, 1.1859117, 1.0620481, 2.4990714, 1.0065488, 0.83450586, 1.1122669, 0.7721781, 0.9512724, 1.4841552, 1.1171544, 1.5497899, 1.3096999, 0.9841024, 1.7130628, 1.308772, 1.2731977, 1.0567927, 1.2163969, 1.4979079, 1.1958495, 1.1138054, 1.1029142, 1.2743343, 0.8488633, 0.32725298, 1.1827945, 1.1890669, 1.4101702, 1.398249, 1.1617124, 1.4977782, 1.2071787, 1.2142131, 1.3725741, 0.8476019, 0.94710827, 1.4274083, 1.2934971, 0.9073665, 1.3039714, 1.0914985, 1.3462453, 1.1341153, 1.2582583, 1.6750036, 1.2389244, 0.64528716, 1.0092893, 1.4492162, 1.0719861, 0.9395399, 0.5892133, 1.1382946, 1.362295, 1.2091734, 0.68534935, 1.4375165, 1.1682838, 1.0680671, 1.2833779, 1.0812519, 0.7762395, 1.100153, 1.1185745, 1.3663245, 1.7474537, 0.8662694, 0.9520427, 1.3493053, 1.209619, 0.91527957, 1.603634, 0.9061132, 1.1372883, 1.1700637, 1.3023251, 0.68438286, 0.9961217, 0.89642197, 1.1803656, 1.3029562, 0.7822035, 1.5094191, 1.3989227, 1.4956415, 0.8675075, 1.1242099, 0.9854982, 1.2432954, 1.4076465, 1.8138096, 1.6307335, 1.2955481, 1.2165304, 1.1352577, 1.2302289, 0.9459404, 1.1205394, 0.52026176, 1.2440866, 1.3656766, 1.4235476, 3.0985203, 1.1926354, 0.5153104, 1.1177548, 1.3598874, 1.8572899, 1.03416, 2.0068846, 1.1491488, 1.1338192, 1.4353802, 1.2925534, 1.801237, 0.8816933, 1.564317, 1.2252454, 1.0144184, 1.0695615, 1.2109323, 1.0976849, 1.1861472, 1.4864757, 0.7090039, 1.0220408, 1.2702962, 1.2903947, 1.353397, 1.4106838, 0.79855126, 1.4431534, 1.1758711, 1.1117834, 2.9681633, 2.1403852, 1.3966233, 0.8742669, 1.3935385, 1.3881172, 1.3221741, 1.2494851, 1.8234632, 0.8304613, 0.56938523, 0.89835936, 0.809997, 1.2098308, 1.2255565, 1.2967801, 1.5565418, 1.3137249, 1.2849774, 0.94179994, 1.2837992, 0.97738796, 0.8093186, 1.3525695, 1.603269, 1.0140811, 1.1349057, 1.1944135, 1.1925706, 1.2220949, 0.67417663, 1.1202819, 1.9267901, 0.87610227, 1.0453324, 1.5184202, 1.0294737, 0.9705848, 1.1263143, 0.71773666, 1.6678017, 1.1941125, 1.6532087, 1.0171218, 1.5238633, 1.5737191, 1.1925706, 1.3400675, 1.1612277, 1.1369152, 1.1398308, 0.9107424, 1.5460241, 1.246587, 1.2146547, 1.5849164, 1.5393906, 1.7139771, 1.1838747, 1.3048967, 0.85708696, 1.0912585, 1.344246, 1.7804239, 1.2027931, 1.5426213, 1.1571605, 1.1241654, 1.2902825, 0.89452684, 1.1877849, 0.28312832, 1.5060219, 1.4743152, 1.522104, 0.82472605, 1.4296099, 1.4040861, 0.4062194, 1.201371, 1.1306275, 1.5718968, 1.2663512, 1.1746694, 1.0908754, 1.0129005, 1.3659589, 1.0175837, 0.9936119, 1.570887, 1.3406224, 1.7571383, 0.5127468, 1.0684595, 1.579994, 1.4933306, 1.3184723, 0.88088197, 1.1045386, 1.6140943, 1.1313745, 1.1427207, 1.3182272, 1.5993629, 1.0887035, 1.4484297, 1.0812507, 0.9905762, 1.115041, 1.3321964, 1.5890939, 1.584574, 1.4919331, 1.2604227, 1.6429106, 1.2975795, 1.4011731, 0.8448468, 1.3474311, 1.285564, 1.2451323, 0.99933547, 1.4690875, 1.256093, 1.4578694, 1.548442, 1.182745, 1.3411272, 1.0392305, 0.92947096, 1.360953, 1.201266, 1.2808809, 1.2283827, 1.1686203, 1.1038005, 1.6042614, 1.3748827, 1.1937364, 1.0743041, 1.0508159, 0.97059685, 1.1943169, 0.9278056, 0.8090446, 1.2401521, 1.4507517, 0.9915632, 1.1961961, 1.2799032, 1.1585004, 1.1959178, 2.059092, 2.1358976, 1.0986878, 1.2905427, 1.2747835, 1.7367384, 0.9898571, 1.1097125, 1.3061303, 1.2818596, 1.0849923, 1.2382206, 1.013114, 1.2063186, 1.0471228, 0.8782373, 0.8830665, 0.8477955, 1.0661142, 1.430041, 1.4239247, 1.5078664, 1.3577156, 2.0559518, 1.0399389, 1.6275405, 0.9526362, 1.2286944, 1.7220683, 0.9249732, 1.7434114, 1.1516135, 1.1407121, 1.8306943, 0.9353747, 1.427327, 1.7924209, 0.6729346, 1.2578558, 1.3037316, 1.3564975, 1.725892, 1.6983689, 1.3414742, 1.5959696, 0.952506, 0.9826084, 1.2738128, 1.0515563, 0.8795777, 0.9043715, 1.3766847, 1.8041668, 1.3452169, 1.5023965, 1.190315, 1.3563308, 1.2248836, 1.6967077, 1.8829124, 1.0803292, 1.4998593, 1.3849888, 1.4417248, 1.0387305, 0.8475965, 1.7573118, 0.88141286, 1.3349507, 1.1208833, 1.2852328, 0.904684, 1.0534075, 1.387327, 1.3471352, 1.0886302, 1.2345501, 1.3675224, 1.6525568, 1.4659238, 1.416876, 0.95528656, 1.2012616, 1.3342261, 0.81986916, 1.6890643, 1.1067867, 1.3097738, 0.78336185, 0.88029104, 1.1811112, 1.3298348, 1.0405906, 2.8784425, 2.0993357, 1.5394354, 1.0585886, 0.9833778, 1.3604158, 0.88311034, 1.1834041, 1.04937, 0.94552547, 1.4889035, 0.9584952, 0.87888587, 1.2432517, 1.329894, 1.0409237, 4.5272913, 1.3300534, 1.3413395, 1.2416273, 0.9075837, 1.0124668, 1.0231174, 1.0141622, 1.0471603, 1.3540975, 1.046822, 1.1826913, 1.0712581, 1.2869287, 1.175715, 1.491613, 1.0438026, 1.5049918, 1.2537041, 1.0731748, 1.0988171, 1.394467, 1.0480068, 1.4107128, 1.5818689, 1.0690403, 0.84668446, 1.289394, 1.0354496, 0.8193095, 0.9597309, 0.8602936, 1.9220474, 1.2809486, 0.5098353, 1.26731, 0.93559885, 1.4717622, 1.134764, 1.1583865, 1.4966589, 1.4747155, 1.3850346, 1.1914383, 1.3334373, 1.216865, 1.3911729, 1.3530462, 1.2570584, 1.2224835, 1.7951466, 1.1547649, 1.2589756, 0.89495856, 1.0612481, 1.4133128, 1.0694888, 1.3913361, 1.0091602, 0.7794489, 1.0262809, 1.3381319, 1.4294393, 1.0135256, 1.2517955, 1.4853222, 0.9731303, 1.2651207, 1.8313948, 1.240584, 1.5248107, 1.1220478, 1.0829271, 0.8692081, 1.0778008, 1.6782048, 1.2718519, 1.4252499, 1.8824341, 1.1794887, 1.057916, 1.2548674, 1.082709, 0.884227, 1.3060515, 1.4436861, 1.2250497, 1.5163287, 1.7669508, 1.306695, 0.88435286, 1.2874466, 0.94716656, 0.89101356, 0.7995084, 1.0921549, 1.0799088, 1.4437425, 1.0806684, 0.9637935, 1.2333997, 1.0363326, 1.0367389, 2.3943512, 1.0483718, 1.3956538, 1.714885, 1.230478, 0.9515126, 2.4677856, 0.8653455, 1.4475603, 1.3905908, 1.3446332, 1.3489957, 1.1260622, 4.480323, 0.33029416, 1.676512, 1.9692531, 1.0122112, 1.5813768, 1.548817, 1.5428985, 1.631798, 0.68688583, 0.9996021, 0.9659833, 0.9485024, 1.107511, 1.2437882, 0.9013438, 1.1493233, 1.1804246, 1.5930802, 1.2993782, 1.3050568, 0.8147274, 1.8592163, 1.2936766, 1.0899862, 1.1832739, 1.7983105, 0.93333274, 1.0706738, 1.6318904, 1.3618282, 0.8322752, 3.1231906, 1.1325253, 1.1258315, 0.88321155, 1.9472688, 1.9065628, 1.1239535, 1.1944165, 1.407979, 0.9879567, 1.0875678, 1.1388295, 1.3320118, 1.3718612, 1.2041632, 1.4137331, 1.0348202, 1.3170713, 1.1957533, 0.60475904, 1.1695929, 1.1202428, 0.90735936, 1.320708, 0.96792835, 0.80245566, 1.3789029, 1.0522827, 1.7539341, 1.0543213, 1.6751885, 1.232731, 0.720131, 0.90418917, 1.4857692, 1.0451633, 1.1107069, 1.3416064, 0.52627546, 1.4903797, 1.5440814, 1.2091206, 0.9453493, 0.94268876, 1.1565038, 1.2848305, 1.4201746, 1.2817415, 1.3352398, 1.387175, 1.0221932, 1.265446, 1.0720658, 1.5553976, 2.626856, 1.4441282, 1.166847, 0.69397163, 1.5139856, 1.048379, 0.8812922, 0.8635524, 1.1886886, 1.730092, 1.2586523, 1.119147, 1.1875236, 0.9626851, 1.591351, 1.3484793, 1.4398657, 1.4143801, 1.3781435, 0.9346299, 1.1806691, 1.26584, 1.3404218, 1.5596641, 1.58807, 0.6343291, 1.6159906, 1.7504292, 1.0555763, 1.502587, 0.7739163, 1.2022388, 1.5344394, 1.0379894, 3.3113894, 1.1984191, 1.1891222, 1.7126356, 1.3972726, 1.5424271, 1.1115048, 1.225019, 1.025489, 1.1896291, 1.2878487, 1.0727909, 1.0335469, 1.4063642, 1.2802263, 1.5286015, 0.8232309, 1.697783, 1.1521223, 1.305356, 1.1730956, 1.7285573, 1.4437795, 1.402982, 1.1030262, 1.4354439, 0.5844843, 2.444064, 1.96725, 0.9321972, 1.3551973, 1.5665722, 1.0199757, 1.3856782, 1.4389752, 1.4964098, 0.65301025, 1.2412907, 1.3128624, 1.5316187, 1.1773365, 1.2198818, 0.5627961, 0.66775346, 1.6209574, 1.0529652, 3.6114688, 1.8938154, 0.8710192, 1.3668802, 1.0712788, 0.8145531, 1.997797, 1.2432891, 2.7259588, 0.7374282, 1.6262481, 1.04799, 1.6639683, 1.0997037, 2.639261, 1.6391376, 1.365423, 1.4465013, 1.4815378, 1.1830872, 3.1921003, 0.5455314, 1.2017574, 1.1097597, 3.2275817, 1.0102355, 1.0652245, 1.4298668, 1.3971486, 0.60990435, 0.8887786, 1.1043494, 0.73338777, 1.6720163, 1.3626231, 0.653701, 0.86164314, 1.5814198, 1.3753008, 1.3404549, 0.73150736, 1.5624175, 1.5522755, 1.6001778, 1.0801885, 1.4232992, 1.2271178, 1.3855394, 2.305586, 1.0315892, 1.3766414, 1.128804, 1.7792878, 1.2283859, 1.4212373, 0.8305236, 0.7138062, 0.93650836, 0.9990847, 1.1248604, 1.380246, 1.1525127, 0.7916157, 1.6814039, 1.437251, 1.22409, 1.2628382, 0.7788097, 0.64979655, 1.0611143, 1.4121289, 1.0117341, 1.0156053, 1.6323583, 1.0450056, 0.8311838, 1.2502407, 1.1490679, 1.8639667, 1.8182181, 1.0396756, 1.5192102, 1.0226227, 1.126615, 1.6004229, 1.3874604, 1.3367482, 0.98693043, 0.91004014, 2.3325684, 1.6166962, 0.7320156, 1.09326, 1.386471, 1.4454403, 1.5125271, 0.8478673, 1.0209696, 0.6241478, 1.1664515, 1.4520341, 1.3287592, 1.1486448, 1.3400894, 1.120926, 1.7207764, 0.93395644, 1.3253886, 1.6948493, 1.9333438, 1.1013734, 0.85874313, 1.0396523, 1.8259054, 0.9801574, 1.063058, 1.1548193, 1.2612647, 1.971378, 1.3871067, 0.8837004, 1.18084, 1.1239376, 0.74832565, 1.8805106, 0.8218721, 1.5067087, 0.7165145, 1.1381936, 1.413242, 1.1927365, 1.5936093, 1.0162141, 0.9603129, 1.0089009, 1.3886937, 1.5095018, 0.7956616, 1.387632, 0.9504069, 1.934823, 0.9697679, 1.541847, 1.3274775, 2.470441, 1.3405508, 1.5491227, 1.1866877, 1.7262486, 0.9697812, 0.9886169, 1.5760038, 1.4137664, 1.1308283, 1.0377468, 0.6707322, 1.7605153, 1.3336313, 1.0072541, 1.339207, 1.0532963, 1.806309, 1.3499808, 1.1905422, 1.5724303, 1.4144155, 1.2929395, 1.0452335, 1.1744747, 1.0802778, 1.7420256, 1.2943237, 1.3785064, 1.1452996, 1.5010769, 1.0011396, 0.8128824, 1.1422813, 1.1908348, 1.0084381, 1.295959, 3.3962562, 1.143071, 1.145285, 1.0825737, 1.1710219, 1.215021, 1.0553082, 1.4797541, 1.309654, 1.3567568, 1.3313224, 0.7948096, 1.7923707, 1.6670209, 0.9442525, 0.8941421, 1.4468796, 1.2021022, 1.2657115, 1.5488406, 1.7358674, 1.6210417, 1.6904233, 1.9634508, 1.369448, 2.8341134, 0.62959474, 1.1351854, 1.372056, 1.2869356, 1.3864944, 2.2011147, 1.1963518, 1.2377846, 0.94315904, 1.2142462, 3.369343, 0.91822404, 1.2561989, 0.8336694, 1.7283858, 1.1467841, 1.8436992, 0.9070209, 0.8574738, 4.325637, 1.4766778, 1.206846, 1.2221671, 0.91277385, 1.4954095, 1.4207033, 1.2028848, 1.1425798, 1.0036625, 0.8666309, 1.7594937, 1.3350369, 1.3216867, 1.5564065, 0.9116207, 1.0719861, 1.1571319, 1.3502871, 1.0114745, 1.1508679, 1.5078094, 1.3805087, 1.0150461, 1.7416288, 0.8571792, 1.253623, 1.1650296, 1.0755503, 1.004791, 1.0627143, 1.4897703, 1.3683767, 1.6389173, 0.9397285, 1.2855805, 1.2570267, 1.1130239, 0.9271097, 1.6985557, 0.81540024, 1.458516, 1.0391108, 1.393638, 0.8416682, 0.8476473, 0.9837704, 1.12632, 0.9937067, 1.2718992, 1.2087344, 0.9740452, 0.96573246, 0.93794066, 1.1343696, 0.59924984, 1.0745785, 1.4644188, 1.1385925, 1.4632993, 0.7619488, 1.7219667, 0.97921205, 1.8371508, 1.0105091, 1.5400012, 1.4081252, 1.7486247, 1.3609713, 1.4850583, 1.0727409, 1.0559607, 1.2523477, 1.1306473, 1.2143137, 1.0072116, 0.98650426, 1.267019, 0.8490508, 1.0572761, 1.4052579, 0.7887171, 1.6422569, 1.7596256, 1.1285135, 1.1015111, 1.2622595, 1.2070585, 0.86009383, 1.1673253, 1.8298024, 0.9875274, 0.8591113, 1.5588875, 1.3577665, 0.71725017, 1.0263872, 1.0897166, 1.1962476, 1.12106, 1.3463855, 1.0032176, 1.1498737, 1.2325023, 1.2290909, 1.5121981, 0.9525581, 1.3310872, 1.1591398, 1.1355516, 1.1656586, 1.2447602, 0.89112437, 1.2830349, 1.3959829, 1.4274448, 0.96610284, 1.4684392, 0.9943757, 1.7369785, 1.3778708, 3.2777538, 0.8575254, 1.1681895, 1.3217299, 0.98618156, 0.88612205, 1.4525378, 1.1512512, 2.1500545, 1.1649711, 1.3365989, 1.2880595, 0.72349215, 1.2662884, 1.9266905, 1.3278971, 1.3872873, 1.5141617, 1.5679029, 1.2473787, 1.0063261, 1.3072225, 1.6092094, 1.0281845, 0.8510781, 1.2232159, 1.3222439, 1.1834841, 0.62985116, 1.34093, 1.3079734, 1.3930966, 1.5600914, 0.8675528, 1.0686681, 2.32451, 1.3292646, 1.4750751, 1.2553806, 1.0604246, 0.844544, 1.5163898, 0.85483855, 0.8015047, 1.1089685, 1.227454, 0.948972, 2.8266397, 0.9491147, 1.6943165, 1.0102768, 0.96258616, 0.9820365, 1.2285833, 1.0277306, 0.9445581, 1.2889181, 1.4017423, 1.1700231, 0.98517096, 1.5932341, 1.5222564, 1.4534982, 1.0413244, 1.2939324, 1.224472, 1.1416434, 1.3605604, 1.3893788, 0.9855031, 1.0202317, 1.4095387, 1.3572558, 1.1548418, 0.98874015, 1.2679667, 1.0230002, 1.9689587, 1.306831, 1.125232, 0.94442755, 2.698052, 1.040408, 0.81987906, 1.3893404, 0.94318867, 1.0114192, 1.5955662, 1.200545, 1.1666993, 1.4484315, 1.4090611, 3.942964, 1.2300286, 1.0679682, 0.94447774, 1.1635634, 1.350153, 1.0635741, 1.726255, 1.9724867, 0.93305105, 1.4733777, 1.1859136, 1.0567578, 1.5799493, 1.2507858, 1.0730011, 1.2230372, 4.284852, 2.514876, 0.67421305, 1.3280033, 1.1412026, 2.0210311, 1.1305084, 1.5867947, 1.2244757, 2.3348897, 1.1469713, 1.4235216, 1.3694807, 0.95183814, 0.9738363, 0.97908723, 1.5707299, 1.2660156, 0.9257374, 1.3066984, 0.5173846, 0.9928936, 1.2312081, 1.3800701, 1.655748, 1.6660222, 1.0824863, 1.3649446, 1.4424134, 1.7254748, 0.95558053, 1.6926576, 1.9150844, 1.6605563, 1.010849, 1.0359141, 1.3193938, 1.0778117, 1.9233607, 1.5295486, 1.7562093, 1.2485825, 1.4080327, 1.2041178, 1.1749655, 1.7843653, 1.0627712, 1.3867793, 1.5045053, 1.1753895, 1.9432604, 2.015797, 1.3291441, 0.81783533, 1.2175702, 1.039729, 1.9743795, 1.6101156, 1.3124267, 1.1589503, 1.5932279, 1.585673, 1.0865784, 1.7377778, 1.5549169, 1.4018565, 1.1019001, 1.2077937, 1.749295, 1.3063797, 1.4004536, 0.9638312, 1.320335, 1.4653627, 1.6725584, 0.6433894, 1.1316925, 1.6325748, 2.0406203, 1.1686158, 1.0490663, 1.0944576, 1.3454983, 0.597898, 2.1322892, 1.0997753, 0.8589349, 1.1004393, 1.3830091, 1.0667366, 1.1785287, 0.8650037, 1.0491493, 1.6548384, 1.0598387, 1.3777002, 1.3328758, 1.4473195, 0.9140264, 0.9657852, 1.2645881, 1.2608805, 1.7167748, 1.4350137, 1.0697598, 1.2754809, 1.6002783, 1.1649483, 1.5185413, 1.502287, 1.2803289, 1.0255337, 1.5936003, 0.92812747, 1.4625719, 1.354495, 0.8242839, 1.3028756, 1.111759, 0.9104436, 1.1893973, 1.8602648, 0.85122186, 0.27031776, 1.2249924, 1.0131568, 0.97766215, 1.9765278, 1.4518677, 1.3996086, 1.4873173, 1.0193932, 2.0148637, 1.1813155, 1.457091, 1.2404274, 1.8115219, 1.8002186, 1.640092, 1.0008066, 1.1205155, 1.3371226, 1.4710759, 1.1638168, 1.5258044, 1.5889041, 1.2298615, 1.0951711, 1.4138647, 1.1509795, 0.74581987, 1.1256338, 0.69866204, 1.8459896, 1.444515, 0.92638427, 1.0077542, 1.3568289, 1.2441965, 0.894906, 1.371761, 0.6300052, 1.0452217, 1.1794423, 1.0010148, 0.8422633, 0.83769983, 1.0318848, 1.1193569, 1.542263, 1.3789146, 1.29975, 1.2103246, 1.580479, 1.0927467, 1.1858251, 0.8483037, 0.8305202, 1.2323185, 1.3039697, 1.601697, 0.96538633, 1.1233057, 0.91820073, 1.0626993, 0.8894979, 1.256217, 1.0192157, 1.556053, 1.5635947, 1.0197207, 1.1320053, 0.98237205, 1.1063617, 1.1886574, 1.738337, 1.2331306, 3.0987694, 1.3651707, 1.2258626, 1.6320752, 1.6153529, 1.4959122, 1.6413038, 1.0556562, 1.0535527, 1.423588, 0.9502788, 0.75301707, 1.0173389, 1.2128091, 1.2213154, 2.7231739, 1.3557293, 1.1038, 1.0066704, 3.447514, 1.3576746, 1.1535009, 1.2654322, 1.2866371, 1.4501829, 1.1989669, 1.3170491, 1.2017251, 1.3597856, 0.9594406, 0.9682868, 1.3453267, 0.70240504, 0.3031335, 0.9511196, 1.2202758, 1.418666, 1.51667, 1.1980815, 0.8499031, 1.0473658, 2.0175936, 1.6438818, 1.3373026, 1.0010844, 1.1111609, 0.6854684, 0.95222956, 1.156206, 1.1714138, 1.1022234, 0.9239266, 0.91117084, 0.95674783, 0.9447823, 1.6566519, 1.1311523, 1.2294804, 1.4427754, 1.4301775, 1.111446, 1.0264541, 1.2711425, 1.4484242, 1.2126864, 1.3901305, 1.3702974, 1.6204814, 1.2926855, 2.7981787, 1.4552006, 1.0435629, 1.4404633, 1.2764213, 1.3498288, 0.7764831, 1.280637, 1.5766766, 1.0630985, 1.3844836, 0.99132967, 1.3084892, 1.8446785, 1.5231149, 1.1911321, 1.0709386, 1.387582, 0.9048968, 0.78475326, 1.139908, 1.262869, 1.531609, 1.0733136, 1.2262864, 1.3213888, 0.8936607, 1.547462, 1.2562532, 1.1515781, 1.0142081, 0.8532162, 1.1620378, 1.4883376, 1.1139569, 1.3302377, 1.0470817, 0.2382046, 0.4878727, 2.0501301, 1.1055902, 0.97415626, 1.075822, 1.5185724, 1.7047842, 1.1548343, 1.5740485, 0.7805205, 1.7711495, 1.181963, 1.4867158, 0.6174039, 1.4428222, 1.5299937, 1.0333254, 1.4382432, 1.3666406, 1.0312176, 0.6478623, 1.1861801, 1.3967344, 0.44795373, 1.7888117, 1.6851693, 0.9816391, 1.397882, 1.3187263, 1.4318038, 1.2199686, 1.33404, 0.700344, 1.2884736, 1.566727, 1.2983437, 1.4413353, 1.3243663, 1.0586799, 1.2054673, 1.3541726, 1.223785, 1.091496, 0.7658114, 0.89303344, 1.5055462, 1.3366491, 1.3150841, 1.2422005, 0.8878211, 0.6262484, 0.87579715, 1.6296498, 1.0845907, 1.526966, 1.3627744, 1.3461382, 1.4295661, 1.2261245, 1.7912228, 1.0913166, 1.3538961, 1.0028219, 0.9234066, 0.5195026, 1.3513676, 0.88773066, 1.4179946, 1.4760813, 1.5923841, 1.3043573, 1.1349406, 1.3857738, 1.385019, 1.2536823, 1.2082053, 0.97424895, 1.0625376, 1.1083935, 1.2683729, 1.4201839, 1.1864879, 1.0361581, 1.1510422, 1.0256169, 0.93092895, 0.8749861, 1.0365609, 1.4743766, 3.1325698, 1.1609949, 1.3378261, 0.86864346, 1.263959, 1.0372038, 1.7803812, 0.679363, 1.2859528, 1.2063789, 1.8155826, 1.4058384, 1.6533823, 0.9563692, 1.203127, 1.0418545, 0.8106428, 1.6841496, 1.031994, 1.2261046, 1.6029677, 1.002665, 1.1833898, 1.055697, 1.1022753, 1.1911128, 1.0459569, 1.434502, 1.3234558, 0.86288035, 0.38290036, 0.690892, 1.2877876, 0.8601098, 1.4594282, 1.0115967, 1.1126423, 0.90354025, 1.2032973, 1.3042102, 1.0982566, 1.4903169, 1.0276647, 1.4121804, 1.2400042, 0.65283257, 1.0082291, 1.0295078, 0.9611861, 1.2830119, 1.2718426, 1.2756913, 0.8539799, 1.1502129, 1.3761051, 1.9083718, 0.9577216, 0.78325975, 1.1251888, 0.8149917, 1.3976748, 0.9712387, 0.90913695, 0.8455038, 1.0742607, 1.1020176, 1.3759924, 1.3093623, 1.0780183, 1.3370777, 0.9890483, 1.0071456, 0.9931028, 1.456998, 1.1172754, 0.9347815, 1.7676573, 1.2718396, 0.35122165, 0.83269507, 1.0386583, 1.3454609, 0.9112084, 1.2456692, 1.1058817, 1.0505012, 1.2630901, 1.0555795, 1.4406418, 1.0418411, 1.1687592, 1.2717638, 0.9918302, 1.1794928, 1.5877442, 1.2973894, 1.315421, 1.5227563, 0.92732936, 1.2250376, 1.0582632, 0.97392386, 1.3657054, 1.7018688, 0.87730634, 3.109814, 1.3069308, 1.5839853, 1.8808895, 0.9963974, 1.3943534, 1.1207813, 1.2904307, 1.7582308, 1.6365155, 1.064817, 0.82352453, 1.0963147, 1.1388999, 3.8381126, 1.216032, 1.2383639, 1.1773772, 1.3099724, 1.6267906, 0.9213004, 1.4999506, 2.0571785, 0.93844867, 1.1572413, 1.0609791, 0.7627347, 1.2704102, 1.3700677, 0.7846041, 1.1002518, 1.0104048, 0.8852427, 1.7070158, 1.4354757, 2.4998956, 1.3964688, 1.1222466, 1.0671768, 0.6900303, 0.8930328, 4.2551694, 1.3988063, 0.732174, 1.377602, 0.8793252, 1.6312621, 0.95898795, 1.7998914, 1.1451781, 0.5609534, 0.90004283, 0.9689917, 0.7160904, 1.2581233, 1.2780951, 1.447573, 1.0664326, 1.1950125, 1.0887523, 1.2684013, 1.3468808, 1.0802722, 1.211754, 0.86546826, 1.3096219, 1.4820228, 1.3217824, 1.7110679, 1.4606391, 1.1216084, 1.7169896, 2.8968632, 1.1531914, 1.1212708, 1.1918768, 0.98769504, 1.420511, 1.858441, 0.98771906, 1.6248105, 1.0348355, 1.0907264, 1.195141, 0.8792636, 1.3032538, 1.2513521, 1.1728195, 0.8716553, 0.82204664, 0.9982431, 1.6163509, 1.1255909, 1.0620646, 1.5689938, 1.0208588, 1.2929395, 1.0732756, 1.1172231, 1.144141, 1.0572739, 1.8830205, 1.9112549, 1.4030095, 1.535946, 1.3278486, 1.1179267, 1.168347, 0.75165427, 1.5537068, 1.3654381, 0.8990342, 1.1924491, 0.8498104, 1.4264274, 1.7007507, 1.5092089, 1.423204, 1.150982, 4.1034102, 0.8026445, 1.8282679, 1.3410591, 1.2946378, 1.2539569, 1.6816361, 0.9528476, 0.91444194, 1.4413146, 1.5271257, 1.4749783, 1.1706179, 1.4094775, 1.1636846, 1.654717, 0.92464155, 1.307711, 0.79954416, 1.6841518, 1.3562195, 1.1932354, 0.95131165, 1.7303338, 1.2033436, 1.0831707, 1.7271719, 1.037224, 0.8922323, 1.1080723, 0.97320557, 1.3479017, 3.4200914, 1.1563534, 1.0674251, 1.4048755, 1.1925706, 1.6867737, 1.2712523, 1.3385832, 2.543043, 0.6381722, 1.1621623, 1.1708112, 1.0383489, 0.9720322, 1.0575292, 1.3369987, 1.4706534, 1.2176019, 1.1778765, 1.2814168, 1.7062062, 0.97927845, 0.6108921, 1.3417997, 1.0580821, 0.74800247, 1.1876619, 0.92694056, 1.1003852, 0.9191764, 1.081683, 0.92748886, 1.0901918, 1.3049016, 0.8017202, 0.9997288, 1.0487373, 2.4691641, 1.2084891, 1.0022098, 0.86994994, 2.3787231, 1.104845, 1.3138863, 0.95932084, 1.4263499, 1.474145, 1.991858, 1.2108963, 0.9772215, 1.3030695, 1.5887651, 1.2186505, 2.1891654, 0.8274006, 1.2397344, 0.87516063, 1.5741962, 1.4623078, 1.1919143, 1.5167798, 0.9919825, 1.1640786, 1.3941375, 1.4421498, 0.97907436, 1.1570206, 1.5355119, 1.1608609, 1.1198064, 1.3490803, 1.324192, 1.1294379, 1.1741819, 1.3578367, 1.1847116, 1.358427, 2.400687, 1.3924239, 1.0894142, 1.1693611, 0.58212274, 1.3048966, 0.86338466, 1.005201, 1.1675255, 1.1943654, 1.1042984, 0.91576755, 1.3258884, 1.234788, 1.0254102, 1.3185321, 1.6217844, 2.4565506, 0.69405854, 1.3682578, 1.4563799, 1.7441976, 1.2672496, 1.5710589, 0.9826003, 2.2846835, 1.4939296, 2.1903715, 1.7860724, 1.56251, 1.736336, 1.0548186, 1.0285113, 1.3536426, 1.1128795, 0.36425576, 0.9059549, 0.871364, 1.5895916, 1.8483523, 1.236471, 1.3347746, 1.0179163, 1.5758078, 1.283904, 1.3121339, 1.681315, 1.0124464, 1.1146678, 1.1227652, 1.3559726, 0.99284494, 2.0680153, 1.230107, 1.624996, 1.5083858, 1.0359057, 2.045477, 1.1334182, 1.0789833, 1.227359, 1.321706, 1.0931382, 1.1262792, 1.3232682, 1.1176248, 1.4005883, 1.1313077, 1.4278295, 1.1940172, 0.7969697, 1.5464567, 1.2174389, 0.8875808, 1.3480836, 1.288008, 0.7161754, 1.082163, 1.3918923, 0.91858643, 1.0790854, 1.512131, 2.4370062, 1.3043126, 1.719206, 0.8606134, 1.71031, 0.9888157, 1.3444009, 0.90534645, 0.7724322, 1.1361288, 0.9324651, 1.1680866, 0.91087824, 1.0324095, 1.2885747, 1.1702791, 1.6405874, 1.6029067, 1.1661402, 0.9272974, 1.4596802, 1.3816867, 1.1646129, 0.98784715, 1.1486963, 1.1101804, 0.7515769, 1.2819967, 1.409286, 1.455509, 0.9629323, 0.76372236, 1.1828758, 1.092835, 1.2341261, 0.45407617, 1.3659487, 1.1051229, 1.4627935, 1.156639, 1.0915622, 1.5176573, 1.614567, 1.4291638, 0.946372, 1.4862839, 1.1152194, 1.0192287, 1.1013429, 1.2946383, 0.96571285, 1.1374768, 1.3434871, 1.4297521, 1.7683966, 1.594349, 1.0114176, 0.945781, 0.842254, 1.067406, 1.7680508, 1.3531619, 1.1198037, 1.3088056, 0.9097739, 0.9171871, 1.1588444, 1.0244213, 1.639573, 1.4990188, 1.7482266, 1.4952052, 1.5067157, 0.91608953, 1.2180761, 1.0927737, 1.5455616, 1.544789, 1.1155131, 1.2696186, 1.1210917, 1.0318719, 1.6908425, 0.9865982, 1.0219978, 1.3060224, 1.162124, 0.9952714, 1.0475807, 1.042982, 1.1855292, 1.2171754, 1.2417995, 1.7166582, 1.2093629, 1.7737198, 0.8899956, 0.8252447, 1.7928672, 1.3431014, 1.4060941, 0.9724036, 0.8221504, 1.2758002, 0.9735541, 1.1052744, 0.8362238, 1.0745833, 0.8822296, 1.1038867, 1.0111785, 1.2115542, 1.0437891, 1.1401694, 1.1008472, 1.0080012, 1.135158, 1.2066817, 0.9845204, 1.5668141, 1.5550283, 1.2763308, 1.3653015, 1.1668028, 1.1199038, 1.3289856, 1.0842007, 0.95473415, 0.78619254, 0.8125407, 1.6070148, 4.0961113, 1.0481511, 1.0956366, 1.2108866, 1.4985056, 0.8516073, 0.9209715, 1.6292504, 1.3702813, 1.4566277, 0.98700505, 0.86452776, 1.447029, 1.0695856, 1.5329262, 1.8401012, 0.7376922, 1.2166989, 1.42655, 1.0252471, 1.4640261, 1.1707543, 1.209108, 1.1803432, 1.2271756, 1.5227885, 1.1737324, 1.4493078, 1.3993566, 1.241209, 0.8954928, 1.3201871, 0.9949936, 1.2819852, 1.3283582, 0.87894034, 1.8163338, 0.84599644, 0.9874872, 0.9212361, 1.2816614, 1.1826495, 1.4459554, 1.4705812, 1.259559, 1.1912069, 1.0120188, 0.93133837, 1.1229732, 1.112985, 1.0054144, 1.3650631, 0.9464101, 1.3600051, 1.6123435, 0.8331282, 0.86733115, 1.2472557, 1.3262397, 1.4814398, 1.6265869, 1.2108755, 1.3293505, 0.8830441, 2.3928676, 1.6708219, 1.2673753, 1.395207, 2.32345, 1.2218412, 1.1963947, 1.3131384, 1.1969635, 1.3696285, 1.4383378, 1.285825, 1.4452624, 1.2396379, 1.5750188, 1.4241323, 1.394565, 1.2870795, 1.4760759, 1.3684937, 1.2114204, 0.85479426, 0.40125743, 0.9622925, 1.1645055, 1.9744657, 1.1349874, 1.1568166, 1.0302187, 3.7252474, 1.2406589, 1.1811483, 1.1303382, 1.4674228, 0.83281064, 1.0784153, 1.5414846, 0.97181237, 1.4017694, 1.2547387, 1.1233081, 0.8361586, 1.3179638, 0.8015537, 0.9897788, 1.6936784, 0.7548728, 1.3652718, 1.0295438, 1.089883, 1.3823953, 1.4099874, 1.1220403, 1.734709, 1.8524219, 1.3016039, 1.9214097, 0.62378836, 1.2308048, 1.6537856, 0.7409218, 1.1484641, 2.0602822, 0.9181708, 1.4654089, 1.3836547, 2.2032611, 1.5941583, 1.0044358, 1.6543815, 0.9715059, 2.0374727, 1.1563197, 1.3889747, 1.1929873, 1.1596942, 0.86067927, 1.3943344, 1.2846298, 0.7953524, 0.42198458, 1.0580255, 1.8597586, 1.3594038, 1.2494472, 0.84847933, 2.080615, 1.4525942, 0.8033457, 1.8077598, 1.6117287, 1.1453952, 1.3604925, 2.0616329, 1.2120037, 0.86773896, 1.3122302, 1.7268934, 0.9605265, 1.1986277, 1.4298221, 1.1712812, 1.117346, 1.3329071, 1.0089457, 1.0109863, 1.3267432, 0.7051572, 1.0025629, 1.1863437, 1.7656119, 1.3340868, 1.3724668, 1.4570005, 1.4073801, 1.1618117, 0.7202146, 1.1922859, 1.2569554, 1.9248548, 1.0185295, 0.7751564, 1.5588663, 0.91029507, 1.1025566, 1.6776853, 1.529781, 0.83707243, 1.7161362, 1.1128844, 0.8008338, 1.2166591, 2.0319993, 1.2169746, 1.6516328, 1.0739565, 0.8945118, 1.236466, 1.1685486, 0.31214967, 1.4130129, 0.91569495, 1.329945, 1.1668949, 1.308682, 1.1707531, 1.3113372, 1.3196155, 0.84119254, 1.2033478, 0.5324872, 1.159688, 1.0719861, 0.94455355, 1.4367911, 1.4105502, 1.4384949, 1.4185398, 1.2779673, 1.4302994, 1.0206468, 1.3910782, 1.0521071, 1.4836503, 1.2865119, 1.1119629, 1.052182, 0.73091185, 1.198511, 1.5821052, 1.133578, 1.5346962, 0.9763101, 1.5895284, 1.1923532, 1.4830848, 1.9196985, 1.2298564, 1.1537799, 1.0472219, 1.2366923, 1.8629198, 2.0190103, 0.8348223, 0.95515454, 1.3342631, 1.2464788, 1.1447669, 1.3646915, 1.0061017, 1.2641062, 1.1923261, 1.5501657, 0.937037, 0.76247185, 1.5088229, 1.2981874, 0.9149367, 2.246044, 1.2828624, 1.2922924, 1.2726208, 3.4388845, 1.0841012, 1.449974, 1.0164002, 0.964097, 1.0648322, 1.260233, 1.1830735, 1.4839492, 1.2568687, 1.1245991, 1.1553941, 1.625059, 1.0335321, 1.0655502, 1.1880884, 1.228036, 1.0032563, 0.98530096, 1.1565322, 1.2219865, 1.2148839, 2.0009153, 1.6144972, 1.0793217, 1.4807823, 1.294573, 1.2447786, 0.95908356, 0.57197434, 1.4867724, 1.3214339, 1.3261311, 1.4387461, 0.5647974, 0.8038834, 1.2482793, 1.0834789, 1.0977134, 1.0669558, 1.0665462, 0.7640185, 1.7441492, 1.9668244, 1.108513, 1.0155641, 1.3669915, 0.7771956, 1.3687413, 0.82024163, 1.1422665, 1.1026797, 1.1050608, 1.4199249, 0.9502788, 0.85085344, 1.2478055, 1.4247857, 1.3115193, 1.0290041, 1.1440326, 1.5652614, 1.2171273, 1.8552761, 1.1132782, 1.5330691, 1.0337965, 1.0292169, 1.6692812, 0.8888659, 1.5551984, 0.99544126, 0.9503664, 1.1699734, 1.7132239, 1.2251831, 1.8535131, 0.8409122, 1.1701535, 1.0957856, 1.1446942, 1.1348642, 1.2176995, 0.92132354, 0.9279174, 0.8973283, 1.3692132, 1.5976151, 1.4499195, 0.9800235, 1.0813981, 1.2928802, 0.9661867, 1.3454252, 0.7676858, 1.0550003, 1.3194575, 1.7778037, 1.7098823, 1.2523155, 1.0805027, 0.84245294, 1.0415742, 1.3879211, 0.9157639, 1.4025009, 1.1262585, 1.1719557, 0.9338051, 1.5151459, 1.0552675, 1.2118647, 0.9861462, 1.1492628, 1.1928585, 1.2844763, 1.0450097, 1.0398657, 1.4796871, 1.286675, 1.3992887, 1.5048988, 0.9642849, 1.0419776, 1.1045332, 1.7482927, 0.9875236, 1.5279367, 0.488442, 1.0529064, 1.0288678, 1.3165766, 0.6973313, 1.5627882, 1.151707, 0.8945118, 1.2546118, 1.845834, 0.87273085, 1.1641012, 0.97285914, 1.0427977, 1.5433595, 0.8838645, 0.21787953, 0.95823103, 1.3200501, 1.3782525, 0.8674821, 1.0706761, 0.57972753, 2.698289, 1.4875382, 1.0276484, 1.494627, 1.3525608, 1.4166552, 1.0091941, 1.503397, 1.6784173, 0.8265958, 1.5095998, 1.1267948, 0.9106871, 1.3232173, 1.0129585, 0.9375692, 1.9973487, 0.95971143, 0.88786465, 1.1426728, 1.1712716, 1.4367764, 1.6150905, 0.56467235, 1.5215969, 1.3484459, 0.8501642, 1.0451536, 1.1574616, 0.85077584, 1.221513, 1.1487523, 1.5086218, 1.5251625, 2.073705, 0.9267721, 1.5431979, 1.4900607, 1.1307604, 0.91327626, 1.2313662, 0.92780834, 1.053885, 1.1013365, 1.4646108, 1.7162082, 0.96832764, 1.4359581, 0.73271745, 1.1317484, 1.0350308, 1.6136086, 0.5445077, 1.1158766, 2.4600112, 3.0150716, 1.1316369, 0.91775256, 1.588585, 1.181599, 1.1780838, 1.5533111, 0.87242943, 0.94344574, 0.9916943, 0.91431487, 0.89640516, 0.9752907, 2.8187282, 1.4517281, 1.2269866, 1.3705789, 1.5690435, 1.1083285, 0.9955539, 0.8296861, 1.1945503, 0.93242085, 1.9179152, 0.97145885, 1.3103247, 1.0787103, 0.6644455, 0.6993397, 1.4147694, 1.0521616, 0.9813768, 0.9685243, 1.0121917, 1.6579882, 1.1266545, 0.9770168, 1.5665213, 2.1980813, 1.3458439, 1.702795, 1.3405848, 1.4842122, 0.9876714, 1.5747641, 1.1731073, 1.3919307, 1.2396115, 0.9170506, 1.5690088, 1.2147045, 0.9388403, 1.5995374, 0.7330216, 1.4515643, 0.9665956, 1.5562371, 1.134865, 1.32389, 0.7576813, 1.3307153, 1.9643443, 1.5147922, 1.3028623, 0.6528641, 1.1057533, 1.1741797, 1.7713304, 1.187492, 1.6965668, 1.5718539, 1.1615003, 1.2222743, 1.5440038, 1.2028896, 1.2447919, 1.2307818, 1.5143569, 0.90246415, 1.0956577, 0.9320602, 1.0228857, 1.012439, 2.0747206, 2.2660975, 1.2804412, 1.2031246, 1.21728, 1.5403087, 1.1297132, 0.92446905, 1.3104985, 1.2142975, 0.7124162, 2.1469364, 1.498977, 1.0868036, 1.2255096, 1.169163, 0.72484, 1.6056325, 0.7451907, 1.2820101, 1.3644947, 1.171518, 1.1408547, 1.6268753, 0.7341763, 1.0904584, 1.1174362, 0.7429191, 0.8070142, 1.444691, 1.066615, 0.9423323, 1.6558422, 1.1678418, 2.3998454, 1.4495869, 1.1136123, 1.6366357, 1.9256197, 1.1609311, 1.2914107, 1.075817, 1.1715977, 1.1889662, 1.124402, 0.9504053, 1.0528791, 2.0343804, 1.4342134, 1.1575751, 1.0865899, 1.0203081, 1.2016778, 1.9253654, 1.0147884, 1.5388948, 0.9744544, 1.688681, 1.5576079, 0.8640831, 1.5668228, 1.7479362, 1.5633173, 1.3145499, 1.2436141, 0.98827285, 1.2132734, 1.2638606, 1.2318228, 0.9569804, 1.3274537, 1.4999459, 1.2149239, 1.4259464, 1.0477743, 1.175141, 1.4261972, 1.4365127, 2.2775497, 1.5439019]\n",
      "[0, 0, 0, 0, 0, 0, 0, 0, 0, 0, 0, 0, 0, 0, 0, 0, 0, 0, 0, 0, 0, 0, 0, 0, 0, 0, 0, 0, 0, 0, 0, 0, 0, 0, 0, 0, 0, 0, 0, 0, 0, 0, 0, 0, 0, 0, 0, 1, 0, 1, 0, 0, 0, 0, 0, 0, 0, 0, 0, 0, 0, 0, 0, 0, 0, 0, 0, 0, 0, 0, 0, 0, 0, 0, 0, 0, 0, 0, 0, 0, 0, 0, 0, 0, 0, 0, 0, 0, 0, 0, 0, 0, 0, 0, 0, 0, 0, 0, 0, 0, 0, 0, 0, 0, 0, 0, 0, 0, 0, 0, 0, 0, 0, 0, 0, 0, 0, 0, 0, 0, 0, 0, 0, 0, 0, 0, 0, 0, 0, 0, 0, 0, 0, 0, 0, 0, 0, 0, 0, 0, 0, 0, 0, 0, 0, 0, 0, 0, 0, 0, 0, 0, 0, 0, 1, 0, 0, 0, 0, 0, 0, 0, 0, 0, 0, 0, 0, 0, 0, 0, 0, 0, 0, 0, 0, 0, 0, 0, 0, 0, 0, 0, 0, 0, 0, 0, 0, 0, 0, 0, 0, 0, 0, 0, 0, 0, 0, 0, 0, 0, 0, 0, 0, 0, 0, 0, 0, 0, 0, 0, 0, 0, 0, 0, 0, 0, 0, 0, 0, 0, 0, 0, 0, 0, 0, 0, 0, 0, 0, 0, 0, 0, 0, 0, 0, 0, 0, 0, 0, 0, 0, 0, 0, 0, 0, 0, 0, 0, 0, 0, 0, 0, 0, 0, 0, 0, 0, 0, 0, 0, 0, 0, 0, 0, 0, 0, 0, 0, 0, 0, 0, 0, 0, 0, 0, 0, 0, 0, 0, 0, 0, 0, 0, 0, 0, 0, 0, 0, 0, 0, 0, 0, 0, 0, 0, 0, 0, 0, 0, 0, 0, 0, 1, 0, 0, 0, 0, 0, 1, 0, 0, 0, 0, 0, 0, 1, 0, 0, 0, 0, 0, 0, 0, 0, 0, 0, 0, 0, 0, 0, 0, 0, 0, 0, 0, 0, 0, 0, 0, 0, 0, 0, 0, 0, 0, 0, 0, 0, 0, 1, 0, 0, 0, 0, 0, 0, 0, 0, 0, 0, 0, 0, 0, 0, 0, 0, 0, 0, 0, 0, 0, 0, 0, 0, 0, 0, 0, 0, 0, 0, 0, 0, 0, 0, 0, 0, 0, 0, 0, 0, 0, 0, 1, 0, 0, 0, 0, 0, 0, 0, 0, 0, 0, 0, 0, 0, 0, 0, 0, 0, 1, 0, 0, 0, 0, 0, 0, 0, 0, 0, 0, 0, 0, 0, 0, 0, 0, 0, 0, 0, 0, 0, 0, 0, 0, 0, 0, 0, 0, 0, 0, 0, 0, 0, 0, 0, 0, 0, 0, 0, 0, 0, 0, 0, 0, 0, 0, 0, 0, 0, 0, 0, 0, 0, 0, 0, 0, 0, 0, 0, 0, 0, 0, 0, 0, 0, 0, 0, 0, 0, 0, 0, 0, 0, 0, 0, 0, 0, 0, 0, 0, 0, 0, 0, 0, 0, 0, 0, 0, 0, 0, 0, 0, 0, 0, 0, 0, 0, 0, 0, 0, 0, 0, 0, 0, 0, 0, 0, 0, 0, 0, 1, 0, 0, 0, 0, 0, 0, 0, 0, 0, 0, 0, 0, 0, 0, 0, 0, 0, 0, 0, 0, 0, 0, 0, 0, 0, 0, 0, 0, 0, 0, 0, 0, 0, 0, 0, 0, 0, 0, 0, 0, 0, 0, 0, 0, 0, 0, 0, 1, 0, 0, 0, 0, 0, 0, 0, 0, 0, 0, 0, 0, 0, 0, 0, 0, 0, 0, 0, 0, 0, 0, 0, 0, 0, 0, 0, 0, 0, 0, 0, 0, 0, 0, 0, 0, 0, 0, 0, 0, 0, 0, 0, 0, 0, 0, 0, 0, 1, 0, 0, 0, 0, 0, 0, 0, 0, 0, 0, 0, 0, 0, 0, 0, 0, 0, 0, 0, 0, 0, 0, 0, 0, 0, 0, 0, 0, 0, 0, 0, 0, 0, 0, 0, 0, 0, 0, 0, 0, 0, 0, 0, 0, 0, 0, 0, 0, 0, 0, 0, 0, 0, 0, 0, 0, 0, 0, 0, 0, 0, 0, 0, 0, 0, 0, 0, 0, 0, 0, 0, 0, 0, 0, 0, 0, 0, 0, 0, 0, 0, 0, 1, 0, 0, 0, 0, 0, 0, 0, 0, 0, 0, 0, 0, 0, 0, 0, 0, 0, 0, 0, 0, 0, 0, 0, 0, 0, 0, 0, 0, 0, 0, 0, 0, 0, 0, 0, 0, 0, 0, 0, 0, 0, 0, 0, 0, 0, 1, 0, 0, 0, 0, 0, 0, 0, 0, 0, 0, 0, 0, 0, 0, 0, 0, 0, 0, 0, 0, 0, 0, 0, 0, 0, 0, 0, 0, 0, 0, 0, 0, 0, 0, 1, 0, 0, 0, 0, 0, 0, 0, 0, 0, 0, 0, 0, 0, 0, 0, 0, 0, 0, 0, 0, 0, 0, 0, 0, 0, 0, 0, 0, 0, 0, 1, 0, 0, 0, 0, 0, 0, 0, 0, 0, 0, 0, 0, 0, 0, 0, 0, 0, 0, 1, 0, 1, 0, 0, 0, 0, 0, 0, 0, 0, 0, 0, 0, 0, 0, 0, 0, 0, 0, 0, 0, 0, 0, 0, 0, 0, 0, 0, 0, 0, 0, 0, 0, 0, 0, 0, 1, 0, 0, 0, 0, 0, 0, 0, 0, 0, 0, 0, 0, 0, 0, 0, 0, 0, 0, 0, 0, 0, 0, 0, 0, 0, 0, 0, 0, 0, 0, 0, 0, 0, 0, 0, 0, 0, 0, 0, 0, 0, 0, 0, 0, 0, 0, 0, 0, 0, 0, 0, 0, 0, 0, 0, 0, 0, 0, 0, 0, 0, 0, 0, 0, 0, 0, 0, 0, 0, 0, 0, 0, 0, 0, 0, 0, 0, 0, 0, 0, 0, 0, 0, 0, 0, 0, 0, 0, 0, 0, 0, 0, 0, 0, 0, 0, 0, 0, 0, 0, 0, 0, 0, 0, 0, 0, 0, 0, 0, 0, 0, 1, 0, 1, 0, 0, 0, 0, 0, 0, 0, 0, 0, 0, 0, 0, 0, 0, 0, 0, 0, 0, 0, 0, 0, 0, 0, 0, 0, 0, 0, 0, 0, 0, 0, 1, 1, 0, 0, 0, 0, 0, 0, 0, 0, 0, 0, 0, 0, 0, 0, 0, 0, 0, 1, 0, 0, 0, 0, 0, 0, 0, 0, 0, 0, 0, 0, 0, 0, 0, 0, 0, 0, 0, 0, 0, 0, 0, 0, 0, 0, 0, 0, 0, 0, 0, 0, 0, 1, 0, 0, 0, 0, 0, 0, 0, 0, 0, 0, 0, 0, 0, 0, 0, 0, 0, 1, 0, 0, 0, 0, 0, 0, 0, 0, 0, 0, 0, 0, 0, 0, 0, 1, 0, 0, 0, 0, 0, 0, 0, 0, 0, 0, 0, 0, 0, 0, 0, 0, 0, 0, 0, 0, 0, 0, 0, 0, 0, 0, 0, 0, 0, 0, 0, 0, 0, 0, 0, 0, 0, 0, 0, 0, 0, 0, 0, 0, 0, 0, 0, 0, 0, 0, 0, 0, 0, 0, 0, 0, 0, 0, 0, 0, 0, 0, 0, 0, 0, 0, 0, 0, 0, 0, 0, 0, 0, 0, 0, 0, 0, 0, 0, 0, 0, 0, 0, 0, 0, 0, 0, 0, 0, 0, 0, 0, 0, 0, 0, 0, 0, 1, 0, 0, 0, 0, 0, 0, 0, 0, 0, 0, 0, 0, 0, 0, 1, 0, 0, 0, 0, 0, 0, 0, 0, 0, 0, 0, 0, 0, 0, 1, 0, 0, 0, 0, 0, 0, 0, 0, 0, 0, 0, 0, 0, 0, 0, 0, 0, 0, 0, 0, 0, 0, 0, 0, 0, 0, 0, 0, 0, 0, 0, 0, 0, 0, 0, 0, 0, 0, 0, 0, 0, 0, 0, 0, 0, 0, 0, 0, 0, 0, 0, 0, 0, 0, 0, 0, 0, 0, 0, 0, 0, 0, 0, 0, 0, 0, 0, 0, 0, 0, 0, 0, 0, 0, 0, 0, 0, 0, 0, 0, 0, 0, 0, 0, 0, 0, 0, 0, 0, 0, 0, 0, 0, 0, 0, 0, 0, 0, 0, 0, 0, 0, 0, 0, 0, 0, 0, 0, 0, 0, 0, 0, 0, 0, 0, 0, 0, 0, 0, 0, 0, 0, 0, 1, 0, 0, 0, 0, 0, 0, 0, 0, 0, 0, 0, 0, 0, 0, 0, 0, 0, 0, 0, 0, 0, 0, 0, 0, 0, 0, 0, 0, 0, 0, 1, 0, 0, 0, 0, 0, 0, 0, 0, 0, 0, 0, 0, 0, 0, 0, 0, 0, 0, 0, 0, 0, 0, 0, 0, 0, 0, 1, 0, 0, 0, 0, 0, 0, 0, 0, 0, 0, 0, 0, 0, 0, 0, 0, 0, 0, 0, 0, 0, 0, 0, 0, 0, 0, 0, 0, 0, 0, 0, 0, 0, 0, 0, 0, 0, 0, 0, 0, 0, 0, 0, 0, 0, 0, 0, 0, 0, 0, 0, 0, 0, 0, 0, 0, 0, 0, 0, 0, 0, 0, 0, 0, 0, 0, 0, 0, 0, 0, 0, 0, 0, 0, 0, 0, 0, 0, 0, 0, 0, 0, 0, 0, 0, 0, 0, 0, 0, 0, 0, 0, 0, 0, 0, 0, 0, 0, 0, 0, 0, 0, 0, 0, 0, 0, 0, 0, 0, 0, 0, 0, 0, 0, 0, 0, 0, 0, 0, 0, 0, 0, 0, 0, 0, 0, 0, 0, 0, 0, 0, 0, 0, 0, 0, 0, 0, 0, 0, 0, 0, 0, 0, 0, 0, 0, 0, 0, 0, 0, 0, 0, 0, 0, 0, 0, 0, 0, 0, 0, 0, 0, 0, 0, 1, 0, 0, 0, 0, 0, 0, 0, 0, 0, 0, 0, 0, 0, 0, 0, 0, 0, 0, 0, 0, 0, 0, 0, 0, 0, 0, 0, 0, 0, 0, 0, 0, 0, 0, 0, 0, 0, 0, 0, 0, 0, 0, 0, 0, 0, 0, 0, 0, 0, 0, 0, 0, 0, 0, 0, 0, 0, 0, 0, 0, 0, 0, 0, 0, 0, 0, 0, 0, 0, 0, 0, 0, 0, 0, 0, 0, 0, 0, 0, 0, 0, 0, 0, 0, 0, 0, 0, 0, 0, 0, 0, 0, 0, 0, 0, 0, 0, 0, 0, 0, 0, 0, 0, 0, 0, 0, 0, 0, 0, 0, 0, 0, 0, 0, 0, 0, 0, 0, 0, 0, 0, 0, 0, 0, 0, 0, 0, 0, 0, 0, 0, 0, 0, 0, 0, 0, 0, 0, 0, 0, 0, 0, 0, 0, 0, 0, 0, 0, 0, 0, 0, 0, 0, 0, 0, 0, 0, 0, 0, 0, 0, 0, 0, 0, 0, 0, 0, 0, 0, 0, 0, 0, 0, 0, 0, 0, 0, 0, 0, 0, 0, 0, 0, 0, 0, 0, 0, 0, 0, 0, 0, 0, 0, 1, 0, 0, 0, 0, 0, 0, 0, 0, 0, 0, 0, 0, 0, 0, 0, 0, 0, 0, 0, 0, 0, 0, 0, 0, 0, 0, 0, 0, 1, 0, 0, 0, 0, 0, 0, 0, 0, 0, 0, 0, 0, 0, 0, 0, 0, 0, 0, 0, 0, 0, 0, 0, 0, 0, 0, 0, 1, 0, 0, 0, 0, 0, 0, 0, 0, 0, 0, 0, 0, 0, 0, 0, 0, 0, 0, 0, 0, 0, 0, 0, 0, 0, 0, 0, 0, 0, 0, 0, 0, 0, 0, 0, 0, 0, 0, 0, 0, 0, 0, 0, 0, 0, 0, 0, 0, 0, 0, 0, 0, 0, 0, 0, 0, 0, 0, 0, 0, 0, 0, 0, 0, 0, 0, 0, 0, 0, 0, 0, 0, 0, 0, 0, 0, 0, 0, 1, 0, 0, 1, 0, 0, 0, 0, 0, 0, 0, 0, 0, 0, 0, 0, 0, 0, 0, 0, 0, 0, 0, 0, 0, 0, 0, 0, 0, 0, 0, 0, 0, 0, 0, 0, 0, 0, 0, 1, 0, 0, 0, 0, 1, 0, 0, 0, 0, 0, 0, 0, 0, 0, 0, 0, 0, 0, 0, 0, 0, 0, 0, 0, 0, 0, 0, 0, 0, 0, 0, 0, 0, 0, 0, 0, 0, 0, 0, 0, 0, 0, 0, 0, 0, 0, 0, 0, 0, 0, 0, 0, 0, 0, 0, 0, 0, 0, 0, 0, 0, 0, 0, 0, 0, 0, 0, 0, 0, 0, 0, 0, 0, 0, 0, 0, 0, 0, 0, 0, 0, 0, 0, 0, 0, 0, 0, 0, 0, 0, 0, 0, 0, 0, 0, 0, 0, 0, 0, 0, 0, 0, 0, 0, 0, 0, 0, 0, 0, 0, 0, 0, 0, 0, 0, 0, 0, 0, 0, 0, 0, 0, 0, 0, 0, 0, 0, 0, 0, 0, 0, 0, 0, 0, 0, 0, 0, 0, 0, 0, 0, 0, 0, 0, 0, 0, 0, 0, 0, 0, 0, 0, 0, 0, 0, 0, 0, 0, 0, 0, 0, 0, 0, 0, 0, 0, 0, 0, 0, 0, 0, 0, 0, 0, 0, 0, 0, 0, 0, 0, 0, 0, 0, 0, 0, 0, 0, 0, 0, 0, 0, 0, 1, 0, 0, 0, 0, 0, 0, 0, 0, 0, 0, 0, 0, 0, 0, 0, 0, 0, 0, 0, 0, 0, 0, 0, 0, 0, 0, 0, 0, 0, 0, 0, 0, 0, 0, 0, 0, 0, 0, 0, 0, 0, 0, 0, 0, 0, 0, 0, 0, 0, 0, 0, 0, 0, 0, 0, 0, 0, 0, 0, 0, 0, 0, 0, 1, 0, 0, 0, 0, 0, 0, 0, 0, 0, 0, 0, 0, 0, 0, 0, 0, 0, 0, 0, 0, 0, 0, 0, 0, 0, 0, 0, 1, 0, 0, 0, 0, 0, 0, 0, 0, 0, 0, 0, 0, 0, 0, 0, 0, 0, 0, 0, 0, 0, 0, 0, 0, 0, 0, 0, 1, 0, 0, 0, 0, 0, 0, 0, 0, 0, 0, 0, 0, 0, 0, 0, 0, 0, 0, 0, 0, 0, 0, 0, 0, 0, 0, 0, 0, 0, 0, 0, 0, 0, 0, 0, 0, 0, 0, 0, 0, 0, 0, 0, 0, 0, 0, 0, 0, 0, 0, 0, 0, 0, 0, 0, 0, 0, 0, 0, 0, 0, 0, 0, 0, 0, 0, 0, 0, 1, 0, 0, 0, 0, 0, 0, 0, 0, 0, 0, 0, 0, 0, 0, 0, 0, 0, 0, 0, 0, 0, 0, 0, 0, 0, 0, 0, 0, 0, 0, 0, 0, 0, 0, 0, 1, 0, 0, 0, 1, 0, 0, 0, 0, 0, 0, 0, 0, 0, 0, 0, 0, 0, 0, 1, 0, 0, 0, 0, 0, 0, 0, 0, 0, 0, 1, 0, 0, 0, 0, 0, 1, 0, 0, 0, 0, 0, 0, 0, 0, 0, 0, 0, 0, 0, 0, 0, 0, 0, 0, 0, 0, 0, 0, 0, 0, 0, 0, 0, 0, 0, 0, 0, 0, 1, 0, 0, 0, 0, 0, 0, 0, 0, 0, 0, 0, 0, 0, 0, 0, 0, 0, 1, 0, 0, 0, 0, 0, 0, 0, 0, 0, 0, 0, 0, 0, 0, 0, 0, 0, 0, 0, 0, 0, 0, 0, 0, 0, 0, 0, 0, 1, 0, 0, 0, 0, 0, 0, 0, 0, 0, 0, 0, 0, 0, 0, 0, 0, 0, 0, 0, 0, 0, 0, 0, 0, 0, 0, 1, 0, 0, 0, 0, 0, 0, 0, 0, 0, 0, 0, 0, 0, 0, 0, 0, 0, 0, 0, 0, 0, 0, 0, 0, 0, 0, 0, 0, 0, 0, 0, 0, 0, 0, 0, 0, 0, 0, 0, 0, 0, 1, 0, 0, 0, 0, 0, 0, 0, 0, 0, 0, 0, 0, 0, 0, 0, 0, 0, 0, 0, 0, 0, 0, 0, 0, 0, 0, 0, 0, 0, 0, 0, 1, 0, 0, 0, 0, 0, 0, 0, 0, 0, 0, 0, 0, 0, 0, 0, 0, 0, 0, 0, 0, 0, 0, 0, 0, 0, 0, 0, 0, 0, 0, 0, 0, 0, 0, 0, 0, 0, 0, 0, 0, 0, 0, 0, 0, 0, 0, 0, 0, 0, 0, 0, 0, 0, 0, 0, 0, 0, 0, 0, 0, 0, 0, 0, 0, 0, 0, 0, 0, 0, 0, 0, 1, 0, 0, 0, 0, 0, 0, 0, 0, 0, 0, 0, 1, 0, 0, 0, 0, 0, 0, 0, 0, 0, 0, 0, 0, 0, 0, 0, 0, 0, 0, 0, 0, 0, 0, 0, 0, 0, 0, 0, 0, 0, 0, 0, 0, 0, 0, 0, 0, 0, 0, 0, 0, 0, 0, 0, 0, 0, 0, 0, 0, 0, 0, 0, 0, 0, 0, 0, 0, 0, 0, 0, 0, 0, 0, 0, 0, 0, 0, 0, 0, 0, 0, 0, 0, 0, 0, 0, 0, 0, 0, 0, 0, 0, 0, 0, 0, 0, 0, 0, 0, 0, 0, 0, 0, 0, 0, 0, 0, 0, 0, 0, 0, 0, 0, 0, 0, 0, 0, 0, 0, 0, 0, 0, 0, 0, 0, 0, 0, 0, 0, 0, 0, 0, 0, 0, 0, 0, 0, 0, 0, 0, 0, 0, 0, 0, 0, 0, 0, 0, 0, 0, 0, 0, 0, 0, 0, 0, 0, 0, 0, 0, 0, 0, 0, 0, 0, 0, 0, 0, 0, 1, 0, 0, 0, 0, 0, 0, 0, 0, 0, 0, 0, 0, 0, 0, 0, 0, 0, 0, 0, 0, 0, 0, 0, 0, 0, 0, 0, 0, 0, 0, 0, 0, 0, 0, 0, 0, 0, 0, 0, 0, 1, 0, 0, 0, 0, 0, 0, 0, 0, 0, 0, 0, 0, 0, 0, 0, 0, 0, 0, 0, 0, 0, 0, 0, 0, 0, 0, 0, 0, 0, 0, 0, 0, 0, 0, 0, 0, 0, 0, 0, 0, 0, 0, 0, 0, 0, 0, 0, 0, 0, 0, 0, 0, 0, 0, 0, 0, 0, 0, 0, 0, 0, 0, 0, 0, 0, 0, 0, 0, 0, 0, 0, 0, 0, 0, 0, 0, 0, 0, 0, 0, 0, 1, 0, 0, 0, 0, 0, 0, 0, 0, 0, 0, 0, 1, 0, 0, 0, 0, 0, 0, 1, 0, 0, 0, 0, 0, 0, 0, 0, 0, 0, 0, 0, 0, 0, 0, 0, 0, 0, 0, 0, 0, 0, 0, 0, 0, 0, 0, 0, 0, 0, 0, 0, 0, 0, 0, 0, 0, 0, 0, 0, 0, 0, 0, 0, 0, 0, 0, 0, 0, 0, 0, 0, 0, 0, 0, 0, 0, 0, 0, 0, 0, 0, 0, 0, 0, 0, 0, 0, 0, 0, 0, 0, 0, 0, 0, 0, 0, 0, 0, 0, 0, 0, 0, 1, 0, 0, 0, 0, 0, 0, 1, 0, 0, 0, 0, 0, 0, 0, 0, 0, 0, 0, 0, 0, 0, 0, 0, 0, 0, 0, 0, 0, 0, 0, 0, 0, 0, 0, 0, 0, 0, 0, 0, 0, 0, 0, 0, 0, 0, 0, 0, 0, 0, 0, 0, 0, 0, 0, 0, 0, 0, 0, 0, 0, 0, 0, 0, 0, 1, 0, 0, 0, 0, 0, 0, 0, 0, 0, 0, 0, 0, 0, 0, 0, 0, 0, 0, 0, 0, 0, 0, 0, 0, 0, 0, 0, 0, 0, 0, 0, 0, 0, 0, 0, 0, 0, 0, 0, 0, 0, 0, 0, 0, 0, 0, 0, 0, 0, 0, 0, 0, 0, 0, 0, 0, 0, 0, 0, 0, 0, 1, 0, 0, 0, 0, 1, 0, 0, 0, 0, 0, 0, 0, 0, 0, 0, 0, 0, 0, 0, 0, 0, 0, 0, 0, 0, 0, 0, 0, 0, 0, 0, 0, 0, 0, 0, 0, 0, 0, 0, 0, 0, 0, 0, 0, 0, 0, 0, 0, 0, 0, 0, 0, 0, 0, 0, 0, 0, 0, 0, 0, 0, 0, 0, 0, 0, 0, 0, 0, 0, 0, 0, 0, 0, 0, 0, 0, 0, 0, 0, 0, 0, 0, 0, 0, 0, 0, 0, 0, 0, 0, 0, 0, 0, 0, 0, 0, 0, 0, 0, 1, 1, 0, 0, 0, 0, 0, 0, 0, 0, 0, 0, 0, 0, 0, 0, 0, 0, 0, 0, 0, 0, 0, 0, 0, 0, 1, 0, 0, 0, 0, 0, 0, 0, 0, 0, 0, 0, 0, 0, 0, 0, 0, 0, 0, 0, 0, 0, 0, 0, 0, 0, 0, 0, 0, 0, 0, 0, 0, 0, 0, 0, 0, 0, 0, 0, 0, 0, 0, 0, 0, 0, 0, 0, 0, 0, 0, 0, 0, 0, 0, 0, 0, 0, 0, 0, 0, 0, 0, 0, 0, 0, 0, 0, 0, 0, 0, 0, 0, 0, 0, 0, 0, 0, 0, 0, 1, 0, 0, 0, 1, 0, 0, 0, 0, 0, 0, 0, 0, 0, 0, 0, 0, 0, 0, 0, 0, 0, 0, 0, 0, 0, 0, 0, 0, 0, 0, 0, 0, 0, 0, 0, 0, 0, 0, 0, 0, 0, 0, 0, 0, 0, 1, 0, 0, 0, 0, 0, 0, 0, 0, 0, 0, 0, 0, 0, 0, 0, 0, 0, 1, 0, 0, 0, 0, 0, 0, 0, 0, 0, 0, 0, 0, 0, 0, 0, 0, 0, 0, 0, 0, 0, 0, 0, 0, 0, 0, 0, 0, 0, 0, 0, 0, 0, 0, 0, 0, 0, 0, 0, 0, 0, 0, 0, 0, 0, 0, 0, 0, 0, 0, 0, 0, 0, 0, 0, 0, 0, 0, 0, 0, 0, 0, 0, 0, 0, 0, 0, 0, 0, 0, 0, 0, 0, 0, 0, 0, 0, 0, 0, 0, 0, 0, 0, 0, 0, 0, 0, 0, 0, 0, 1, 0, 0, 0, 0, 0, 0, 0, 0, 0, 0, 0, 0, 0, 0, 0, 0, 0, 0, 0, 0, 1, 0, 0, 0, 0, 0, 0, 0, 0, 0, 0, 0, 0, 0, 0, 0, 0, 0, 0, 0, 0, 0, 0, 0, 0, 0, 0, 1, 0, 0, 0, 0, 0, 0, 0, 0, 0, 0, 0, 0, 0, 0, 0, 0, 0, 0, 0, 0, 0, 0, 0, 0, 0, 0, 0, 0, 0, 0, 0, 0, 0, 0, 0, 0, 0, 0, 0, 0, 0, 0, 0, 0, 0, 0, 0, 0, 0, 0, 0, 0, 0, 0, 1, 0, 0, 0, 0, 0, 0, 0, 0, 0, 0, 0, 0, 0, 0, 0, 0, 0, 0, 0, 0, 0, 0, 0, 0, 0, 0, 0, 0, 0, 0, 0, 0, 0, 0, 0, 0, 0, 0, 0, 0, 0, 0, 0, 0, 0, 0, 0, 0, 0, 0, 0, 0, 0, 0, 0, 0, 0, 0, 0, 0, 0, 0, 1, 0, 0, 0, 0, 0, 0, 0, 0, 0, 0, 0, 0, 0, 0, 0, 0, 0, 0, 0, 0, 0, 0, 0, 0, 0, 0, 0, 0, 0, 0, 0, 0, 0, 0, 0, 0, 0, 0, 0, 0, 0, 0, 0, 0, 0, 0, 0, 0, 0, 0, 0, 0, 0, 0, 0, 0, 0, 0, 0, 1, 0, 0, 0, 0, 0, 0, 0, 0, 0, 0, 0, 0, 0, 0, 0, 0, 0, 0, 0, 0, 0, 0, 0, 0, 0, 0, 0, 0, 0, 0, 0, 0, 0, 0, 0, 0, 0, 0, 0, 0, 0, 0, 0, 0, 0, 0, 0, 0, 0, 0, 0, 0, 0, 0, 0, 0, 0, 0, 0, 0, 0, 0, 0, 0, 0, 1, 0, 0, 0, 0, 0, 0, 0, 0, 0, 0, 0, 0, 0, 0, 0, 0, 0, 0, 0, 0, 0, 0, 0, 0, 0, 0, 0, 0, 0, 0, 0, 0, 0, 0, 0, 0, 0, 0, 0, 0, 0, 0, 0, 0, 0, 0, 0, 0, 0, 0, 0, 0, 0, 0, 0, 0, 0, 0, 0, 0, 0, 0, 0, 0, 0, 0, 0, 0, 0, 0, 0, 0, 0, 0, 0, 0, 0, 0, 0, 0, 0, 0, 0, 0, 0, 0, 0, 0, 0, 0, 0, 0, 0, 0, 0, 0, 1, 0, 0, 0, 0, 0, 0, 0, 0, 0, 0, 0, 0, 0, 0, 0, 0, 0, 0, 0, 0, 0, 0, 0, 0, 0, 0, 0, 0, 0, 0, 0, 0, 0, 0, 1, 0, 0, 0, 0, 0, 0, 0, 0, 0, 0, 1, 0, 0, 0, 0, 0, 0, 0, 0, 0, 0, 0, 0, 0, 0, 0, 0, 0, 0, 0, 0, 0, 0, 0, 0, 0, 0, 0, 0, 0, 0, 0, 0, 0, 0, 0, 0, 0, 0, 0, 0, 0, 0, 0, 0, 0, 0, 0, 0, 0, 1, 0, 0, 1, 0, 0, 0, 0, 0, 0, 0, 0, 0, 0, 0, 0, 1, 0, 0, 0, 0, 0, 0, 0, 0, 0, 0, 0, 0, 0, 0, 0, 0, 0, 0, 0, 0, 0, 0, 0, 0, 0, 0, 0, 0, 0, 0, 0, 0, 0, 0, 0, 0, 0, 0, 0, 0, 0, 0, 0, 0, 0, 0, 0, 0, 0, 0, 0, 0, 0, 0, 0, 0, 0, 0, 0, 0, 0, 0, 0, 0, 0, 0, 0, 0, 0, 0, 0, 0, 0, 0, 0, 0, 0, 0, 0, 0, 0, 0, 0, 0, 0, 0, 0, 0, 0, 0, 0, 0, 0, 0, 0, 0, 0, 0, 0, 0, 0, 0, 0, 0, 0, 0, 0, 0, 0, 0, 0, 0, 0, 0, 0, 0, 0, 0, 1, 0, 0, 0, 0, 0, 0, 0, 0, 0, 0, 0, 0, 0, 0, 0, 0, 0, 0, 0, 0, 0, 0, 0, 0, 0, 0, 0, 0, 0, 0, 0, 0, 0, 0, 0, 0, 0, 0, 0, 0, 0, 0, 0, 0, 0, 0, 0, 0, 0, 0, 0, 0, 0, 0, 0, 0, 0, 0, 0, 0, 0, 0, 0, 0, 0, 0, 0, 0, 0, 0, 0, 0, 0, 0, 0, 0, 0, 0, 0, 0, 0, 0, 0, 0, 0, 0, 0, 0, 0, 0, 0, 0, 0, 0, 0, 0, 0, 0, 0, 0, 0, 0, 0, 1, 1, 0, 0, 0, 0, 0, 0, 0, 0, 0, 0, 0, 0, 0, 0, 0, 0, 0, 0, 1, 0, 0, 0, 0, 0, 0, 0, 0, 0, 0, 0, 0, 0, 0, 0, 0, 0, 0, 0, 0, 0, 0, 0, 0, 0, 0, 0, 0, 0, 0, 0, 0, 0, 0, 0, 0, 0, 0, 0, 0, 0, 0, 0, 0, 0, 0, 0, 0, 0, 0, 0, 0, 0, 0, 0, 1, 0, 1, 0, 0, 0, 0, 0, 0, 0, 0, 0, 0, 0, 0, 0, 0, 0, 0, 0, 0, 0, 0, 0, 0, 0, 0, 0, 0, 0, 0, 0, 0, 0, 0, 0, 0, 0, 0, 0, 0, 0, 0, 0, 1, 0, 0, 0, 0, 0, 0, 0, 0, 0, 0, 0, 0, 0, 0, 0, 0, 0, 0, 0, 0, 1, 0, 0, 0, 0, 0, 0, 0, 0, 0, 0, 0, 0, 0, 0, 0, 0, 0, 0, 0, 0, 0, 0, 1, 0, 0, 0, 0, 0, 0, 0, 0, 0, 0, 0, 0, 0, 0, 0, 0, 0, 0, 0, 0, 0, 0, 1, 0, 0, 0, 0, 0, 0, 0, 0, 0, 0, 0, 0, 1, 0, 0, 0, 0, 0, 0, 0, 0, 0, 0, 0, 0, 0, 0, 0, 0, 0, 0, 0, 0, 0, 0, 0, 0, 0, 0, 0, 0, 0, 0, 0, 0, 0, 0, 0, 0, 0, 0, 0, 0, 0, 0, 0, 0, 0, 0, 0, 0, 0, 0, 0, 0, 0, 0, 0, 0, 0, 0, 0, 0, 0, 0, 0, 0, 0, 0, 0, 0, 0, 0, 0, 0, 0, 0, 0, 0, 0, 0, 0, 0, 0, 0, 0, 0, 0, 0, 0, 0, 0, 0, 0, 0, 0, 0, 0, 0, 1, 0, 0, 0, 0, 0, 0, 0, 0, 0, 0, 0, 0, 0, 0, 0, 0, 0, 0, 0, 0, 0, 0, 0, 0, 0, 0, 0, 0, 0, 0, 1, 0, 0, 0, 0, 0, 0, 0, 0, 0, 0, 0, 0, 0, 0, 0, 0, 0, 0, 0, 0, 0, 0, 0, 1, 0, 0, 0, 0, 0, 0, 0, 0, 0, 0, 0, 0, 0, 0, 0, 0, 0, 0, 0, 0, 0, 0, 0, 0, 0, 0, 0, 0, 0, 0, 0, 0, 0, 0, 0, 0, 0, 0, 0, 0, 0, 0, 0, 0, 0, 0, 0, 0, 0, 0, 0, 0, 0, 0, 0, 0, 0, 0, 0, 0, 1, 0, 0, 0, 0, 0, 0, 0, 0, 1, 0, 0, 0, 0, 0, 0, 0, 0, 0, 0, 0, 0, 0, 0, 0, 0, 0, 0, 0, 0, 0, 0, 0, 0, 0, 0, 0, 0, 0, 0, 0, 0, 0, 0, 0, 0, 0, 0, 0, 0, 0, 0, 0, 0, 0, 0, 0, 0, 0, 0, 0, 0, 0, 0, 0, 0, 0, 0, 1, 0, 0, 0, 0, 0, 0, 0, 0, 0, 0, 0, 0, 0, 0, 1, 0, 0, 0, 0, 0, 0, 0, 0, 0, 0, 0, 0, 0, 0, 0, 0, 0, 0, 0, 0, 0, 0, 0, 0, 0, 0, 0, 0, 0, 1, 0, 0, 0, 0, 0, 0, 0, 0, 0, 0, 0, 0, 0, 0, 0, 0, 0, 0, 0, 0, 0, 0, 0, 0, 0, 0, 0, 0, 0, 0, 0, 0, 0, 0, 0, 0, 0, 0, 0, 0, 0, 0, 0, 0, 0, 0, 0, 0, 0, 0, 0, 0, 0, 0, 0, 0, 0, 0, 0, 0, 0, 0, 0, 0, 0, 0, 0, 0, 0, 0, 0, 0, 0, 0, 0, 0, 0, 0, 0, 0, 0, 0, 0, 0, 0, 0, 0, 0, 0, 0, 0, 0, 0, 0, 0, 0, 0, 0, 0, 0, 0, 0, 0, 0, 0, 0, 0, 0, 0, 0, 0, 0, 1, 0, 0, 0, 0, 0, 0, 0, 0, 0, 0, 0, 0, 0, 0, 0, 0, 0, 0, 0, 0, 0, 0, 0, 0, 0, 0, 0, 0, 0, 0, 0, 0, 0, 0, 0, 0, 0, 0, 0, 0, 0, 0, 0, 0, 0, 0, 0, 0, 0, 0, 1, 0, 0, 0, 0, 0, 0, 0, 0, 0, 0, 0, 0, 0, 0, 0, 1, 1, 0, 0, 0, 0, 0, 0, 0, 0, 1, 0, 0, 0, 0, 0, 0, 0, 0, 0, 0, 0, 0, 0, 0, 0, 0, 0, 0, 0, 0, 0, 0, 0, 0, 0, 0, 0, 0, 0, 0, 0, 0, 0, 0, 0, 0, 0, 0, 0, 0, 0, 0, 0, 0, 0, 0, 0, 0, 0, 0, 0, 0, 0, 0, 0, 0, 0, 0, 0, 0, 0, 0, 0, 0, 0, 0, 0, 0, 0, 0, 0, 0, 0, 0, 0, 0, 0, 0, 0, 0, 0, 0, 0, 0, 0, 0, 0, 0, 0, 0, 0, 0, 0, 0, 0, 0, 0, 0, 0, 0, 0, 0, 0, 0, 0, 0, 0, 0, 0, 0, 0, 0, 0, 0, 0, 0, 0, 0, 0, 0, 0, 0, 0, 0, 0, 0, 0, 0, 0, 0, 0, 0, 0, 0, 0, 0, 0, 0, 0, 0, 0, 0, 0, 0, 0, 0, 0, 0, 0, 0, 0, 0, 0, 0, 0, 0, 0, 0, 0, 0, 0, 0, 0, 0, 0, 0, 0, 0, 0, 0, 0, 0, 0, 0, 0, 0, 0, 0, 0, 0, 0, 0, 0, 0, 0, 0, 0, 0, 0, 0, 0, 0, 0, 0, 0, 0, 0, 0, 0, 0, 0, 0, 1, 0, 0, 0, 0, 0, 0, 0, 0, 0, 0, 1, 0, 0, 0, 0, 0, 0, 0, 0, 0, 1, 0, 0, 0, 0, 0, 0, 0, 0, 0, 0, 0, 0, 0, 0, 0, 0, 0, 1, 0, 0, 0, 0, 0, 0, 0, 0, 0, 0, 0, 0, 1, 0, 0, 0, 0, 0, 0, 0, 0, 0, 0, 0, 0, 0, 0, 0, 0, 0, 0, 0, 0, 0, 0, 0, 0, 0, 0, 0, 0, 0, 0, 0, 0, 0, 0, 0, 0, 0, 0, 0, 0, 0, 0, 0, 0, 0, 0, 0, 0, 0, 0, 0, 0, 0, 0, 0, 0, 0, 0, 0, 0, 0, 0, 0, 0, 0, 0, 0, 0, 1, 0, 0, 0, 0, 0, 0, 0, 0, 0, 0, 0, 0, 0, 0, 0, 0, 0, 0, 0, 0, 0, 0, 0, 0, 0, 0, 0, 0, 0, 0, 0, 0, 0, 0, 0, 0, 0, 0, 0, 0, 0, 0, 0, 0, 0, 0, 0, 0, 0, 0, 0, 0, 0, 0, 0, 0, 1, 0, 0, 0, 0, 0, 0, 0, 0, 0, 0, 0, 0, 0, 0, 0, 0, 0, 0, 0, 0, 0, 0, 1, 0, 0, 0, 0, 0, 0, 0, 1, 0, 0, 0, 0, 0, 0, 0, 0, 0, 0, 0, 0, 0, 0, 0, 0, 0, 0, 0, 0, 0, 0, 0, 0, 0, 0, 0, 0, 0, 0, 0, 0, 0, 0, 0, 0, 0, 0, 0, 0, 0, 0, 0, 0, 0, 0, 0, 0, 0, 0, 0, 0, 0, 0, 0, 0, 0, 0, 0, 0, 0, 0, 0, 0, 0, 0, 0, 0, 0, 0, 0, 0, 0, 1, 0, 0, 0, 0, 0, 0, 0, 0, 0, 0, 0, 0, 0, 0, 0, 0, 0, 0, 0, 0, 0, 0, 0, 1, 0, 0, 0, 0, 0, 0, 0, 0, 0, 0, 0, 0, 0, 0, 0, 0, 0, 0, 0, 0, 0, 0, 0, 0, 0, 0, 0, 0, 0, 0, 0, 0, 0, 0, 1, 0, 0, 0, 0, 0, 0, 0, 0, 0, 0, 0, 0, 0, 0, 0, 0, 0, 0, 0, 0, 0, 0, 0, 0, 0, 0, 0, 0, 0, 0, 0, 0, 0, 0, 0, 0, 0, 0, 0, 0, 0, 0, 0, 0, 0, 0, 0, 0, 0, 0, 0, 1, 0, 0, 0, 0, 0, 0, 0, 0, 0, 0, 0, 1, 0, 0, 0, 0, 0, 0, 0, 0, 0, 0, 0, 0, 0, 0, 0, 0, 0, 0, 0, 0, 0, 0, 0, 1, 0, 0, 0, 0, 0, 0, 0, 0, 0, 0, 0, 0, 0, 0, 0, 0, 0, 0, 0, 0, 0, 0, 0, 0, 0, 0, 0, 0, 0, 0, 0, 0, 0, 0, 0, 0, 0, 0, 0, 0, 0, 0, 0, 0, 0, 0, 0, 0, 0, 0, 0, 0, 0, 0, 0, 0, 0, 0, 0, 0, 0, 0, 0, 0, 0, 0, 0, 0, 0, 0, 0, 0, 0, 0, 0, 0, 0, 0, 0, 0, 0, 0, 0, 0, 0, 0, 0, 0, 0, 0, 0, 0, 0, 0, 0, 0, 0, 0, 0, 0, 0, 0, 0, 0, 0, 0, 0, 0, 0, 0, 0, 0, 0, 0, 0, 0, 0, 0, 0, 0, 0, 0, 0, 0, 0, 0, 0, 0, 1, 0, 0, 0, 0, 0, 0, 0, 0, 0, 0, 0, 0, 0, 0, 0, 0, 0, 0, 0, 0, 0, 0, 0, 0, 0, 0, 0, 0, 0, 1, 0, 0, 0, 0, 0, 0, 0, 0, 0, 0, 0, 0, 0, 0, 0, 0, 0, 0, 0, 0, 0, 0, 0, 0, 0, 0, 0, 0, 0, 0, 0, 0, 0, 0, 1, 0, 0, 0, 0, 0, 0, 0, 0, 0, 0, 0, 0, 0, 0, 0, 0, 0, 0, 0, 0, 0, 0, 0, 0, 0, 0, 0, 0, 0, 0, 0, 0, 0, 0, 0, 0, 0, 0, 0, 0, 0, 0, 0, 0, 0, 0, 0, 0, 1, 0, 0, 0, 0, 0, 0, 0, 0, 0, 0, 0, 0, 0, 0, 0, 0, 0, 0, 0, 0, 0, 0, 0, 0, 0, 0, 0, 0, 0, 0, 0, 0, 0, 0, 0, 0, 0, 0, 0, 0, 0, 0, 0, 0, 0, 0, 0, 0, 0, 0, 0, 0, 0, 0, 0, 0, 0, 0, 0, 0, 0, 0, 0, 0, 0, 0, 0, 0, 0, 0, 0, 0, 0, 0, 0, 0, 0, 0, 0, 0, 0, 0, 0, 0, 0, 0, 0, 0, 0, 0, 0, 0, 0, 0, 0, 0, 0, 0, 0, 0, 0, 0, 0, 0, 0, 0, 0, 0, 0, 0, 0, 0, 0, 0, 0, 0, 0, 0, 1, 0, 0, 0, 0, 0, 0, 0, 0, 0, 0, 0, 0, 0, 0, 0, 0, 0, 0, 0, 0, 0, 1, 0, 0, 0, 0, 0, 0, 0, 0, 0, 0, 0, 0, 0, 0, 0, 0, 0, 0, 0, 0, 0, 0, 0, 0, 0, 0, 0, 0, 0, 0, 0, 0, 0, 0, 0, 0, 0, 0, 0, 0, 0, 0, 0, 0, 0, 0, 0, 0, 0, 0, 0, 0, 0, 0, 0, 0, 0, 0, 0, 0, 0, 1, 0, 0, 0, 0, 0, 0, 0, 0, 0, 0, 0, 0, 0, 0, 0, 0, 0, 0, 0, 0, 0, 0, 0, 0, 0, 0, 0, 0, 0, 0, 0, 0, 0, 0, 0, 0, 0, 0, 0, 0, 0, 0, 0, 0, 0, 0, 0, 0, 0, 0, 0, 0, 0, 0, 0, 0, 0, 0, 0, 0, 0, 0, 0, 0, 0, 0, 0, 0, 0, 0, 0, 0, 0, 0, 0, 0, 0, 0, 0, 0, 0, 0, 0, 0, 0, 0, 0, 0, 0, 0, 0, 0, 0, 0, 0, 0, 0, 0, 0, 0, 0, 1, 0, 0, 0, 0, 0, 0, 1, 0, 0, 0, 0, 0, 0, 0, 0, 0, 1, 0, 0, 0, 0, 0, 0, 0, 0, 0, 0, 0, 0, 0, 0, 0, 0, 0, 0, 0, 0, 0, 0, 0, 0, 0, 0, 0, 0, 0, 0, 0, 0, 0, 0, 0, 0, 0, 0, 0, 0, 0, 0, 0, 0, 0, 0, 0, 0, 0, 0, 0, 0, 0, 0, 0, 0, 0, 0, 0, 0, 0, 0, 1, 0, 0, 0, 0, 0, 0, 0, 0, 0, 0, 0, 0, 0, 0, 0, 0, 0, 0, 0, 0, 0, 0, 0, 0, 0, 0, 0, 1, 0, 0, 0, 0, 0, 0, 0, 0, 0, 0, 0, 0, 0, 0, 0, 0, 0, 0, 0, 0, 0, 0, 0, 0, 0, 0, 0, 1, 0, 0, 0, 0, 0, 0, 0, 0, 0, 0, 0, 0, 0, 0, 0, 0, 0, 0, 0, 0, 0, 0, 0, 0, 0, 0, 0, 0, 0, 0, 0, 0, 0, 0, 0, 0, 0, 1, 0, 0, 0, 0, 0, 0, 0, 0, 0, 0, 0, 0, 0, 0, 0, 0, 0, 0, 0, 0, 0, 0, 0, 0, 0, 0, 0, 0, 0, 0, 0, 0, 0, 0, 0, 0, 0, 0, 0, 0, 0, 0, 0, 0, 0, 0, 0, 0, 0, 0, 0, 0, 0, 0, 0, 0, 1, 0, 0, 0, 0, 0, 0, 0, 0, 0, 0, 0, 0, 0, 0, 0, 0, 0, 0, 0, 0, 0, 0, 0, 0, 0, 0, 0, 0, 0, 0, 0, 1, 0, 0, 0, 0, 0, 0, 0, 0, 0, 0, 0, 0, 0, 0, 0, 1, 0, 1, 0, 0, 0, 0, 0, 0, 0, 0, 0, 0, 0, 0, 0, 0, 0, 0, 0, 0, 0, 0, 0, 0, 0, 0, 0, 0, 0, 0, 0, 0, 0, 0, 0, 0, 0, 0, 0, 0, 0, 0, 0, 0, 0, 0, 0, 0, 0, 0, 0, 0, 0, 0, 0, 1, 0, 0, 0, 0, 0, 0, 1, 0, 0, 0, 0, 0, 0, 0, 0, 0, 0, 0, 0, 0, 0, 0, 0, 0, 0, 0, 0, 0, 0, 0, 0, 0, 0, 0, 0, 0, 0, 0, 0, 0, 0, 0, 1, 0, 0, 0, 0, 0, 0, 0, 0, 0, 0, 0, 0, 0, 0, 0, 0, 0, 0, 0, 0, 0, 0, 0, 0, 1, 0, 0, 0, 0, 0, 0, 1, 0, 0, 0, 0, 0, 0, 0, 0, 0, 0, 0, 0, 0, 0, 0, 0, 0, 0, 0, 0, 0, 0, 0, 0, 0, 0, 0, 0, 0, 0, 0, 0, 1, 0, 0, 0, 0, 0, 0, 0, 0, 0, 0, 0, 0, 0, 0, 0, 0, 0, 0, 0, 0, 0, 0, 0, 0, 0, 0, 0, 0, 0, 0, 0, 0, 0, 0, 0, 0, 0, 0, 0, 0, 0, 0, 0, 0, 0, 0, 0, 0, 0, 0, 0, 0, 0, 0, 0, 0, 0, 0, 0, 0, 0, 0, 0, 0, 0, 0, 0, 0, 0, 0, 0, 0, 0, 0, 0, 0, 0, 0, 0, 0, 0, 0, 0, 0, 0, 0, 0, 0, 0, 0, 0, 0, 0, 0, 0, 0, 0, 0, 0, 0, 0, 0, 0, 0, 0, 0, 0, 0, 0, 0, 0, 0, 0, 0, 0, 0, 0, 0, 1, 0, 1, 0, 0, 0, 0, 0, 0, 0, 0, 0, 0, 0, 0, 0, 0, 0, 0, 0, 0, 0, 0, 0, 0, 0, 0, 0, 0, 0, 0, 0, 0, 0, 0, 0, 0, 0, 0, 0, 0, 0, 0, 0, 0, 0, 0, 0, 0, 0, 0, 0, 0, 1, 0, 0, 0, 0, 1, 0, 0, 0, 0, 0, 0, 0, 0, 0, 0, 0, 0, 0, 0, 0, 0, 0, 0, 0, 0, 0, 0, 0, 0, 0, 0, 0, 0, 0, 0, 0, 0, 0, 0, 0, 0, 0, 0, 0, 0, 0, 0, 0, 0, 0, 0, 0, 0, 0, 0, 0, 0, 0, 0, 0, 0, 0, 0, 0, 0, 0, 0, 0, 0, 0, 0, 0, 0, 0, 0, 0, 0, 0, 0, 0, 0, 0, 0, 0, 0, 0, 0, 0, 0, 0, 0, 0, 0, 0, 0, 0, 0, 0, 0, 0, 0, 0, 0, 0, 0, 0, 0, 0, 0, 0, 0, 0, 0, 0, 0, 0, 0, 0, 0, 0, 0, 0, 0, 0, 0, 0, 0, 0, 0, 0, 0, 0, 0, 0, 0, 0, 0, 0, 0, 0, 0, 0, 0, 0, 0, 0, 0, 0, 0, 0, 0, 0, 0, 0, 1, 0, 0, 0, 0, 0, 0, 0, 0, 0, 0, 0, 0, 0, 0, 0, 0, 0, 0, 0, 0, 0, 0, 0, 0, 0, 0, 1, 0, 0, 0, 0, 0, 0, 0, 1, 0, 0, 0, 0, 0, 0, 0, 0, 0, 0, 0, 0, 0, 0, 0, 0, 0, 0, 0, 0, 0, 0, 0, 0, 0, 0, 0, 0, 0, 0, 1, 0, 0, 0, 0, 0, 0, 0, 0, 0, 0, 0, 0, 0, 0, 0, 0, 0, 0, 0, 0, 0, 0, 0, 1, 0, 0, 0, 0, 0, 0, 0, 0, 0, 0, 0, 0, 0, 0, 0, 0, 0, 0, 0, 0, 0, 0, 0, 0, 0, 0, 0, 0, 0, 0, 0, 0, 0, 0, 0, 0, 0, 0, 0, 0, 0, 0, 0, 0, 0, 0, 0, 0, 0, 0, 0, 0, 0, 0, 0, 0, 0, 0, 0, 0, 0, 1, 0, 0, 0, 0, 0, 0, 0, 0, 0, 0, 0, 0, 0, 0, 0, 0, 0, 0, 0, 0, 0, 0, 0, 0, 0, 0, 0, 0, 0, 0, 0, 0, 0, 0, 0, 0, 0, 0, 0, 0, 0, 0, 0, 0, 0, 0, 0, 0, 0, 0, 0, 0, 0, 0, 0, 0, 0, 0, 0, 0, 0, 0, 0, 0, 0, 0, 0, 0, 1, 0, 0, 0, 1, 0, 0, 0, 0, 0, 0, 0, 0, 0, 0, 0, 0, 0, 0, 0, 0, 0, 0, 0, 0, 0, 0, 0, 0, 0, 0, 0, 0, 0, 0, 0, 0, 0, 0, 0, 0, 0, 0, 0, 0, 0, 0, 0, 0, 0, 0, 0, 0, 0, 0, 0, 0, 0, 0, 0, 0, 0, 0, 0, 0, 0, 0, 0, 0, 0, 0, 0, 0, 0, 0, 0, 0, 0, 0, 0, 0, 0, 0, 0, 0, 0, 0, 0, 0, 0, 0, 0, 0, 0, 0, 0, 0, 0, 0, 0, 0, 0, 0, 0, 0, 0, 0, 0, 0, 0, 0, 0, 0, 0, 0, 0, 0, 0, 0, 0, 0, 0, 0, 0, 0, 0, 0, 0, 0, 0, 0, 0, 0, 0, 0, 0, 0, 0, 0, 0, 0, 0, 0, 0, 0, 0, 0, 0, 0, 0, 0, 0, 0, 0, 0, 0, 0, 0, 0, 0, 0, 0, 0, 0, 0, 0, 0, 0, 0, 0, 0, 0, 0, 0, 0, 0, 0, 0, 0, 0, 0, 0, 0, 0, 0, 0, 0, 0, 0, 0, 0, 0, 0, 1, 1, 0, 0, 0, 0, 0, 0, 0, 0, 0, 0, 0, 0, 0, 0, 0, 0, 0, 0, 0, 0, 0, 0, 0, 0, 0, 0, 0, 0, 0, 0, 0, 0, 0, 0, 0, 0, 0, 0, 0, 0, 0, 0, 0, 0, 0, 0, 0, 0, 0, 0, 0, 1, 0, 0, 0, 0, 0, 0, 0, 0, 0, 0, 0, 0, 0, 0, 0, 0, 0, 0, 0, 0, 0, 0, 0, 0, 0, 0, 0, 0, 0, 0, 0, 0, 0, 0, 0, 0, 0, 0, 0, 0, 0, 0, 0, 0, 1, 0, 0, 0, 0, 0, 0, 0, 0, 0, 0, 0, 0, 0, 0, 0, 0, 0, 0, 0, 0, 0, 0, 0, 0, 0, 0, 0, 0, 0, 0, 0, 0, 0, 0, 0, 0, 0, 0, 0, 0, 0, 0, 0, 0, 0, 0, 0, 0, 0, 0, 0, 0, 0, 0, 0, 0, 0, 0, 0, 0, 0, 0, 0, 0, 0, 0, 0, 0, 0, 0, 0, 0, 0, 0, 0, 0, 0, 0, 0, 0, 0, 0, 0, 0, 0, 0, 0, 0, 0, 0, 0, 0, 0, 0, 0, 0, 0, 0, 0, 0, 0, 0, 0, 0, 0, 0, 0, 0, 0, 0, 0, 0, 0, 0, 0, 0, 0, 0, 0, 0, 0, 0, 0, 0, 1, 0, 0, 0, 0, 0, 0, 0, 0, 0, 0, 0, 0, 0, 0, 0, 0, 0, 0, 0, 0, 0, 0, 0, 0, 1, 0, 0, 0, 0, 0, 0, 0, 0, 0, 0, 0, 0, 0, 0, 0, 0, 0, 0, 0, 0, 0, 0, 0, 0, 0, 0, 0, 1, 0, 0, 0, 0, 0, 0, 0, 0, 0, 0, 0, 0, 0, 0, 0, 0, 0, 0, 0, 0, 0, 0, 0, 0, 0, 0, 0, 0, 0, 0, 0, 0, 0, 0, 0, 0, 0, 0, 0, 0, 0, 0, 0, 0, 0, 0, 0, 0, 1, 0, 0, 0, 0, 0, 0, 0, 0, 0, 0, 0, 0, 0, 0, 0, 0, 0, 0, 0, 0, 0, 0, 0, 0, 0, 0, 0, 0, 0, 0, 0, 0, 0, 0, 0, 0, 0, 0, 0, 0, 0, 0, 0, 0, 0, 0, 0, 0, 0, 0, 0, 0, 0, 0, 0, 0, 0, 0, 0, 0, 0, 0, 0, 0, 1, 0, 0, 0, 0, 0, 0, 0, 0, 0, 0, 0, 0, 0, 0, 0, 0, 1, 0, 0, 0, 0, 0, 0, 0, 0, 0, 0, 0, 0, 0, 0, 0, 0, 0, 0, 0, 0, 0, 0, 0, 0, 0, 0, 0, 0, 0, 0, 0, 0, 0, 0, 0, 0, 0, 0, 0, 0, 0, 0, 0, 0, 0, 0, 0, 0, 0, 0, 0, 0, 0, 0, 0, 0, 0, 0, 0, 0, 0, 0, 0, 0, 0, 0, 0, 0, 0, 0, 0, 0, 0, 0, 0, 0, 0, 0, 0, 0, 0, 0, 0, 0, 0, 0, 0, 0, 0, 0, 0, 0, 0, 0, 0, 0, 0, 0, 0, 0, 0, 0, 0, 0, 0, 0, 0, 0, 0, 0, 0, 0, 0, 0, 0, 0, 0, 0, 0, 0, 0, 0, 0, 0, 0, 0, 0, 0, 0, 0, 0, 0, 0, 0, 0, 0, 0, 0, 0, 0, 0]\n",
      "        Euclidean Distance\n",
      "Labels                    \n",
      "0.0               1.268313\n",
      "1.0               1.132741\n",
      "        Euclidean Distance\n",
      "Labels                    \n",
      "0.0               0.205316\n",
      "1.0               0.283128\n",
      "        Euclidean Distance\n",
      "Labels                    \n",
      "0.0               4.891270\n",
      "1.0               4.550821\n"
     ]
    },
    {
     "data": {
      "image/png": "[encoded data removed]",
      "text/plain": [
       "<Figure size 640x480 with 1 Axes>"
      ]
     },
     "metadata": {},
     "output_type": "display_data"
    }
   ],
   "source": [
    "distances = []\n",
    "labels = []\n",
    "for i in range(test.index.shape[0]):\n",
    "    phage = output_phage_embeddings[np.where(phage_ids == test.iloc[i]['phage_id'])[0]]\n",
    "    bact = output_bact_embeddings[np.where(bact_ids == test.iloc[i]['bacterial_id'])[0]]\n",
    "    distances.append(np.linalg.norm(phage-bact))\n",
    "    labels.append(test.iloc[i]['Label'])\n",
    "\n",
    "print(distances)\n",
    "print(labels)\n",
    "\n",
    "temp = pd.DataFrame([distances, labels], index=['Euclidean Distance', 'Labels']).transpose()\n",
    "gb = temp.groupby('Labels')\n",
    "print(gb.mean())\n",
    "print(gb.min())\n",
    "print(gb.max())\n",
    "sns.boxplot(data=temp, x='Labels', y='Euclidean Distance')\n",
    "plt.show()"
   ]
  },
  {
   "cell_type": "code",
   "execution_count": 62,
   "metadata": {},
   "outputs": [
    {
     "data": {
      "image/png": "[encoded data removed]",
      "text/plain": [
       "<Figure size 640x480 with 1 Axes>"
      ]
     },
     "metadata": {},
     "output_type": "display_data"
    }
   ],
   "source": [
    "stacked_embeddings = np.concatenate([output_bact_embeddings, output_phage_embeddings])\n",
    "stacked_embeddings_labels = np.array(['Bacteria']*len(output_bact_embeddings) + ['Phage']*len(output_phage_embeddings))\n",
    "\n",
    "scaler = StandardScaler()\n",
    "X_scaled = scaler.fit_transform(stacked_embeddings)\n",
    "\n",
    "pca = PCA(n_components=2)\n",
    "X_pca = pca.fit_transform(X_scaled)\n",
    "\n",
    "plt.scatter(X_pca[np.where(stacked_embeddings_labels == 'Bacteria')[0], 0], X_pca[np.where(stacked_embeddings_labels == 'Bacteria')[0], 1], label='Bacteria')\n",
    "plt.scatter(X_pca[np.where(stacked_embeddings_labels == 'Phage')[0], 0], X_pca[np.where(stacked_embeddings_labels == 'Phage')[0], 1], label='Phage')\n",
    "plt.legend()\n",
    "plt.show()"
   ]
  },
  {
   "cell_type": "code",
   "execution_count": 63,
   "metadata": {},
   "outputs": [
    {
     "data": {
      "image/png": "[encoded data removed]",
      "text/plain": [
       "<Figure size 640x480 with 1 Axes>"
      ]
     },
     "metadata": {},
     "output_type": "display_data"
    }
   ],
   "source": [
    "stacked_embeddings = np.concatenate([output_bact_embeddings, output_phage_embeddings])\n",
    "stacked_embeddings_labels = np.array(['Bacteria']*len(output_bact_embeddings) + ['Phage']*len(output_phage_embeddings))\n",
    "\n",
    "scaler = StandardScaler()\n",
    "X_scaled = scaler.fit_transform(stacked_embeddings)\n",
    "\n",
    "pca = PCA(n_components=50)\n",
    "X_pca = pca.fit_transform(X_scaled)\n",
    "\n",
    "mapper = umap.UMAP().fit_transform(X_pca)\n",
    "\n",
    "plt.scatter(mapper[np.where(stacked_embeddings_labels == 'Bacteria')[0], 0], mapper[np.where(stacked_embeddings_labels == 'Bacteria')[0], 1], label='Bacteria')\n",
    "plt.scatter(mapper[np.where(stacked_embeddings_labels == 'Phage')[0], 0], mapper[np.where(stacked_embeddings_labels == 'Phage')[0], 1], label='Phage')\n",
    "plt.legend()\n",
    "plt.show()"
   ]
  },
  {
   "cell_type": "markdown",
   "metadata": {},
   "source": []
  },
  {
   "cell_type": "code",
   "execution_count": 64,
   "metadata": {},
   "outputs": [
    {
     "name": "stdout",
     "output_type": "stream",
     "text": [
      "7892\n"
     ]
    }
   ],
   "source": [
    "pair_embeddings = []\n",
    "pair_labels = []\n",
    "\n",
    "for i in range(len(test)):\n",
    "    bact_embed = output_bact_embeddings[np.where(bact_ids == test.iloc[i]['bacterial_id'])[0]].reshape(-1)\n",
    "    phage_embed = output_phage_embeddings[np.where(phage_ids == test.iloc[i]['phage_id'])[0]].reshape(-1)\n",
    "    pair_embeddings.append(np.hstack([bact_embed, phage_embed]))\n",
    "    pair_labels.append(test.iloc[i]['Label'])\n",
    "print(len(pair_labels))"
   ]
  },
  {
   "cell_type": "code",
   "execution_count": 65,
   "metadata": {},
   "outputs": [
    {
     "name": "stdout",
     "output_type": "stream",
     "text": [
      "(7892, 50)\n"
     ]
    },
    {
     "name": "stderr",
     "output_type": "stream",
     "text": [
      "/opt/conda/envs/pytorch/lib/python3.11/site-packages/sklearn/manifold/_spectral_embedding.py:329: UserWarning: Graph is not fully connected, spectral embedding may not work as expected.\n",
      "  warnings.warn(\n"
     ]
    },
    {
     "name": "stdout",
     "output_type": "stream",
     "text": [
      "(7892, 2)\n"
     ]
    },
    {
     "data": {
      "image/png": "[encoded data removed]",
      "text/plain": [
       "<Figure size 640x480 with 1 Axes>"
      ]
     },
     "metadata": {},
     "output_type": "display_data"
    }
   ],
   "source": [
    "pair_labels = np.array(pair_labels)\n",
    "scaler = StandardScaler()\n",
    "X_scaled = scaler.fit_transform(pair_embeddings)\n",
    "\n",
    "pca = PCA(n_components=50)\n",
    "X_pca = pca.fit_transform(X_scaled)\n",
    "\n",
    "print(X_pca.shape)\n",
    "\n",
    "mapper = umap.UMAP().fit_transform(X_pca)\n",
    "\n",
    "print(mapper.shape)\n",
    "\n",
    "plt.scatter(mapper[np.where(pair_labels == 0)[0], 0], mapper[np.where(pair_labels == 0)[0], 1], label='random')\n",
    "plt.scatter(mapper[np.where(pair_labels == 1)[0], 0], mapper[np.where(pair_labels == 1)[0], 1], label='positive')\n",
    "plt.legend()\n",
    "plt.show()"
   ]
  },
  {
   "cell_type": "code",
   "execution_count": null,
   "metadata": {},
   "outputs": [],
   "source": []
  }
 ],
 "metadata": {
  "kernelspec": {
   "display_name": "pytorch",
   "language": "python",
   "name": "python3"
  },
  "language_info": {
   "codemirror_mode": {
    "name": "ipython",
    "version": 3
   },
   "file_extension": ".py",
   "mimetype": "text/x-python",
   "name": "python",
   "nbconvert_exporter": "python",
   "pygments_lexer": "ipython3",
   "version": "3.11.10"
  }
 },
 "nbformat": 4,
 "nbformat_minor": 2
}
